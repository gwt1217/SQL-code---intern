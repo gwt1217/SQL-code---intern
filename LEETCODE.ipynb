{
 "cells": [
  {
   "cell_type": "markdown",
   "metadata": {},
   "source": [
    "# 1565"
   ]
  },
  {
   "cell_type": "code",
   "execution_count": 14,
   "metadata": {},
   "outputs": [],
   "source": [
    "df1565= {\"headers\":{\"Orders\":[\"order_id\",\"order_date\",\"customer_id\",\"invoice\"]},\"rows\":{\"Orders\":[[1,\"2020-09-15\",1,30],[2,\"2020-09-17\",2,90],[3,\"2020-10-06\",3,20],[4,\"2020-10-20\",3,21],[5,\"2020-11-10\",1,10],[6,\"2020-11-21\",2,15],[7,\"2020-12-01\",4,55],[8,\"2020-12-03\",4,77],[9,\"2021-01-07\",3,31],[10,\"2021-01-15\",2,20]]}}"
   ]
  },
  {
   "cell_type": "code",
   "execution_count": 47,
   "metadata": {},
   "outputs": [],
   "source": [
    "import pandas as pd"
   ]
  },
  {
   "cell_type": "code",
   "execution_count": 18,
   "metadata": {},
   "outputs": [
    {
     "data": {
      "text/plain": [
       "{'Orders': [[1, '2020-09-15', 1, 30],\n",
       "  [2, '2020-09-17', 2, 90],\n",
       "  [3, '2020-10-06', 3, 20],\n",
       "  [4, '2020-10-20', 3, 21],\n",
       "  [5, '2020-11-10', 1, 10],\n",
       "  [6, '2020-11-21', 2, 15],\n",
       "  [7, '2020-12-01', 4, 55],\n",
       "  [8, '2020-12-03', 4, 77],\n",
       "  [9, '2021-01-07', 3, 31],\n",
       "  [10, '2021-01-15', 2, 20]]}"
      ]
     },
     "execution_count": 18,
     "metadata": {},
     "output_type": "execute_result"
    }
   ],
   "source": [
    "dic1565"
   ]
  },
  {
   "cell_type": "code",
   "execution_count": 28,
   "metadata": {},
   "outputs": [],
   "source": [
    "newlist = list(dic1565.values())"
   ]
  },
  {
   "cell_type": "code",
   "execution_count": 32,
   "metadata": {},
   "outputs": [],
   "source": [
    "df1565 = pd.DataFrame([item for items in newlist for item in items], columns = [\"order_id\",\"order_date\",\"customer_id\",\"invoice\"])"
   ]
  },
  {
   "cell_type": "code",
   "execution_count": 35,
   "metadata": {},
   "outputs": [],
   "source": [
    "df1565['month'] = pd.to_datetime(df1565['order_date']).dt.to_period('M')"
   ]
  },
  {
   "cell_type": "code",
   "execution_count": 39,
   "metadata": {},
   "outputs": [],
   "source": [
    "dat1565 = df1565[df1565['invoice']>20].groupby(['month']).agg({'order_id': 'nunique', 'customer_id': 'nunique'}).reset_index()"
   ]
  },
  {
   "cell_type": "code",
   "execution_count": 44,
   "metadata": {},
   "outputs": [],
   "source": [
    "dat1565.sort_values('month',inplace=True, ascending= True)"
   ]
  },
  {
   "cell_type": "code",
   "execution_count": 45,
   "metadata": {},
   "outputs": [],
   "source": [
    "dat1565.columns =['month', 'order_count','customer_count']"
   ]
  },
  {
   "cell_type": "code",
   "execution_count": 46,
   "metadata": {},
   "outputs": [
    {
     "data": {
      "text/html": [
       "<div>\n",
       "<style scoped>\n",
       "    .dataframe tbody tr th:only-of-type {\n",
       "        vertical-align: middle;\n",
       "    }\n",
       "\n",
       "    .dataframe tbody tr th {\n",
       "        vertical-align: top;\n",
       "    }\n",
       "\n",
       "    .dataframe thead th {\n",
       "        text-align: right;\n",
       "    }\n",
       "</style>\n",
       "<table border=\"1\" class=\"dataframe\">\n",
       "  <thead>\n",
       "    <tr style=\"text-align: right;\">\n",
       "      <th></th>\n",
       "      <th>month</th>\n",
       "      <th>order_count</th>\n",
       "      <th>customer_count</th>\n",
       "    </tr>\n",
       "  </thead>\n",
       "  <tbody>\n",
       "    <tr>\n",
       "      <th>0</th>\n",
       "      <td>2020-09</td>\n",
       "      <td>2</td>\n",
       "      <td>2</td>\n",
       "    </tr>\n",
       "    <tr>\n",
       "      <th>1</th>\n",
       "      <td>2020-10</td>\n",
       "      <td>1</td>\n",
       "      <td>1</td>\n",
       "    </tr>\n",
       "    <tr>\n",
       "      <th>2</th>\n",
       "      <td>2020-12</td>\n",
       "      <td>2</td>\n",
       "      <td>1</td>\n",
       "    </tr>\n",
       "    <tr>\n",
       "      <th>3</th>\n",
       "      <td>2021-01</td>\n",
       "      <td>1</td>\n",
       "      <td>1</td>\n",
       "    </tr>\n",
       "  </tbody>\n",
       "</table>\n",
       "</div>"
      ],
      "text/plain": [
       "     month  order_count  customer_count\n",
       "0  2020-09            2               2\n",
       "1  2020-10            1               1\n",
       "2  2020-12            2               1\n",
       "3  2021-01            1               1"
      ]
     },
     "execution_count": 46,
     "metadata": {},
     "output_type": "execute_result"
    }
   ],
   "source": [
    "dat1565"
   ]
  },
  {
   "cell_type": "markdown",
   "metadata": {},
   "source": [
    "# 1809"
   ]
  },
  {
   "cell_type": "code",
   "execution_count": 48,
   "metadata": {},
   "outputs": [],
   "source": [
    "df1809={\"headers\":{\"Playback\":[\"session_id\",\"customer_id\",\"start_time\",\"end_time\"],\"Ads\":[\"ad_id\",\"customer_id\",\"timestamp\"]},\"rows\":{\"Playback\":[[1,1,1,5],[2,1,15,23],[3,2,10,12],[4,2,17,28],[5,2,2,8]],\"Ads\":[[1,1,5],[2,2,17],[3,2,20]]}}"
   ]
  },
  {
   "cell_type": "code",
   "execution_count": 49,
   "metadata": {},
   "outputs": [],
   "source": [
    "new_vals = list(df1809.values())"
   ]
  },
  {
   "cell_type": "code",
   "execution_count": 58,
   "metadata": {},
   "outputs": [
    {
     "data": {
      "text/plain": [
       "dict_values([{'Playback': ['session_id', 'customer_id', 'start_time', 'end_time'], 'Ads': ['ad_id', 'customer_id', 'timestamp']}, {'Playback': [[1, 1, 1, 5], [2, 1, 15, 23], [3, 2, 10, 12], [4, 2, 17, 28], [5, 2, 2, 8]], 'Ads': [[1, 1, 5], [2, 2, 17], [3, 2, 20]]}])"
      ]
     },
     "execution_count": 58,
     "metadata": {},
     "output_type": "execute_result"
    }
   ],
   "source": [
    "df1809.values()"
   ]
  },
  {
   "cell_type": "code",
   "execution_count": 54,
   "metadata": {},
   "outputs": [
    {
     "data": {
      "text/plain": [
       "dict_keys(['headers', 'rows'])"
      ]
     },
     "execution_count": 54,
     "metadata": {},
     "output_type": "execute_result"
    }
   ],
   "source": [
    "df1809.keys()"
   ]
  },
  {
   "cell_type": "code",
   "execution_count": 66,
   "metadata": {},
   "outputs": [],
   "source": [
    "test = dict(list(newlist)[1])"
   ]
  },
  {
   "cell_type": "code",
   "execution_count": 71,
   "metadata": {},
   "outputs": [],
   "source": [
    "wanted_keys = ['Playback'] # The keys you want\n",
    "Playback = list(dict((k, test[k]) for k in wanted_keys if k in test).values())"
   ]
  },
  {
   "cell_type": "code",
   "execution_count": null,
   "metadata": {},
   "outputs": [],
   "source": []
  },
  {
   "cell_type": "code",
   "execution_count": 72,
   "metadata": {},
   "outputs": [],
   "source": [
    "Playback = pd.DataFrame([item for items in Playback for item in items], columns = [\"session_id\",\"customer_id\",\"start_time\",\"end_time\"])"
   ]
  },
  {
   "cell_type": "code",
   "execution_count": 73,
   "metadata": {},
   "outputs": [
    {
     "data": {
      "text/html": [
       "<div>\n",
       "<style scoped>\n",
       "    .dataframe tbody tr th:only-of-type {\n",
       "        vertical-align: middle;\n",
       "    }\n",
       "\n",
       "    .dataframe tbody tr th {\n",
       "        vertical-align: top;\n",
       "    }\n",
       "\n",
       "    .dataframe thead th {\n",
       "        text-align: right;\n",
       "    }\n",
       "</style>\n",
       "<table border=\"1\" class=\"dataframe\">\n",
       "  <thead>\n",
       "    <tr style=\"text-align: right;\">\n",
       "      <th></th>\n",
       "      <th>session_id</th>\n",
       "      <th>customer_id</th>\n",
       "      <th>start_time</th>\n",
       "      <th>end_time</th>\n",
       "    </tr>\n",
       "  </thead>\n",
       "  <tbody>\n",
       "    <tr>\n",
       "      <th>0</th>\n",
       "      <td>1</td>\n",
       "      <td>1</td>\n",
       "      <td>1</td>\n",
       "      <td>5</td>\n",
       "    </tr>\n",
       "    <tr>\n",
       "      <th>1</th>\n",
       "      <td>2</td>\n",
       "      <td>1</td>\n",
       "      <td>15</td>\n",
       "      <td>23</td>\n",
       "    </tr>\n",
       "    <tr>\n",
       "      <th>2</th>\n",
       "      <td>3</td>\n",
       "      <td>2</td>\n",
       "      <td>10</td>\n",
       "      <td>12</td>\n",
       "    </tr>\n",
       "    <tr>\n",
       "      <th>3</th>\n",
       "      <td>4</td>\n",
       "      <td>2</td>\n",
       "      <td>17</td>\n",
       "      <td>28</td>\n",
       "    </tr>\n",
       "    <tr>\n",
       "      <th>4</th>\n",
       "      <td>5</td>\n",
       "      <td>2</td>\n",
       "      <td>2</td>\n",
       "      <td>8</td>\n",
       "    </tr>\n",
       "  </tbody>\n",
       "</table>\n",
       "</div>"
      ],
      "text/plain": [
       "   session_id  customer_id  start_time  end_time\n",
       "0           1            1           1         5\n",
       "1           2            1          15        23\n",
       "2           3            2          10        12\n",
       "3           4            2          17        28\n",
       "4           5            2           2         8"
      ]
     },
     "execution_count": 73,
     "metadata": {},
     "output_type": "execute_result"
    }
   ],
   "source": [
    "Playback"
   ]
  },
  {
   "cell_type": "code",
   "execution_count": 77,
   "metadata": {},
   "outputs": [],
   "source": [
    "wanted_keys = ['Ads'] # The keys you want\n",
    "Ads = list(dict((k, test[k]) for k in wanted_keys if k in test).values())"
   ]
  },
  {
   "cell_type": "code",
   "execution_count": 87,
   "metadata": {},
   "outputs": [],
   "source": [
    "Ads = pd.DataFrame([item for items in Ads for item in items], columns = list(list(newlist)[0].values())[1])"
   ]
  },
  {
   "cell_type": "code",
   "execution_count": 84,
   "metadata": {},
   "outputs": [
    {
     "data": {
      "text/plain": [
       "['ad_id', 'customer_id', 'timestamp']"
      ]
     },
     "execution_count": 84,
     "metadata": {},
     "output_type": "execute_result"
    }
   ],
   "source": [
    "list(list(newlist)[0].values())[1]"
   ]
  },
  {
   "cell_type": "code",
   "execution_count": 88,
   "metadata": {},
   "outputs": [
    {
     "data": {
      "text/html": [
       "<div>\n",
       "<style scoped>\n",
       "    .dataframe tbody tr th:only-of-type {\n",
       "        vertical-align: middle;\n",
       "    }\n",
       "\n",
       "    .dataframe tbody tr th {\n",
       "        vertical-align: top;\n",
       "    }\n",
       "\n",
       "    .dataframe thead th {\n",
       "        text-align: right;\n",
       "    }\n",
       "</style>\n",
       "<table border=\"1\" class=\"dataframe\">\n",
       "  <thead>\n",
       "    <tr style=\"text-align: right;\">\n",
       "      <th></th>\n",
       "      <th>ad_id</th>\n",
       "      <th>customer_id</th>\n",
       "      <th>timestamp</th>\n",
       "    </tr>\n",
       "  </thead>\n",
       "  <tbody>\n",
       "    <tr>\n",
       "      <th>0</th>\n",
       "      <td>1</td>\n",
       "      <td>1</td>\n",
       "      <td>5</td>\n",
       "    </tr>\n",
       "    <tr>\n",
       "      <th>1</th>\n",
       "      <td>2</td>\n",
       "      <td>2</td>\n",
       "      <td>17</td>\n",
       "    </tr>\n",
       "    <tr>\n",
       "      <th>2</th>\n",
       "      <td>3</td>\n",
       "      <td>2</td>\n",
       "      <td>20</td>\n",
       "    </tr>\n",
       "  </tbody>\n",
       "</table>\n",
       "</div>"
      ],
      "text/plain": [
       "   ad_id  customer_id  timestamp\n",
       "0      1            1          5\n",
       "1      2            2         17\n",
       "2      3            2         20"
      ]
     },
     "execution_count": 88,
     "metadata": {},
     "output_type": "execute_result"
    }
   ],
   "source": [
    "Ads"
   ]
  },
  {
   "cell_type": "code",
   "execution_count": 95,
   "metadata": {},
   "outputs": [
    {
     "data": {
      "text/html": [
       "<div>\n",
       "<style scoped>\n",
       "    .dataframe tbody tr th:only-of-type {\n",
       "        vertical-align: middle;\n",
       "    }\n",
       "\n",
       "    .dataframe tbody tr th {\n",
       "        vertical-align: top;\n",
       "    }\n",
       "\n",
       "    .dataframe thead th {\n",
       "        text-align: right;\n",
       "    }\n",
       "</style>\n",
       "<table border=\"1\" class=\"dataframe\">\n",
       "  <thead>\n",
       "    <tr style=\"text-align: right;\">\n",
       "      <th></th>\n",
       "      <th>session_id</th>\n",
       "      <th>customer_id</th>\n",
       "      <th>start_time</th>\n",
       "      <th>end_time</th>\n",
       "    </tr>\n",
       "  </thead>\n",
       "  <tbody>\n",
       "    <tr>\n",
       "      <th>0</th>\n",
       "      <td>1</td>\n",
       "      <td>1</td>\n",
       "      <td>1</td>\n",
       "      <td>5</td>\n",
       "    </tr>\n",
       "    <tr>\n",
       "      <th>1</th>\n",
       "      <td>2</td>\n",
       "      <td>1</td>\n",
       "      <td>15</td>\n",
       "      <td>23</td>\n",
       "    </tr>\n",
       "    <tr>\n",
       "      <th>2</th>\n",
       "      <td>3</td>\n",
       "      <td>2</td>\n",
       "      <td>10</td>\n",
       "      <td>12</td>\n",
       "    </tr>\n",
       "    <tr>\n",
       "      <th>3</th>\n",
       "      <td>4</td>\n",
       "      <td>2</td>\n",
       "      <td>17</td>\n",
       "      <td>28</td>\n",
       "    </tr>\n",
       "    <tr>\n",
       "      <th>4</th>\n",
       "      <td>5</td>\n",
       "      <td>2</td>\n",
       "      <td>2</td>\n",
       "      <td>8</td>\n",
       "    </tr>\n",
       "  </tbody>\n",
       "</table>\n",
       "</div>"
      ],
      "text/plain": [
       "   session_id  customer_id  start_time  end_time\n",
       "0           1            1           1         5\n",
       "1           2            1          15        23\n",
       "2           3            2          10        12\n",
       "3           4            2          17        28\n",
       "4           5            2           2         8"
      ]
     },
     "execution_count": 95,
     "metadata": {},
     "output_type": "execute_result"
    }
   ],
   "source": [
    "Playback[Playback['customer_id'](Ads['customer_id']))]"
   ]
  },
  {
   "cell_type": "code",
   "execution_count": 98,
   "metadata": {},
   "outputs": [
    {
     "data": {
      "text/plain": [
       "array([1, 2, 2])"
      ]
     },
     "execution_count": 98,
     "metadata": {},
     "output_type": "execute_result"
    }
   ],
   "source": [
    "Ads['customer_id'].values"
   ]
  },
  {
   "cell_type": "code",
   "execution_count": 101,
   "metadata": {},
   "outputs": [],
   "source": [
    "ads_tuples = zip(Ads['customer_id'].values,Ads['timestamp'].values)"
   ]
  },
  {
   "cell_type": "code",
   "execution_count": 102,
   "metadata": {},
   "outputs": [],
   "source": [
    "conditions = [(Playback['customer_id'].values == customer_id) & (Playback['start_time'].values <= timestamp) & (Playback['end_time'].values >= timestamp) for customer_id, timestamp in ads_tuples]"
   ]
  },
  {
   "cell_type": "code",
   "execution_count": 103,
   "metadata": {},
   "outputs": [
    {
     "data": {
      "text/plain": [
       "[array([ True, False, False, False, False]),\n",
       " array([False, False, False,  True, False]),\n",
       " array([False, False, False,  True, False])]"
      ]
     },
     "execution_count": 103,
     "metadata": {},
     "output_type": "execute_result"
    }
   ],
   "source": [
    "conditions"
   ]
  },
  {
   "cell_type": "code",
   "execution_count": 107,
   "metadata": {},
   "outputs": [],
   "source": [
    "import numpy as np\n",
    "Playback['ad_id'] = np.piecewise(np.zeros(len(Playback)), conditions, Ads['ad_id'].values)"
   ]
  },
  {
   "cell_type": "code",
   "execution_count": 110,
   "metadata": {},
   "outputs": [
    {
     "data": {
      "text/html": [
       "<div>\n",
       "<style scoped>\n",
       "    .dataframe tbody tr th:only-of-type {\n",
       "        vertical-align: middle;\n",
       "    }\n",
       "\n",
       "    .dataframe tbody tr th {\n",
       "        vertical-align: top;\n",
       "    }\n",
       "\n",
       "    .dataframe thead th {\n",
       "        text-align: right;\n",
       "    }\n",
       "</style>\n",
       "<table border=\"1\" class=\"dataframe\">\n",
       "  <thead>\n",
       "    <tr style=\"text-align: right;\">\n",
       "      <th></th>\n",
       "      <th>session_id</th>\n",
       "    </tr>\n",
       "  </thead>\n",
       "  <tbody>\n",
       "    <tr>\n",
       "      <th>1</th>\n",
       "      <td>2</td>\n",
       "    </tr>\n",
       "    <tr>\n",
       "      <th>2</th>\n",
       "      <td>3</td>\n",
       "    </tr>\n",
       "    <tr>\n",
       "      <th>4</th>\n",
       "      <td>5</td>\n",
       "    </tr>\n",
       "  </tbody>\n",
       "</table>\n",
       "</div>"
      ],
      "text/plain": [
       "   session_id\n",
       "1           2\n",
       "2           3\n",
       "4           5"
      ]
     },
     "execution_count": 110,
     "metadata": {},
     "output_type": "execute_result"
    }
   ],
   "source": [
    "pd.DataFrame(Playback[Playback['ad_id']==0]['session_id'], columns=['session_id'])"
   ]
  },
  {
   "cell_type": "code",
   "execution_count": null,
   "metadata": {},
   "outputs": [],
   "source": []
  },
  {
   "cell_type": "code",
   "execution_count": 111,
   "metadata": {},
   "outputs": [],
   "source": [
    "dic1142={\"headers\":{\"Activity\":[\"user_id\",\"session_id\",\"activity_date\",\"activity_type\"]},\"rows\":{\"Activity\":[[1,1,\"2019-06-20\",\"open_session\"],[1,1,\"2019-06-20\",\"scroll_down\"],[1,1,\"2019-06-20\",\"end_session\"],[2,4,\"2019-06-20\",\"open_session\"],[2,4,\"2019-06-21\",\"send_message\"],[2,4,\"2019-06-21\",\"end_session\"],[3,2,\"2019-06-21\",\"open_session\"],[3,2,\"2019-06-21\",\"send_message\"],[3,2,\"2019-06-21\",\"end_session\"],[4,3,\"2019-06-25\",\"open_session\"],[4,3,\"2019-06-25\",\"end_session\"]]}}"
   ]
  },
  {
   "cell_type": "code",
   "execution_count": 161,
   "metadata": {},
   "outputs": [],
   "source": [
    "dic1142= {\"headers\":{\"Activity\":[\"user_id\",\"session_id\",\"activity_date\",\"activity_type\"]},\"rows\":{\"Activity\":[[93,50,\"2019-06-17\",\"send_message\"],[18,143,\"2019-07-26\",\"send_message\"],[29,173,\"2019-06-13\",\"open_session\"],[65,32,\"2019-06-20\",\"send_message\"],[46,149,\"2019-05-30\",\"end_session\"],[22,200,\"2019-05-26\",\"scroll_down\"],[63,128,\"2019-06-12\",\"open_session\"],[98,97,\"2019-06-05\",\"end_session\"],[58,153,\"2019-07-05\",\"send_message\"],[63,45,\"2019-06-03\",\"send_message\"],[47,61,\"2019-05-27\",\"send_message\"],[14,183,\"2019-06-20\",\"scroll_down\"],[16,135,\"2019-07-18\",\"scroll_down\"],[15,121,\"2019-05-12\",\"scroll_down\"],[18,99,\"2019-06-01\",\"send_message\"],[16,138,\"2019-05-24\",\"scroll_down\"],[86,68,\"2019-05-25\",\"end_session\"],[18,134,\"2019-07-21\",\"send_message\"],[51,136,\"2019-05-18\",\"open_session\"],[66,1,\"2019-07-07\",\"open_session\"],[78,120,\"2019-07-23\",\"send_message\"],[54,171,\"2019-06-10\",\"send_message\"],[38,7,\"2019-06-10\",\"send_message\"],[47,94,\"2019-06-11\",\"open_session\"],[57,106,\"2019-07-01\",\"send_message\"],[93,10,\"2019-06-22\",\"scroll_down\"],[26,116,\"2019-06-07\",\"scroll_down\"],[78,62,\"2019-07-03\",\"open_session\"],[58,137,\"2019-05-19\",\"send_message\"],[2,87,\"2019-05-03\",\"send_message\"],[64,81,\"2019-07-25\",\"scroll_down\"],[62,28,\"2019-06-21\",\"send_message\"],[51,136,\"2019-06-06\",\"end_session\"],[2,87,\"2019-06-08\",\"scroll_down\"],[80,95,\"2019-07-22\",\"send_message\"],[39,73,\"2019-07-05\",\"scroll_down\"],[15,118,\"2019-06-07\",\"end_session\"],[39,53,\"2019-07-24\",\"scroll_down\"],[62,187,\"2019-05-15\",\"open_session\"],[55,8,\"2019-06-03\",\"send_message\"],[80,115,\"2019-06-19\",\"open_session\"],[4,110,\"2019-07-13\",\"open_session\"],[69,191,\"2019-05-22\",\"send_message\"],[35,36,\"2019-06-28\",\"send_message\"],[48,108,\"2019-06-22\",\"open_session\"],[80,115,\"2019-06-24\",\"end_session\"],[58,137,\"2019-06-21\",\"scroll_down\"],[49,147,\"2019-06-20\",\"scroll_down\"],[71,90,\"2019-07-03\",\"open_session\"],[92,145,\"2019-05-01\",\"scroll_down\"],[66,1,\"2019-05-09\",\"scroll_down\"],[39,33,\"2019-05-18\",\"send_message\"],[50,79,\"2019-05-01\",\"send_message\"],[93,50,\"2019-07-19\",\"end_session\"],[46,149,\"2019-05-19\",\"end_session\"],[64,81,\"2019-05-02\",\"end_session\"],[39,53,\"2019-07-24\",\"open_session\"],[48,108,\"2019-07-26\",\"open_session\"],[51,136,\"2019-05-18\",\"scroll_down\"],[83,103,\"2019-06-13\",\"send_message\"],[80,95,\"2019-06-08\",\"send_message\"],[4,110,\"2019-05-02\",\"send_message\"],[53,83,\"2019-05-31\",\"end_session\"],[36,22,\"2019-06-07\",\"end_session\"],[92,145,\"2019-05-29\",\"scroll_down\"],[39,53,\"2019-05-03\",\"scroll_down\"],[62,93,\"2019-07-21\",\"open_session\"],[2,87,\"2019-05-23\",\"end_session\"],[70,12,\"2019-07-13\",\"open_session\"],[7,199,\"2019-05-26\",\"end_session\"],[39,92,\"2019-07-17\",\"end_session\"],[31,182,\"2019-07-01\",\"scroll_down\"],[2,38,\"2019-05-04\",\"end_session\"],[64,3,\"2019-05-04\",\"scroll_down\"],[44,192,\"2019-06-29\",\"end_session\"],[98,123,\"2019-06-01\",\"send_message\"],[48,196,\"2019-06-15\",\"open_session\"],[7,30,\"2019-07-25\",\"send_message\"],[17,6,\"2019-06-26\",\"end_session\"],[65,32,\"2019-06-28\",\"send_message\"],[93,10,\"2019-06-09\",\"scroll_down\"],[91,113,\"2019-06-21\",\"end_session\"],[4,15,\"2019-06-04\",\"end_session\"],[45,154,\"2019-05-01\",\"scroll_down\"],[57,106,\"2019-07-13\",\"open_session\"],[47,61,\"2019-07-11\",\"send_message\"],[41,107,\"2019-05-21\",\"open_session\"],[44,78,\"2019-06-14\",\"end_session\"],[14,122,\"2019-05-10\",\"open_session\"],[24,165,\"2019-06-13\",\"scroll_down\"],[47,94,\"2019-06-15\",\"send_message\"],[7,9,\"2019-07-01\",\"send_message\"],[80,95,\"2019-07-03\",\"send_message\"],[22,200,\"2019-07-02\",\"send_message\"],[95,148,\"2019-06-21\",\"send_message\"],[15,121,\"2019-07-24\",\"scroll_down\"],[66,1,\"2019-05-02\",\"end_session\"],[39,194,\"2019-07-04\",\"send_message\"],[27,189,\"2019-06-17\",\"send_message\"],[98,123,\"2019-06-22\",\"open_session\"],[30,14,\"2019-05-18\",\"scroll_down\"],[4,60,\"2019-06-06\",\"open_session\"],[67,190,\"2019-06-21\",\"send_message\"],[6,51,\"2019-07-22\",\"end_session\"],[26,5,\"2019-05-09\",\"open_session\"],[27,189,\"2019-06-24\",\"scroll_down\"],[24,165,\"2019-05-01\",\"send_message\"],[44,105,\"2019-07-07\",\"open_session\"],[57,106,\"2019-06-19\",\"end_session\"],[39,73,\"2019-07-17\",\"end_session\"],[86,68,\"2019-07-23\",\"send_message\"],[4,110,\"2019-06-10\",\"open_session\"],[29,59,\"2019-05-14\",\"open_session\"],[35,127,\"2019-05-31\",\"send_message\"],[4,146,\"2019-05-14\",\"scroll_down\"],[63,76,\"2019-05-23\",\"scroll_down\"],[4,41,\"2019-07-16\",\"end_session\"],[26,77,\"2019-06-04\",\"end_session\"],[41,107,\"2019-05-30\",\"open_session\"],[23,140,\"2019-07-14\",\"end_session\"],[39,194,\"2019-05-23\",\"send_message\"],[60,180,\"2019-07-14\",\"end_session\"],[81,155,\"2019-07-16\",\"end_session\"],[78,120,\"2019-06-07\",\"open_session\"],[93,10,\"2019-06-11\",\"open_session\"],[27,152,\"2019-05-31\",\"open_session\"],[57,58,\"2019-07-10\",\"end_session\"],[14,183,\"2019-07-06\",\"open_session\"],[7,80,\"2019-07-09\",\"scroll_down\"],[7,2,\"2019-05-08\",\"scroll_down\"],[3,25,\"2019-05-13\",\"scroll_down\"],[43,170,\"2019-06-25\",\"open_session\"],[37,48,\"2019-07-07\",\"open_session\"],[65,130,\"2019-05-08\",\"scroll_down\"],[78,114,\"2019-05-23\",\"send_message\"],[33,69,\"2019-06-20\",\"end_session\"],[18,99,\"2019-06-11\",\"end_session\"],[62,52,\"2019-06-19\",\"open_session\"],[43,193,\"2019-06-05\",\"end_session\"],[27,56,\"2019-07-20\",\"open_session\"],[94,160,\"2019-06-29\",\"end_session\"],[78,62,\"2019-05-15\",\"end_session\"],[18,134,\"2019-06-22\",\"scroll_down\"],[63,45,\"2019-05-16\",\"end_session\"],[2,38,\"2019-05-10\",\"open_session\"],[26,44,\"2019-05-07\",\"end_session\"],[39,194,\"2019-07-13\",\"end_session\"],[2,87,\"2019-05-18\",\"scroll_down\"],[83,103,\"2019-07-19\",\"scroll_down\"],[33,54,\"2019-07-17\",\"open_session\"],[42,104,\"2019-06-09\",\"open_session\"],[14,183,\"2019-05-22\",\"open_session\"],[83,172,\"2019-05-01\",\"send_message\"],[78,169,\"2019-06-02\",\"open_session\"],[43,193,\"2019-06-10\",\"end_session\"],[61,11,\"2019-05-13\",\"end_session\"],[59,178,\"2019-05-21\",\"send_message\"],[23,140,\"2019-05-04\",\"end_session\"],[78,120,\"2019-05-30\",\"scroll_down\"],[51,136,\"2019-05-05\",\"open_session\"],[47,61,\"2019-07-20\",\"open_session\"],[92,20,\"2019-05-02\",\"end_session\"],[63,39,\"2019-06-09\",\"end_session\"],[28,18,\"2019-07-20\",\"scroll_down\"],[22,42,\"2019-06-09\",\"scroll_down\"],[19,72,\"2019-06-12\",\"end_session\"],[60,109,\"2019-07-10\",\"send_message\"],[75,151,\"2019-06-19\",\"open_session\"],[41,85,\"2019-05-08\",\"end_session\"],[94,160,\"2019-07-24\",\"scroll_down\"],[63,45,\"2019-05-28\",\"scroll_down\"],[39,33,\"2019-06-13\",\"send_message\"],[92,20,\"2019-05-02\",\"end_session\"],[63,150,\"2019-06-30\",\"scroll_down\"],[54,171,\"2019-07-12\",\"scroll_down\"],[41,85,\"2019-07-05\",\"scroll_down\"],[10,179,\"2019-05-22\",\"end_session\"],[56,168,\"2019-05-11\",\"end_session\"],[61,11,\"2019-07-25\",\"end_session\"],[38,7,\"2019-05-03\",\"open_session\"],[39,53,\"2019-06-19\",\"scroll_down\"],[98,159,\"2019-06-22\",\"end_session\"],[37,48,\"2019-06-17\",\"open_session\"],[5,157,\"2019-06-14\",\"open_session\"],[22,42,\"2019-05-14\",\"send_message\"],[50,86,\"2019-06-21\",\"scroll_down\"],[15,121,\"2019-06-03\",\"scroll_down\"],[64,81,\"2019-07-19\",\"open_session\"],[1,71,\"2019-07-03\",\"open_session\"],[1,40,\"2019-06-05\",\"send_message\"],[45,175,\"2019-05-28\",\"open_session\"],[85,158,\"2019-06-27\",\"end_session\"],[61,11,\"2019-06-18\",\"send_message\"],[23,140,\"2019-07-16\",\"scroll_down\"],[63,43,\"2019-05-07\",\"end_session\"],[49,147,\"2019-06-22\",\"open_session\"],[98,159,\"2019-06-20\",\"end_session\"],[37,48,\"2019-05-27\",\"end_session\"],[63,39,\"2019-06-26\",\"open_session\"],[60,180,\"2019-07-26\",\"end_session\"],[1,29,\"2019-07-05\",\"end_session\"],[19,72,\"2019-06-21\",\"end_session\"],[15,161,\"2019-05-28\",\"send_message\"],[27,189,\"2019-05-16\",\"scroll_down\"],[6,35,\"2019-06-14\",\"end_session\"],[43,144,\"2019-06-14\",\"scroll_down\"],[57,98,\"2019-06-04\",\"end_session\"],[82,55,\"2019-06-22\",\"scroll_down\"],[81,155,\"2019-06-21\",\"end_session\"],[40,37,\"2019-07-13\",\"open_session\"],[25,142,\"2019-05-20\",\"open_session\"],[46,149,\"2019-06-30\",\"scroll_down\"],[10,179,\"2019-07-26\",\"send_message\"],[30,139,\"2019-05-17\",\"end_session\"],[7,199,\"2019-07-17\",\"scroll_down\"],[80,115,\"2019-05-06\",\"scroll_down\"],[18,99,\"2019-07-11\",\"open_session\"],[62,187,\"2019-06-22\",\"open_session\"],[7,199,\"2019-06-13\",\"scroll_down\"],[56,168,\"2019-05-06\",\"end_session\"],[78,62,\"2019-05-28\",\"open_session\"],[81,119,\"2019-06-09\",\"scroll_down\"],[7,23,\"2019-07-21\",\"end_session\"],[81,155,\"2019-06-25\",\"end_session\"],[91,113,\"2019-05-04\",\"end_session\"],[84,163,\"2019-05-15\",\"end_session\"],[41,85,\"2019-07-19\",\"scroll_down\"],[96,198,\"2019-07-17\",\"send_message\"],[75,151,\"2019-06-19\",\"end_session\"],[6,164,\"2019-07-08\",\"scroll_down\"],[28,18,\"2019-07-09\",\"open_session\"],[62,28,\"2019-05-27\",\"send_message\"],[36,22,\"2019-05-25\",\"send_message\"],[83,103,\"2019-07-15\",\"open_session\"],[24,165,\"2019-07-19\",\"send_message\"],[18,143,\"2019-05-10\",\"scroll_down\"],[83,103,\"2019-07-11\",\"send_message\"],[80,95,\"2019-07-16\",\"scroll_down\"],[48,108,\"2019-06-05\",\"scroll_down\"],[61,47,\"2019-05-25\",\"end_session\"],[54,177,\"2019-05-17\",\"open_session\"],[60,109,\"2019-05-26\",\"open_session\"],[62,93,\"2019-05-28\",\"end_session\"],[11,186,\"2019-06-07\",\"send_message\"],[71,100,\"2019-06-02\",\"open_session\"],[80,141,\"2019-05-24\",\"scroll_down\"],[57,106,\"2019-05-11\",\"scroll_down\"],[44,78,\"2019-07-08\",\"end_session\"],[2,38,\"2019-07-06\",\"scroll_down\"],[27,152,\"2019-06-17\",\"scroll_down\"],[71,90,\"2019-07-18\",\"open_session\"],[98,159,\"2019-07-02\",\"scroll_down\"],[4,146,\"2019-07-06\",\"open_session\"],[84,91,\"2019-05-21\",\"end_session\"],[7,23,\"2019-07-12\",\"send_message\"],[1,21,\"2019-06-06\",\"end_session\"],[41,107,\"2019-05-01\",\"end_session\"],[81,155,\"2019-05-31\",\"open_session\"],[59,178,\"2019-06-15\",\"open_session\"],[1,71,\"2019-07-23\",\"end_session\"],[70,27,\"2019-06-17\",\"send_message\"],[7,30,\"2019-05-04\",\"send_message\"],[25,142,\"2019-05-04\",\"scroll_down\"],[6,51,\"2019-05-12\",\"send_message\"],[64,3,\"2019-07-11\",\"open_session\"],[3,195,\"2019-05-02\",\"end_session\"],[22,74,\"2019-07-19\",\"send_message\"],[4,15,\"2019-05-26\",\"send_message\"],[44,192,\"2019-05-28\",\"scroll_down\"],[62,133,\"2019-06-13\",\"open_session\"],[51,66,\"2019-06-22\",\"send_message\"],[30,139,\"2019-07-06\",\"open_session\"],[61,47,\"2019-06-13\",\"end_session\"],[44,78,\"2019-07-14\",\"scroll_down\"],[78,120,\"2019-05-20\",\"scroll_down\"],[26,5,\"2019-07-09\",\"scroll_down\"],[40,37,\"2019-06-03\",\"open_session\"],[28,18,\"2019-07-11\",\"send_message\"],[56,188,\"2019-06-27\",\"send_message\"],[57,98,\"2019-06-25\",\"end_session\"],[26,44,\"2019-05-02\",\"send_message\"],[85,158,\"2019-05-05\",\"open_session\"],[58,153,\"2019-07-22\",\"open_session\"],[10,67,\"2019-06-20\",\"end_session\"],[39,73,\"2019-05-04\",\"end_session\"],[56,168,\"2019-05-14\",\"send_message\"],[84,163,\"2019-06-19\",\"scroll_down\"],[62,187,\"2019-05-02\",\"scroll_down\"],[49,147,\"2019-06-07\",\"send_message\"],[45,175,\"2019-06-18\",\"send_message\"],[41,85,\"2019-07-22\",\"send_message\"],[28,174,\"2019-06-23\",\"scroll_down\"],[53,184,\"2019-06-08\",\"open_session\"],[81,119,\"2019-07-22\",\"open_session\"],[7,9,\"2019-05-15\",\"scroll_down\"],[10,179,\"2019-05-29\",\"send_message\"],[18,134,\"2019-05-30\",\"end_session\"],[25,167,\"2019-07-18\",\"scroll_down\"],[39,53,\"2019-05-15\",\"send_message\"],[25,167,\"2019-07-22\",\"send_message\"],[75,151,\"2019-07-13\",\"end_session\"],[97,13,\"2019-06-03\",\"open_session\"],[58,153,\"2019-07-26\",\"end_session\"],[33,54,\"2019-05-26\",\"send_message\"],[41,107,\"2019-06-01\",\"send_message\"],[84,91,\"2019-05-19\",\"scroll_down\"],[53,83,\"2019-05-22\",\"send_message\"],[55,8,\"2019-07-16\",\"send_message\"],[37,57,\"2019-07-05\",\"open_session\"],[44,192,\"2019-05-21\",\"open_session\"],[30,139,\"2019-06-03\",\"send_message\"],[66,124,\"2019-07-01\",\"scroll_down\"],[6,51,\"2019-06-15\",\"scroll_down\"],[80,95,\"2019-07-16\",\"open_session\"],[39,33,\"2019-05-19\",\"end_session\"],[71,102,\"2019-07-18\",\"open_session\"],[54,171,\"2019-06-27\",\"send_message\"],[4,146,\"2019-07-16\",\"end_session\"],[60,109,\"2019-07-25\",\"end_session\"],[65,32,\"2019-06-03\",\"send_message\"],[81,119,\"2019-05-20\",\"end_session\"],[63,128,\"2019-05-13\",\"send_message\"],[62,187,\"2019-06-02\",\"end_session\"],[39,73,\"2019-05-25\",\"end_session\"],[60,109,\"2019-06-14\",\"send_message\"],[78,197,\"2019-07-18\",\"send_message\"],[50,86,\"2019-07-22\",\"send_message\"],[65,130,\"2019-06-26\",\"open_session\"],[45,175,\"2019-05-24\",\"open_session\"],[31,182,\"2019-06-13\",\"open_session\"],[14,122,\"2019-07-07\",\"open_session\"],[63,43,\"2019-07-03\",\"scroll_down\"],[7,80,\"2019-05-14\",\"end_session\"],[93,49,\"2019-06-08\",\"send_message\"],[1,21,\"2019-07-17\",\"send_message\"],[6,51,\"2019-07-21\",\"send_message\"],[98,159,\"2019-06-27\",\"end_session\"],[51,136,\"2019-05-25\",\"scroll_down\"],[80,95,\"2019-07-02\",\"open_session\"],[47,94,\"2019-05-09\",\"scroll_down\"],[44,84,\"2019-07-20\",\"end_session\"],[34,46,\"2019-07-03\",\"open_session\"],[51,136,\"2019-07-03\",\"end_session\"],[85,158,\"2019-06-17\",\"open_session\"],[7,2,\"2019-06-28\",\"end_session\"],[97,13,\"2019-05-31\",\"scroll_down\"],[61,47,\"2019-06-11\",\"scroll_down\"],[25,131,\"2019-07-06\",\"end_session\"],[39,73,\"2019-06-24\",\"end_session\"],[98,123,\"2019-05-09\",\"scroll_down\"],[71,102,\"2019-06-19\",\"end_session\"],[41,185,\"2019-07-04\",\"end_session\"],[98,159,\"2019-07-14\",\"open_session\"],[54,177,\"2019-07-14\",\"end_session\"],[10,67,\"2019-07-08\",\"end_session\"],[1,29,\"2019-07-16\",\"send_message\"],[98,181,\"2019-05-25\",\"send_message\"],[88,88,\"2019-07-16\",\"scroll_down\"],[45,154,\"2019-07-11\",\"send_message\"],[84,163,\"2019-06-05\",\"scroll_down\"],[7,23,\"2019-07-18\",\"scroll_down\"],[66,1,\"2019-06-27\",\"scroll_down\"],[25,131,\"2019-05-07\",\"end_session\"],[62,187,\"2019-05-01\",\"scroll_down\"],[62,93,\"2019-06-04\",\"open_session\"],[71,100,\"2019-06-15\",\"end_session\"],[63,150,\"2019-06-03\",\"send_message\"],[66,1,\"2019-06-20\",\"scroll_down\"],[28,166,\"2019-07-19\",\"scroll_down\"],[63,76,\"2019-05-12\",\"open_session\"],[4,110,\"2019-05-15\",\"end_session\"],[62,133,\"2019-05-30\",\"end_session\"],[98,97,\"2019-07-21\",\"scroll_down\"],[60,109,\"2019-06-22\",\"open_session\"],[69,191,\"2019-05-08\",\"open_session\"],[65,32,\"2019-07-24\",\"open_session\"],[27,189,\"2019-05-04\",\"send_message\"],[7,30,\"2019-06-27\",\"send_message\"],[75,151,\"2019-07-07\",\"open_session\"],[96,198,\"2019-07-01\",\"send_message\"],[92,20,\"2019-07-21\",\"scroll_down\"],[18,143,\"2019-06-09\",\"end_session\"],[36,22,\"2019-05-23\",\"scroll_down\"],[44,84,\"2019-05-02\",\"end_session\"],[98,123,\"2019-05-23\",\"scroll_down\"],[7,199,\"2019-05-22\",\"open_session\"],[62,132,\"2019-05-09\",\"send_message\"],[26,4,\"2019-07-10\",\"send_message\"],[23,140,\"2019-05-06\",\"open_session\"],[40,37,\"2019-07-18\",\"open_session\"],[78,65,\"2019-06-10\",\"open_session\"],[28,166,\"2019-07-19\",\"open_session\"],[63,43,\"2019-05-25\",\"end_session\"],[10,67,\"2019-06-26\",\"end_session\"],[51,136,\"2019-05-15\",\"scroll_down\"],[25,131,\"2019-05-11\",\"send_message\"],[65,32,\"2019-05-13\",\"end_session\"],[28,18,\"2019-06-20\",\"end_session\"],[48,16,\"2019-06-16\",\"open_session\"],[89,82,\"2019-06-25\",\"scroll_down\"],[70,12,\"2019-05-10\",\"scroll_down\"],[44,84,\"2019-05-15\",\"open_session\"],[83,172,\"2019-06-19\",\"end_session\"],[39,73,\"2019-06-05\",\"send_message\"],[59,178,\"2019-06-09\",\"send_message\"],[51,66,\"2019-05-08\",\"end_session\"],[66,1,\"2019-06-19\",\"open_session\"],[4,41,\"2019-05-12\",\"end_session\"],[96,198,\"2019-05-20\",\"end_session\"],[66,1,\"2019-06-07\",\"send_message\"],[38,96,\"2019-05-21\",\"scroll_down\"],[63,76,\"2019-06-29\",\"scroll_down\"],[3,25,\"2019-05-15\",\"open_session\"],[61,11,\"2019-06-24\",\"scroll_down\"],[30,101,\"2019-06-04\",\"send_message\"],[81,155,\"2019-06-26\",\"open_session\"],[62,52,\"2019-06-19\",\"end_session\"],[30,139,\"2019-06-15\",\"end_session\"],[84,163,\"2019-06-22\",\"end_session\"],[44,78,\"2019-06-13\",\"open_session\"],[35,36,\"2019-05-16\",\"scroll_down\"],[78,114,\"2019-07-02\",\"send_message\"],[51,136,\"2019-06-19\",\"open_session\"],[33,69,\"2019-07-22\",\"open_session\"],[4,60,\"2019-06-23\",\"open_session\"],[24,165,\"2019-07-18\",\"open_session\"],[50,86,\"2019-05-03\",\"end_session\"],[54,31,\"2019-05-20\",\"end_session\"],[64,126,\"2019-06-23\",\"scroll_down\"],[28,174,\"2019-07-09\",\"open_session\"],[44,192,\"2019-05-25\",\"open_session\"],[63,76,\"2019-05-12\",\"end_session\"],[6,35,\"2019-07-08\",\"scroll_down\"],[88,88,\"2019-07-25\",\"open_session\"],[62,93,\"2019-07-08\",\"end_session\"],[44,192,\"2019-07-05\",\"end_session\"],[1,40,\"2019-06-04\",\"end_session\"],[15,121,\"2019-07-06\",\"send_message\"],[78,114,\"2019-06-26\",\"end_session\"],[93,10,\"2019-05-16\",\"open_session\"],[7,80,\"2019-05-19\",\"send_message\"],[66,112,\"2019-06-05\",\"open_session\"],[96,198,\"2019-05-08\",\"send_message\"],[38,96,\"2019-07-05\",\"open_session\"],[69,191,\"2019-05-26\",\"send_message\"],[43,193,\"2019-06-12\",\"end_session\"],[64,126,\"2019-05-25\",\"scroll_down\"],[38,7,\"2019-05-27\",\"send_message\"],[4,60,\"2019-06-20\",\"scroll_down\"],[16,138,\"2019-06-13\",\"end_session\"],[27,189,\"2019-05-08\",\"scroll_down\"],[84,70,\"2019-06-19\",\"scroll_down\"],[88,88,\"2019-06-22\",\"scroll_down\"],[55,8,\"2019-05-25\",\"scroll_down\"],[27,56,\"2019-06-21\",\"scroll_down\"],[66,112,\"2019-07-07\",\"send_message\"],[31,182,\"2019-05-05\",\"open_session\"],[44,63,\"2019-05-20\",\"scroll_down\"],[1,40,\"2019-05-08\",\"end_session\"],[56,168,\"2019-07-23\",\"end_session\"],[98,97,\"2019-07-21\",\"scroll_down\"],[81,155,\"2019-07-14\",\"open_session\"],[95,148,\"2019-05-11\",\"end_session\"],[66,124,\"2019-05-04\",\"scroll_down\"],[63,128,\"2019-06-11\",\"end_session\"],[86,68,\"2019-05-12\",\"scroll_down\"],[25,131,\"2019-05-04\",\"end_session\"],[63,45,\"2019-06-01\",\"end_session\"],[38,96,\"2019-06-23\",\"open_session\"],[6,51,\"2019-07-11\",\"open_session\"],[54,171,\"2019-05-07\",\"scroll_down\"],[7,2,\"2019-07-12\",\"open_session\"],[50,79,\"2019-07-13\",\"scroll_down\"],[71,90,\"2019-05-18\",\"send_message\"],[6,51,\"2019-07-23\",\"end_session\"],[48,16,\"2019-05-29\",\"end_session\"],[69,111,\"2019-06-08\",\"send_message\"],[62,52,\"2019-05-11\",\"send_message\"],[30,14,\"2019-05-29\",\"end_session\"],[98,159,\"2019-05-20\",\"open_session\"],[7,199,\"2019-06-13\",\"send_message\"],[30,139,\"2019-07-05\",\"scroll_down\"],[55,117,\"2019-07-14\",\"scroll_down\"],[29,173,\"2019-06-07\",\"scroll_down\"],[98,159,\"2019-07-08\",\"send_message\"],[80,141,\"2019-05-05\",\"end_session\"],[39,73,\"2019-07-11\",\"send_message\"],[26,5,\"2019-06-07\",\"send_message\"],[65,130,\"2019-05-12\",\"send_message\"],[41,185,\"2019-05-16\",\"send_message\"],[62,187,\"2019-07-04\",\"open_session\"],[7,23,\"2019-06-28\",\"end_session\"],[51,136,\"2019-07-23\",\"end_session\"],[29,59,\"2019-07-07\",\"end_session\"],[58,153,\"2019-07-06\",\"scroll_down\"],[84,91,\"2019-06-05\",\"send_message\"],[10,67,\"2019-05-18\",\"send_message\"],[83,172,\"2019-07-13\",\"end_session\"],[78,65,\"2019-05-13\",\"open_session\"],[29,59,\"2019-05-29\",\"scroll_down\"]]}}"
   ]
  },
  {
   "cell_type": "code",
   "execution_count": 162,
   "metadata": {},
   "outputs": [],
   "source": [
    "newlist = list(dic1142.values())[1].values()"
   ]
  },
  {
   "cell_type": "code",
   "execution_count": 163,
   "metadata": {},
   "outputs": [],
   "source": [
    "Activity = pd.DataFrame([item for items in newlist for item in items], columns = [\"user_id\",\"session_id\",\"activity_date\",\"activity_type\"])"
   ]
  },
  {
   "cell_type": "code",
   "execution_count": 164,
   "metadata": {},
   "outputs": [
    {
     "data": {
      "text/html": [
       "<div>\n",
       "<style scoped>\n",
       "    .dataframe tbody tr th:only-of-type {\n",
       "        vertical-align: middle;\n",
       "    }\n",
       "\n",
       "    .dataframe tbody tr th {\n",
       "        vertical-align: top;\n",
       "    }\n",
       "\n",
       "    .dataframe thead th {\n",
       "        text-align: right;\n",
       "    }\n",
       "</style>\n",
       "<table border=\"1\" class=\"dataframe\">\n",
       "  <thead>\n",
       "    <tr style=\"text-align: right;\">\n",
       "      <th></th>\n",
       "      <th>user_id</th>\n",
       "      <th>session_id</th>\n",
       "      <th>activity_date</th>\n",
       "      <th>activity_type</th>\n",
       "    </tr>\n",
       "  </thead>\n",
       "  <tbody>\n",
       "    <tr>\n",
       "      <th>0</th>\n",
       "      <td>93</td>\n",
       "      <td>50</td>\n",
       "      <td>2019-06-17</td>\n",
       "      <td>send_message</td>\n",
       "    </tr>\n",
       "    <tr>\n",
       "      <th>1</th>\n",
       "      <td>18</td>\n",
       "      <td>143</td>\n",
       "      <td>2019-07-26</td>\n",
       "      <td>send_message</td>\n",
       "    </tr>\n",
       "    <tr>\n",
       "      <th>2</th>\n",
       "      <td>29</td>\n",
       "      <td>173</td>\n",
       "      <td>2019-06-13</td>\n",
       "      <td>open_session</td>\n",
       "    </tr>\n",
       "    <tr>\n",
       "      <th>3</th>\n",
       "      <td>65</td>\n",
       "      <td>32</td>\n",
       "      <td>2019-06-20</td>\n",
       "      <td>send_message</td>\n",
       "    </tr>\n",
       "    <tr>\n",
       "      <th>4</th>\n",
       "      <td>46</td>\n",
       "      <td>149</td>\n",
       "      <td>2019-05-30</td>\n",
       "      <td>end_session</td>\n",
       "    </tr>\n",
       "    <tr>\n",
       "      <th>5</th>\n",
       "      <td>22</td>\n",
       "      <td>200</td>\n",
       "      <td>2019-05-26</td>\n",
       "      <td>scroll_down</td>\n",
       "    </tr>\n",
       "    <tr>\n",
       "      <th>6</th>\n",
       "      <td>63</td>\n",
       "      <td>128</td>\n",
       "      <td>2019-06-12</td>\n",
       "      <td>open_session</td>\n",
       "    </tr>\n",
       "    <tr>\n",
       "      <th>7</th>\n",
       "      <td>98</td>\n",
       "      <td>97</td>\n",
       "      <td>2019-06-05</td>\n",
       "      <td>end_session</td>\n",
       "    </tr>\n",
       "    <tr>\n",
       "      <th>8</th>\n",
       "      <td>58</td>\n",
       "      <td>153</td>\n",
       "      <td>2019-07-05</td>\n",
       "      <td>send_message</td>\n",
       "    </tr>\n",
       "    <tr>\n",
       "      <th>9</th>\n",
       "      <td>63</td>\n",
       "      <td>45</td>\n",
       "      <td>2019-06-03</td>\n",
       "      <td>send_message</td>\n",
       "    </tr>\n",
       "    <tr>\n",
       "      <th>10</th>\n",
       "      <td>47</td>\n",
       "      <td>61</td>\n",
       "      <td>2019-05-27</td>\n",
       "      <td>send_message</td>\n",
       "    </tr>\n",
       "    <tr>\n",
       "      <th>11</th>\n",
       "      <td>14</td>\n",
       "      <td>183</td>\n",
       "      <td>2019-06-20</td>\n",
       "      <td>scroll_down</td>\n",
       "    </tr>\n",
       "    <tr>\n",
       "      <th>12</th>\n",
       "      <td>16</td>\n",
       "      <td>135</td>\n",
       "      <td>2019-07-18</td>\n",
       "      <td>scroll_down</td>\n",
       "    </tr>\n",
       "    <tr>\n",
       "      <th>13</th>\n",
       "      <td>15</td>\n",
       "      <td>121</td>\n",
       "      <td>2019-05-12</td>\n",
       "      <td>scroll_down</td>\n",
       "    </tr>\n",
       "    <tr>\n",
       "      <th>14</th>\n",
       "      <td>18</td>\n",
       "      <td>99</td>\n",
       "      <td>2019-06-01</td>\n",
       "      <td>send_message</td>\n",
       "    </tr>\n",
       "    <tr>\n",
       "      <th>15</th>\n",
       "      <td>16</td>\n",
       "      <td>138</td>\n",
       "      <td>2019-05-24</td>\n",
       "      <td>scroll_down</td>\n",
       "    </tr>\n",
       "    <tr>\n",
       "      <th>16</th>\n",
       "      <td>86</td>\n",
       "      <td>68</td>\n",
       "      <td>2019-05-25</td>\n",
       "      <td>end_session</td>\n",
       "    </tr>\n",
       "    <tr>\n",
       "      <th>17</th>\n",
       "      <td>18</td>\n",
       "      <td>134</td>\n",
       "      <td>2019-07-21</td>\n",
       "      <td>send_message</td>\n",
       "    </tr>\n",
       "    <tr>\n",
       "      <th>18</th>\n",
       "      <td>51</td>\n",
       "      <td>136</td>\n",
       "      <td>2019-05-18</td>\n",
       "      <td>open_session</td>\n",
       "    </tr>\n",
       "    <tr>\n",
       "      <th>19</th>\n",
       "      <td>66</td>\n",
       "      <td>1</td>\n",
       "      <td>2019-07-07</td>\n",
       "      <td>open_session</td>\n",
       "    </tr>\n",
       "    <tr>\n",
       "      <th>20</th>\n",
       "      <td>78</td>\n",
       "      <td>120</td>\n",
       "      <td>2019-07-23</td>\n",
       "      <td>send_message</td>\n",
       "    </tr>\n",
       "    <tr>\n",
       "      <th>21</th>\n",
       "      <td>54</td>\n",
       "      <td>171</td>\n",
       "      <td>2019-06-10</td>\n",
       "      <td>send_message</td>\n",
       "    </tr>\n",
       "    <tr>\n",
       "      <th>22</th>\n",
       "      <td>38</td>\n",
       "      <td>7</td>\n",
       "      <td>2019-06-10</td>\n",
       "      <td>send_message</td>\n",
       "    </tr>\n",
       "    <tr>\n",
       "      <th>23</th>\n",
       "      <td>47</td>\n",
       "      <td>94</td>\n",
       "      <td>2019-06-11</td>\n",
       "      <td>open_session</td>\n",
       "    </tr>\n",
       "    <tr>\n",
       "      <th>24</th>\n",
       "      <td>57</td>\n",
       "      <td>106</td>\n",
       "      <td>2019-07-01</td>\n",
       "      <td>send_message</td>\n",
       "    </tr>\n",
       "    <tr>\n",
       "      <th>25</th>\n",
       "      <td>93</td>\n",
       "      <td>10</td>\n",
       "      <td>2019-06-22</td>\n",
       "      <td>scroll_down</td>\n",
       "    </tr>\n",
       "    <tr>\n",
       "      <th>26</th>\n",
       "      <td>26</td>\n",
       "      <td>116</td>\n",
       "      <td>2019-06-07</td>\n",
       "      <td>scroll_down</td>\n",
       "    </tr>\n",
       "    <tr>\n",
       "      <th>27</th>\n",
       "      <td>78</td>\n",
       "      <td>62</td>\n",
       "      <td>2019-07-03</td>\n",
       "      <td>open_session</td>\n",
       "    </tr>\n",
       "    <tr>\n",
       "      <th>28</th>\n",
       "      <td>58</td>\n",
       "      <td>137</td>\n",
       "      <td>2019-05-19</td>\n",
       "      <td>send_message</td>\n",
       "    </tr>\n",
       "    <tr>\n",
       "      <th>29</th>\n",
       "      <td>2</td>\n",
       "      <td>87</td>\n",
       "      <td>2019-05-03</td>\n",
       "      <td>send_message</td>\n",
       "    </tr>\n",
       "    <tr>\n",
       "      <th>...</th>\n",
       "      <td>...</td>\n",
       "      <td>...</td>\n",
       "      <td>...</td>\n",
       "      <td>...</td>\n",
       "    </tr>\n",
       "    <tr>\n",
       "      <th>470</th>\n",
       "      <td>54</td>\n",
       "      <td>171</td>\n",
       "      <td>2019-05-07</td>\n",
       "      <td>scroll_down</td>\n",
       "    </tr>\n",
       "    <tr>\n",
       "      <th>471</th>\n",
       "      <td>7</td>\n",
       "      <td>2</td>\n",
       "      <td>2019-07-12</td>\n",
       "      <td>open_session</td>\n",
       "    </tr>\n",
       "    <tr>\n",
       "      <th>472</th>\n",
       "      <td>50</td>\n",
       "      <td>79</td>\n",
       "      <td>2019-07-13</td>\n",
       "      <td>scroll_down</td>\n",
       "    </tr>\n",
       "    <tr>\n",
       "      <th>473</th>\n",
       "      <td>71</td>\n",
       "      <td>90</td>\n",
       "      <td>2019-05-18</td>\n",
       "      <td>send_message</td>\n",
       "    </tr>\n",
       "    <tr>\n",
       "      <th>474</th>\n",
       "      <td>6</td>\n",
       "      <td>51</td>\n",
       "      <td>2019-07-23</td>\n",
       "      <td>end_session</td>\n",
       "    </tr>\n",
       "    <tr>\n",
       "      <th>475</th>\n",
       "      <td>48</td>\n",
       "      <td>16</td>\n",
       "      <td>2019-05-29</td>\n",
       "      <td>end_session</td>\n",
       "    </tr>\n",
       "    <tr>\n",
       "      <th>476</th>\n",
       "      <td>69</td>\n",
       "      <td>111</td>\n",
       "      <td>2019-06-08</td>\n",
       "      <td>send_message</td>\n",
       "    </tr>\n",
       "    <tr>\n",
       "      <th>477</th>\n",
       "      <td>62</td>\n",
       "      <td>52</td>\n",
       "      <td>2019-05-11</td>\n",
       "      <td>send_message</td>\n",
       "    </tr>\n",
       "    <tr>\n",
       "      <th>478</th>\n",
       "      <td>30</td>\n",
       "      <td>14</td>\n",
       "      <td>2019-05-29</td>\n",
       "      <td>end_session</td>\n",
       "    </tr>\n",
       "    <tr>\n",
       "      <th>479</th>\n",
       "      <td>98</td>\n",
       "      <td>159</td>\n",
       "      <td>2019-05-20</td>\n",
       "      <td>open_session</td>\n",
       "    </tr>\n",
       "    <tr>\n",
       "      <th>480</th>\n",
       "      <td>7</td>\n",
       "      <td>199</td>\n",
       "      <td>2019-06-13</td>\n",
       "      <td>send_message</td>\n",
       "    </tr>\n",
       "    <tr>\n",
       "      <th>481</th>\n",
       "      <td>30</td>\n",
       "      <td>139</td>\n",
       "      <td>2019-07-05</td>\n",
       "      <td>scroll_down</td>\n",
       "    </tr>\n",
       "    <tr>\n",
       "      <th>482</th>\n",
       "      <td>55</td>\n",
       "      <td>117</td>\n",
       "      <td>2019-07-14</td>\n",
       "      <td>scroll_down</td>\n",
       "    </tr>\n",
       "    <tr>\n",
       "      <th>483</th>\n",
       "      <td>29</td>\n",
       "      <td>173</td>\n",
       "      <td>2019-06-07</td>\n",
       "      <td>scroll_down</td>\n",
       "    </tr>\n",
       "    <tr>\n",
       "      <th>484</th>\n",
       "      <td>98</td>\n",
       "      <td>159</td>\n",
       "      <td>2019-07-08</td>\n",
       "      <td>send_message</td>\n",
       "    </tr>\n",
       "    <tr>\n",
       "      <th>485</th>\n",
       "      <td>80</td>\n",
       "      <td>141</td>\n",
       "      <td>2019-05-05</td>\n",
       "      <td>end_session</td>\n",
       "    </tr>\n",
       "    <tr>\n",
       "      <th>486</th>\n",
       "      <td>39</td>\n",
       "      <td>73</td>\n",
       "      <td>2019-07-11</td>\n",
       "      <td>send_message</td>\n",
       "    </tr>\n",
       "    <tr>\n",
       "      <th>487</th>\n",
       "      <td>26</td>\n",
       "      <td>5</td>\n",
       "      <td>2019-06-07</td>\n",
       "      <td>send_message</td>\n",
       "    </tr>\n",
       "    <tr>\n",
       "      <th>488</th>\n",
       "      <td>65</td>\n",
       "      <td>130</td>\n",
       "      <td>2019-05-12</td>\n",
       "      <td>send_message</td>\n",
       "    </tr>\n",
       "    <tr>\n",
       "      <th>489</th>\n",
       "      <td>41</td>\n",
       "      <td>185</td>\n",
       "      <td>2019-05-16</td>\n",
       "      <td>send_message</td>\n",
       "    </tr>\n",
       "    <tr>\n",
       "      <th>490</th>\n",
       "      <td>62</td>\n",
       "      <td>187</td>\n",
       "      <td>2019-07-04</td>\n",
       "      <td>open_session</td>\n",
       "    </tr>\n",
       "    <tr>\n",
       "      <th>491</th>\n",
       "      <td>7</td>\n",
       "      <td>23</td>\n",
       "      <td>2019-06-28</td>\n",
       "      <td>end_session</td>\n",
       "    </tr>\n",
       "    <tr>\n",
       "      <th>492</th>\n",
       "      <td>51</td>\n",
       "      <td>136</td>\n",
       "      <td>2019-07-23</td>\n",
       "      <td>end_session</td>\n",
       "    </tr>\n",
       "    <tr>\n",
       "      <th>493</th>\n",
       "      <td>29</td>\n",
       "      <td>59</td>\n",
       "      <td>2019-07-07</td>\n",
       "      <td>end_session</td>\n",
       "    </tr>\n",
       "    <tr>\n",
       "      <th>494</th>\n",
       "      <td>58</td>\n",
       "      <td>153</td>\n",
       "      <td>2019-07-06</td>\n",
       "      <td>scroll_down</td>\n",
       "    </tr>\n",
       "    <tr>\n",
       "      <th>495</th>\n",
       "      <td>84</td>\n",
       "      <td>91</td>\n",
       "      <td>2019-06-05</td>\n",
       "      <td>send_message</td>\n",
       "    </tr>\n",
       "    <tr>\n",
       "      <th>496</th>\n",
       "      <td>10</td>\n",
       "      <td>67</td>\n",
       "      <td>2019-05-18</td>\n",
       "      <td>send_message</td>\n",
       "    </tr>\n",
       "    <tr>\n",
       "      <th>497</th>\n",
       "      <td>83</td>\n",
       "      <td>172</td>\n",
       "      <td>2019-07-13</td>\n",
       "      <td>end_session</td>\n",
       "    </tr>\n",
       "    <tr>\n",
       "      <th>498</th>\n",
       "      <td>78</td>\n",
       "      <td>65</td>\n",
       "      <td>2019-05-13</td>\n",
       "      <td>open_session</td>\n",
       "    </tr>\n",
       "    <tr>\n",
       "      <th>499</th>\n",
       "      <td>29</td>\n",
       "      <td>59</td>\n",
       "      <td>2019-05-29</td>\n",
       "      <td>scroll_down</td>\n",
       "    </tr>\n",
       "  </tbody>\n",
       "</table>\n",
       "<p>500 rows × 4 columns</p>\n",
       "</div>"
      ],
      "text/plain": [
       "     user_id  session_id activity_date activity_type\n",
       "0         93          50    2019-06-17  send_message\n",
       "1         18         143    2019-07-26  send_message\n",
       "2         29         173    2019-06-13  open_session\n",
       "3         65          32    2019-06-20  send_message\n",
       "4         46         149    2019-05-30   end_session\n",
       "..       ...         ...           ...           ...\n",
       "495       84          91    2019-06-05  send_message\n",
       "496       10          67    2019-05-18  send_message\n",
       "497       83         172    2019-07-13   end_session\n",
       "498       78          65    2019-05-13  open_session\n",
       "499       29          59    2019-05-29   scroll_down\n",
       "\n",
       "[500 rows x 4 columns]"
      ]
     },
     "execution_count": 164,
     "metadata": {},
     "output_type": "execute_result"
    }
   ],
   "source": [
    "Activity"
   ]
  },
  {
   "cell_type": "code",
   "execution_count": 134,
   "metadata": {},
   "outputs": [],
   "source": [
    "Activity['start_day'] = pd.to_datetime('2019-07-27')+pd.DateOffset(days=-29)"
   ]
  },
  {
   "cell_type": "code",
   "execution_count": 132,
   "metadata": {},
   "outputs": [],
   "source": [
    "Activity['end_day'] = pd.to_datetime('2019-07-27')"
   ]
  },
  {
   "cell_type": "code",
   "execution_count": 165,
   "metadata": {},
   "outputs": [],
   "source": [
    "sub= Activity[(Activity['activity_date']>='2019-06-28') & (Activity['activity_date']<='2019-07-27')].agg({'session_id':'nunique','user_id':'nunique' }).reset_index()"
   ]
  },
  {
   "cell_type": "code",
   "execution_count": 166,
   "metadata": {},
   "outputs": [
    {
     "data": {
      "text/plain": [
       "(2, 2)"
      ]
     },
     "execution_count": 166,
     "metadata": {},
     "output_type": "execute_result"
    }
   ],
   "source": [
    "sub.shape"
   ]
  },
  {
   "cell_type": "code",
   "execution_count": 167,
   "metadata": {},
   "outputs": [
    {
     "data": {
      "text/html": [
       "<div>\n",
       "<style scoped>\n",
       "    .dataframe tbody tr th:only-of-type {\n",
       "        vertical-align: middle;\n",
       "    }\n",
       "\n",
       "    .dataframe tbody tr th {\n",
       "        vertical-align: top;\n",
       "    }\n",
       "\n",
       "    .dataframe thead th {\n",
       "        text-align: right;\n",
       "    }\n",
       "</style>\n",
       "<table border=\"1\" class=\"dataframe\">\n",
       "  <thead>\n",
       "    <tr style=\"text-align: right;\">\n",
       "      <th></th>\n",
       "      <th>index</th>\n",
       "      <th>0</th>\n",
       "    </tr>\n",
       "  </thead>\n",
       "  <tbody>\n",
       "    <tr>\n",
       "      <th>0</th>\n",
       "      <td>session_id</td>\n",
       "      <td>108</td>\n",
       "    </tr>\n",
       "    <tr>\n",
       "      <th>1</th>\n",
       "      <td>user_id</td>\n",
       "      <td>61</td>\n",
       "    </tr>\n",
       "  </tbody>\n",
       "</table>\n",
       "</div>"
      ],
      "text/plain": [
       "        index    0\n",
       "0  session_id  108\n",
       "1     user_id   61"
      ]
     },
     "execution_count": 167,
     "metadata": {},
     "output_type": "execute_result"
    }
   ],
   "source": [
    "sub"
   ]
  },
  {
   "cell_type": "code",
   "execution_count": 149,
   "metadata": {},
   "outputs": [],
   "source": [
    "sub['name']=sub.index"
   ]
  },
  {
   "cell_type": "code",
   "execution_count": 170,
   "metadata": {},
   "outputs": [
    {
     "data": {
      "text/plain": [
       "1.77"
      ]
     },
     "execution_count": 170,
     "metadata": {},
     "output_type": "execute_result"
    }
   ],
   "source": [
    "round(np.nan_to_num((sub.iloc[0,1]/sub.iloc[1,1])),2)"
   ]
  },
  {
   "cell_type": "markdown",
   "metadata": {},
   "source": [
    "# 1875"
   ]
  },
  {
   "cell_type": "code",
   "execution_count": 171,
   "metadata": {},
   "outputs": [],
   "source": [
    "dic1875 = {\"headers\":{\"Employees\":[\"employee_id\",\"name\",\"salary\"]},\"rows\":{\"Employees\":[[2,\"Meir\",3000],[3,\"Michael\",3000],[7,\"Addilyn\",7400],[8,\"Juan\",6100],[9,\"Kannon\",7400]]}}"
   ]
  },
  {
   "cell_type": "code",
   "execution_count": 178,
   "metadata": {},
   "outputs": [],
   "source": [
    "newlist = list(list(dic1875.values())[1].values())"
   ]
  },
  {
   "cell_type": "code",
   "execution_count": 179,
   "metadata": {},
   "outputs": [],
   "source": [
    "employees = pd.DataFrame([item for items in newlist for item in items],columns = [\"employee_id\",\"name\",\"salary\"])"
   ]
  },
  {
   "cell_type": "code",
   "execution_count": 180,
   "metadata": {},
   "outputs": [
    {
     "data": {
      "text/html": [
       "<div>\n",
       "<style scoped>\n",
       "    .dataframe tbody tr th:only-of-type {\n",
       "        vertical-align: middle;\n",
       "    }\n",
       "\n",
       "    .dataframe tbody tr th {\n",
       "        vertical-align: top;\n",
       "    }\n",
       "\n",
       "    .dataframe thead th {\n",
       "        text-align: right;\n",
       "    }\n",
       "</style>\n",
       "<table border=\"1\" class=\"dataframe\">\n",
       "  <thead>\n",
       "    <tr style=\"text-align: right;\">\n",
       "      <th></th>\n",
       "      <th>employee_id</th>\n",
       "      <th>name</th>\n",
       "      <th>salary</th>\n",
       "    </tr>\n",
       "  </thead>\n",
       "  <tbody>\n",
       "    <tr>\n",
       "      <th>0</th>\n",
       "      <td>2</td>\n",
       "      <td>Meir</td>\n",
       "      <td>3000</td>\n",
       "    </tr>\n",
       "    <tr>\n",
       "      <th>1</th>\n",
       "      <td>3</td>\n",
       "      <td>Michael</td>\n",
       "      <td>3000</td>\n",
       "    </tr>\n",
       "    <tr>\n",
       "      <th>2</th>\n",
       "      <td>7</td>\n",
       "      <td>Addilyn</td>\n",
       "      <td>7400</td>\n",
       "    </tr>\n",
       "    <tr>\n",
       "      <th>3</th>\n",
       "      <td>8</td>\n",
       "      <td>Juan</td>\n",
       "      <td>6100</td>\n",
       "    </tr>\n",
       "    <tr>\n",
       "      <th>4</th>\n",
       "      <td>9</td>\n",
       "      <td>Kannon</td>\n",
       "      <td>7400</td>\n",
       "    </tr>\n",
       "  </tbody>\n",
       "</table>\n",
       "</div>"
      ],
      "text/plain": [
       "   employee_id     name  salary\n",
       "0            2     Meir    3000\n",
       "1            3  Michael    3000\n",
       "2            7  Addilyn    7400\n",
       "3            8     Juan    6100\n",
       "4            9   Kannon    7400"
      ]
     },
     "execution_count": 180,
     "metadata": {},
     "output_type": "execute_result"
    }
   ],
   "source": [
    "employees"
   ]
  },
  {
   "cell_type": "code",
   "execution_count": 196,
   "metadata": {},
   "outputs": [],
   "source": [
    "sub = pd.DataFrame(employees.groupby('salary')['salary'].count())"
   ]
  },
  {
   "cell_type": "code",
   "execution_count": 199,
   "metadata": {},
   "outputs": [],
   "source": [
    "sub.columns=['cnt']"
   ]
  },
  {
   "cell_type": "code",
   "execution_count": 202,
   "metadata": {},
   "outputs": [],
   "source": [
    "sub.reset_index(inplace=True)"
   ]
  },
  {
   "cell_type": "code",
   "execution_count": 204,
   "metadata": {},
   "outputs": [
    {
     "data": {
      "text/plain": [
       "0    3000\n",
       "2    7400\n",
       "Name: salary, dtype: int64"
      ]
     },
     "execution_count": 204,
     "metadata": {},
     "output_type": "execute_result"
    }
   ],
   "source": [
    "list(sub[sub['cnt']>1]['salary'])"
   ]
  },
  {
   "cell_type": "code",
   "execution_count": 184,
   "metadata": {},
   "outputs": [
    {
     "data": {
      "text/plain": [
       "0    1.0\n",
       "1    1.0\n",
       "2    3.0\n",
       "3    2.0\n",
       "4    3.0\n",
       "Name: salary, dtype: float64"
      ]
     },
     "execution_count": 184,
     "metadata": {},
     "output_type": "execute_result"
    }
   ],
   "source": [
    "employees['salary'].rank(method ='dense', ascending=True)"
   ]
  },
  {
   "cell_type": "code",
   "execution_count": 207,
   "metadata": {},
   "outputs": [],
   "source": [
    "sub_emp = employees[employees['salary'].isin(list(sub[sub['cnt']>1]['salary']))]"
   ]
  },
  {
   "cell_type": "code",
   "execution_count": 209,
   "metadata": {},
   "outputs": [
    {
     "name": "stderr",
     "output_type": "stream",
     "text": [
      "/Users/wentinggao/anaconda3/lib/python3.7/site-packages/ipykernel_launcher.py:1: SettingWithCopyWarning: \n",
      "A value is trying to be set on a copy of a slice from a DataFrame.\n",
      "Try using .loc[row_indexer,col_indexer] = value instead\n",
      "\n",
      "See the caveats in the documentation: http://pandas.pydata.org/pandas-docs/stable/user_guide/indexing.html#returning-a-view-versus-a-copy\n",
      "  \"\"\"Entry point for launching an IPython kernel.\n"
     ]
    }
   ],
   "source": [
    "sub_emp['team_id'] = sub_emp['salary'].rank(method ='dense', ascending=True)"
   ]
  },
  {
   "cell_type": "code",
   "execution_count": 210,
   "metadata": {},
   "outputs": [
    {
     "data": {
      "text/html": [
       "<div>\n",
       "<style scoped>\n",
       "    .dataframe tbody tr th:only-of-type {\n",
       "        vertical-align: middle;\n",
       "    }\n",
       "\n",
       "    .dataframe tbody tr th {\n",
       "        vertical-align: top;\n",
       "    }\n",
       "\n",
       "    .dataframe thead th {\n",
       "        text-align: right;\n",
       "    }\n",
       "</style>\n",
       "<table border=\"1\" class=\"dataframe\">\n",
       "  <thead>\n",
       "    <tr style=\"text-align: right;\">\n",
       "      <th></th>\n",
       "      <th>employee_id</th>\n",
       "      <th>name</th>\n",
       "      <th>salary</th>\n",
       "      <th>team_id</th>\n",
       "    </tr>\n",
       "  </thead>\n",
       "  <tbody>\n",
       "    <tr>\n",
       "      <th>0</th>\n",
       "      <td>2</td>\n",
       "      <td>Meir</td>\n",
       "      <td>3000</td>\n",
       "      <td>1.0</td>\n",
       "    </tr>\n",
       "    <tr>\n",
       "      <th>1</th>\n",
       "      <td>3</td>\n",
       "      <td>Michael</td>\n",
       "      <td>3000</td>\n",
       "      <td>1.0</td>\n",
       "    </tr>\n",
       "    <tr>\n",
       "      <th>2</th>\n",
       "      <td>7</td>\n",
       "      <td>Addilyn</td>\n",
       "      <td>7400</td>\n",
       "      <td>2.0</td>\n",
       "    </tr>\n",
       "    <tr>\n",
       "      <th>4</th>\n",
       "      <td>9</td>\n",
       "      <td>Kannon</td>\n",
       "      <td>7400</td>\n",
       "      <td>2.0</td>\n",
       "    </tr>\n",
       "  </tbody>\n",
       "</table>\n",
       "</div>"
      ],
      "text/plain": [
       "   employee_id     name  salary  team_id\n",
       "0            2     Meir    3000      1.0\n",
       "1            3  Michael    3000      1.0\n",
       "2            7  Addilyn    7400      2.0\n",
       "4            9   Kannon    7400      2.0"
      ]
     },
     "execution_count": 210,
     "metadata": {},
     "output_type": "execute_result"
    }
   ],
   "source": [
    "sub_emp"
   ]
  },
  {
   "cell_type": "markdown",
   "metadata": {},
   "source": [
    "# 1934"
   ]
  },
  {
   "cell_type": "code",
   "execution_count": 16,
   "metadata": {},
   "outputs": [
    {
     "name": "stdout",
     "output_type": "stream",
     "text": [
      "   user_id           time_stamp\n",
      "0        3  2020-03-21 10:16:13\n",
      "1        7  2020-01-04 13:57:59\n",
      "2        2  2020-07-29 23:09:44\n",
      "3        6  2020-12-09 10:39:37\n"
     ]
    }
   ],
   "source": [
    "import pandas as pd\n",
    "import numpy as np\n",
    "Signups = pd.DataFrame([[3, \"2020-03-21 10:16:13\"], \n",
    "[7, \"2020-01-04 13:57:59\"], [2, \"2020-07-29 23:09:44\"], \n",
    "[6, \"2020-12-09 10:39:37\"]], columns =['user_id','time_stamp'])\n",
    "\n",
    "print(Signups)"
   ]
  },
  {
   "cell_type": "code",
   "execution_count": 6,
   "metadata": {},
   "outputs": [
    {
     "name": "stdout",
     "output_type": "stream",
     "text": [
      "   user_id            timestamp     action\n",
      "0        3  2021-01-06 03:30:46    timeout\n",
      "1        3  2021-07-14 14:00:00    timeout\n",
      "2        7  2021-06-12 11:57:29  confirmed\n",
      "3        7  2021-06-13 12:58:28  confirmed\n",
      "4        7  2021-06-14 13:59:27  confirmed\n",
      "5        2  2021-01-22 00:00:00  confirmed\n",
      "6        2  2021-02-28 23:59:59    timeout\n"
     ]
    }
   ],
   "source": [
    "Confirmations = pd.DataFrame([[3, \"2021-01-06 03:30:46\", \"timeout\"], [3, \"2021-07-14 14:00:00\", \"timeout\"], \n",
    "[7, \"2021-06-12 11:57:29\", \"confirmed\"], [7, \"2021-06-13 12:58:28\", \"confirmed\"], \n",
    "[7, \"2021-06-14 13:59:27\", \"confirmed\"], [2, \"2021-01-22 00:00:00\", \"confirmed\"], [2, \"2021-02-28 23:59:59\", \"timeout\"]],\n",
    "                            columns =['user_id', 'timestamp', 'action'])\n",
    "print(Confirmations)"
   ]
  },
  {
   "cell_type": "code",
   "execution_count": 19,
   "metadata": {},
   "outputs": [
    {
     "name": "stdout",
     "output_type": "stream",
     "text": [
      "   user_id  Confirmation_rate\n",
      "0        3                0.0\n",
      "1        7                1.0\n",
      "2        2                0.5\n",
      "3        6                0.0\n"
     ]
    }
   ],
   "source": [
    "#df1 = Signups.merge(Confirmations, how ='left', on ='user_id')\n",
    "\n",
    "Confirm1 = Confirmations.groupby(['user_id'])['action'].count().reset_index()\n",
    "Confirm1.columns = ['user_id', 'den']\n",
    "\n",
    "Confirm2 = Confirmations[Confirmations['action']=='confirmed'].groupby(['user_id'])['action'].count().reset_index()\n",
    "Confirm2.columns = ['user_id', 'num']\n",
    "\n",
    "df1 = Signups.merge(Confirm1, how ='left', on ='user_id').merge(Confirm2, how ='left', on ='user_id')\n",
    "\n",
    "df1['Confirmation_rate'] = (df1['num']/df1['den'])\n",
    "\n",
    "df1['Confirmation_rate'].replace(np.NaN, 0, inplace= True)\n",
    "\n",
    "print(df1[['user_id','Confirmation_rate']])"
   ]
  },
  {
   "cell_type": "markdown",
   "metadata": {},
   "source": [
    "# 1341 Movie Rating"
   ]
  },
  {
   "cell_type": "code",
   "execution_count": 25,
   "metadata": {},
   "outputs": [],
   "source": [
    "Movies=pd.DataFrame([[1, \"Avengers\"], [2, \"Frozen 2\"], [3, \"Joker\"]], columns =['movie_id','title'])\n",
    "Users = pd.DataFrame([[1, \"Daniel\"], [2, \"Monica\"], [3, \"Maria\"], [4, \"James\"]], columns =['user_id', 'name'])\n",
    "Movie_Rating = pd.DataFrame([[1, 1, 3, \"2020-01-12\"], [1, 2, 4, \"2020-02-11\"], [1, 3, 2, \"2020-02-12\"], \n",
    "[1, 4, 1, \"2020-01-01\"], [2, 1, 5, \"2020-02-17\"], [2, 2, 2, \"2020-02-01\"], [2, 3, 2, \"2020-03-01\"], [3, 1, 3, \"2020-02-22\"], [3, 2, 4, \"2020-02-25\"]], \n",
    "                           columns=['movie_id','user_id','rating','created_at'])"
   ]
  },
  {
   "cell_type": "code",
   "execution_count": 72,
   "metadata": {},
   "outputs": [
    {
     "data": {
      "text/html": [
       "<div>\n",
       "<style scoped>\n",
       "    .dataframe tbody tr th:only-of-type {\n",
       "        vertical-align: middle;\n",
       "    }\n",
       "\n",
       "    .dataframe tbody tr th {\n",
       "        vertical-align: top;\n",
       "    }\n",
       "\n",
       "    .dataframe thead th {\n",
       "        text-align: right;\n",
       "    }\n",
       "</style>\n",
       "<table border=\"1\" class=\"dataframe\">\n",
       "  <thead>\n",
       "    <tr style=\"text-align: right;\">\n",
       "      <th></th>\n",
       "      <th>results</th>\n",
       "    </tr>\n",
       "  </thead>\n",
       "  <tbody>\n",
       "    <tr>\n",
       "      <th>0</th>\n",
       "      <td>Daniel</td>\n",
       "    </tr>\n",
       "    <tr>\n",
       "      <th>1</th>\n",
       "      <td>Frozen 2</td>\n",
       "    </tr>\n",
       "  </tbody>\n",
       "</table>\n",
       "</div>"
      ],
      "text/plain": [
       "    results\n",
       "0    Daniel\n",
       "1  Frozen 2"
      ]
     },
     "execution_count": 72,
     "metadata": {},
     "output_type": "execute_result"
    }
   ],
   "source": [
    "df1 = Movie_Rating.groupby(['user_id'])['movie_id'].count().reset_index()\n",
    "df1.columns = ['user_id', 'cnt']\n",
    "df1.sort_values(by=['cnt','user_id'], ascending=[False, True],inplace=True)\n",
    "\n",
    "df2=Movie_Rating[(Movie_Rating['created_at']>='2020-02-01')&(Movie_Rating['created_at']<='2020-02-29')]\\\n",
    ".groupby(['movie_id'])['rating'].mean().reset_index()\n",
    "df2.columns=['movie_id','rate']\n",
    "df2.sort_values(by=['rate','movie_id'], ascending=[False, True],inplace=True)\n",
    "\n",
    "Users.columns =['user_id','results']\n",
    "Movies.columns = ['movie_id', 'results']\n",
    "test1 = df1.merge(Users, how='inner', on = 'user_id')\n",
    "\n",
    "test1.sort_values(by=['cnt','results'], ascending=[False, True],inplace=True)\n",
    "\n",
    "test2 = df2.merge(Movies, how='inner', on = 'movie_id')\n",
    "test2.sort_values(by=['rate','results'], ascending=[False, True],inplace=True)\n",
    "\n",
    "pd.DataFrame([test1.iloc[0]['results'],test2.iloc[0]['results']], columns=['results'])\n"
   ]
  },
  {
   "cell_type": "markdown",
   "metadata": {},
   "source": [
    "# 1729.Find Followers Count"
   ]
  },
  {
   "cell_type": "code",
   "execution_count": 78,
   "metadata": {},
   "outputs": [],
   "source": [
    "Followers=pd.DataFrame([[\"0\",\"1\"],[\"1\",\"0\"],[\"2\",\"0\"],[\"2\",\"1\"]], columns=['user_id','follower_id'])"
   ]
  },
  {
   "cell_type": "code",
   "execution_count": 79,
   "metadata": {},
   "outputs": [
    {
     "name": "stdout",
     "output_type": "stream",
     "text": [
      "  user_id  followers_count\n",
      "0       0                1\n",
      "1       1                1\n",
      "2       2                2\n"
     ]
    }
   ],
   "source": [
    "df1 = Followers.groupby(['user_id'])['follower_id'].nunique().reset_index(name='followers_count').sort_values(by='user_id', ascending=True)\n",
    "#df1.columns =['user_id','followers_count']\n",
    "#df1.sort_values(by='user_id', ascending=True)\n",
    "print(df1)"
   ]
  },
  {
   "cell_type": "markdown",
   "metadata": {},
   "source": [
    "# 1050. Actors and Directors Who Cooperated At Least Three Times"
   ]
  },
  {
   "cell_type": "code",
   "execution_count": 80,
   "metadata": {},
   "outputs": [],
   "source": [
    "ActorDirector = pd.DataFrame([[1,1,0],[1,1,1],[1,1,2],[1,2,3],[1,2,4],[2,1,5],[2,1,6]], columns =['actor_id','director_id','timestamp'])"
   ]
  },
  {
   "cell_type": "code",
   "execution_count": 90,
   "metadata": {},
   "outputs": [
    {
     "data": {
      "text/html": [
       "<div>\n",
       "<style scoped>\n",
       "    .dataframe tbody tr th:only-of-type {\n",
       "        vertical-align: middle;\n",
       "    }\n",
       "\n",
       "    .dataframe tbody tr th {\n",
       "        vertical-align: top;\n",
       "    }\n",
       "\n",
       "    .dataframe thead th {\n",
       "        text-align: right;\n",
       "    }\n",
       "</style>\n",
       "<table border=\"1\" class=\"dataframe\">\n",
       "  <thead>\n",
       "    <tr style=\"text-align: right;\">\n",
       "      <th></th>\n",
       "      <th>actor_id</th>\n",
       "      <th>director_id</th>\n",
       "    </tr>\n",
       "  </thead>\n",
       "  <tbody>\n",
       "    <tr>\n",
       "      <th>0</th>\n",
       "      <td>1</td>\n",
       "      <td>1</td>\n",
       "    </tr>\n",
       "  </tbody>\n",
       "</table>\n",
       "</div>"
      ],
      "text/plain": [
       "   actor_id  director_id\n",
       "0         1            1"
      ]
     },
     "execution_count": 90,
     "metadata": {},
     "output_type": "execute_result"
    }
   ],
   "source": [
    "# method 1\n",
    "ActorDirector.groupby(['actor_id','director_id'])['timestamp'].count().reset_index(name='cnt')\n",
    "df[df['cnt']>=3][['actor_id', 'director_id']]"
   ]
  },
  {
   "cell_type": "code",
   "execution_count": 91,
   "metadata": {},
   "outputs": [
    {
     "data": {
      "text/html": [
       "<div>\n",
       "<style scoped>\n",
       "    .dataframe tbody tr th:only-of-type {\n",
       "        vertical-align: middle;\n",
       "    }\n",
       "\n",
       "    .dataframe tbody tr th {\n",
       "        vertical-align: top;\n",
       "    }\n",
       "\n",
       "    .dataframe thead th {\n",
       "        text-align: right;\n",
       "    }\n",
       "</style>\n",
       "<table border=\"1\" class=\"dataframe\">\n",
       "  <thead>\n",
       "    <tr style=\"text-align: right;\">\n",
       "      <th></th>\n",
       "      <th>actor_id</th>\n",
       "      <th>director_id</th>\n",
       "    </tr>\n",
       "  </thead>\n",
       "  <tbody>\n",
       "    <tr>\n",
       "      <th>0</th>\n",
       "      <td>1</td>\n",
       "      <td>1</td>\n",
       "    </tr>\n",
       "  </tbody>\n",
       "</table>\n",
       "</div>"
      ],
      "text/plain": [
       "   actor_id  director_id\n",
       "0         1            1"
      ]
     },
     "execution_count": 91,
     "metadata": {},
     "output_type": "execute_result"
    }
   ],
   "source": [
    "# method2\n",
    "ActorDirector.groupby(['actor_id','director_id']).filter(lambda x: x['timestamp'].count()>=3)\\\n",
    "[['actor_id','director_id']].drop_duplicates()"
   ]
  },
  {
   "cell_type": "markdown",
   "metadata": {},
   "source": [
    "# 1075. Project Employees I"
   ]
  },
  {
   "cell_type": "code",
   "execution_count": 94,
   "metadata": {},
   "outputs": [],
   "source": [
    "Project=pd.DataFrame([[1,1],[1,2],[1,3],[2,1],[2,4]], columns=['project_id','employee_id'])\n",
    "Employee = pd.DataFrame([[1,\"Khaled\",3],[2,\"Ali\",2],[3,\"John\",1],[4,\"Doe\",2]], \\\n",
    "                        columns=['employee_id', 'name', 'experience_years'])"
   ]
  },
  {
   "cell_type": "code",
   "execution_count": 95,
   "metadata": {},
   "outputs": [
    {
     "data": {
      "text/html": [
       "<div>\n",
       "<style scoped>\n",
       "    .dataframe tbody tr th:only-of-type {\n",
       "        vertical-align: middle;\n",
       "    }\n",
       "\n",
       "    .dataframe tbody tr th {\n",
       "        vertical-align: top;\n",
       "    }\n",
       "\n",
       "    .dataframe thead th {\n",
       "        text-align: right;\n",
       "    }\n",
       "</style>\n",
       "<table border=\"1\" class=\"dataframe\">\n",
       "  <thead>\n",
       "    <tr style=\"text-align: right;\">\n",
       "      <th></th>\n",
       "      <th>project_id</th>\n",
       "      <th>average_years</th>\n",
       "    </tr>\n",
       "  </thead>\n",
       "  <tbody>\n",
       "    <tr>\n",
       "      <th>0</th>\n",
       "      <td>1</td>\n",
       "      <td>2.0</td>\n",
       "    </tr>\n",
       "    <tr>\n",
       "      <th>1</th>\n",
       "      <td>2</td>\n",
       "      <td>2.5</td>\n",
       "    </tr>\n",
       "  </tbody>\n",
       "</table>\n",
       "</div>"
      ],
      "text/plain": [
       "   project_id  average_years\n",
       "0           1            2.0\n",
       "1           2            2.5"
      ]
     },
     "execution_count": 95,
     "metadata": {},
     "output_type": "execute_result"
    }
   ],
   "source": [
    "# option 1\n",
    "df = Employee.merge(Project, how='left', on='employee_id')\n",
    "df.groupby(['project_id'])['experience_years'].mean().reset_index(name='average_years').round(2)"
   ]
  },
  {
   "cell_type": "code",
   "execution_count": 97,
   "metadata": {},
   "outputs": [
    {
     "data": {
      "text/html": [
       "<div>\n",
       "<style scoped>\n",
       "    .dataframe tbody tr th:only-of-type {\n",
       "        vertical-align: middle;\n",
       "    }\n",
       "\n",
       "    .dataframe tbody tr th {\n",
       "        vertical-align: top;\n",
       "    }\n",
       "\n",
       "    .dataframe thead th {\n",
       "        text-align: right;\n",
       "    }\n",
       "</style>\n",
       "<table border=\"1\" class=\"dataframe\">\n",
       "  <thead>\n",
       "    <tr style=\"text-align: right;\">\n",
       "      <th></th>\n",
       "      <th>project_id</th>\n",
       "      <th>average_years</th>\n",
       "    </tr>\n",
       "  </thead>\n",
       "  <tbody>\n",
       "    <tr>\n",
       "      <th>0</th>\n",
       "      <td>1</td>\n",
       "      <td>2.0</td>\n",
       "    </tr>\n",
       "    <tr>\n",
       "      <th>1</th>\n",
       "      <td>2</td>\n",
       "      <td>2.5</td>\n",
       "    </tr>\n",
       "  </tbody>\n",
       "</table>\n",
       "</div>"
      ],
      "text/plain": [
       "   project_id  average_years\n",
       "0           1            2.0\n",
       "1           2            2.5"
      ]
     },
     "execution_count": 97,
     "metadata": {},
     "output_type": "execute_result"
    }
   ],
   "source": [
    "# option 2\n",
    "Employee.merge(Project, how='left', on='employee_id').groupby(['project_id']) \\\n",
    "['experience_years'].mean().reset_index(name='average_years').round(2)"
   ]
  },
  {
   "cell_type": "markdown",
   "metadata": {},
   "source": [
    "# 1076. Project Employees II"
   ]
  },
  {
   "cell_type": "code",
   "execution_count": 112,
   "metadata": {},
   "outputs": [
    {
     "data": {
      "text/plain": [
       "1"
      ]
     },
     "execution_count": 112,
     "metadata": {},
     "output_type": "execute_result"
    }
   ],
   "source": [
    "Employee.merge(Project, how='left', on='employee_id').groupby(['project_id']) \\\n",
    "['employee_id'].count().reset_index(name='cnt').idxmax()['project_id']"
   ]
  },
  {
   "cell_type": "markdown",
   "metadata": {},
   "source": [
    "# 1077. Project Employees III"
   ]
  },
  {
   "cell_type": "code",
   "execution_count": 127,
   "metadata": {},
   "outputs": [],
   "source": [
    "Project=pd.DataFrame([[1,1],[1,2],[1,3],[2,1],[2,4]], columns=['project_id','employee_id'])\n",
    "Employee = pd.DataFrame([[1,\"Khaled\",3],[2,\"Ali\",2],[3,\"John\",3],[4,\"Doe\",2]], \\\n",
    "                        columns=['employee_id', 'name', 'experience_years'])"
   ]
  },
  {
   "cell_type": "code",
   "execution_count": 128,
   "metadata": {},
   "outputs": [
    {
     "data": {
      "text/html": [
       "<div>\n",
       "<style scoped>\n",
       "    .dataframe tbody tr th:only-of-type {\n",
       "        vertical-align: middle;\n",
       "    }\n",
       "\n",
       "    .dataframe tbody tr th {\n",
       "        vertical-align: top;\n",
       "    }\n",
       "\n",
       "    .dataframe thead th {\n",
       "        text-align: right;\n",
       "    }\n",
       "</style>\n",
       "<table border=\"1\" class=\"dataframe\">\n",
       "  <thead>\n",
       "    <tr style=\"text-align: right;\">\n",
       "      <th></th>\n",
       "      <th>project_id</th>\n",
       "      <th>employee_id</th>\n",
       "    </tr>\n",
       "  </thead>\n",
       "  <tbody>\n",
       "    <tr>\n",
       "      <th>0</th>\n",
       "      <td>1</td>\n",
       "      <td>1</td>\n",
       "    </tr>\n",
       "    <tr>\n",
       "      <th>1</th>\n",
       "      <td>2</td>\n",
       "      <td>1</td>\n",
       "    </tr>\n",
       "    <tr>\n",
       "      <th>3</th>\n",
       "      <td>1</td>\n",
       "      <td>3</td>\n",
       "    </tr>\n",
       "  </tbody>\n",
       "</table>\n",
       "</div>"
      ],
      "text/plain": [
       "   project_id  employee_id\n",
       "0           1            1\n",
       "1           2            1\n",
       "3           1            3"
      ]
     },
     "execution_count": 128,
     "metadata": {},
     "output_type": "execute_result"
    }
   ],
   "source": [
    "df = Employee.merge(Project, how='inner', on='employee_id')\n",
    "df['rank']= df.groupby(['project_id'])['experience_years'].\\\n",
    "rank(method='dense', ascending=False)\n",
    "df[df['rank']==1][['project_id', 'employee_id']]"
   ]
  },
  {
   "cell_type": "markdown",
   "metadata": {},
   "source": [
    "# 579. Find Cumulative Salary of an Employee"
   ]
  },
  {
   "cell_type": "code",
   "execution_count": 129,
   "metadata": {},
   "outputs": [],
   "source": [
    "Employee=pd.DataFrame([[1,1,20],[2,1,20],[1,2,30],[2,2,30],[3,2,40],[1,3,40],[3,3,60],[1,4,60],[3,4,70]], \\\n",
    "                      columns=['Id','Month','Salary'])"
   ]
  },
  {
   "cell_type": "code",
   "execution_count": 195,
   "metadata": {},
   "outputs": [
    {
     "data": {
      "text/html": [
       "<div>\n",
       "<style scoped>\n",
       "    .dataframe tbody tr th:only-of-type {\n",
       "        vertical-align: middle;\n",
       "    }\n",
       "\n",
       "    .dataframe tbody tr th {\n",
       "        vertical-align: top;\n",
       "    }\n",
       "\n",
       "    .dataframe thead th {\n",
       "        text-align: right;\n",
       "    }\n",
       "</style>\n",
       "<table border=\"1\" class=\"dataframe\">\n",
       "  <thead>\n",
       "    <tr style=\"text-align: right;\">\n",
       "      <th></th>\n",
       "      <th>Id</th>\n",
       "      <th>Month</th>\n",
       "      <th>Cum</th>\n",
       "    </tr>\n",
       "  </thead>\n",
       "  <tbody>\n",
       "    <tr>\n",
       "      <th>5</th>\n",
       "      <td>1</td>\n",
       "      <td>3</td>\n",
       "      <td>90.0</td>\n",
       "    </tr>\n",
       "    <tr>\n",
       "      <th>2</th>\n",
       "      <td>1</td>\n",
       "      <td>2</td>\n",
       "      <td>50.0</td>\n",
       "    </tr>\n",
       "    <tr>\n",
       "      <th>0</th>\n",
       "      <td>1</td>\n",
       "      <td>1</td>\n",
       "      <td>20.0</td>\n",
       "    </tr>\n",
       "    <tr>\n",
       "      <th>1</th>\n",
       "      <td>2</td>\n",
       "      <td>1</td>\n",
       "      <td>20.0</td>\n",
       "    </tr>\n",
       "    <tr>\n",
       "      <th>6</th>\n",
       "      <td>3</td>\n",
       "      <td>3</td>\n",
       "      <td>100.0</td>\n",
       "    </tr>\n",
       "    <tr>\n",
       "      <th>4</th>\n",
       "      <td>3</td>\n",
       "      <td>2</td>\n",
       "      <td>40.0</td>\n",
       "    </tr>\n",
       "  </tbody>\n",
       "</table>\n",
       "</div>"
      ],
      "text/plain": [
       "   Id  Month    Cum\n",
       "5   1      3   90.0\n",
       "2   1      2   50.0\n",
       "0   1      1   20.0\n",
       "1   2      1   20.0\n",
       "6   3      3  100.0\n",
       "4   3      2   40.0"
      ]
     },
     "execution_count": 195,
     "metadata": {},
     "output_type": "execute_result"
    }
   ],
   "source": [
    "Employee['rank']=Employee.groupby('Id')['Month'].rank('dense', ascending=False)\n",
    "df = Employee[Employee['rank']>1].sort_values(by=['Id','Month'],ascending=[True,True])\n",
    "cum = df.groupby('Id').rolling(window=3,min_periods=1)['Salary'].sum().reset_index()['Salary']\n",
    "df['Cum']=list(cum)\n",
    "df[['Id','Month', \"Cum\"]].sort_values(by=['Id','Month'], ascending=[True, False])"
   ]
  },
  {
   "cell_type": "markdown",
   "metadata": {},
   "source": [
    "# 1715. Count Apples and Oranges"
   ]
  },
  {
   "cell_type": "markdown",
   "metadata": {},
   "source": [
    "## 2021-07-19"
   ]
  },
  {
   "cell_type": "code",
   "execution_count": 201,
   "metadata": {},
   "outputs": [],
   "source": [
    "Boxes = pd.DataFrame([[2,\" \",6,15],[18,14,4,15],[19,3,8,4],[12,2,19,20],[20,6,12,9],[8,6,9,9],[3,14,16,7]],\\\n",
    "                     columns = ['box_id','chest_id','apple_count','orange_count'])\n",
    "\n",
    "Chests = pd.DataFrame([[6,5,6],[14,20,10],[2,8,8],[3,19,4],[16,19,19]],\\\n",
    "                      columns=['chest_id','apple_count','orange_count'])"
   ]
  },
  {
   "cell_type": "code",
   "execution_count": 203,
   "metadata": {},
   "outputs": [
    {
     "data": {
      "text/plain": [
       "apple_count1     151.0\n",
       "orange_count1    123.0\n",
       "dtype: float64"
      ]
     },
     "execution_count": 203,
     "metadata": {},
     "output_type": "execute_result"
    }
   ],
   "source": [
    "Chests.columns =['chest_id','apple','orange']\n",
    "df = Boxes.merge(Chests, on='chest_id',how='left')\n",
    "df['apple']=df['apple'].fillna(0)\n",
    "df['orange'] = df['orange'].fillna(0)\n",
    "\n",
    "df['orange_count1']=df['orange']+df['orange_count']\n",
    "df['apple_count1']=df['apple']+df['apple_count']\n",
    "\n",
    "df[['apple_count1','orange_count1']].sum(axis=0)"
   ]
  },
  {
   "cell_type": "markdown",
   "metadata": {},
   "source": [
    "# 1661. Average Time of Process per Machine"
   ]
  },
  {
   "cell_type": "code",
   "execution_count": 204,
   "metadata": {},
   "outputs": [],
   "source": [
    "Activity=pd.DataFrame([[0,0,\"start\",0.712],[0,0,\"end\",1.52],\\\n",
    "[0,1,\"start\",3.14],[0,1,\"end\",4.12],[1,0,\"start\",0.55],[1,0,\"end\",1.55],[1,1,\"start\",0.43],\\\n",
    "[1,1,\"end\",1.42],[2,0,\"start\",4.1],[2,0,\"end\",4.512],[2,1,\"start\",2.5],[2,1,\"end\",5]],\\\n",
    "                     columns=['machine_id','process_id','activity_type','timestamp'])"
   ]
  },
  {
   "cell_type": "code",
   "execution_count": 207,
   "metadata": {},
   "outputs": [
    {
     "data": {
      "text/html": [
       "<div>\n",
       "<style scoped>\n",
       "    .dataframe tbody tr th:only-of-type {\n",
       "        vertical-align: middle;\n",
       "    }\n",
       "\n",
       "    .dataframe tbody tr th {\n",
       "        vertical-align: top;\n",
       "    }\n",
       "\n",
       "    .dataframe thead th {\n",
       "        text-align: right;\n",
       "    }\n",
       "</style>\n",
       "<table border=\"1\" class=\"dataframe\">\n",
       "  <thead>\n",
       "    <tr style=\"text-align: right;\">\n",
       "      <th></th>\n",
       "      <th>machine_id</th>\n",
       "      <th>processing_time</th>\n",
       "    </tr>\n",
       "  </thead>\n",
       "  <tbody>\n",
       "    <tr>\n",
       "      <th>0</th>\n",
       "      <td>0</td>\n",
       "      <td>0.894</td>\n",
       "    </tr>\n",
       "    <tr>\n",
       "      <th>1</th>\n",
       "      <td>1</td>\n",
       "      <td>0.995</td>\n",
       "    </tr>\n",
       "    <tr>\n",
       "      <th>2</th>\n",
       "      <td>2</td>\n",
       "      <td>1.456</td>\n",
       "    </tr>\n",
       "  </tbody>\n",
       "</table>\n",
       "</div>"
      ],
      "text/plain": [
       "   machine_id  processing_time\n",
       "0           0            0.894\n",
       "1           1            0.995\n",
       "2           2            1.456"
      ]
     },
     "execution_count": 207,
     "metadata": {},
     "output_type": "execute_result"
    }
   ],
   "source": [
    "df = Activity[Activity['activity_type']=='start'].merge(Activity[Activity['activity_type']=='end'],how='inner',\\\n",
    "                                                   on=['machine_id','process_id'])\n",
    "\n",
    "df['dif'] = df['timestamp_y']-df['timestamp_x']\n",
    "\n",
    "df.groupby(['machine_id'])['dif'].mean().reset_index(name='processing_time').round(3)"
   ]
  },
  {
   "cell_type": "code",
   "execution_count": 206,
   "metadata": {},
   "outputs": [
    {
     "data": {
      "text/html": [
       "<div>\n",
       "<style scoped>\n",
       "    .dataframe tbody tr th:only-of-type {\n",
       "        vertical-align: middle;\n",
       "    }\n",
       "\n",
       "    .dataframe tbody tr th {\n",
       "        vertical-align: top;\n",
       "    }\n",
       "\n",
       "    .dataframe thead th {\n",
       "        text-align: right;\n",
       "    }\n",
       "</style>\n",
       "<table border=\"1\" class=\"dataframe\">\n",
       "  <thead>\n",
       "    <tr style=\"text-align: right;\">\n",
       "      <th></th>\n",
       "      <th>machine_id</th>\n",
       "      <th>process_id</th>\n",
       "      <th>activity_type_x</th>\n",
       "      <th>timestamp_x</th>\n",
       "      <th>activity_type_y</th>\n",
       "      <th>timestamp_y</th>\n",
       "    </tr>\n",
       "  </thead>\n",
       "  <tbody>\n",
       "    <tr>\n",
       "      <th>0</th>\n",
       "      <td>0</td>\n",
       "      <td>0</td>\n",
       "      <td>start</td>\n",
       "      <td>0.712</td>\n",
       "      <td>end</td>\n",
       "      <td>1.520</td>\n",
       "    </tr>\n",
       "    <tr>\n",
       "      <th>1</th>\n",
       "      <td>0</td>\n",
       "      <td>1</td>\n",
       "      <td>start</td>\n",
       "      <td>3.140</td>\n",
       "      <td>end</td>\n",
       "      <td>4.120</td>\n",
       "    </tr>\n",
       "    <tr>\n",
       "      <th>2</th>\n",
       "      <td>1</td>\n",
       "      <td>0</td>\n",
       "      <td>start</td>\n",
       "      <td>0.550</td>\n",
       "      <td>end</td>\n",
       "      <td>1.550</td>\n",
       "    </tr>\n",
       "    <tr>\n",
       "      <th>3</th>\n",
       "      <td>1</td>\n",
       "      <td>1</td>\n",
       "      <td>start</td>\n",
       "      <td>0.430</td>\n",
       "      <td>end</td>\n",
       "      <td>1.420</td>\n",
       "    </tr>\n",
       "    <tr>\n",
       "      <th>4</th>\n",
       "      <td>2</td>\n",
       "      <td>0</td>\n",
       "      <td>start</td>\n",
       "      <td>4.100</td>\n",
       "      <td>end</td>\n",
       "      <td>4.512</td>\n",
       "    </tr>\n",
       "    <tr>\n",
       "      <th>5</th>\n",
       "      <td>2</td>\n",
       "      <td>1</td>\n",
       "      <td>start</td>\n",
       "      <td>2.500</td>\n",
       "      <td>end</td>\n",
       "      <td>5.000</td>\n",
       "    </tr>\n",
       "  </tbody>\n",
       "</table>\n",
       "</div>"
      ],
      "text/plain": [
       "   machine_id  process_id activity_type_x  timestamp_x activity_type_y  \\\n",
       "0           0           0           start        0.712             end   \n",
       "1           0           1           start        3.140             end   \n",
       "2           1           0           start        0.550             end   \n",
       "3           1           1           start        0.430             end   \n",
       "4           2           0           start        4.100             end   \n",
       "5           2           1           start        2.500             end   \n",
       "\n",
       "   timestamp_y  \n",
       "0        1.520  \n",
       "1        4.120  \n",
       "2        1.550  \n",
       "3        1.420  \n",
       "4        4.512  \n",
       "5        5.000  "
      ]
     },
     "execution_count": 206,
     "metadata": {},
     "output_type": "execute_result"
    }
   ],
   "source": [
    "df"
   ]
  },
  {
   "cell_type": "markdown",
   "metadata": {},
   "source": [
    "# 1607. Sellers With No Sales"
   ]
  },
  {
   "cell_type": "code",
   "execution_count": 209,
   "metadata": {},
   "outputs": [],
   "source": [
    "Orders = pd.DataFrame([[1, \"2020-03-01\", 1500, 101, 1], [2, \"2020-05-25\", 2400, 102, 2],\\\n",
    "                       [3, \"2019-05-25\", 800, 101, 3], [4, \"2020-09-13\", 1000, 103, 2],\\\n",
    " [5, \"2019-02-11\", 700, 101, 2]], columns =['order_id', 'sale_date','order_cost', 'customer_id','seller_id'])\n",
    "\n",
    "\n",
    "Seller = pd.DataFrame([[1, \"Daniel\"], [2, \"Elizabeth\"], [3, \"Frank\"]], columns=['seller_id','seller_name'])"
   ]
  },
  {
   "cell_type": "code",
   "execution_count": 211,
   "metadata": {},
   "outputs": [
    {
     "name": "stdout",
     "output_type": "stream",
     "text": [
      "<class 'pandas.core.frame.DataFrame'>\n",
      "RangeIndex: 5 entries, 0 to 4\n",
      "Data columns (total 5 columns):\n",
      "order_id       5 non-null int64\n",
      "sale_date      5 non-null object\n",
      "order_cost     5 non-null int64\n",
      "customer_id    5 non-null int64\n",
      "seller_id      5 non-null int64\n",
      "dtypes: int64(4), object(1)\n",
      "memory usage: 328.0+ bytes\n"
     ]
    }
   ],
   "source": [
    "Orders.info()"
   ]
  },
  {
   "cell_type": "code",
   "execution_count": 212,
   "metadata": {},
   "outputs": [],
   "source": [
    "Orders['sale_date'] = pd.to_datetime(Orders['sale_date'])"
   ]
  },
  {
   "cell_type": "code",
   "execution_count": 214,
   "metadata": {},
   "outputs": [
    {
     "data": {
      "text/plain": [
       "0    Frank\n",
       "dtype: object"
      ]
     },
     "execution_count": 214,
     "metadata": {},
     "output_type": "execute_result"
    }
   ],
   "source": [
    "pd.Series(Seller[~Seller['seller_id'].isin(list(Orders[Orders['sale_date'].dt.year==2020]['seller_id']))]\\\n",
    "['seller_name'].unique()).sort_values()"
   ]
  },
  {
   "cell_type": "markdown",
   "metadata": {},
   "source": [
    "# 1581. Customer Who Visited but Did Not Make Any Transactions"
   ]
  },
  {
   "cell_type": "code",
   "execution_count": 224,
   "metadata": {},
   "outputs": [],
   "source": [
    "Visits = pd.DataFrame([[1,23],[2,9],[4,30],[5,54],[6,96],[7,54],[8,54]], columns =['visit_id','customer_id'])\n",
    "Transactions = pd.DataFrame([[2,5,310],[3,5,300],[9,5,200],[12,1,910],[13,2,970]],\\\n",
    "                           columns =['transaction_id','visit_id','amount'])"
   ]
  },
  {
   "cell_type": "code",
   "execution_count": 228,
   "metadata": {},
   "outputs": [
    {
     "data": {
      "text/html": [
       "<div>\n",
       "<style scoped>\n",
       "    .dataframe tbody tr th:only-of-type {\n",
       "        vertical-align: middle;\n",
       "    }\n",
       "\n",
       "    .dataframe tbody tr th {\n",
       "        vertical-align: top;\n",
       "    }\n",
       "\n",
       "    .dataframe thead th {\n",
       "        text-align: right;\n",
       "    }\n",
       "</style>\n",
       "<table border=\"1\" class=\"dataframe\">\n",
       "  <thead>\n",
       "    <tr style=\"text-align: right;\">\n",
       "      <th></th>\n",
       "      <th>visit_id</th>\n",
       "      <th>customer_id</th>\n",
       "      <th>transaction_id</th>\n",
       "      <th>amount</th>\n",
       "    </tr>\n",
       "  </thead>\n",
       "  <tbody>\n",
       "    <tr>\n",
       "      <th>0</th>\n",
       "      <td>1</td>\n",
       "      <td>23</td>\n",
       "      <td>12.0</td>\n",
       "      <td>910.0</td>\n",
       "    </tr>\n",
       "    <tr>\n",
       "      <th>1</th>\n",
       "      <td>2</td>\n",
       "      <td>9</td>\n",
       "      <td>13.0</td>\n",
       "      <td>970.0</td>\n",
       "    </tr>\n",
       "    <tr>\n",
       "      <th>2</th>\n",
       "      <td>4</td>\n",
       "      <td>30</td>\n",
       "      <td>NaN</td>\n",
       "      <td>NaN</td>\n",
       "    </tr>\n",
       "    <tr>\n",
       "      <th>3</th>\n",
       "      <td>5</td>\n",
       "      <td>54</td>\n",
       "      <td>2.0</td>\n",
       "      <td>310.0</td>\n",
       "    </tr>\n",
       "    <tr>\n",
       "      <th>4</th>\n",
       "      <td>5</td>\n",
       "      <td>54</td>\n",
       "      <td>3.0</td>\n",
       "      <td>300.0</td>\n",
       "    </tr>\n",
       "    <tr>\n",
       "      <th>5</th>\n",
       "      <td>5</td>\n",
       "      <td>54</td>\n",
       "      <td>9.0</td>\n",
       "      <td>200.0</td>\n",
       "    </tr>\n",
       "    <tr>\n",
       "      <th>6</th>\n",
       "      <td>6</td>\n",
       "      <td>96</td>\n",
       "      <td>NaN</td>\n",
       "      <td>NaN</td>\n",
       "    </tr>\n",
       "    <tr>\n",
       "      <th>7</th>\n",
       "      <td>7</td>\n",
       "      <td>54</td>\n",
       "      <td>NaN</td>\n",
       "      <td>NaN</td>\n",
       "    </tr>\n",
       "    <tr>\n",
       "      <th>8</th>\n",
       "      <td>8</td>\n",
       "      <td>54</td>\n",
       "      <td>NaN</td>\n",
       "      <td>NaN</td>\n",
       "    </tr>\n",
       "  </tbody>\n",
       "</table>\n",
       "</div>"
      ],
      "text/plain": [
       "   visit_id  customer_id  transaction_id  amount\n",
       "0         1           23            12.0   910.0\n",
       "1         2            9            13.0   970.0\n",
       "2         4           30             NaN     NaN\n",
       "3         5           54             2.0   310.0\n",
       "4         5           54             3.0   300.0\n",
       "5         5           54             9.0   200.0\n",
       "6         6           96             NaN     NaN\n",
       "7         7           54             NaN     NaN\n",
       "8         8           54             NaN     NaN"
      ]
     },
     "execution_count": 228,
     "metadata": {},
     "output_type": "execute_result"
    }
   ],
   "source": [
    "df = Visits.merge(Transactions, how = 'left', on='visit_id')\n",
    "df"
   ]
  },
  {
   "cell_type": "code",
   "execution_count": 232,
   "metadata": {},
   "outputs": [
    {
     "data": {
      "text/html": [
       "<div>\n",
       "<style scoped>\n",
       "    .dataframe tbody tr th:only-of-type {\n",
       "        vertical-align: middle;\n",
       "    }\n",
       "\n",
       "    .dataframe tbody tr th {\n",
       "        vertical-align: top;\n",
       "    }\n",
       "\n",
       "    .dataframe thead th {\n",
       "        text-align: right;\n",
       "    }\n",
       "</style>\n",
       "<table border=\"1\" class=\"dataframe\">\n",
       "  <thead>\n",
       "    <tr style=\"text-align: right;\">\n",
       "      <th></th>\n",
       "      <th>customer_id</th>\n",
       "      <th>count_no_trans</th>\n",
       "    </tr>\n",
       "  </thead>\n",
       "  <tbody>\n",
       "    <tr>\n",
       "      <th>0</th>\n",
       "      <td>30</td>\n",
       "      <td>1</td>\n",
       "    </tr>\n",
       "    <tr>\n",
       "      <th>1</th>\n",
       "      <td>54</td>\n",
       "      <td>2</td>\n",
       "    </tr>\n",
       "    <tr>\n",
       "      <th>2</th>\n",
       "      <td>96</td>\n",
       "      <td>1</td>\n",
       "    </tr>\n",
       "  </tbody>\n",
       "</table>\n",
       "</div>"
      ],
      "text/plain": [
       "   customer_id  count_no_trans\n",
       "0           30               1\n",
       "1           54               2\n",
       "2           96               1"
      ]
     },
     "execution_count": 232,
     "metadata": {},
     "output_type": "execute_result"
    }
   ],
   "source": [
    "df = pd.DataFrame(Visits.merge(Transactions, how = 'left', on='visit_id'))\n",
    "df1 = df[df['transaction_id'].isnull()==True]             \n",
    "df1.groupby('customer_id')['visit_id'].count().reset_index(name='count_no_trans').sort_values(by='customer_id')"
   ]
  },
  {
   "cell_type": "markdown",
   "metadata": {},
   "source": [
    "# 1532. The Most Recent Three Orders"
   ]
  },
  {
   "cell_type": "code",
   "execution_count": 233,
   "metadata": {},
   "outputs": [],
   "source": [
    "Customers = pd.DataFrame([[1,\"Winston\"],[2,\"Jonathan\"],[3,\"Annabelle\"],[4,\"Marwan\"],[5,\"Khaled\"]],\\\n",
    "                        columns =['customer_id','name'])\n",
    "\n",
    "Orders = pd.DataFrame([[1,\"2020-07-31\",1,30],[2,\"2020-7-30\",2,40],[3,\"2020-07-31\",3,70],\\\n",
    "                       [4,\"2020-07-29\",4,100],[5,\"2020-06-10\",1,1010],[6,\"2020-08-01\",2,102],\\\n",
    "[7,\"2020-08-01\",3,111],[8,\"2020-08-03\",1,99],[9,\"2020-08-07\",2,32],[10,\"2020-07-15\",1,2]],\\\n",
    "                    columns = ['order_id','order_date','customer_id','cost'] )"
   ]
  },
  {
   "cell_type": "code",
   "execution_count": 239,
   "metadata": {},
   "outputs": [],
   "source": [
    "Orders['order_date']=pd.to_datetime(Orders['order_date'])"
   ]
  },
  {
   "cell_type": "code",
   "execution_count": 241,
   "metadata": {},
   "outputs": [
    {
     "name": "stdout",
     "output_type": "stream",
     "text": [
      "<class 'pandas.core.frame.DataFrame'>\n",
      "RangeIndex: 10 entries, 0 to 9\n",
      "Data columns (total 4 columns):\n",
      "order_id       10 non-null int64\n",
      "order_date     10 non-null datetime64[ns]\n",
      "customer_id    10 non-null int64\n",
      "cost           10 non-null int64\n",
      "dtypes: datetime64[ns](1), int64(3)\n",
      "memory usage: 448.0 bytes\n"
     ]
    }
   ],
   "source": [
    "Orders.info()"
   ]
  },
  {
   "cell_type": "code",
   "execution_count": 246,
   "metadata": {},
   "outputs": [
    {
     "data": {
      "text/html": [
       "<div>\n",
       "<style scoped>\n",
       "    .dataframe tbody tr th:only-of-type {\n",
       "        vertical-align: middle;\n",
       "    }\n",
       "\n",
       "    .dataframe tbody tr th {\n",
       "        vertical-align: top;\n",
       "    }\n",
       "\n",
       "    .dataframe thead th {\n",
       "        text-align: right;\n",
       "    }\n",
       "</style>\n",
       "<table border=\"1\" class=\"dataframe\">\n",
       "  <thead>\n",
       "    <tr style=\"text-align: right;\">\n",
       "      <th></th>\n",
       "      <th>order_id</th>\n",
       "      <th>order_date</th>\n",
       "      <th>customer_id</th>\n",
       "      <th>cost</th>\n",
       "      <th>name</th>\n",
       "      <th>rnk</th>\n",
       "    </tr>\n",
       "  </thead>\n",
       "  <tbody>\n",
       "    <tr>\n",
       "      <th>0</th>\n",
       "      <td>1</td>\n",
       "      <td>2020-07-31</td>\n",
       "      <td>1</td>\n",
       "      <td>30</td>\n",
       "      <td>Winston</td>\n",
       "      <td>3.0</td>\n",
       "    </tr>\n",
       "    <tr>\n",
       "      <th>1</th>\n",
       "      <td>2</td>\n",
       "      <td>2020-07-30</td>\n",
       "      <td>2</td>\n",
       "      <td>40</td>\n",
       "      <td>Jonathan</td>\n",
       "      <td>1.0</td>\n",
       "    </tr>\n",
       "    <tr>\n",
       "      <th>2</th>\n",
       "      <td>3</td>\n",
       "      <td>2020-07-31</td>\n",
       "      <td>3</td>\n",
       "      <td>70</td>\n",
       "      <td>Annabelle</td>\n",
       "      <td>1.0</td>\n",
       "    </tr>\n",
       "    <tr>\n",
       "      <th>3</th>\n",
       "      <td>4</td>\n",
       "      <td>2020-07-29</td>\n",
       "      <td>4</td>\n",
       "      <td>100</td>\n",
       "      <td>Marwan</td>\n",
       "      <td>1.0</td>\n",
       "    </tr>\n",
       "    <tr>\n",
       "      <th>4</th>\n",
       "      <td>5</td>\n",
       "      <td>2020-06-10</td>\n",
       "      <td>1</td>\n",
       "      <td>1010</td>\n",
       "      <td>Winston</td>\n",
       "      <td>1.0</td>\n",
       "    </tr>\n",
       "    <tr>\n",
       "      <th>5</th>\n",
       "      <td>6</td>\n",
       "      <td>2020-08-01</td>\n",
       "      <td>2</td>\n",
       "      <td>102</td>\n",
       "      <td>Jonathan</td>\n",
       "      <td>2.0</td>\n",
       "    </tr>\n",
       "    <tr>\n",
       "      <th>6</th>\n",
       "      <td>7</td>\n",
       "      <td>2020-08-01</td>\n",
       "      <td>3</td>\n",
       "      <td>111</td>\n",
       "      <td>Annabelle</td>\n",
       "      <td>2.0</td>\n",
       "    </tr>\n",
       "    <tr>\n",
       "      <th>7</th>\n",
       "      <td>8</td>\n",
       "      <td>2020-08-03</td>\n",
       "      <td>1</td>\n",
       "      <td>99</td>\n",
       "      <td>Winston</td>\n",
       "      <td>4.0</td>\n",
       "    </tr>\n",
       "    <tr>\n",
       "      <th>8</th>\n",
       "      <td>9</td>\n",
       "      <td>2020-08-07</td>\n",
       "      <td>2</td>\n",
       "      <td>32</td>\n",
       "      <td>Jonathan</td>\n",
       "      <td>3.0</td>\n",
       "    </tr>\n",
       "    <tr>\n",
       "      <th>9</th>\n",
       "      <td>10</td>\n",
       "      <td>2020-07-15</td>\n",
       "      <td>1</td>\n",
       "      <td>2</td>\n",
       "      <td>Winston</td>\n",
       "      <td>2.0</td>\n",
       "    </tr>\n",
       "  </tbody>\n",
       "</table>\n",
       "</div>"
      ],
      "text/plain": [
       "   order_id order_date  customer_id  cost       name  rnk\n",
       "0         1 2020-07-31            1    30    Winston  3.0\n",
       "1         2 2020-07-30            2    40   Jonathan  1.0\n",
       "2         3 2020-07-31            3    70  Annabelle  1.0\n",
       "3         4 2020-07-29            4   100     Marwan  1.0\n",
       "4         5 2020-06-10            1  1010    Winston  1.0\n",
       "5         6 2020-08-01            2   102   Jonathan  2.0\n",
       "6         7 2020-08-01            3   111  Annabelle  2.0\n",
       "7         8 2020-08-03            1    99    Winston  4.0\n",
       "8         9 2020-08-07            2    32   Jonathan  3.0\n",
       "9        10 2020-07-15            1     2    Winston  2.0"
      ]
     },
     "execution_count": 246,
     "metadata": {},
     "output_type": "execute_result"
    }
   ],
   "source": [
    "df"
   ]
  },
  {
   "cell_type": "code",
   "execution_count": 248,
   "metadata": {},
   "outputs": [
    {
     "data": {
      "text/html": [
       "<div>\n",
       "<style scoped>\n",
       "    .dataframe tbody tr th:only-of-type {\n",
       "        vertical-align: middle;\n",
       "    }\n",
       "\n",
       "    .dataframe tbody tr th {\n",
       "        vertical-align: top;\n",
       "    }\n",
       "\n",
       "    .dataframe thead th {\n",
       "        text-align: right;\n",
       "    }\n",
       "</style>\n",
       "<table border=\"1\" class=\"dataframe\">\n",
       "  <thead>\n",
       "    <tr style=\"text-align: right;\">\n",
       "      <th></th>\n",
       "      <th>name</th>\n",
       "      <th>customer_id</th>\n",
       "      <th>order_id</th>\n",
       "      <th>order_date</th>\n",
       "    </tr>\n",
       "  </thead>\n",
       "  <tbody>\n",
       "    <tr>\n",
       "      <th>6</th>\n",
       "      <td>Annabelle</td>\n",
       "      <td>3</td>\n",
       "      <td>7</td>\n",
       "      <td>2020-08-01</td>\n",
       "    </tr>\n",
       "    <tr>\n",
       "      <th>2</th>\n",
       "      <td>Annabelle</td>\n",
       "      <td>3</td>\n",
       "      <td>3</td>\n",
       "      <td>2020-07-31</td>\n",
       "    </tr>\n",
       "    <tr>\n",
       "      <th>8</th>\n",
       "      <td>Jonathan</td>\n",
       "      <td>2</td>\n",
       "      <td>9</td>\n",
       "      <td>2020-08-07</td>\n",
       "    </tr>\n",
       "    <tr>\n",
       "      <th>5</th>\n",
       "      <td>Jonathan</td>\n",
       "      <td>2</td>\n",
       "      <td>6</td>\n",
       "      <td>2020-08-01</td>\n",
       "    </tr>\n",
       "    <tr>\n",
       "      <th>1</th>\n",
       "      <td>Jonathan</td>\n",
       "      <td>2</td>\n",
       "      <td>2</td>\n",
       "      <td>2020-07-30</td>\n",
       "    </tr>\n",
       "    <tr>\n",
       "      <th>3</th>\n",
       "      <td>Marwan</td>\n",
       "      <td>4</td>\n",
       "      <td>4</td>\n",
       "      <td>2020-07-29</td>\n",
       "    </tr>\n",
       "    <tr>\n",
       "      <th>7</th>\n",
       "      <td>Winston</td>\n",
       "      <td>1</td>\n",
       "      <td>8</td>\n",
       "      <td>2020-08-03</td>\n",
       "    </tr>\n",
       "    <tr>\n",
       "      <th>0</th>\n",
       "      <td>Winston</td>\n",
       "      <td>1</td>\n",
       "      <td>1</td>\n",
       "      <td>2020-07-31</td>\n",
       "    </tr>\n",
       "    <tr>\n",
       "      <th>9</th>\n",
       "      <td>Winston</td>\n",
       "      <td>1</td>\n",
       "      <td>10</td>\n",
       "      <td>2020-07-15</td>\n",
       "    </tr>\n",
       "  </tbody>\n",
       "</table>\n",
       "</div>"
      ],
      "text/plain": [
       "        name  customer_id  order_id order_date\n",
       "6  Annabelle            3         7 2020-08-01\n",
       "2  Annabelle            3         3 2020-07-31\n",
       "8   Jonathan            2         9 2020-08-07\n",
       "5   Jonathan            2         6 2020-08-01\n",
       "1   Jonathan            2         2 2020-07-30\n",
       "3     Marwan            4         4 2020-07-29\n",
       "7    Winston            1         8 2020-08-03\n",
       "0    Winston            1         1 2020-07-31\n",
       "9    Winston            1        10 2020-07-15"
      ]
     },
     "execution_count": 248,
     "metadata": {},
     "output_type": "execute_result"
    }
   ],
   "source": [
    "df = Orders.merge(Customers, how='left', on='customer_id')\n",
    "df['rnk'] = df.groupby(['customer_id'])['order_date'].rank(method='dense', ascending=False)\n",
    "df[df['rnk']<=3][['name','customer_id','order_id','order_date']].\\\n",
    "sort_values(by=['name','customer_id','order_date'], ascending=[True, True, False])"
   ]
  },
  {
   "cell_type": "code",
   "execution_count": 229,
   "metadata": {},
   "outputs": [
    {
     "data": {
      "text/html": [
       "<div>\n",
       "<style scoped>\n",
       "    .dataframe tbody tr th:only-of-type {\n",
       "        vertical-align: middle;\n",
       "    }\n",
       "\n",
       "    .dataframe tbody tr th {\n",
       "        vertical-align: top;\n",
       "    }\n",
       "\n",
       "    .dataframe thead th {\n",
       "        text-align: right;\n",
       "    }\n",
       "</style>\n",
       "<table border=\"1\" class=\"dataframe\">\n",
       "  <thead>\n",
       "    <tr style=\"text-align: right;\">\n",
       "      <th></th>\n",
       "      <th>visit_id</th>\n",
       "      <th>customer_id</th>\n",
       "      <th>transaction_id</th>\n",
       "      <th>amount</th>\n",
       "    </tr>\n",
       "  </thead>\n",
       "  <tbody>\n",
       "    <tr>\n",
       "      <th>2</th>\n",
       "      <td>4</td>\n",
       "      <td>30</td>\n",
       "      <td>NaN</td>\n",
       "      <td>NaN</td>\n",
       "    </tr>\n",
       "    <tr>\n",
       "      <th>6</th>\n",
       "      <td>6</td>\n",
       "      <td>96</td>\n",
       "      <td>NaN</td>\n",
       "      <td>NaN</td>\n",
       "    </tr>\n",
       "    <tr>\n",
       "      <th>7</th>\n",
       "      <td>7</td>\n",
       "      <td>54</td>\n",
       "      <td>NaN</td>\n",
       "      <td>NaN</td>\n",
       "    </tr>\n",
       "    <tr>\n",
       "      <th>8</th>\n",
       "      <td>8</td>\n",
       "      <td>54</td>\n",
       "      <td>NaN</td>\n",
       "      <td>NaN</td>\n",
       "    </tr>\n",
       "  </tbody>\n",
       "</table>\n",
       "</div>"
      ],
      "text/plain": [
       "   visit_id  customer_id  transaction_id  amount\n",
       "2         4           30             NaN     NaN\n",
       "6         6           96             NaN     NaN\n",
       "7         7           54             NaN     NaN\n",
       "8         8           54             NaN     NaN"
      ]
     },
     "execution_count": 229,
     "metadata": {},
     "output_type": "execute_result"
    }
   ],
   "source": [
    "df[df['transaction_id'].isnull() ==True]    "
   ]
  },
  {
   "cell_type": "markdown",
   "metadata": {},
   "source": [
    "# 178. Rank Scores 2021/7/21"
   ]
  },
  {
   "cell_type": "code",
   "execution_count": 249,
   "metadata": {},
   "outputs": [],
   "source": [
    "Scores=pd.DataFrame([[1, 3.50], [2, 3.65], [3, 4.00], [4, 3.85], [5, 4.00], [6, 3.65]], columns=['Id','score'])"
   ]
  },
  {
   "cell_type": "code",
   "execution_count": 251,
   "metadata": {},
   "outputs": [
    {
     "data": {
      "text/html": [
       "<div>\n",
       "<style scoped>\n",
       "    .dataframe tbody tr th:only-of-type {\n",
       "        vertical-align: middle;\n",
       "    }\n",
       "\n",
       "    .dataframe tbody tr th {\n",
       "        vertical-align: top;\n",
       "    }\n",
       "\n",
       "    .dataframe thead th {\n",
       "        text-align: right;\n",
       "    }\n",
       "</style>\n",
       "<table border=\"1\" class=\"dataframe\">\n",
       "  <thead>\n",
       "    <tr style=\"text-align: right;\">\n",
       "      <th></th>\n",
       "      <th>Id</th>\n",
       "      <th>score</th>\n",
       "    </tr>\n",
       "  </thead>\n",
       "  <tbody>\n",
       "    <tr>\n",
       "      <th>0</th>\n",
       "      <td>1.0</td>\n",
       "      <td>1.0</td>\n",
       "    </tr>\n",
       "    <tr>\n",
       "      <th>1</th>\n",
       "      <td>2.0</td>\n",
       "      <td>2.0</td>\n",
       "    </tr>\n",
       "    <tr>\n",
       "      <th>2</th>\n",
       "      <td>3.0</td>\n",
       "      <td>4.0</td>\n",
       "    </tr>\n",
       "    <tr>\n",
       "      <th>3</th>\n",
       "      <td>4.0</td>\n",
       "      <td>3.0</td>\n",
       "    </tr>\n",
       "    <tr>\n",
       "      <th>4</th>\n",
       "      <td>5.0</td>\n",
       "      <td>4.0</td>\n",
       "    </tr>\n",
       "    <tr>\n",
       "      <th>5</th>\n",
       "      <td>6.0</td>\n",
       "      <td>2.0</td>\n",
       "    </tr>\n",
       "  </tbody>\n",
       "</table>\n",
       "</div>"
      ],
      "text/plain": [
       "    Id  score\n",
       "0  1.0    1.0\n",
       "1  2.0    2.0\n",
       "2  3.0    4.0\n",
       "3  4.0    3.0\n",
       "4  5.0    4.0\n",
       "5  6.0    2.0"
      ]
     },
     "execution_count": 251,
     "metadata": {},
     "output_type": "execute_result"
    }
   ],
   "source": [
    "Scores.rank(method='dense',ascending=True)"
   ]
  },
  {
   "cell_type": "code",
   "execution_count": 257,
   "metadata": {},
   "outputs": [
    {
     "data": {
      "text/html": [
       "<div>\n",
       "<style scoped>\n",
       "    .dataframe tbody tr th:only-of-type {\n",
       "        vertical-align: middle;\n",
       "    }\n",
       "\n",
       "    .dataframe tbody tr th {\n",
       "        vertical-align: top;\n",
       "    }\n",
       "\n",
       "    .dataframe thead th {\n",
       "        text-align: right;\n",
       "    }\n",
       "</style>\n",
       "<table border=\"1\" class=\"dataframe\">\n",
       "  <thead>\n",
       "    <tr style=\"text-align: right;\">\n",
       "      <th></th>\n",
       "      <th>score</th>\n",
       "      <th>rank</th>\n",
       "    </tr>\n",
       "  </thead>\n",
       "  <tbody>\n",
       "    <tr>\n",
       "      <th>2</th>\n",
       "      <td>4.00</td>\n",
       "      <td>4.0</td>\n",
       "    </tr>\n",
       "    <tr>\n",
       "      <th>4</th>\n",
       "      <td>4.00</td>\n",
       "      <td>4.0</td>\n",
       "    </tr>\n",
       "    <tr>\n",
       "      <th>3</th>\n",
       "      <td>3.85</td>\n",
       "      <td>3.0</td>\n",
       "    </tr>\n",
       "    <tr>\n",
       "      <th>1</th>\n",
       "      <td>3.65</td>\n",
       "      <td>2.0</td>\n",
       "    </tr>\n",
       "    <tr>\n",
       "      <th>5</th>\n",
       "      <td>3.65</td>\n",
       "      <td>2.0</td>\n",
       "    </tr>\n",
       "    <tr>\n",
       "      <th>0</th>\n",
       "      <td>3.50</td>\n",
       "      <td>1.0</td>\n",
       "    </tr>\n",
       "  </tbody>\n",
       "</table>\n",
       "</div>"
      ],
      "text/plain": [
       "   score  rank\n",
       "2   4.00   4.0\n",
       "4   4.00   4.0\n",
       "3   3.85   3.0\n",
       "1   3.65   2.0\n",
       "5   3.65   2.0\n",
       "0   3.50   1.0"
      ]
     },
     "execution_count": 257,
     "metadata": {},
     "output_type": "execute_result"
    }
   ],
   "source": [
    "Scores['rank']=Scores['score'].rank(method='dense',ascending=True)\n",
    "Scores.sort_values(by=['rank'],ascending=False, inplace=True)\n",
    "Scores[['score','rank']]"
   ]
  },
  {
   "cell_type": "markdown",
   "metadata": {},
   "source": [
    "# 1709. Biggest Window Between Visits"
   ]
  },
  {
   "cell_type": "code",
   "execution_count": 263,
   "metadata": {},
   "outputs": [],
   "source": [
    "UserVisits=pd.DataFrame([[\"1\",\"2020-11-28\"],[\"1\",\"2020-10-20\"],[\"1\",\"2020-12-3\"],[\"2\",\"2020-10-5\"],[\"2\",\"2020-12-9\"],[\"3\",\"2020-11-11\"]]\\\n",
    "            , columns =['user_id','visit_date'])"
   ]
  },
  {
   "cell_type": "code",
   "execution_count": 287,
   "metadata": {},
   "outputs": [
    {
     "data": {
      "text/html": [
       "<div>\n",
       "<style scoped>\n",
       "    .dataframe tbody tr th:only-of-type {\n",
       "        vertical-align: middle;\n",
       "    }\n",
       "\n",
       "    .dataframe tbody tr th {\n",
       "        vertical-align: top;\n",
       "    }\n",
       "\n",
       "    .dataframe thead th {\n",
       "        text-align: right;\n",
       "    }\n",
       "</style>\n",
       "<table border=\"1\" class=\"dataframe\">\n",
       "  <thead>\n",
       "    <tr style=\"text-align: right;\">\n",
       "      <th></th>\n",
       "      <th>user_id</th>\n",
       "      <th>Biggest_window</th>\n",
       "    </tr>\n",
       "  </thead>\n",
       "  <tbody>\n",
       "    <tr>\n",
       "      <th>0</th>\n",
       "      <td>1</td>\n",
       "      <td>44 days</td>\n",
       "    </tr>\n",
       "    <tr>\n",
       "      <th>1</th>\n",
       "      <td>2</td>\n",
       "      <td>65 days</td>\n",
       "    </tr>\n",
       "    <tr>\n",
       "      <th>2</th>\n",
       "      <td>3</td>\n",
       "      <td>51 days</td>\n",
       "    </tr>\n",
       "  </tbody>\n",
       "</table>\n",
       "</div>"
      ],
      "text/plain": [
       "  user_id Biggest_window\n",
       "0       1        44 days\n",
       "1       2        65 days\n",
       "2       3        51 days"
      ]
     },
     "execution_count": 287,
     "metadata": {},
     "output_type": "execute_result"
    }
   ],
   "source": [
    "UserVisits['visit_date']=pd.to_datetime(UserVisits['visit_date'])\n",
    "UserVisits['lag_dt'] = UserVisits.groupby('user_id')['visit_date'].shift(-1)\n",
    "\n",
    "import datetime\n",
    "UserVisits['lag_dt'] = UserVisits['lag_dt'].fillna(datetime.datetime(2021,1,1))\n",
    "UserVisits['Biggest_window'] = (UserVisits['lag_dt']-UserVisits['visit_date'])\n",
    "UserVisits.groupby(['user_id'])['Biggest_window'].max().reset_index().sort_values('user_id')"
   ]
  },
  {
   "cell_type": "markdown",
   "metadata": {},
   "source": [
    "# 1421. NPV Queries"
   ]
  },
  {
   "cell_type": "code",
   "execution_count": 291,
   "metadata": {},
   "outputs": [],
   "source": [
    "Queries= pd.DataFrame([[1,2019],[2,2008],[3,2009],[7,2018],[7,2019],[7,2020],[13,2019]],\\\n",
    "                    columns=['id','year'])\n",
    "NPV=pd.DataFrame([[1,2018,100],[7,2020,30],[13,2019,40],[1,2019,113],[2,2008,121],[3,2009,21],[11,2020,99],[7,2019,0]],\\\n",
    "                columns=['id','year','npv'])"
   ]
  },
  {
   "cell_type": "code",
   "execution_count": 292,
   "metadata": {},
   "outputs": [
    {
     "data": {
      "text/html": [
       "<div>\n",
       "<style scoped>\n",
       "    .dataframe tbody tr th:only-of-type {\n",
       "        vertical-align: middle;\n",
       "    }\n",
       "\n",
       "    .dataframe tbody tr th {\n",
       "        vertical-align: top;\n",
       "    }\n",
       "\n",
       "    .dataframe thead th {\n",
       "        text-align: right;\n",
       "    }\n",
       "</style>\n",
       "<table border=\"1\" class=\"dataframe\">\n",
       "  <thead>\n",
       "    <tr style=\"text-align: right;\">\n",
       "      <th></th>\n",
       "      <th>id</th>\n",
       "      <th>year</th>\n",
       "      <th>npv</th>\n",
       "    </tr>\n",
       "  </thead>\n",
       "  <tbody>\n",
       "    <tr>\n",
       "      <th>0</th>\n",
       "      <td>1</td>\n",
       "      <td>2019</td>\n",
       "      <td>113.0</td>\n",
       "    </tr>\n",
       "    <tr>\n",
       "      <th>1</th>\n",
       "      <td>2</td>\n",
       "      <td>2008</td>\n",
       "      <td>121.0</td>\n",
       "    </tr>\n",
       "    <tr>\n",
       "      <th>2</th>\n",
       "      <td>3</td>\n",
       "      <td>2009</td>\n",
       "      <td>21.0</td>\n",
       "    </tr>\n",
       "    <tr>\n",
       "      <th>3</th>\n",
       "      <td>7</td>\n",
       "      <td>2018</td>\n",
       "      <td>0.0</td>\n",
       "    </tr>\n",
       "    <tr>\n",
       "      <th>4</th>\n",
       "      <td>7</td>\n",
       "      <td>2019</td>\n",
       "      <td>0.0</td>\n",
       "    </tr>\n",
       "    <tr>\n",
       "      <th>5</th>\n",
       "      <td>7</td>\n",
       "      <td>2020</td>\n",
       "      <td>30.0</td>\n",
       "    </tr>\n",
       "    <tr>\n",
       "      <th>6</th>\n",
       "      <td>13</td>\n",
       "      <td>2019</td>\n",
       "      <td>40.0</td>\n",
       "    </tr>\n",
       "  </tbody>\n",
       "</table>\n",
       "</div>"
      ],
      "text/plain": [
       "   id  year    npv\n",
       "0   1  2019  113.0\n",
       "1   2  2008  121.0\n",
       "2   3  2009   21.0\n",
       "3   7  2018    0.0\n",
       "4   7  2019    0.0\n",
       "5   7  2020   30.0\n",
       "6  13  2019   40.0"
      ]
     },
     "execution_count": 292,
     "metadata": {},
     "output_type": "execute_result"
    }
   ],
   "source": [
    "df=Queries.merge(NPV, on=['id','year'],how='left')\n",
    "df['npv'].fillna(0,inplace=True)\n",
    "df"
   ]
  },
  {
   "cell_type": "markdown",
   "metadata": {},
   "source": [
    "# 1777. Product's Price for Each Store"
   ]
  },
  {
   "cell_type": "code",
   "execution_count": 29,
   "metadata": {},
   "outputs": [],
   "source": [
    "# be careful of column format\n",
    "Products=pd.DataFrame([[\"0\",\"store1\",95],[\"0\",\"store3\",105],[\"0\",\"store2\",100],[\"1\",\"store1\",70],[\"1\",\"store3\",80]],\\\n",
    "                     columns=['product_id','store','price'])"
   ]
  },
  {
   "cell_type": "code",
   "execution_count": 30,
   "metadata": {},
   "outputs": [
    {
     "data": {
      "text/html": [
       "<div>\n",
       "<style scoped>\n",
       "    .dataframe tbody tr th:only-of-type {\n",
       "        vertical-align: middle;\n",
       "    }\n",
       "\n",
       "    .dataframe tbody tr th {\n",
       "        vertical-align: top;\n",
       "    }\n",
       "\n",
       "    .dataframe thead th {\n",
       "        text-align: right;\n",
       "    }\n",
       "</style>\n",
       "<table border=\"1\" class=\"dataframe\">\n",
       "  <thead>\n",
       "    <tr style=\"text-align: right;\">\n",
       "      <th></th>\n",
       "      <th>product_id</th>\n",
       "      <th>store</th>\n",
       "      <th>price</th>\n",
       "    </tr>\n",
       "  </thead>\n",
       "  <tbody>\n",
       "    <tr>\n",
       "      <th>0</th>\n",
       "      <td>0</td>\n",
       "      <td>store1</td>\n",
       "      <td>95</td>\n",
       "    </tr>\n",
       "    <tr>\n",
       "      <th>1</th>\n",
       "      <td>0</td>\n",
       "      <td>store3</td>\n",
       "      <td>105</td>\n",
       "    </tr>\n",
       "    <tr>\n",
       "      <th>2</th>\n",
       "      <td>0</td>\n",
       "      <td>store2</td>\n",
       "      <td>100</td>\n",
       "    </tr>\n",
       "    <tr>\n",
       "      <th>3</th>\n",
       "      <td>1</td>\n",
       "      <td>store1</td>\n",
       "      <td>70</td>\n",
       "    </tr>\n",
       "    <tr>\n",
       "      <th>4</th>\n",
       "      <td>1</td>\n",
       "      <td>store3</td>\n",
       "      <td>80</td>\n",
       "    </tr>\n",
       "  </tbody>\n",
       "</table>\n",
       "</div>"
      ],
      "text/plain": [
       "  product_id   store  price\n",
       "0          0  store1     95\n",
       "1          0  store3    105\n",
       "2          0  store2    100\n",
       "3          1  store1     70\n",
       "4          1  store3     80"
      ]
     },
     "execution_count": 30,
     "metadata": {},
     "output_type": "execute_result"
    }
   ],
   "source": [
    "Products"
   ]
  },
  {
   "cell_type": "code",
   "execution_count": 31,
   "metadata": {},
   "outputs": [
    {
     "data": {
      "text/plain": [
       "0    95\n",
       "1     0\n",
       "2     0\n",
       "3    70\n",
       "4     0\n",
       "dtype: int64"
      ]
     },
     "execution_count": 31,
     "metadata": {},
     "output_type": "execute_result"
    }
   ],
   "source": [
    "import numpy as np\n",
    "pd.Series(np.where(Products['store']=='store1', Products['price'],0))"
   ]
  },
  {
   "cell_type": "code",
   "execution_count": 32,
   "metadata": {},
   "outputs": [
    {
     "data": {
      "text/html": [
       "<div>\n",
       "<style scoped>\n",
       "    .dataframe tbody tr th:only-of-type {\n",
       "        vertical-align: middle;\n",
       "    }\n",
       "\n",
       "    .dataframe tbody tr th {\n",
       "        vertical-align: top;\n",
       "    }\n",
       "\n",
       "    .dataframe thead th {\n",
       "        text-align: right;\n",
       "    }\n",
       "</style>\n",
       "<table border=\"1\" class=\"dataframe\">\n",
       "  <thead>\n",
       "    <tr style=\"text-align: right;\">\n",
       "      <th>store</th>\n",
       "      <th>product_id</th>\n",
       "      <th>store1</th>\n",
       "      <th>store2</th>\n",
       "      <th>store3</th>\n",
       "    </tr>\n",
       "  </thead>\n",
       "  <tbody>\n",
       "    <tr>\n",
       "      <th>0</th>\n",
       "      <td>0</td>\n",
       "      <td>95.0</td>\n",
       "      <td>100.0</td>\n",
       "      <td>105.0</td>\n",
       "    </tr>\n",
       "    <tr>\n",
       "      <th>1</th>\n",
       "      <td>1</td>\n",
       "      <td>70.0</td>\n",
       "      <td>NaN</td>\n",
       "      <td>80.0</td>\n",
       "    </tr>\n",
       "  </tbody>\n",
       "</table>\n",
       "</div>"
      ],
      "text/plain": [
       "store product_id  store1  store2  store3\n",
       "0              0    95.0   100.0   105.0\n",
       "1              1    70.0     NaN    80.0"
      ]
     },
     "execution_count": 32,
     "metadata": {},
     "output_type": "execute_result"
    }
   ],
   "source": [
    "# long to wide\n",
    "Products.pivot(index='product_id',columns = 'store')['price'].reset_index()"
   ]
  },
  {
   "cell_type": "code",
   "execution_count": 33,
   "metadata": {},
   "outputs": [
    {
     "data": {
      "text/plain": [
       "array([95,  0,  0, 70,  0])"
      ]
     },
     "execution_count": 33,
     "metadata": {},
     "output_type": "execute_result"
    }
   ],
   "source": [
    "np.where(Products['store']=='store1', Products['price'],0)"
   ]
  },
  {
   "cell_type": "code",
   "execution_count": 35,
   "metadata": {},
   "outputs": [
    {
     "data": {
      "text/html": [
       "<div>\n",
       "<style scoped>\n",
       "    .dataframe tbody tr th:only-of-type {\n",
       "        vertical-align: middle;\n",
       "    }\n",
       "\n",
       "    .dataframe tbody tr th {\n",
       "        vertical-align: top;\n",
       "    }\n",
       "\n",
       "    .dataframe thead th {\n",
       "        text-align: right;\n",
       "    }\n",
       "</style>\n",
       "<table border=\"1\" class=\"dataframe\">\n",
       "  <thead>\n",
       "    <tr style=\"text-align: right;\">\n",
       "      <th></th>\n",
       "      <th>product_id</th>\n",
       "      <th>store1</th>\n",
       "      <th>store2</th>\n",
       "      <th>store3</th>\n",
       "    </tr>\n",
       "  </thead>\n",
       "  <tbody>\n",
       "    <tr>\n",
       "      <th>0</th>\n",
       "      <td>0</td>\n",
       "      <td>95.0</td>\n",
       "      <td>100.0</td>\n",
       "      <td>105.0</td>\n",
       "    </tr>\n",
       "    <tr>\n",
       "      <th>1</th>\n",
       "      <td>1</td>\n",
       "      <td>70.0</td>\n",
       "      <td>NaN</td>\n",
       "      <td>80.0</td>\n",
       "    </tr>\n",
       "  </tbody>\n",
       "</table>\n",
       "</div>"
      ],
      "text/plain": [
       "  product_id  store1  store2  store3\n",
       "0          0    95.0   100.0   105.0\n",
       "1          1    70.0     NaN    80.0"
      ]
     },
     "execution_count": 35,
     "metadata": {},
     "output_type": "execute_result"
    }
   ],
   "source": [
    "##? where's wrong\n",
    "Products['store1']=pd.Series(np.where(Products['store']=='store1', Products['price'],np.nan))\n",
    "Products['store2']=pd.Series(np.where(Products['store']=='store2', Products['price'],np.nan))\n",
    "Products['store3']=pd.Series(np.where(Products['store']=='store3', Products['price'],np.nan))\n",
    "Products.groupby(['product_id'])[['store1','store2','store3']].max().reset_index()\n"
   ]
  },
  {
   "cell_type": "code",
   "execution_count": 36,
   "metadata": {},
   "outputs": [
    {
     "name": "stdout",
     "output_type": "stream",
     "text": [
      "<class 'pandas.core.frame.DataFrame'>\n",
      "RangeIndex: 5 entries, 0 to 4\n",
      "Data columns (total 6 columns):\n",
      "product_id    5 non-null object\n",
      "store         5 non-null object\n",
      "price         5 non-null int64\n",
      "store1        2 non-null float64\n",
      "store2        1 non-null float64\n",
      "store3        2 non-null float64\n",
      "dtypes: float64(3), int64(1), object(2)\n",
      "memory usage: 368.0+ bytes\n"
     ]
    }
   ],
   "source": [
    "Products.info()"
   ]
  },
  {
   "cell_type": "markdown",
   "metadata": {},
   "source": [
    "# 1795. Rearrange Products Table"
   ]
  },
  {
   "cell_type": "code",
   "execution_count": 356,
   "metadata": {},
   "outputs": [],
   "source": [
    "Products1 = Products.pivot(index='product_id',columns = 'store')['price'].reset_index()"
   ]
  },
  {
   "cell_type": "code",
   "execution_count": 357,
   "metadata": {},
   "outputs": [
    {
     "data": {
      "text/html": [
       "<div>\n",
       "<style scoped>\n",
       "    .dataframe tbody tr th:only-of-type {\n",
       "        vertical-align: middle;\n",
       "    }\n",
       "\n",
       "    .dataframe tbody tr th {\n",
       "        vertical-align: top;\n",
       "    }\n",
       "\n",
       "    .dataframe thead th {\n",
       "        text-align: right;\n",
       "    }\n",
       "</style>\n",
       "<table border=\"1\" class=\"dataframe\">\n",
       "  <thead>\n",
       "    <tr style=\"text-align: right;\">\n",
       "      <th>store</th>\n",
       "      <th>product_id</th>\n",
       "      <th>store1</th>\n",
       "      <th>store2</th>\n",
       "      <th>store3</th>\n",
       "    </tr>\n",
       "  </thead>\n",
       "  <tbody>\n",
       "    <tr>\n",
       "      <th>0</th>\n",
       "      <td>0</td>\n",
       "      <td>95</td>\n",
       "      <td>100</td>\n",
       "      <td>105</td>\n",
       "    </tr>\n",
       "    <tr>\n",
       "      <th>1</th>\n",
       "      <td>1</td>\n",
       "      <td>70</td>\n",
       "      <td>NaN</td>\n",
       "      <td>80</td>\n",
       "    </tr>\n",
       "  </tbody>\n",
       "</table>\n",
       "</div>"
      ],
      "text/plain": [
       "store product_id store1 store2 store3\n",
       "0              0     95    100    105\n",
       "1              1     70    NaN     80"
      ]
     },
     "execution_count": 357,
     "metadata": {},
     "output_type": "execute_result"
    }
   ],
   "source": [
    "Products1"
   ]
  },
  {
   "cell_type": "code",
   "execution_count": 358,
   "metadata": {},
   "outputs": [
    {
     "data": {
      "text/html": [
       "<div>\n",
       "<style scoped>\n",
       "    .dataframe tbody tr th:only-of-type {\n",
       "        vertical-align: middle;\n",
       "    }\n",
       "\n",
       "    .dataframe tbody tr th {\n",
       "        vertical-align: top;\n",
       "    }\n",
       "\n",
       "    .dataframe thead th {\n",
       "        text-align: right;\n",
       "    }\n",
       "</style>\n",
       "<table border=\"1\" class=\"dataframe\">\n",
       "  <thead>\n",
       "    <tr style=\"text-align: right;\">\n",
       "      <th></th>\n",
       "      <th>product_id</th>\n",
       "      <th>store</th>\n",
       "      <th>price</th>\n",
       "    </tr>\n",
       "  </thead>\n",
       "  <tbody>\n",
       "    <tr>\n",
       "      <th>0</th>\n",
       "      <td>0</td>\n",
       "      <td>store1</td>\n",
       "      <td>95</td>\n",
       "    </tr>\n",
       "    <tr>\n",
       "      <th>1</th>\n",
       "      <td>1</td>\n",
       "      <td>store1</td>\n",
       "      <td>70</td>\n",
       "    </tr>\n",
       "    <tr>\n",
       "      <th>2</th>\n",
       "      <td>0</td>\n",
       "      <td>store2</td>\n",
       "      <td>100</td>\n",
       "    </tr>\n",
       "    <tr>\n",
       "      <th>3</th>\n",
       "      <td>1</td>\n",
       "      <td>store2</td>\n",
       "      <td>NaN</td>\n",
       "    </tr>\n",
       "    <tr>\n",
       "      <th>4</th>\n",
       "      <td>0</td>\n",
       "      <td>store3</td>\n",
       "      <td>105</td>\n",
       "    </tr>\n",
       "    <tr>\n",
       "      <th>5</th>\n",
       "      <td>1</td>\n",
       "      <td>store3</td>\n",
       "      <td>80</td>\n",
       "    </tr>\n",
       "  </tbody>\n",
       "</table>\n",
       "</div>"
      ],
      "text/plain": [
       "  product_id   store price\n",
       "0          0  store1    95\n",
       "1          1  store1    70\n",
       "2          0  store2   100\n",
       "3          1  store2   NaN\n",
       "4          0  store3   105\n",
       "5          1  store3    80"
      ]
     },
     "execution_count": 358,
     "metadata": {},
     "output_type": "execute_result"
    }
   ],
   "source": [
    "# wide to long\n",
    "Products1.melt(id_vars='product_id').rename(columns={'product_id':'product_id','store':\"store\",'value':'price'})"
   ]
  },
  {
   "cell_type": "code",
   "execution_count": null,
   "metadata": {},
   "outputs": [],
   "source": [
    "long to wide other methods...."
   ]
  },
  {
   "cell_type": "markdown",
   "metadata": {},
   "source": [
    "# 185. Department Top Three Salaries 2021/7/24"
   ]
  },
  {
   "cell_type": "code",
   "execution_count": 1,
   "metadata": {},
   "outputs": [],
   "source": [
    "import pandas as pd\n",
    "Employee=pd.DataFrame([[1, \"Joe\", 85000, 1], [2, \"Henry\", 80000, 2], [3, \"Sam\", 60000, 2], [4, \"Max\", 90000, 1],\\\n",
    "[5, \"Janet\", 69000, 1],[6, \"Randy\", 85000, 1], [7, \"Will\", 70000, 1]],\n",
    "                     columns =['Id','Name','Salary','DepartmentId'])\n",
    "\n",
    "Department=pd.DataFrame([[1, \"IT\"], [2, \"Sales\"]], columns =['Id','Name'])"
   ]
  },
  {
   "cell_type": "code",
   "execution_count": 12,
   "metadata": {},
   "outputs": [
    {
     "data": {
      "text/html": [
       "<div>\n",
       "<style scoped>\n",
       "    .dataframe tbody tr th:only-of-type {\n",
       "        vertical-align: middle;\n",
       "    }\n",
       "\n",
       "    .dataframe tbody tr th {\n",
       "        vertical-align: top;\n",
       "    }\n",
       "\n",
       "    .dataframe thead th {\n",
       "        text-align: right;\n",
       "    }\n",
       "</style>\n",
       "<table border=\"1\" class=\"dataframe\">\n",
       "  <thead>\n",
       "    <tr style=\"text-align: right;\">\n",
       "      <th></th>\n",
       "      <th>Department</th>\n",
       "      <th>Employee</th>\n",
       "      <th>Salary</th>\n",
       "    </tr>\n",
       "  </thead>\n",
       "  <tbody>\n",
       "    <tr>\n",
       "      <th>3</th>\n",
       "      <td>IT</td>\n",
       "      <td>Max</td>\n",
       "      <td>90000</td>\n",
       "    </tr>\n",
       "    <tr>\n",
       "      <th>0</th>\n",
       "      <td>IT</td>\n",
       "      <td>Joe</td>\n",
       "      <td>85000</td>\n",
       "    </tr>\n",
       "    <tr>\n",
       "      <th>5</th>\n",
       "      <td>IT</td>\n",
       "      <td>Randy</td>\n",
       "      <td>85000</td>\n",
       "    </tr>\n",
       "    <tr>\n",
       "      <th>1</th>\n",
       "      <td>Sales</td>\n",
       "      <td>Henry</td>\n",
       "      <td>80000</td>\n",
       "    </tr>\n",
       "    <tr>\n",
       "      <th>6</th>\n",
       "      <td>IT</td>\n",
       "      <td>Will</td>\n",
       "      <td>70000</td>\n",
       "    </tr>\n",
       "    <tr>\n",
       "      <th>2</th>\n",
       "      <td>Sales</td>\n",
       "      <td>Sam</td>\n",
       "      <td>60000</td>\n",
       "    </tr>\n",
       "  </tbody>\n",
       "</table>\n",
       "</div>"
      ],
      "text/plain": [
       "  Department Employee  Salary\n",
       "3         IT      Max   90000\n",
       "0         IT      Joe   85000\n",
       "5         IT    Randy   85000\n",
       "1      Sales    Henry   80000\n",
       "6         IT     Will   70000\n",
       "2      Sales      Sam   60000"
      ]
     },
     "execution_count": 12,
     "metadata": {},
     "output_type": "execute_result"
    }
   ],
   "source": [
    "Employee['rank'] = Employee.groupby(['DepartmentId'])['Salary'].rank(method='dense', ascending=False)\n",
    "Department.columns =['DepartmentId','Department']\n",
    "df1=Employee.merge(Department, how ='left', on ='DepartmentId')\n",
    "\n",
    "# be careful of column order after merge\n",
    "df1.columns=['Id','Employee','Salary','DeparmenetId','rank','Department']\n",
    "df1[df1['rank']<=3][['Department','Employee','Salary']].sort_values('Salary', ascending=False)"
   ]
  },
  {
   "cell_type": "markdown",
   "metadata": {},
   "source": [
    "# 570. Managers with at Least 5 Direct Reports"
   ]
  },
  {
   "cell_type": "code",
   "execution_count": 16,
   "metadata": {},
   "outputs": [],
   "source": [
    "Employee = pd.DataFrame([[101, \"John\", \"A\", ],[102, \"Dan\", \"A\", 101], [103, \"James\", \"A\", 101],\\\n",
    "           [104, \"Amy\", \"A\", 101], [105, \"Anne\", \"A\", 101], [106, \"Ron\", \"B\", 101]],\n",
    "                       columns = [\"Id\", \"Name\", \"Department\", \"ManagerId\"])"
   ]
  },
  {
   "cell_type": "code",
   "execution_count": 17,
   "metadata": {},
   "outputs": [
    {
     "data": {
      "text/plain": [
       "0    John\n",
       "Name: Name, dtype: object"
      ]
     },
     "execution_count": 17,
     "metadata": {},
     "output_type": "execute_result"
    }
   ],
   "source": [
    "cnt = Employee.groupby(['ManagerId'])['ManagerId'].count().reset_index(name='count')\n",
    "Employee[Employee['Id'].isin(list(cnt[cnt['count']>=5]['ManagerId']))]['Name']"
   ]
  },
  {
   "cell_type": "markdown",
   "metadata": {},
   "source": [
    "# 1212. Team Scores in Football Tournament"
   ]
  },
  {
   "cell_type": "code",
   "execution_count": 52,
   "metadata": {},
   "outputs": [],
   "source": [
    "Teams=pd.DataFrame([[10, \"Leetcode FC\"], [20, \"NewYork FC\"], [30, \"Atlanta FC\"], [40, \"Chicago FC\"], [50, \"Toronto FC\"]],\\\n",
    "                  columns=[\"team_id\", \"team_name\"])\n",
    "Matches = pd.DataFrame([[1, 10, 20, 3, 0], [2, 30, 10, 2, 2], [3, 10, 50, 5, 1], [4, 20, 30, 1, 0], [5, 50, 30, 1, 0]],\\\n",
    "                    columns = [\"match_id\", \"host_team\", \"guest_team\", \"host_goals\", \"guest_goals\"]\n",
    "                      \n",
    "                      )"
   ]
  },
  {
   "cell_type": "code",
   "execution_count": 50,
   "metadata": {},
   "outputs": [],
   "source": [
    "## method 1: write for loop to add points\n",
    "pt = []\n",
    "for index, row in Matches.iterrows():\n",
    "    if row['host_goals']>row['guest_goals']:\n",
    "        pt.append(3)\n",
    "    elif row['host_goals']==row['guest_goals']:\n",
    "        pt.append(1)\n",
    "    else:\n",
    "        pt.append(0)\n",
    "    \n",
    "Matches['num_points']=pt"
   ]
  },
  {
   "cell_type": "code",
   "execution_count": 62,
   "metadata": {},
   "outputs": [
    {
     "data": {
      "text/plain": [
       "0    3\n",
       "1    1\n",
       "2    3\n",
       "3    3\n",
       "4    3\n",
       "dtype: int64"
      ]
     },
     "execution_count": 62,
     "metadata": {},
     "output_type": "execute_result"
    }
   ],
   "source": [
    "# method 3: write a function\n",
    "def func(row):\n",
    "    if row['host_goals']>row['guest_goals']:\n",
    "        return 3\n",
    "    elif row['host_goals']<row['guest_goals']:\n",
    "        return 0\n",
    "    else:\n",
    "        return 1\n",
    "Matches.apply(func, axis=1)"
   ]
  },
  {
   "cell_type": "code",
   "execution_count": 60,
   "metadata": {},
   "outputs": [
    {
     "data": {
      "text/html": [
       "<div>\n",
       "<style scoped>\n",
       "    .dataframe tbody tr th:only-of-type {\n",
       "        vertical-align: middle;\n",
       "    }\n",
       "\n",
       "    .dataframe tbody tr th {\n",
       "        vertical-align: top;\n",
       "    }\n",
       "\n",
       "    .dataframe thead th {\n",
       "        text-align: right;\n",
       "    }\n",
       "</style>\n",
       "<table border=\"1\" class=\"dataframe\">\n",
       "  <thead>\n",
       "    <tr style=\"text-align: right;\">\n",
       "      <th></th>\n",
       "      <th>team_id</th>\n",
       "      <th>team_name</th>\n",
       "      <th>num_points</th>\n",
       "    </tr>\n",
       "  </thead>\n",
       "  <tbody>\n",
       "    <tr>\n",
       "      <th>0</th>\n",
       "      <td>10</td>\n",
       "      <td>Leetcode FC</td>\n",
       "      <td>7.0</td>\n",
       "    </tr>\n",
       "    <tr>\n",
       "      <th>1</th>\n",
       "      <td>20</td>\n",
       "      <td>NewYork FC</td>\n",
       "      <td>3.0</td>\n",
       "    </tr>\n",
       "    <tr>\n",
       "      <th>4</th>\n",
       "      <td>50</td>\n",
       "      <td>Toronto FC</td>\n",
       "      <td>3.0</td>\n",
       "    </tr>\n",
       "    <tr>\n",
       "      <th>2</th>\n",
       "      <td>30</td>\n",
       "      <td>Atlanta FC</td>\n",
       "      <td>1.0</td>\n",
       "    </tr>\n",
       "    <tr>\n",
       "      <th>3</th>\n",
       "      <td>40</td>\n",
       "      <td>Chicago FC</td>\n",
       "      <td>0.0</td>\n",
       "    </tr>\n",
       "  </tbody>\n",
       "</table>\n",
       "</div>"
      ],
      "text/plain": [
       "   team_id    team_name  num_points\n",
       "0       10  Leetcode FC         7.0\n",
       "1       20   NewYork FC         3.0\n",
       "4       50   Toronto FC         3.0\n",
       "2       30   Atlanta FC         1.0\n",
       "3       40   Chicago FC         0.0"
      ]
     },
     "execution_count": 60,
     "metadata": {},
     "output_type": "execute_result"
    }
   ],
   "source": [
    "# method 3: optimal np.where\n",
    "Matches['host_num_points']=np.where(Matches['host_goals']>Matches['guest_goals'],3,\\\n",
    "                               np.where(Matches['host_goals']<Matches['guest_goals'],0,1))\n",
    "\n",
    "Matches['guest_num_points']=np.where(Matches['host_goals']>Matches['guest_goals'],0,\\\n",
    "                               np.where(Matches['host_goals']<Matches['guest_goals'],3,1))\n",
    "\n",
    "t1 = Matches[['host_team','host_num_points']].rename(columns={'host_team':'team_id','host_num_points':\"num_points\"})\n",
    "\n",
    "t2 = Matches[['guest_team','guest_num_points']].rename(columns={'guest_team':'team_id','guest_num_points':\"num_points\"})\n",
    "\n",
    "df = pd.concat([t1,t2])\n",
    "\n",
    "d1 = df.merge(Teams, how='right', on='team_id')\n",
    "d1['num_points'].fillna(0,inplace=True)\n",
    "d1.groupby(['team_id','team_name'])['num_points'].sum().reset_index().sort_values(['num_points','team_id'],\\\n",
    "                                                                    ascending=[False, True])"
   ]
  },
  {
   "cell_type": "markdown",
   "metadata": {},
   "source": [
    "# 1741. Find Total Time Spent by Each Employee"
   ]
  },
  {
   "cell_type": "code",
   "execution_count": 68,
   "metadata": {},
   "outputs": [],
   "source": [
    "Employees=pd.DataFrame([[\"1\",\"2020-11-28\",\"4\",\"32\"],[\"1\",\"2020-11-28\",\"55\",\"200\"],\\\n",
    "                      [\"1\",\"2020-12-3\",\"1\",\"42\"],[\"2\",\"2020-11-28\",\"3\",\"33\"],[\"2\",\"2020-12-9\",\"47\",\"74\"]],\\\n",
    "                      columns=[\"emp_id\",\"event_day\",\"in_time\",\"out_time\"])"
   ]
  },
  {
   "cell_type": "code",
   "execution_count": 69,
   "metadata": {},
   "outputs": [],
   "source": [
    "Employees['out_time']=Employees['out_time'].astype(np.int64)\n",
    "Employees['in_time']=Employees['in_time'].astype(np.int64)"
   ]
  },
  {
   "cell_type": "code",
   "execution_count": 70,
   "metadata": {},
   "outputs": [
    {
     "data": {
      "text/html": [
       "<div>\n",
       "<style scoped>\n",
       "    .dataframe tbody tr th:only-of-type {\n",
       "        vertical-align: middle;\n",
       "    }\n",
       "\n",
       "    .dataframe tbody tr th {\n",
       "        vertical-align: top;\n",
       "    }\n",
       "\n",
       "    .dataframe thead th {\n",
       "        text-align: right;\n",
       "    }\n",
       "</style>\n",
       "<table border=\"1\" class=\"dataframe\">\n",
       "  <thead>\n",
       "    <tr style=\"text-align: right;\">\n",
       "      <th></th>\n",
       "      <th>emp_id</th>\n",
       "      <th>event_day</th>\n",
       "      <th>dif</th>\n",
       "    </tr>\n",
       "  </thead>\n",
       "  <tbody>\n",
       "    <tr>\n",
       "      <th>0</th>\n",
       "      <td>1</td>\n",
       "      <td>2020-11-28</td>\n",
       "      <td>173</td>\n",
       "    </tr>\n",
       "    <tr>\n",
       "      <th>1</th>\n",
       "      <td>1</td>\n",
       "      <td>2020-12-3</td>\n",
       "      <td>41</td>\n",
       "    </tr>\n",
       "    <tr>\n",
       "      <th>2</th>\n",
       "      <td>2</td>\n",
       "      <td>2020-11-28</td>\n",
       "      <td>30</td>\n",
       "    </tr>\n",
       "    <tr>\n",
       "      <th>3</th>\n",
       "      <td>2</td>\n",
       "      <td>2020-12-9</td>\n",
       "      <td>27</td>\n",
       "    </tr>\n",
       "  </tbody>\n",
       "</table>\n",
       "</div>"
      ],
      "text/plain": [
       "  emp_id   event_day  dif\n",
       "0      1  2020-11-28  173\n",
       "1      1   2020-12-3   41\n",
       "2      2  2020-11-28   30\n",
       "3      2   2020-12-9   27"
      ]
     },
     "execution_count": 70,
     "metadata": {},
     "output_type": "execute_result"
    }
   ],
   "source": [
    "Employees['dif']=Employees['out_time']-Employees['in_time']\n",
    "Employees.groupby(['emp_id','event_day'])['dif'].sum().reset_index().rename({'emp_id':'emp_id','event_day':'day',\\\n",
    "                                                                            'dif':'total_name'})"
   ]
  },
  {
   "cell_type": "markdown",
   "metadata": {},
   "source": [
    "#  1747. Leetflex Banned Accounts  !!"
   ]
  },
  {
   "cell_type": "code",
   "execution_count": 105,
   "metadata": {},
   "outputs": [],
   "source": [
    "LogInfo=pd.DataFrame([[1,1,\"2021-02-01 09:00:00\",\"2021-02-01 09:30:00\"],\\\n",
    "                    [1,2,\"2021-02-01 08:00:00\",\"2021-02-01 11:30:00\"],\\\n",
    "                    [2,6,\"2021-02-01 20:30:00\",\"2021-02-01 22:00:00\"],\\\n",
    "                    [2,7,\"2021-02-02 20:30:00\",\"2021-02-02 22:00:00\"],\\\n",
    "                    [3,9,\"2021-02-01 16:00:00\",\"2021-02-01 16:59:59\"],\\\n",
    "                    [3,13,\"2021-02-01 17:00:00\",\"2021-02-01 17:59:59\"],\\\n",
    "                    [4,10,\"2021-02-01 16:00:00\",\"2021-02-01 17:00:00\"],\\\n",
    "                    [4,11,\"2021-02-01 17:00:00\",\"2021-02-01 17:59:59\"]],\n",
    "                    columns = [\"account_id\",\"ip_address\",\"login\",\"logout\"])"
   ]
  },
  {
   "cell_type": "code",
   "execution_count": 106,
   "metadata": {},
   "outputs": [],
   "source": [
    "LogInfo['login'] = pd.to_datetime(LogInfo['login'])\n",
    "LogInfo['logout'] = pd.to_datetime(LogInfo['logout'])"
   ]
  },
  {
   "cell_type": "code",
   "execution_count": 103,
   "metadata": {},
   "outputs": [
    {
     "data": {
      "text/plain": [
       "1    1\n",
       "6    4\n",
       "Name: account_id, dtype: int64"
      ]
     },
     "execution_count": 103,
     "metadata": {},
     "output_type": "execute_result"
    }
   ],
   "source": [
    "## method 1\n",
    "LogInfo.drop_duplicates(inplace=True)\n",
    "LogInfo.sort_values(['account_id','login','logout'], inplace=True)\n",
    "LogInfo['lag_login'] = LogInfo.groupby('account_id')['login'].shift(-1)\n",
    "LogInfo[(LogInfo['lag_login']>=LogInfo['login']) & (LogInfo['lag_login']<=LogInfo['logout'])]['account_id'].drop_duplicates()"
   ]
  },
  {
   "cell_type": "code",
   "execution_count": 104,
   "metadata": {},
   "outputs": [
    {
     "data": {
      "text/html": [
       "<div>\n",
       "<style scoped>\n",
       "    .dataframe tbody tr th:only-of-type {\n",
       "        vertical-align: middle;\n",
       "    }\n",
       "\n",
       "    .dataframe tbody tr th {\n",
       "        vertical-align: top;\n",
       "    }\n",
       "\n",
       "    .dataframe thead th {\n",
       "        text-align: right;\n",
       "    }\n",
       "</style>\n",
       "<table border=\"1\" class=\"dataframe\">\n",
       "  <thead>\n",
       "    <tr style=\"text-align: right;\">\n",
       "      <th></th>\n",
       "      <th>account_id</th>\n",
       "      <th>ip_address</th>\n",
       "      <th>login</th>\n",
       "      <th>logout</th>\n",
       "      <th>lag_login</th>\n",
       "    </tr>\n",
       "  </thead>\n",
       "  <tbody>\n",
       "    <tr>\n",
       "      <th>1</th>\n",
       "      <td>1</td>\n",
       "      <td>2</td>\n",
       "      <td>2021-02-01 08:00:00</td>\n",
       "      <td>2021-02-01 11:30:00</td>\n",
       "      <td>2021-02-01 09:00:00</td>\n",
       "    </tr>\n",
       "    <tr>\n",
       "      <th>0</th>\n",
       "      <td>1</td>\n",
       "      <td>1</td>\n",
       "      <td>2021-02-01 09:00:00</td>\n",
       "      <td>2021-02-01 09:30:00</td>\n",
       "      <td>NaT</td>\n",
       "    </tr>\n",
       "    <tr>\n",
       "      <th>2</th>\n",
       "      <td>2</td>\n",
       "      <td>6</td>\n",
       "      <td>2021-02-01 20:30:00</td>\n",
       "      <td>2021-02-01 22:00:00</td>\n",
       "      <td>2021-02-02 20:30:00</td>\n",
       "    </tr>\n",
       "    <tr>\n",
       "      <th>3</th>\n",
       "      <td>2</td>\n",
       "      <td>7</td>\n",
       "      <td>2021-02-02 20:30:00</td>\n",
       "      <td>2021-02-02 22:00:00</td>\n",
       "      <td>NaT</td>\n",
       "    </tr>\n",
       "    <tr>\n",
       "      <th>4</th>\n",
       "      <td>3</td>\n",
       "      <td>9</td>\n",
       "      <td>2021-02-01 16:00:00</td>\n",
       "      <td>2021-02-01 16:59:59</td>\n",
       "      <td>2021-02-01 17:00:00</td>\n",
       "    </tr>\n",
       "    <tr>\n",
       "      <th>5</th>\n",
       "      <td>3</td>\n",
       "      <td>13</td>\n",
       "      <td>2021-02-01 17:00:00</td>\n",
       "      <td>2021-02-01 17:59:59</td>\n",
       "      <td>NaT</td>\n",
       "    </tr>\n",
       "    <tr>\n",
       "      <th>6</th>\n",
       "      <td>4</td>\n",
       "      <td>10</td>\n",
       "      <td>2021-02-01 16:00:00</td>\n",
       "      <td>2021-02-01 17:00:00</td>\n",
       "      <td>2021-02-01 17:00:00</td>\n",
       "    </tr>\n",
       "    <tr>\n",
       "      <th>7</th>\n",
       "      <td>4</td>\n",
       "      <td>11</td>\n",
       "      <td>2021-02-01 17:00:00</td>\n",
       "      <td>2021-02-01 17:59:59</td>\n",
       "      <td>NaT</td>\n",
       "    </tr>\n",
       "  </tbody>\n",
       "</table>\n",
       "</div>"
      ],
      "text/plain": [
       "   account_id  ip_address               login              logout  \\\n",
       "1           1           2 2021-02-01 08:00:00 2021-02-01 11:30:00   \n",
       "0           1           1 2021-02-01 09:00:00 2021-02-01 09:30:00   \n",
       "2           2           6 2021-02-01 20:30:00 2021-02-01 22:00:00   \n",
       "3           2           7 2021-02-02 20:30:00 2021-02-02 22:00:00   \n",
       "4           3           9 2021-02-01 16:00:00 2021-02-01 16:59:59   \n",
       "5           3          13 2021-02-01 17:00:00 2021-02-01 17:59:59   \n",
       "6           4          10 2021-02-01 16:00:00 2021-02-01 17:00:00   \n",
       "7           4          11 2021-02-01 17:00:00 2021-02-01 17:59:59   \n",
       "\n",
       "            lag_login  \n",
       "1 2021-02-01 09:00:00  \n",
       "0                 NaT  \n",
       "2 2021-02-02 20:30:00  \n",
       "3                 NaT  \n",
       "4 2021-02-01 17:00:00  \n",
       "5                 NaT  \n",
       "6 2021-02-01 17:00:00  \n",
       "7                 NaT  "
      ]
     },
     "execution_count": 104,
     "metadata": {},
     "output_type": "execute_result"
    }
   ],
   "source": [
    "LogInfo"
   ]
  },
  {
   "cell_type": "code",
   "execution_count": 89,
   "metadata": {},
   "outputs": [],
   "source": [
    "LogInfo.drop_duplicates(inplace=True)\n",
    "LogInfo.sort_values(['account_id','ip_address','login','logout'], inplace=True)"
   ]
  },
  {
   "cell_type": "code",
   "execution_count": 100,
   "metadata": {},
   "outputs": [
    {
     "data": {
      "text/plain": [
       "1   2021-02-01 08:00:00\n",
       "0   2021-02-01 09:00:00\n",
       "4   2021-02-01 16:00:00\n",
       "6   2021-02-01 16:00:00\n",
       "5   2021-02-01 17:00:00\n",
       "7   2021-02-01 17:00:00\n",
       "2   2021-02-01 20:30:00\n",
       "3   2021-02-02 20:30:00\n",
       "Name: login, dtype: datetime64[ns]"
      ]
     },
     "execution_count": 100,
     "metadata": {},
     "output_type": "execute_result"
    }
   ],
   "source": [
    "LogInfo['login'].sort_values()"
   ]
  },
  {
   "cell_type": "markdown",
   "metadata": {},
   "source": [
    "# 607. Sales Person 2021/7/25"
   ]
  },
  {
   "cell_type": "code",
   "execution_count": 117,
   "metadata": {},
   "outputs": [],
   "source": [
    "salesperson = pd.DataFrame([[1, \"John\", 100000, 6, \"4/1/2006\"], [2, \"Amy\", 12000, 5,\"5/1/2010\"],\\\n",
    "                  [3, \"Mark\", 65000, 12, \"12/25/2008\"], [4, \"Pam\", 25000, 25,\"1/1/2005\"],\\\n",
    "                  [5,\"Alex\",5000,10,\"2/3/2007\"]],\\\n",
    "                           columns = [\"sales_id\", \"name\", \"salary\", \"commission_rate\",\"hire_date\"])\n",
    "\n",
    "company = pd.DataFrame( [[1, \"RED\",\"Boston\"], [2, \"ORANGE\", \"New York\"],[3, \"YELLOW\", \"Boston\"],\\\n",
    "   [4, \"GREEN\", \"Austin\"]], columns = [\"com_id\", \"name\",\"city\"])\n",
    "\n",
    "orders = pd.DataFrame([[1,\"1/1/2014\",3,4,10000],[2, \"2/1/2014\", 4, 5, 5000],\\\n",
    "                    [3, \"3/1/2014\", 1, 1, 50000],[4, \"4/1/2014\", 1, 4, 25000]],\n",
    "                     columns = [\"order_id\",\"order_date\",\"com_id\",\"sales_id\",\"amount\"])"
   ]
  },
  {
   "cell_type": "code",
   "execution_count": 124,
   "metadata": {},
   "outputs": [
    {
     "data": {
      "text/plain": [
       "1     Amy\n",
       "2    Mark\n",
       "4    Alex\n",
       "Name: name, dtype: object"
      ]
     },
     "execution_count": 124,
     "metadata": {},
     "output_type": "execute_result"
    }
   ],
   "source": [
    "df1 = orders.merge(company, how ='left', on='com_id')\n",
    "salesperson[~salesperson['name'].\\\n",
    "            isin(list(salesperson[salesperson['sales_id'].\\\n",
    "                                  isin(list(df1[df1['name']=='RED']['sales_id']))]['name']))]['name']     "
   ]
  },
  {
   "cell_type": "markdown",
   "metadata": {},
   "source": [
    "# 1919. Leetcodify Similar Friends"
   ]
  },
  {
   "cell_type": "code",
   "execution_count": 129,
   "metadata": {},
   "outputs": [],
   "source": [
    "Listens = pd.DataFrame([[1,10,\"2021-03-15\"],[1,11,\"2021-03-15\"],[1,12,\"2021-03-15\"],[2,10,\"2021-03-15\"],\\\n",
    "                    [2,11,\"2021-03-15\"],[2,12,\"2021-03-15\"],[3,10,\"2021-03-15\"],[3,11,\"2021-03-15\"],\\\n",
    "                    [3,12,\"2021-03-15\"],[4,10,\"2021-03-15\"],[4,11,\"2021-03-15\"],[4,13,\"2021-03-15\"],\\\n",
    "                    [5,10,\"2021-03-16\"],[5,11,\"2021-03-16\"],[5,12,\"2021-03-16\"]],\\\n",
    "                      columns = [\"user_id\",\"song_id\",\"day\"])\n",
    "\n",
    "Friendship = pd.DataFrame([[1,2],[2,4],[2,5]],\\\n",
    "                         columns = [\"user1_id\",\"user2_id\"])"
   ]
  },
  {
   "cell_type": "code",
   "execution_count": 131,
   "metadata": {},
   "outputs": [
    {
     "data": {
      "text/html": [
       "<div>\n",
       "<style scoped>\n",
       "    .dataframe tbody tr th:only-of-type {\n",
       "        vertical-align: middle;\n",
       "    }\n",
       "\n",
       "    .dataframe tbody tr th {\n",
       "        vertical-align: top;\n",
       "    }\n",
       "\n",
       "    .dataframe thead th {\n",
       "        text-align: right;\n",
       "    }\n",
       "</style>\n",
       "<table border=\"1\" class=\"dataframe\">\n",
       "  <thead>\n",
       "    <tr style=\"text-align: right;\">\n",
       "      <th></th>\n",
       "      <th>user1_id</th>\n",
       "      <th>user2_id</th>\n",
       "    </tr>\n",
       "  </thead>\n",
       "  <tbody>\n",
       "    <tr>\n",
       "      <th>0</th>\n",
       "      <td>1</td>\n",
       "      <td>2</td>\n",
       "    </tr>\n",
       "  </tbody>\n",
       "</table>\n",
       "</div>"
      ],
      "text/plain": [
       "   user1_id  user2_id\n",
       "0         1         2"
      ]
     },
     "execution_count": 131,
     "metadata": {},
     "output_type": "execute_result"
    }
   ],
   "source": [
    "Listens = Listens.drop_duplicates()\n",
    "Listens1=Listens.copy()\n",
    "Listens.columns = ['user1_id','song_id','day']\n",
    "Listens1.columns = ['user2_id','song_id','day']\n",
    "\n",
    "df1= Listens.merge(Listens1, on=['day', 'song_id'], how='left')\n",
    "df2=df1[df1['user2_id']>df1['user1_id']].groupby(['user2_id','user1_id','day']).\\\n",
    "filter(lambda x: x['song_id'].nunique()>=3)[['user2_id','user1_id']].drop_duplicates()\n",
    "\n",
    "df2.merge(Friendship, on =['user1_id', 'user2_id'], how='inner')[['user1_id', 'user2_id']]\n"
   ]
  },
  {
   "cell_type": "markdown",
   "metadata": {},
   "source": [
    "# 1917. Leetcodify Friends Recommendations"
   ]
  },
  {
   "cell_type": "code",
   "execution_count": 146,
   "metadata": {},
   "outputs": [],
   "source": [
    "Friendship = pd.DataFrame([[1,2]],\\\n",
    "                         columns = [\"user1_id\",\"user2_id\"])"
   ]
  },
  {
   "cell_type": "code",
   "execution_count": 168,
   "metadata": {},
   "outputs": [
    {
     "data": {
      "text/html": [
       "<div>\n",
       "<style scoped>\n",
       "    .dataframe tbody tr th:only-of-type {\n",
       "        vertical-align: middle;\n",
       "    }\n",
       "\n",
       "    .dataframe tbody tr th {\n",
       "        vertical-align: top;\n",
       "    }\n",
       "\n",
       "    .dataframe thead th {\n",
       "        text-align: right;\n",
       "    }\n",
       "</style>\n",
       "<table border=\"1\" class=\"dataframe\">\n",
       "  <thead>\n",
       "    <tr style=\"text-align: right;\">\n",
       "      <th></th>\n",
       "      <th>user_id</th>\n",
       "      <th>recommended_id</th>\n",
       "    </tr>\n",
       "  </thead>\n",
       "  <tbody>\n",
       "    <tr>\n",
       "      <th>1</th>\n",
       "      <td>1</td>\n",
       "      <td>3</td>\n",
       "    </tr>\n",
       "    <tr>\n",
       "      <th>2</th>\n",
       "      <td>2</td>\n",
       "      <td>3</td>\n",
       "    </tr>\n",
       "    <tr>\n",
       "      <th>1</th>\n",
       "      <td>3</td>\n",
       "      <td>1</td>\n",
       "    </tr>\n",
       "    <tr>\n",
       "      <th>2</th>\n",
       "      <td>3</td>\n",
       "      <td>2</td>\n",
       "    </tr>\n",
       "  </tbody>\n",
       "</table>\n",
       "</div>"
      ],
      "text/plain": [
       "   user_id  recommended_id\n",
       "1        1               3\n",
       "2        2               3\n",
       "1        3               1\n",
       "2        3               2"
      ]
     },
     "execution_count": 168,
     "metadata": {},
     "output_type": "execute_result"
    }
   ],
   "source": [
    "Listens = Listens.drop_duplicates()\n",
    "Listens.columns = ['user1_id','song_id','day']\n",
    "Listens1.columns = ['user2_id','song_id','day']\n",
    "\n",
    "df1= Listens.merge(Listens1, on=['day', 'song_id'], how='left')\n",
    "df2=df1[df1['user2_id']>df1['user1_id']].groupby(['user2_id','user1_id','day']).\\\n",
    "filter(lambda x: x['song_id'].nunique()>=3)[['user1_id','user2_id']].drop_duplicates()\n",
    "\n",
    "\n",
    "Friendship.columns =['user_id','recommended_id']\n",
    "\n",
    "\n",
    "df5 = df2.merge(Friendship, how='left',left_on =['user1_id', 'user2_id'],\\\n",
    "               right_on=['user_id', 'recommended_id'] )\n",
    "import numpy as np\n",
    "df6 = df5[df5['user_id'].isna()| df5['recommended_id'].isna()][['user1_id','user2_id']]\n",
    "\n",
    "df7=df6[['user2_id','user1_id']]\n",
    "df6.columns =['user_id','recommended_id']\n",
    "df7.columns =['user_id','recommended_id']\n",
    "pd.concat([df6,df7])\n"
   ]
  },
  {
   "cell_type": "markdown",
   "metadata": {},
   "source": [
    "# 1384. Total Sales Amount by Year"
   ]
  },
  {
   "cell_type": "code",
   "execution_count": 170,
   "metadata": {},
   "outputs": [],
   "source": [
    "Product = pd.DataFrame([[1, \"LC Phone \"], [2, \"LC T-Shirt\"], [3, \"LC Keychain\"]],\\\n",
    "                       columns = [\"product_id\", \"product_name\"])\n",
    "Sales = pd.DataFrame([[1, \"2019-01-25\", \"2019-02-28\", 100], [2, \"2018-12-01\", \"2020-01-01\", 10],[3, \"2019-12-01\", \"2020-01-31\", 1]],\\\n",
    "                    columns =[\"product_id\", \"period_start\", \"period_end\", \"average_daily_sales\"])\n",
    "Sales['period_start'] = pd.to_datetime(Sales['period_start'])\n",
    "Sales['period_end'] = pd.to_datetime(Sales['period_end'])\n"
   ]
  },
  {
   "cell_type": "code",
   "execution_count": 181,
   "metadata": {},
   "outputs": [
    {
     "data": {
      "text/html": [
       "<div>\n",
       "<style scoped>\n",
       "    .dataframe tbody tr th:only-of-type {\n",
       "        vertical-align: middle;\n",
       "    }\n",
       "\n",
       "    .dataframe tbody tr th {\n",
       "        vertical-align: top;\n",
       "    }\n",
       "\n",
       "    .dataframe thead th {\n",
       "        text-align: right;\n",
       "    }\n",
       "</style>\n",
       "<table border=\"1\" class=\"dataframe\">\n",
       "  <thead>\n",
       "    <tr style=\"text-align: right;\">\n",
       "      <th></th>\n",
       "      <th>product_id</th>\n",
       "      <th>product_name</th>\n",
       "      <th>report_year</th>\n",
       "      <th>total_amount</th>\n",
       "    </tr>\n",
       "  </thead>\n",
       "  <tbody>\n",
       "    <tr>\n",
       "      <th>0</th>\n",
       "      <td>1</td>\n",
       "      <td>LC Phone</td>\n",
       "      <td>2019</td>\n",
       "      <td>3500</td>\n",
       "    </tr>\n",
       "    <tr>\n",
       "      <th>1</th>\n",
       "      <td>2</td>\n",
       "      <td>LC T-Shirt</td>\n",
       "      <td>2018</td>\n",
       "      <td>310</td>\n",
       "    </tr>\n",
       "    <tr>\n",
       "      <th>2</th>\n",
       "      <td>2</td>\n",
       "      <td>LC T-Shirt</td>\n",
       "      <td>2019</td>\n",
       "      <td>3650</td>\n",
       "    </tr>\n",
       "    <tr>\n",
       "      <th>3</th>\n",
       "      <td>2</td>\n",
       "      <td>LC T-Shirt</td>\n",
       "      <td>2020</td>\n",
       "      <td>10</td>\n",
       "    </tr>\n",
       "    <tr>\n",
       "      <th>4</th>\n",
       "      <td>3</td>\n",
       "      <td>LC Keychain</td>\n",
       "      <td>2019</td>\n",
       "      <td>31</td>\n",
       "    </tr>\n",
       "    <tr>\n",
       "      <th>5</th>\n",
       "      <td>3</td>\n",
       "      <td>LC Keychain</td>\n",
       "      <td>2020</td>\n",
       "      <td>31</td>\n",
       "    </tr>\n",
       "  </tbody>\n",
       "</table>\n",
       "</div>"
      ],
      "text/plain": [
       "   product_id product_name  report_year  total_amount\n",
       "0           1    LC Phone          2019          3500\n",
       "1           2   LC T-Shirt         2018           310\n",
       "2           2   LC T-Shirt         2019          3650\n",
       "3           2   LC T-Shirt         2020            10\n",
       "4           3  LC Keychain         2019            31\n",
       "5           3  LC Keychain         2020            31"
      ]
     },
     "execution_count": 181,
     "metadata": {},
     "output_type": "execute_result"
    }
   ],
   "source": [
    "min_dt = Sales.period_start.min()\n",
    "max_dt = Sales.period_end.max()\n",
    "dt_range = pd.DataFrame(pd.date_range(min_dt, max_dt), columns = ['dates'])   \n",
    "\n",
    "dt_range ['key'] = 0\n",
    "Sales['key'] = 0\n",
    "\n",
    "\n",
    "df = Sales.merge(Product, how='left', on=['product_id']).merge(dt_range, how='outer', on='key')\n",
    "df['report_year'] = df['dates'].dt.year\n",
    "df = df[(df['dates']>=df['period_start']) & (df['dates']<=df['period_end'])]\n",
    "\n",
    "df1=df.groupby(['product_id','product_name','report_year','average_daily_sales'])['dates'].\\\n",
    "count().reset_index(name='cnt')\n",
    "\n",
    "df1['total_amount']=df1['cnt']*df1['average_daily_sales']\n",
    "df1[['product_id','product_name','report_year','total_amount']]\n"
   ]
  },
  {
   "cell_type": "markdown",
   "metadata": {},
   "source": [
    "# 1479. Sales by Day of the Week"
   ]
  },
  {
   "cell_type": "code",
   "execution_count": null,
   "metadata": {},
   "outputs": [],
   "source": [
    "{\"headers\": {\"Orders\": [\"order_id\", \"customer_id\", \"order_date\", \"item_id\", \"quantity\"], \n",
    "             \"Items\":\n",
    "             [\"item_id\", \"item_name\", \"item_category\"]}, \n",
    " \"rows\": {\"Orders\": [[1, 1, \"2020-06-01\", 1, 10], [2, 1, \"2020-06-08\", 2, 10], [3, 2, \"2020-06-02\", 1, 5],\n",
    "                     [4, 3, \"2020-06-03\", 3, 5], [5, 4, \"2020-06-04\", 4, 1], [6, 4, \"2020-06-05\", 5, 5], \n",
    "                     [7, 5, \"2020-06-05\", 1, 10], [8, 5, \"2020-06-14\", 4, 5], [9, 5, \"2020-06-21\", 3, 5]],\n",
    "          \"Items\": [[1, \"LC Alg. Book\", \"Book\"], [2, \"LC DB. Book\", \"Book\"], [3, \"LC SmarthPhone\", \"Phone\"], \n",
    "[4, \"LC Phone 2020\", \"Phone\"], [5, \"LC SmartGlass\", \"Glasses\"], [6, \"LC T-Shirt XL\", \"T-shirt\"]]}}"
   ]
  },
  {
   "cell_type": "code",
   "execution_count": 224,
   "metadata": {},
   "outputs": [],
   "source": [
    "Orders = pd.DataFrame([[1, 1, \"2020-06-01\", 1, 10], [2, 1, \"2020-06-08\", 2, 10], [3, 2, \"2020-06-02\", 1, 5],[4, 3, \"2020-06-03\", 3, 5], [5, 4, \"2020-06-04\", 4, 1], [6, 4, \"2020-06-05\", 5, 5],[7, 5, \"2020-06-05\", 1, 10], [8, 5, \"2020-06-14\", 4, 5], [9, 5, \"2020-06-21\", 3, 5]],\\\n",
    "                     columns =[\"order_id\", \"customer_id\", \"order_date\", \"item_id\", \"quantity\"])\n",
    "\n",
    "\n",
    "Items = pd.DataFrame([[1, \"LC Alg. Book\", \"Book\"], [2, \"LC DB. Book\", \"Book\"], [3, \"LC SmarthPhone\", \"Phone\"],[4, \"LC Phone 2020\", \"Phone\"], [5, \"LC SmartGlass\", \"Glasses\"], [6, \"LC T-Shirt XL\", \"T-shirt\"]],\\\n",
    "                    columns = [\"item_id\", \"item_name\", \"item_category\"] )\n",
    "\n",
    "Orders['order_date']=pd.to_datetime(Orders['order_date'])"
   ]
  },
  {
   "cell_type": "code",
   "execution_count": 234,
   "metadata": {},
   "outputs": [],
   "source": [
    "days = pd.DataFrame(['Monday', 'Tuesday', 'Wednesday', 'Thursday', 'Friday', 'Saturday','Sunday'],columns = ['weekday'])\n"
   ]
  },
  {
   "cell_type": "code",
   "execution_count": 235,
   "metadata": {},
   "outputs": [
    {
     "data": {
      "text/html": [
       "<div>\n",
       "<style scoped>\n",
       "    .dataframe tbody tr th:only-of-type {\n",
       "        vertical-align: middle;\n",
       "    }\n",
       "\n",
       "    .dataframe tbody tr th {\n",
       "        vertical-align: top;\n",
       "    }\n",
       "\n",
       "    .dataframe thead th {\n",
       "        text-align: right;\n",
       "    }\n",
       "</style>\n",
       "<table border=\"1\" class=\"dataframe\">\n",
       "  <thead>\n",
       "    <tr style=\"text-align: right;\">\n",
       "      <th>weekday</th>\n",
       "      <th>item_category</th>\n",
       "      <th>Monday</th>\n",
       "      <th>Tuesday</th>\n",
       "      <th>Wednesday</th>\n",
       "      <th>Thursday</th>\n",
       "      <th>Friday</th>\n",
       "      <th>Saturday</th>\n",
       "      <th>Sunday</th>\n",
       "    </tr>\n",
       "  </thead>\n",
       "  <tbody>\n",
       "    <tr>\n",
       "      <th>0</th>\n",
       "      <td>Book</td>\n",
       "      <td>20.0</td>\n",
       "      <td>5.0</td>\n",
       "      <td>0.0</td>\n",
       "      <td>0.0</td>\n",
       "      <td>10.0</td>\n",
       "      <td>0.0</td>\n",
       "      <td>0.0</td>\n",
       "    </tr>\n",
       "    <tr>\n",
       "      <th>1</th>\n",
       "      <td>Glasses</td>\n",
       "      <td>0.0</td>\n",
       "      <td>0.0</td>\n",
       "      <td>0.0</td>\n",
       "      <td>0.0</td>\n",
       "      <td>5.0</td>\n",
       "      <td>0.0</td>\n",
       "      <td>0.0</td>\n",
       "    </tr>\n",
       "    <tr>\n",
       "      <th>2</th>\n",
       "      <td>Phone</td>\n",
       "      <td>0.0</td>\n",
       "      <td>0.0</td>\n",
       "      <td>5.0</td>\n",
       "      <td>1.0</td>\n",
       "      <td>0.0</td>\n",
       "      <td>0.0</td>\n",
       "      <td>10.0</td>\n",
       "    </tr>\n",
       "    <tr>\n",
       "      <th>3</th>\n",
       "      <td>T-shirt</td>\n",
       "      <td>0.0</td>\n",
       "      <td>0.0</td>\n",
       "      <td>0.0</td>\n",
       "      <td>0.0</td>\n",
       "      <td>0.0</td>\n",
       "      <td>0.0</td>\n",
       "      <td>0.0</td>\n",
       "    </tr>\n",
       "  </tbody>\n",
       "</table>\n",
       "</div>"
      ],
      "text/plain": [
       "weekday item_category  Monday  Tuesday  Wednesday  Thursday  Friday  Saturday  \\\n",
       "0                Book    20.0      5.0        0.0       0.0    10.0       0.0   \n",
       "1             Glasses     0.0      0.0        0.0       0.0     5.0       0.0   \n",
       "2               Phone     0.0      0.0        5.0       1.0     0.0       0.0   \n",
       "3             T-shirt     0.0      0.0        0.0       0.0     0.0       0.0   \n",
       "\n",
       "weekday  Sunday  \n",
       "0           0.0  \n",
       "1           0.0  \n",
       "2          10.0  \n",
       "3           0.0  "
      ]
     },
     "execution_count": 235,
     "metadata": {},
     "output_type": "execute_result"
    }
   ],
   "source": [
    "days['key']=0\n",
    "Items['key']=0\n",
    "Orders['weekday']=Orders['order_date'].dt.strftime('%A')\n",
    "df = days.merge(Items, on='key',how='outer').merge(Orders, how ='left', on=['item_id','weekday'])\n",
    "\n",
    "df = df.fillna(0)\n",
    "\n",
    "df1 = df.groupby(['item_category','weekday'])['quantity'].sum().reset_index()\n",
    "\n",
    "df2=df1.pivot(index='item_category',columns = 'weekday')['quantity'].reset_index()\n",
    "\n",
    "df2=df2.fillna(0)\n",
    "\n",
    "\n",
    "df2[['item_category', 'Monday', 'Tuesday','Wednesday','Thursday','Friday','Saturday','Sunday']].sort_values(by='item_category')\n"
   ]
  },
  {
   "cell_type": "markdown",
   "metadata": {},
   "source": [
    "# 626. Exchange Seats 2021/8/2"
   ]
  },
  {
   "cell_type": "code",
   "execution_count": 5,
   "metadata": {},
   "outputs": [],
   "source": [
    "import pandas as pd\n",
    "import numpy as np"
   ]
  },
  {
   "cell_type": "code",
   "execution_count": 8,
   "metadata": {},
   "outputs": [],
   "source": [
    "seat = pd.DataFrame([[1,\"Abbot\"],[2,\"Doris\"],[3,\"Emerson\"],[4,\"Green\"],[5,\"Jeames\"]],\\\n",
    "                  columns =  [\"id\",\"student\"])"
   ]
  },
  {
   "cell_type": "code",
   "execution_count": 9,
   "metadata": {},
   "outputs": [
    {
     "data": {
      "text/html": [
       "<div>\n",
       "<style scoped>\n",
       "    .dataframe tbody tr th:only-of-type {\n",
       "        vertical-align: middle;\n",
       "    }\n",
       "\n",
       "    .dataframe tbody tr th {\n",
       "        vertical-align: top;\n",
       "    }\n",
       "\n",
       "    .dataframe thead th {\n",
       "        text-align: right;\n",
       "    }\n",
       "</style>\n",
       "<table border=\"1\" class=\"dataframe\">\n",
       "  <thead>\n",
       "    <tr style=\"text-align: right;\">\n",
       "      <th></th>\n",
       "      <th>id</th>\n",
       "      <th>student</th>\n",
       "    </tr>\n",
       "  </thead>\n",
       "  <tbody>\n",
       "    <tr>\n",
       "      <th>1</th>\n",
       "      <td>1</td>\n",
       "      <td>Doris</td>\n",
       "    </tr>\n",
       "    <tr>\n",
       "      <th>0</th>\n",
       "      <td>2</td>\n",
       "      <td>Abbot</td>\n",
       "    </tr>\n",
       "    <tr>\n",
       "      <th>3</th>\n",
       "      <td>3</td>\n",
       "      <td>Green</td>\n",
       "    </tr>\n",
       "    <tr>\n",
       "      <th>2</th>\n",
       "      <td>4</td>\n",
       "      <td>Emerson</td>\n",
       "    </tr>\n",
       "    <tr>\n",
       "      <th>4</th>\n",
       "      <td>5</td>\n",
       "      <td>Jeames</td>\n",
       "    </tr>\n",
       "  </tbody>\n",
       "</table>\n",
       "</div>"
      ],
      "text/plain": [
       "   id  student\n",
       "1   1    Doris\n",
       "0   2    Abbot\n",
       "3   3    Green\n",
       "2   4  Emerson\n",
       "4   5   Jeames"
      ]
     },
     "execution_count": 9,
     "metadata": {},
     "output_type": "execute_result"
    }
   ],
   "source": [
    "seat['id']=np.where(seat['id']%2==0,seat['id']-1, np.where((seat['id']%2==1) & (seat['id']!=max(seat['id'])),\\\n",
    "                                                            seat['id']+1, seat['id']))\n",
    "\n",
    "seat[['id','student']].sort_values(by='id')"
   ]
  },
  {
   "cell_type": "markdown",
   "metadata": {},
   "source": [
    "# 580. Count Student Number in Departments"
   ]
  },
  {
   "cell_type": "code",
   "execution_count": null,
   "metadata": {},
   "outputs": [],
   "source": [
    "{\"headers\":{\"student\":[\"student_id\",\"student_name\",\"gender\",\"dept_id\"],\"department\":[\"dept_id\",\"dept_name\"]},\"rows\":{\"student\":\n",
    "                                                                                                                     [[1,\"Jack\",\"M\",1],[2,\"Jane\",\"F\",1],[3,\"Mark\",\"M\",2]],\n",
    "                                                                                                                     \"department\":[[1,\"Engineering\"],[2,\"Science\"],[3,\"Law\"]]}}"
   ]
  },
  {
   "cell_type": "code",
   "execution_count": 10,
   "metadata": {},
   "outputs": [],
   "source": [
    "student = pd.DataFrame([[1,\"Jack\",\"M\",1],[2,\"Jane\",\"F\",1],[3,\"Mark\",\"M\",2]],\\\n",
    "                      columns=[\"student_id\",\"student_name\",\"gender\",\"dept_id\"])\n",
    "department = pd.DataFrame([[1,\"Engineering\"],[2,\"Science\"],[3,\"Law\"]], columns = [\"dept_id\",\"dept_name\"])"
   ]
  },
  {
   "cell_type": "code",
   "execution_count": 22,
   "metadata": {},
   "outputs": [
    {
     "data": {
      "text/html": [
       "<div>\n",
       "<style scoped>\n",
       "    .dataframe tbody tr th:only-of-type {\n",
       "        vertical-align: middle;\n",
       "    }\n",
       "\n",
       "    .dataframe tbody tr th {\n",
       "        vertical-align: top;\n",
       "    }\n",
       "\n",
       "    .dataframe thead th {\n",
       "        text-align: right;\n",
       "    }\n",
       "</style>\n",
       "<table border=\"1\" class=\"dataframe\">\n",
       "  <thead>\n",
       "    <tr style=\"text-align: right;\">\n",
       "      <th></th>\n",
       "      <th>dept_name</th>\n",
       "      <th>student_number</th>\n",
       "    </tr>\n",
       "  </thead>\n",
       "  <tbody>\n",
       "    <tr>\n",
       "      <th>0</th>\n",
       "      <td>Engineering</td>\n",
       "      <td>2.0</td>\n",
       "    </tr>\n",
       "    <tr>\n",
       "      <th>1</th>\n",
       "      <td>Science</td>\n",
       "      <td>1.0</td>\n",
       "    </tr>\n",
       "    <tr>\n",
       "      <th>2</th>\n",
       "      <td>Law</td>\n",
       "      <td>0.0</td>\n",
       "    </tr>\n",
       "  </tbody>\n",
       "</table>\n",
       "</div>"
      ],
      "text/plain": [
       "     dept_name  student_number\n",
       "0  Engineering             2.0\n",
       "1      Science             1.0\n",
       "2          Law             0.0"
      ]
     },
     "execution_count": 22,
     "metadata": {},
     "output_type": "execute_result"
    }
   ],
   "source": [
    "df1 = student.groupby('dept_id')['student_id'].nunique().reset_index(name='student_number')\n",
    "department.merge(df1, how='left', on='dept_id').fillna(0)[['dept_name','student_number']].\\\n",
    "sort_values(['student_number','dept_name'], ascending=[False, True])\n"
   ]
  },
  {
   "cell_type": "code",
   "execution_count": 21,
   "metadata": {},
   "outputs": [
    {
     "data": {
      "text/html": [
       "<div>\n",
       "<style scoped>\n",
       "    .dataframe tbody tr th:only-of-type {\n",
       "        vertical-align: middle;\n",
       "    }\n",
       "\n",
       "    .dataframe tbody tr th {\n",
       "        vertical-align: top;\n",
       "    }\n",
       "\n",
       "    .dataframe thead th {\n",
       "        text-align: right;\n",
       "    }\n",
       "</style>\n",
       "<table border=\"1\" class=\"dataframe\">\n",
       "  <thead>\n",
       "    <tr style=\"text-align: right;\">\n",
       "      <th></th>\n",
       "      <th>dept_name</th>\n",
       "      <th>student_number</th>\n",
       "    </tr>\n",
       "  </thead>\n",
       "  <tbody>\n",
       "    <tr>\n",
       "      <th>0</th>\n",
       "      <td>Engineering</td>\n",
       "      <td>2.0</td>\n",
       "    </tr>\n",
       "    <tr>\n",
       "      <th>1</th>\n",
       "      <td>Science</td>\n",
       "      <td>1.0</td>\n",
       "    </tr>\n",
       "    <tr>\n",
       "      <th>2</th>\n",
       "      <td>Law</td>\n",
       "      <td>0.0</td>\n",
       "    </tr>\n",
       "  </tbody>\n",
       "</table>\n",
       "</div>"
      ],
      "text/plain": [
       "     dept_name  student_number\n",
       "0  Engineering             2.0\n",
       "1      Science             1.0\n",
       "2          Law             0.0"
      ]
     },
     "execution_count": 21,
     "metadata": {},
     "output_type": "execute_result"
    }
   ],
   "source": [
    "department.merge(df1, how='left', on='dept_id').fillna(0)[['dept_name','student_number']]"
   ]
  },
  {
   "cell_type": "markdown",
   "metadata": {},
   "source": [
    "# 184. Department Highest Salary"
   ]
  },
  {
   "cell_type": "code",
   "execution_count": null,
   "metadata": {},
   "outputs": [],
   "source": [
    "{\"headers\": {\"Employee\": [\"Id\", \"Name\", \"Salary\", \"DepartmentId\"], \n",
    "             \"Department\": [\"Id\", \"Name\"]}, \"rows\": \n",
    " {\"Employee\": [[1, \"Joe\", 70000, 1], [2, \"Jim\", 90000, 1], \n",
    "               [3, \"Henry\", 80000, 2], [4, \"Sam\", 60000, 2], [5, \"Max\", 90000, 1]], \n",
    "  \"Department\": [[1, \"IT\"], [2, \"Sales\"]]}}"
   ]
  },
  {
   "cell_type": "code",
   "execution_count": 23,
   "metadata": {},
   "outputs": [],
   "source": [
    "Employee=pd.DataFrame([[1, \"Joe\", 70000, 1], [2, \"Jim\", 90000, 1],\\\n",
    "               [3, \"Henry\", 80000, 2], [4, \"Sam\", 60000, 2], [5, \"Max\", 90000, 1]],\\\n",
    "                     columns = [\"Id\", \"Name\", \"Salary\", \"DepartmentId\"])\n",
    "Department = pd.DataFrame([[1, \"IT\"], [2, \"Sales\"]], columns = [\"Id\", \"Name\"] )"
   ]
  },
  {
   "cell_type": "code",
   "execution_count": 24,
   "metadata": {},
   "outputs": [
    {
     "data": {
      "text/html": [
       "<div>\n",
       "<style scoped>\n",
       "    .dataframe tbody tr th:only-of-type {\n",
       "        vertical-align: middle;\n",
       "    }\n",
       "\n",
       "    .dataframe tbody tr th {\n",
       "        vertical-align: top;\n",
       "    }\n",
       "\n",
       "    .dataframe thead th {\n",
       "        text-align: right;\n",
       "    }\n",
       "</style>\n",
       "<table border=\"1\" class=\"dataframe\">\n",
       "  <thead>\n",
       "    <tr style=\"text-align: right;\">\n",
       "      <th></th>\n",
       "      <th>Department</th>\n",
       "      <th>Employee</th>\n",
       "      <th>Salary</th>\n",
       "    </tr>\n",
       "  </thead>\n",
       "  <tbody>\n",
       "    <tr>\n",
       "      <th>0</th>\n",
       "      <td>IT</td>\n",
       "      <td>Jim</td>\n",
       "      <td>90000</td>\n",
       "    </tr>\n",
       "    <tr>\n",
       "      <th>1</th>\n",
       "      <td>IT</td>\n",
       "      <td>Max</td>\n",
       "      <td>90000</td>\n",
       "    </tr>\n",
       "    <tr>\n",
       "      <th>2</th>\n",
       "      <td>Sales</td>\n",
       "      <td>Henry</td>\n",
       "      <td>80000</td>\n",
       "    </tr>\n",
       "  </tbody>\n",
       "</table>\n",
       "</div>"
      ],
      "text/plain": [
       "  Department Employee  Salary\n",
       "0         IT      Jim   90000\n",
       "1         IT      Max   90000\n",
       "2      Sales    Henry   80000"
      ]
     },
     "execution_count": 24,
     "metadata": {},
     "output_type": "execute_result"
    }
   ],
   "source": [
    "Employee['rank'] = Employee.groupby('DepartmentId')['Salary'].rank(method='dense',ascending=False)\n",
    "Employee = Employee.query(\"rank==1\")\n",
    "Employee.columns = ['Id','Employee','Salary','DepartmentId', 'rank']\n",
    "Department.columns =['Id','Department']\n",
    "Employee.merge(Department, how='inner',left_on='DepartmentId', right_on='Id')[['Department','Employee','Salary']]"
   ]
  },
  {
   "cell_type": "markdown",
   "metadata": {},
   "source": [
    "# 262. Trips and Users"
   ]
  },
  {
   "cell_type": "code",
   "execution_count": 37,
   "metadata": {},
   "outputs": [],
   "source": [
    "Trips=pd.DataFrame([[\"1\", \"1\", \"10\", \"1\", \"completed\", \"2013-10-01\"],\\\n",
    "                    [\"2\", \"2\", \"11\", \"1\", \"cancelled_by_driver\", \"2013-10-01\"],\\\n",
    "                    [\"3\", \"3\", \"12\", \"6\", \"completed\", \"2013-10-01\"],\\\n",
    "                    [\"4\", \"4\", \"13\", \"6\", \"cancelled_by_client\", \"2013-10-01\"],\\\n",
    "                    [\"5\", \"1\", \"10\", \"1\", \"completed\", \"2013-10-02\"],\\\n",
    "                    [\"6\", \"2\", \"11\", \"6\", \"completed\", \"2013-10-02\"],\\\n",
    "                    [\"7\", \"3\", \"12\", \"6\", \"completed\", \"2013-10-02\"],\\\n",
    "                    [\"8\", \"2\", \"12\", \"12\", \"completed\", \"2013-10-03\"],\\\n",
    "                    [\"9\", \"3\", \"10\", \"12\", \"completed\", \"2013-10-03\"],\\\n",
    "                    [\"10\", \"4\", \"13\", \"12\", \"cancelled_by_driver\", \"2013-10-03\"]],\\\n",
    "                  columns = [\"Id\", \"Client_Id\", \"Driver_Id\", \"City_Id\", \"Status\", \"Request_at\"])\n",
    "\n",
    "Users = pd.DataFrame([[\"1\", \"No\", \"client\"], [\"2\", \"Yes\", \"client\"], [\"3\", \"No\", \"client\"], [\"4\", \"No\", \"client\"],\\\n",
    "                    [\"10\", \"No\", \"driver\"], [\"11\", \"No\", \"driver\"], [\"12\", \"No\", \"driver\"], [\"13\", \"No\", \"driver\"]],\n",
    "                    columns =[\"Users_Id\", \"Banned\", \"Role\"])"
   ]
  },
  {
   "cell_type": "code",
   "execution_count": 38,
   "metadata": {},
   "outputs": [
    {
     "data": {
      "text/html": [
       "<div>\n",
       "<style scoped>\n",
       "    .dataframe tbody tr th:only-of-type {\n",
       "        vertical-align: middle;\n",
       "    }\n",
       "\n",
       "    .dataframe tbody tr th {\n",
       "        vertical-align: top;\n",
       "    }\n",
       "\n",
       "    .dataframe thead th {\n",
       "        text-align: right;\n",
       "    }\n",
       "</style>\n",
       "<table border=\"1\" class=\"dataframe\">\n",
       "  <thead>\n",
       "    <tr style=\"text-align: right;\">\n",
       "      <th></th>\n",
       "      <th>Day</th>\n",
       "      <th>Cancellation Rate</th>\n",
       "    </tr>\n",
       "  </thead>\n",
       "  <tbody>\n",
       "    <tr>\n",
       "      <th>0</th>\n",
       "      <td>2013-10-01</td>\n",
       "      <td>0.33</td>\n",
       "    </tr>\n",
       "    <tr>\n",
       "      <th>1</th>\n",
       "      <td>2013-10-02</td>\n",
       "      <td>0.00</td>\n",
       "    </tr>\n",
       "    <tr>\n",
       "      <th>2</th>\n",
       "      <td>2013-10-03</td>\n",
       "      <td>0.50</td>\n",
       "    </tr>\n",
       "  </tbody>\n",
       "</table>\n",
       "</div>"
      ],
      "text/plain": [
       "         Day  Cancellation Rate\n",
       "0 2013-10-01               0.33\n",
       "1 2013-10-02               0.00\n",
       "2 2013-10-03               0.50"
      ]
     },
     "execution_count": 38,
     "metadata": {},
     "output_type": "execute_result"
    }
   ],
   "source": [
    "Trips['Day']=pd.to_datetime(Trips['Request_at'])\n",
    "Trips=Trips.query(\"Day >= '2013-10-01' and Day <= '2013-10-03'\")\n",
    "\n",
    "unbanned = list(Users.query(\"Banned=='No'\")['Users_Id'])\n",
    "Trips = Trips[(Trips['Client_Id'].isin(unbanned)) & (Trips['Driver_Id'].isin(unbanned))]\n",
    "Trips.groupby('Day').\\\n",
    "apply(lambda x: pd.Series({'Cancellation Rate':\\\n",
    "x[(x['Status']=='cancelled_by_driver')|(x['Status']=='cancelled_by_client')]['Id'].count()/x['Id'].count()})).\\\n",
    "reset_index().round(2).sort_values('Day')"
   ]
  },
  {
   "cell_type": "markdown",
   "metadata": {},
   "source": [
    "# 1321. Restaurant Growth"
   ]
  },
  {
   "cell_type": "code",
   "execution_count": null,
   "metadata": {},
   "outputs": [],
   "source": [
    "{\"headers\":{\"Customer\":[\"customer_id\",\"name\",\"visited_on\",\"amount\"]},\n",
    " \"rows\":{\"Customer\":[[1,\"Jhon\",\"2019-01-01\",100],[2,\"Daniel\",\"2019-01-02\",110],[3,\"Jade\",\"2019-01-03\",120],\n",
    "                     [4,\"Khaled\",\"2019-01-04\",130],[5,\"Winston\",\"2019-01-05\",110],[6,\"Elvis\",\"2019-01-06\",140],\n",
    "                     [7,\"Anna\",\"2019-01-07\",150],[8,\"Maria\",\"2019-01-08\",80],[9,\"Jaze\",\"2019-01-09\",110],\n",
    "                     [1,\"Jhon\",\"2019-01-10\",130],[3,\"Jade\",\"2019-01-10\",150]]}}"
   ]
  },
  {
   "cell_type": "code",
   "execution_count": 102,
   "metadata": {},
   "outputs": [],
   "source": [
    "Customer = pd.DataFrame([[1,\"Jhon\",\"2019-01-01\",100],[2,\"Daniel\",\"2019-01-02\",110],[3,\"Jade\",\"2019-01-03\",120],\\\n",
    "                     [4,\"Khaled\",\"2019-01-04\",130],[5,\"Winston\",\"2019-01-05\",110],[6,\"Elvis\",\"2019-01-06\",140],\\\n",
    "                     [7,\"Anna\",\"2019-01-07\",150],[8,\"Maria\",\"2019-01-08\",80],[9,\"Jaze\",\"2019-01-09\",110],\\\n",
    "                     [1,\"Jhon\",\"2019-01-10\",130],[3,\"Jade\",\"2019-01-10\",150]],\\\n",
    "                    columns = [\"customer_id\",\"name\",\"visited_on\",\"amount\"])"
   ]
  },
  {
   "cell_type": "code",
   "execution_count": 103,
   "metadata": {},
   "outputs": [],
   "source": [
    "Customer['visited_on']=pd.to_datetime(Customer['visited_on'])\n",
    "\n",
    "Customer = Customer.groupby('visited_on')['amount'].sum().reset_index()\n",
    "\n",
    "\n",
    "## below is optioanl\n",
    "import datetime as dt\n",
    "min_dates = Customer['visited_on'].min()+pd.DateOffset(days=6)\n",
    "Customer.sort_values('visited_on',inplace=True)\n"
   ]
  },
  {
   "cell_type": "code",
   "execution_count": 104,
   "metadata": {},
   "outputs": [],
   "source": [
    "import datetime\n",
    "min_dates = Customer['visited_on'].min()+pd.DateOffset(days=6)"
   ]
  },
  {
   "cell_type": "code",
   "execution_count": 105,
   "metadata": {},
   "outputs": [
    {
     "data": {
      "text/html": [
       "<div>\n",
       "<style scoped>\n",
       "    .dataframe tbody tr th:only-of-type {\n",
       "        vertical-align: middle;\n",
       "    }\n",
       "\n",
       "    .dataframe tbody tr th {\n",
       "        vertical-align: top;\n",
       "    }\n",
       "\n",
       "    .dataframe thead th {\n",
       "        text-align: right;\n",
       "    }\n",
       "</style>\n",
       "<table border=\"1\" class=\"dataframe\">\n",
       "  <thead>\n",
       "    <tr style=\"text-align: right;\">\n",
       "      <th></th>\n",
       "      <th>visited_on</th>\n",
       "      <th>amount</th>\n",
       "    </tr>\n",
       "  </thead>\n",
       "  <tbody>\n",
       "    <tr>\n",
       "      <th>0</th>\n",
       "      <td>2019-01-01</td>\n",
       "      <td>100</td>\n",
       "    </tr>\n",
       "    <tr>\n",
       "      <th>1</th>\n",
       "      <td>2019-01-02</td>\n",
       "      <td>110</td>\n",
       "    </tr>\n",
       "    <tr>\n",
       "      <th>2</th>\n",
       "      <td>2019-01-03</td>\n",
       "      <td>120</td>\n",
       "    </tr>\n",
       "    <tr>\n",
       "      <th>3</th>\n",
       "      <td>2019-01-04</td>\n",
       "      <td>130</td>\n",
       "    </tr>\n",
       "    <tr>\n",
       "      <th>4</th>\n",
       "      <td>2019-01-05</td>\n",
       "      <td>110</td>\n",
       "    </tr>\n",
       "    <tr>\n",
       "      <th>5</th>\n",
       "      <td>2019-01-06</td>\n",
       "      <td>140</td>\n",
       "    </tr>\n",
       "    <tr>\n",
       "      <th>6</th>\n",
       "      <td>2019-01-07</td>\n",
       "      <td>150</td>\n",
       "    </tr>\n",
       "    <tr>\n",
       "      <th>7</th>\n",
       "      <td>2019-01-08</td>\n",
       "      <td>80</td>\n",
       "    </tr>\n",
       "    <tr>\n",
       "      <th>8</th>\n",
       "      <td>2019-01-09</td>\n",
       "      <td>110</td>\n",
       "    </tr>\n",
       "    <tr>\n",
       "      <th>9</th>\n",
       "      <td>2019-01-10</td>\n",
       "      <td>280</td>\n",
       "    </tr>\n",
       "  </tbody>\n",
       "</table>\n",
       "</div>"
      ],
      "text/plain": [
       "  visited_on  amount\n",
       "0 2019-01-01     100\n",
       "1 2019-01-02     110\n",
       "2 2019-01-03     120\n",
       "3 2019-01-04     130\n",
       "4 2019-01-05     110\n",
       "5 2019-01-06     140\n",
       "6 2019-01-07     150\n",
       "7 2019-01-08      80\n",
       "8 2019-01-09     110\n",
       "9 2019-01-10     280"
      ]
     },
     "execution_count": 105,
     "metadata": {},
     "output_type": "execute_result"
    }
   ],
   "source": [
    "Customer"
   ]
  },
  {
   "cell_type": "code",
   "execution_count": 106,
   "metadata": {},
   "outputs": [
    {
     "data": {
      "text/html": [
       "<div>\n",
       "<style scoped>\n",
       "    .dataframe tbody tr th:only-of-type {\n",
       "        vertical-align: middle;\n",
       "    }\n",
       "\n",
       "    .dataframe tbody tr th {\n",
       "        vertical-align: top;\n",
       "    }\n",
       "\n",
       "    .dataframe thead th {\n",
       "        text-align: right;\n",
       "    }\n",
       "</style>\n",
       "<table border=\"1\" class=\"dataframe\">\n",
       "  <thead>\n",
       "    <tr style=\"text-align: right;\">\n",
       "      <th></th>\n",
       "      <th>visited_on</th>\n",
       "      <th>average_amount</th>\n",
       "      <th>total_amount</th>\n",
       "    </tr>\n",
       "  </thead>\n",
       "  <tbody>\n",
       "    <tr>\n",
       "      <th>6</th>\n",
       "      <td>2019-01-07</td>\n",
       "      <td>122.86</td>\n",
       "      <td>860.0</td>\n",
       "    </tr>\n",
       "    <tr>\n",
       "      <th>7</th>\n",
       "      <td>2019-01-08</td>\n",
       "      <td>120.00</td>\n",
       "      <td>840.0</td>\n",
       "    </tr>\n",
       "    <tr>\n",
       "      <th>8</th>\n",
       "      <td>2019-01-09</td>\n",
       "      <td>120.00</td>\n",
       "      <td>840.0</td>\n",
       "    </tr>\n",
       "    <tr>\n",
       "      <th>9</th>\n",
       "      <td>2019-01-10</td>\n",
       "      <td>142.86</td>\n",
       "      <td>1000.0</td>\n",
       "    </tr>\n",
       "  </tbody>\n",
       "</table>\n",
       "</div>"
      ],
      "text/plain": [
       "  visited_on  average_amount  total_amount\n",
       "6 2019-01-07          122.86         860.0\n",
       "7 2019-01-08          120.00         840.0\n",
       "8 2019-01-09          120.00         840.0\n",
       "9 2019-01-10          142.86        1000.0"
      ]
     },
     "execution_count": 106,
     "metadata": {},
     "output_type": "execute_result"
    }
   ],
   "source": [
    "# correct answer\n",
    "Customer['average_amount']=Customer['amount'].rolling(window=7).mean().round(2)\n",
    "Customer['total_amount']=Customer['amount'].rolling(window=7).sum()\n",
    "Customer.drop('amount', axis=1,inplace=True)\n",
    "Customer.dropna().sort_values('visited_on')"
   ]
  },
  {
   "cell_type": "markdown",
   "metadata": {},
   "source": [
    "# 1173. Immediate Food Delivery I   2021/8/4"
   ]
  },
  {
   "cell_type": "code",
   "execution_count": 107,
   "metadata": {},
   "outputs": [],
   "source": [
    "Delivery= pd.DataFrame([[1,1,\"2019-08-01\",\"2019-08-02\"],[2,5,\"2019-08-02\",\"2019-08-02\"],\\\n",
    "[3,1,\"2019-08-11\",\"2019-08-11\"],[4,3,\"2019-08-24\",\"2019-08-26\"],[5,4,\"2019-08-21\",\"2019-08-22\"],\\\n",
    "                     [6,2,\"2019-08-11\",\"2019-08-13\"]],\\\n",
    "                      columns=[\"delivery_id\",\"customer_id\",\"order_date\",\"customer_pref_delivery_date\"])"
   ]
  },
  {
   "cell_type": "code",
   "execution_count": 114,
   "metadata": {},
   "outputs": [
    {
     "data": {
      "text/html": [
       "<div>\n",
       "<style scoped>\n",
       "    .dataframe tbody tr th:only-of-type {\n",
       "        vertical-align: middle;\n",
       "    }\n",
       "\n",
       "    .dataframe tbody tr th {\n",
       "        vertical-align: top;\n",
       "    }\n",
       "\n",
       "    .dataframe thead th {\n",
       "        text-align: right;\n",
       "    }\n",
       "</style>\n",
       "<table border=\"1\" class=\"dataframe\">\n",
       "  <thead>\n",
       "    <tr style=\"text-align: right;\">\n",
       "      <th></th>\n",
       "      <th>delivery_id</th>\n",
       "      <th>customer_id</th>\n",
       "      <th>order_date</th>\n",
       "      <th>customer_pref_delivery_date</th>\n",
       "    </tr>\n",
       "  </thead>\n",
       "  <tbody>\n",
       "    <tr>\n",
       "      <th>0</th>\n",
       "      <td>1</td>\n",
       "      <td>1</td>\n",
       "      <td>2019-08-01</td>\n",
       "      <td>2019-08-02</td>\n",
       "    </tr>\n",
       "    <tr>\n",
       "      <th>1</th>\n",
       "      <td>2</td>\n",
       "      <td>5</td>\n",
       "      <td>2019-08-02</td>\n",
       "      <td>2019-08-02</td>\n",
       "    </tr>\n",
       "    <tr>\n",
       "      <th>2</th>\n",
       "      <td>3</td>\n",
       "      <td>1</td>\n",
       "      <td>2019-08-11</td>\n",
       "      <td>2019-08-11</td>\n",
       "    </tr>\n",
       "    <tr>\n",
       "      <th>3</th>\n",
       "      <td>4</td>\n",
       "      <td>3</td>\n",
       "      <td>2019-08-24</td>\n",
       "      <td>2019-08-26</td>\n",
       "    </tr>\n",
       "    <tr>\n",
       "      <th>4</th>\n",
       "      <td>5</td>\n",
       "      <td>4</td>\n",
       "      <td>2019-08-21</td>\n",
       "      <td>2019-08-22</td>\n",
       "    </tr>\n",
       "    <tr>\n",
       "      <th>5</th>\n",
       "      <td>6</td>\n",
       "      <td>2</td>\n",
       "      <td>2019-08-11</td>\n",
       "      <td>2019-08-13</td>\n",
       "    </tr>\n",
       "  </tbody>\n",
       "</table>\n",
       "</div>"
      ],
      "text/plain": [
       "   delivery_id  customer_id  order_date customer_pref_delivery_date\n",
       "0            1            1  2019-08-01                  2019-08-02\n",
       "1            2            5  2019-08-02                  2019-08-02\n",
       "2            3            1  2019-08-11                  2019-08-11\n",
       "3            4            3  2019-08-24                  2019-08-26\n",
       "4            5            4  2019-08-21                  2019-08-22\n",
       "5            6            2  2019-08-11                  2019-08-13"
      ]
     },
     "execution_count": 114,
     "metadata": {},
     "output_type": "execute_result"
    }
   ],
   "source": [
    "Delivery"
   ]
  },
  {
   "cell_type": "code",
   "execution_count": 117,
   "metadata": {},
   "outputs": [],
   "source": [
    "def my_func(df):\n",
    "    \n",
    "    if df['order_date']==df['customer_pref_delivery_date']:\n",
    "        return 1\n",
    "    else:\n",
    "        return 0"
   ]
  },
  {
   "cell_type": "code",
   "execution_count": 124,
   "metadata": {},
   "outputs": [
    {
     "data": {
      "text/plain": [
       "33.33"
      ]
     },
     "execution_count": 124,
     "metadata": {},
     "output_type": "execute_result"
    }
   ],
   "source": [
    "round(Delivery.apply(my_func, axis=1).sum()/len(Delivery)*100,2)"
   ]
  },
  {
   "cell_type": "markdown",
   "metadata": {},
   "source": [
    "# 1767. Find the Subtasks That Did Not Execute"
   ]
  },
  {
   "cell_type": "code",
   "execution_count": 185,
   "metadata": {},
   "outputs": [],
   "source": [
    "Tasks = pd.DataFrame( [[1, 3], [2, 2], [3, 4]], columns=[\"task_id\", \"subtasks_count\"])\n",
    "Executed = pd.DataFrame([[1, 2], [3, 1], [3, 2], [3, 3], [3, 4]], columns = [\"task_id\", \"subtask_id\"])"
   ]
  },
  {
   "cell_type": "code",
   "execution_count": 186,
   "metadata": {},
   "outputs": [
    {
     "data": {
      "text/html": [
       "<div>\n",
       "<style scoped>\n",
       "    .dataframe tbody tr th:only-of-type {\n",
       "        vertical-align: middle;\n",
       "    }\n",
       "\n",
       "    .dataframe tbody tr th {\n",
       "        vertical-align: top;\n",
       "    }\n",
       "\n",
       "    .dataframe thead th {\n",
       "        text-align: right;\n",
       "    }\n",
       "</style>\n",
       "<table border=\"1\" class=\"dataframe\">\n",
       "  <thead>\n",
       "    <tr style=\"text-align: right;\">\n",
       "      <th></th>\n",
       "      <th>task_id</th>\n",
       "      <th>subtasks_count</th>\n",
       "    </tr>\n",
       "  </thead>\n",
       "  <tbody>\n",
       "    <tr>\n",
       "      <th>0</th>\n",
       "      <td>1</td>\n",
       "      <td>3</td>\n",
       "    </tr>\n",
       "    <tr>\n",
       "      <th>1</th>\n",
       "      <td>2</td>\n",
       "      <td>2</td>\n",
       "    </tr>\n",
       "    <tr>\n",
       "      <th>2</th>\n",
       "      <td>3</td>\n",
       "      <td>4</td>\n",
       "    </tr>\n",
       "  </tbody>\n",
       "</table>\n",
       "</div>"
      ],
      "text/plain": [
       "   task_id  subtasks_count\n",
       "0        1               3\n",
       "1        2               2\n",
       "2        3               4"
      ]
     },
     "execution_count": 186,
     "metadata": {},
     "output_type": "execute_result"
    }
   ],
   "source": [
    "Tasks"
   ]
  },
  {
   "cell_type": "code",
   "execution_count": 187,
   "metadata": {},
   "outputs": [],
   "source": [
    "\n",
    "def my_func(Tasks):\n",
    "    y=[]\n",
    "    for i in Tasks['subtasks_count']:\n",
    "        y.append(list(range(1,i+1)))        \n",
    "    return y"
   ]
  },
  {
   "cell_type": "code",
   "execution_count": 188,
   "metadata": {},
   "outputs": [],
   "source": [
    "df = pd.concat([Tasks['task_id'], pd.DataFrame(my_func(Tasks))], axis=1)"
   ]
  },
  {
   "cell_type": "code",
   "execution_count": 189,
   "metadata": {},
   "outputs": [],
   "source": [
    "# wide to long\n",
    "df_long = df.melt(id_vars='task_id').dropna()"
   ]
  },
  {
   "cell_type": "code",
   "execution_count": 190,
   "metadata": {},
   "outputs": [
    {
     "data": {
      "text/html": [
       "<div>\n",
       "<style scoped>\n",
       "    .dataframe tbody tr th:only-of-type {\n",
       "        vertical-align: middle;\n",
       "    }\n",
       "\n",
       "    .dataframe tbody tr th {\n",
       "        vertical-align: top;\n",
       "    }\n",
       "\n",
       "    .dataframe thead th {\n",
       "        text-align: right;\n",
       "    }\n",
       "</style>\n",
       "<table border=\"1\" class=\"dataframe\">\n",
       "  <thead>\n",
       "    <tr style=\"text-align: right;\">\n",
       "      <th></th>\n",
       "      <th>task_id</th>\n",
       "      <th>subtask_id</th>\n",
       "    </tr>\n",
       "  </thead>\n",
       "  <tbody>\n",
       "    <tr>\n",
       "      <th>0</th>\n",
       "      <td>1</td>\n",
       "      <td>1.0</td>\n",
       "    </tr>\n",
       "    <tr>\n",
       "      <th>6</th>\n",
       "      <td>1</td>\n",
       "      <td>3.0</td>\n",
       "    </tr>\n",
       "    <tr>\n",
       "      <th>1</th>\n",
       "      <td>2</td>\n",
       "      <td>1.0</td>\n",
       "    </tr>\n",
       "    <tr>\n",
       "      <th>4</th>\n",
       "      <td>2</td>\n",
       "      <td>2.0</td>\n",
       "    </tr>\n",
       "  </tbody>\n",
       "</table>\n",
       "</div>"
      ],
      "text/plain": [
       "   task_id  subtask_id\n",
       "0        1         1.0\n",
       "6        1         3.0\n",
       "1        2         1.0\n",
       "4        2         2.0"
      ]
     },
     "execution_count": 190,
     "metadata": {},
     "output_type": "execute_result"
    }
   ],
   "source": [
    "df_long.merge(Executed, how='left', right_on=['task_id','subtask_id'], left_on=['task_id','value'])\\\n",
    ".query(\"subtask_id.isnull()\")[['task_id','value']].sort_values('task_id')\\\n",
    ".rename(columns={'task_id':'task_id', 'value': 'subtask_id'})"
   ]
  },
  {
   "cell_type": "markdown",
   "metadata": {},
   "source": [
    "# 1596. The Most Frequently Ordered Products for Each Customer"
   ]
  },
  {
   "cell_type": "code",
   "execution_count": 196,
   "metadata": {},
   "outputs": [],
   "source": [
    "Customers=pd.DataFrame([[1,\"Alice\"],[2,\"Bob\"],[3,\"Tom\"],[4,\"Jerry\"],[5,\"John\"]], columns = [\"customer_id\",\"name\"])\n",
    "Orders = pd.DataFrame([[1,\"2020-07-31\",1,1],[2,\"2020-7-30\",2,2],[3,\"2020-08-29\",3,3],[4,\"2020-07-29\",4,1],\\\n",
    "                   [5,\"2020-06-10\",1,2],[6,\"2020-08-01\",2,1],[7,\"2020-08-01\",3,3],[8,\"2020-08-03\",1,2],\\\n",
    "                   [9,\"2020-08-07\",2,3],[10,\"2020-07-15\",1,2]],\\\n",
    "                     columns = [\"order_id\",\"order_date\",\"customer_id\",\"product_id\"])\n",
    "Products = pd.DataFrame([[1,\"keyboard\",120],[2,\"mouse\",80],[3,\"screen\",600],[4,\"hard disk\",450]],\\\n",
    "                       columns = [\"product_id\",\"product_name\",\"price\"])"
   ]
  },
  {
   "cell_type": "code",
   "execution_count": 197,
   "metadata": {},
   "outputs": [
    {
     "data": {
      "text/html": [
       "<div>\n",
       "<style scoped>\n",
       "    .dataframe tbody tr th:only-of-type {\n",
       "        vertical-align: middle;\n",
       "    }\n",
       "\n",
       "    .dataframe tbody tr th {\n",
       "        vertical-align: top;\n",
       "    }\n",
       "\n",
       "    .dataframe thead th {\n",
       "        text-align: right;\n",
       "    }\n",
       "</style>\n",
       "<table border=\"1\" class=\"dataframe\">\n",
       "  <thead>\n",
       "    <tr style=\"text-align: right;\">\n",
       "      <th></th>\n",
       "      <th>customer_id</th>\n",
       "      <th>product_id</th>\n",
       "      <th>cnt</th>\n",
       "      <th>rnk</th>\n",
       "    </tr>\n",
       "  </thead>\n",
       "  <tbody>\n",
       "    <tr>\n",
       "      <th>0</th>\n",
       "      <td>1</td>\n",
       "      <td>1</td>\n",
       "      <td>1</td>\n",
       "      <td>2.0</td>\n",
       "    </tr>\n",
       "    <tr>\n",
       "      <th>1</th>\n",
       "      <td>1</td>\n",
       "      <td>2</td>\n",
       "      <td>3</td>\n",
       "      <td>1.0</td>\n",
       "    </tr>\n",
       "    <tr>\n",
       "      <th>2</th>\n",
       "      <td>2</td>\n",
       "      <td>1</td>\n",
       "      <td>1</td>\n",
       "      <td>1.0</td>\n",
       "    </tr>\n",
       "    <tr>\n",
       "      <th>3</th>\n",
       "      <td>2</td>\n",
       "      <td>2</td>\n",
       "      <td>1</td>\n",
       "      <td>1.0</td>\n",
       "    </tr>\n",
       "    <tr>\n",
       "      <th>4</th>\n",
       "      <td>2</td>\n",
       "      <td>3</td>\n",
       "      <td>1</td>\n",
       "      <td>1.0</td>\n",
       "    </tr>\n",
       "    <tr>\n",
       "      <th>5</th>\n",
       "      <td>3</td>\n",
       "      <td>3</td>\n",
       "      <td>2</td>\n",
       "      <td>1.0</td>\n",
       "    </tr>\n",
       "    <tr>\n",
       "      <th>6</th>\n",
       "      <td>4</td>\n",
       "      <td>1</td>\n",
       "      <td>1</td>\n",
       "      <td>1.0</td>\n",
       "    </tr>\n",
       "  </tbody>\n",
       "</table>\n",
       "</div>"
      ],
      "text/plain": [
       "   customer_id  product_id  cnt  rnk\n",
       "0            1           1    1  2.0\n",
       "1            1           2    3  1.0\n",
       "2            2           1    1  1.0\n",
       "3            2           2    1  1.0\n",
       "4            2           3    1  1.0\n",
       "5            3           3    2  1.0\n",
       "6            4           1    1  1.0"
      ]
     },
     "execution_count": 197,
     "metadata": {},
     "output_type": "execute_result"
    }
   ],
   "source": [
    "Orders= Orders.groupby([\"customer_id\",\"product_id\"])[\"order_id\"].count().reset_index(name='cnt')\n",
    "Orders['rnk']=Orders.groupby([\"customer_id\"])[\"cnt\"].rank(method='dense', ascending=False)\n",
    "Orders"
   ]
  },
  {
   "cell_type": "code",
   "execution_count": 200,
   "metadata": {},
   "outputs": [
    {
     "data": {
      "text/html": [
       "<div>\n",
       "<style scoped>\n",
       "    .dataframe tbody tr th:only-of-type {\n",
       "        vertical-align: middle;\n",
       "    }\n",
       "\n",
       "    .dataframe tbody tr th {\n",
       "        vertical-align: top;\n",
       "    }\n",
       "\n",
       "    .dataframe thead th {\n",
       "        text-align: right;\n",
       "    }\n",
       "</style>\n",
       "<table border=\"1\" class=\"dataframe\">\n",
       "  <thead>\n",
       "    <tr style=\"text-align: right;\">\n",
       "      <th></th>\n",
       "      <th>customer_id</th>\n",
       "      <th>product_id</th>\n",
       "      <th>product_name</th>\n",
       "    </tr>\n",
       "  </thead>\n",
       "  <tbody>\n",
       "    <tr>\n",
       "      <th>0</th>\n",
       "      <td>1</td>\n",
       "      <td>2</td>\n",
       "      <td>mouse</td>\n",
       "    </tr>\n",
       "    <tr>\n",
       "      <th>2</th>\n",
       "      <td>2</td>\n",
       "      <td>1</td>\n",
       "      <td>keyboard</td>\n",
       "    </tr>\n",
       "    <tr>\n",
       "      <th>1</th>\n",
       "      <td>2</td>\n",
       "      <td>2</td>\n",
       "      <td>mouse</td>\n",
       "    </tr>\n",
       "    <tr>\n",
       "      <th>4</th>\n",
       "      <td>2</td>\n",
       "      <td>3</td>\n",
       "      <td>screen</td>\n",
       "    </tr>\n",
       "    <tr>\n",
       "      <th>5</th>\n",
       "      <td>3</td>\n",
       "      <td>3</td>\n",
       "      <td>screen</td>\n",
       "    </tr>\n",
       "    <tr>\n",
       "      <th>3</th>\n",
       "      <td>4</td>\n",
       "      <td>1</td>\n",
       "      <td>keyboard</td>\n",
       "    </tr>\n",
       "  </tbody>\n",
       "</table>\n",
       "</div>"
      ],
      "text/plain": [
       "   customer_id  product_id product_name\n",
       "0            1           2        mouse\n",
       "2            2           1     keyboard\n",
       "1            2           2        mouse\n",
       "4            2           3       screen\n",
       "5            3           3       screen\n",
       "3            4           1     keyboard"
      ]
     },
     "execution_count": 200,
     "metadata": {},
     "output_type": "execute_result"
    }
   ],
   "source": [
    "Orders.query(\"rnk==1\").merge(Products, how='inner',on='product_id')[['customer_id',\"product_id\",\"product_name\"]]\\\n",
    ".sort_values([\"customer_id\",\"product_id\"])"
   ]
  },
  {
   "cell_type": "markdown",
   "metadata": {},
   "source": [
    "# 1549. The Most Recent Orders for Each Product"
   ]
  },
  {
   "cell_type": "code",
   "execution_count": 202,
   "metadata": {},
   "outputs": [],
   "source": [
    "Orders=pd.DataFrame([[1,\"2020-07-31\",1,1],[2,\"2020-7-30\",2,2],[3,\"2020-08-29\",3,3],[4,\"2020-07-29\",4,1],\\\n",
    "                   [5,\"2020-06-10\",1,2],[6,\"2020-08-01\",2,1],[7,\"2020-08-01\",3,1],[8,\"2020-08-03\",1,2],\\\n",
    "                   [9,\"2020-08-07\",2,3],[10,\"2020-07-15\",1,2]],\\\n",
    "                   columns = [\"order_id\",\"order_date\",\"customer_id\",\"product_id\"])\n",
    "Products = pd.DataFrame([[1,\"keyboard\",120],[2,\"mouse\",80],[3,\"screen\",600],[4,\"hard disk\",450]],\\\n",
    "                        columns=[\"product_id\",\"product_name\",\"price\"]) "
   ]
  },
  {
   "cell_type": "code",
   "execution_count": 205,
   "metadata": {},
   "outputs": [],
   "source": [
    "Orders['order_date']=pd.to_datetime(Orders['order_date'])\n",
    "Orders['rnk'] = Orders.groupby([\"product_id\"])['order_date'].rank(method='dense', ascending=False)"
   ]
  },
  {
   "cell_type": "code",
   "execution_count": 209,
   "metadata": {},
   "outputs": [
    {
     "data": {
      "text/html": [
       "<div>\n",
       "<style scoped>\n",
       "    .dataframe tbody tr th:only-of-type {\n",
       "        vertical-align: middle;\n",
       "    }\n",
       "\n",
       "    .dataframe tbody tr th {\n",
       "        vertical-align: top;\n",
       "    }\n",
       "\n",
       "    .dataframe thead th {\n",
       "        text-align: right;\n",
       "    }\n",
       "</style>\n",
       "<table border=\"1\" class=\"dataframe\">\n",
       "  <thead>\n",
       "    <tr style=\"text-align: right;\">\n",
       "      <th></th>\n",
       "      <th>product_name</th>\n",
       "      <th>product_id</th>\n",
       "      <th>order_id</th>\n",
       "      <th>order_date</th>\n",
       "    </tr>\n",
       "  </thead>\n",
       "  <tbody>\n",
       "    <tr>\n",
       "      <th>1</th>\n",
       "      <td>keyboard</td>\n",
       "      <td>1</td>\n",
       "      <td>6</td>\n",
       "      <td>2020-08-01</td>\n",
       "    </tr>\n",
       "    <tr>\n",
       "      <th>2</th>\n",
       "      <td>keyboard</td>\n",
       "      <td>1</td>\n",
       "      <td>7</td>\n",
       "      <td>2020-08-01</td>\n",
       "    </tr>\n",
       "    <tr>\n",
       "      <th>3</th>\n",
       "      <td>mouse</td>\n",
       "      <td>2</td>\n",
       "      <td>8</td>\n",
       "      <td>2020-08-03</td>\n",
       "    </tr>\n",
       "    <tr>\n",
       "      <th>0</th>\n",
       "      <td>screen</td>\n",
       "      <td>3</td>\n",
       "      <td>3</td>\n",
       "      <td>2020-08-29</td>\n",
       "    </tr>\n",
       "  </tbody>\n",
       "</table>\n",
       "</div>"
      ],
      "text/plain": [
       "  product_name  product_id  order_id order_date\n",
       "1     keyboard           1         6 2020-08-01\n",
       "2     keyboard           1         7 2020-08-01\n",
       "3        mouse           2         8 2020-08-03\n",
       "0       screen           3         3 2020-08-29"
      ]
     },
     "execution_count": 209,
     "metadata": {},
     "output_type": "execute_result"
    }
   ],
   "source": [
    "Orders.query(\"rnk==1\").merge(Products,how='inner',on='product_id')\\\n",
    "[[\"product_name\",\"product_id\",\"order_id\",\"order_date\"]].sort_values([\"product_name\",\"order_id\",\"order_date\"])"
   ]
  },
  {
   "cell_type": "markdown",
   "metadata": {},
   "source": [
    "# 1635. Hopper Company Queries I"
   ]
  },
  {
   "cell_type": "code",
   "execution_count": 274,
   "metadata": {},
   "outputs": [],
   "source": [
    "Drivers = pd.DataFrame([[10,\"2019-12-10\"],[8,\"2020-1-13\"],[5,\"2020-2-16\"],[7,\"2020-3-8\"],[4,\"2020-5-17\"],\\\n",
    "                    [1,\"2020-10-24\"],[6,\"2021-1-5\"]], columns = [\"driver_id\",\"join_date\"])\n",
    "Rides = pd.DataFrame([[6,75,\"2019-12-9\"],[1,54,\"2020-2-9\"],\\\n",
    "            [10,63,\"2020-3-4\"],[19,39,\"2020-4-6\"],[3,41,\"2020-6-3\"],[13,52,\"2020-6-22\"],\\\n",
    "    [7,69,\"2020-7-16\"],[17,70,\"2020-8-25\"],[20,81,\"2020-11-2\"],[5,57,\"2020-11-9\"],\\\n",
    "[2,42,\"2020-12-9\"],[11,68,\"2021-1-11\"],[15,32,\"2021-1-17\"],[12,11,\"2021-1-19\"],[14,18,\"2021-1-27\"]],\\\n",
    "                    columns = [\"ride_id\",\"user_id\",\"requested_at\"])\n",
    "AcceptedRides = pd.DataFrame([[10,10,63,38],[13,10,73,96],[7,8,100,28],[17,7,119,68],[20,1,121,92],[5,7,42,101],\\\n",
    "                          [2,4,6,38],[11,8,37,43],[15,8,108,82],[12,8,38,34],[14,1,90,74]],\\\n",
    "                            columns = [\"ride_id\",\"driver_id\",\"ride_distance\",\"ride_duration\"])"
   ]
  },
  {
   "cell_type": "code",
   "execution_count": 275,
   "metadata": {},
   "outputs": [],
   "source": [
    "month = pd.DataFrame(range(1,13),columns = ['month'])"
   ]
  },
  {
   "cell_type": "code",
   "execution_count": 276,
   "metadata": {},
   "outputs": [],
   "source": [
    "Drivers[\"join_date\"]=pd.to_datetime(Drivers[\"join_date\"])\n",
    "Rides[\"requested_at\"]=pd.to_datetime(Rides[\"requested_at\"])\n",
    "Drivers['month']=Drivers[\"join_date\"].dt.month\n",
    "Drivers['year']=Drivers[\"join_date\"].dt.year\n",
    "Rides['month']=Rides['requested_at'].dt.month"
   ]
  },
  {
   "cell_type": "code",
   "execution_count": 277,
   "metadata": {},
   "outputs": [],
   "source": [
    "Drivers1=Drivers.query(\"year==2020\").groupby(['month'])['driver_id'].count().reset_index(name='driver_cnt')\\\n",
    ".sort_values(\"month\")\n",
    "Drivers1['active_drivers'] = Drivers1['driver_cnt'].cumsum()+Drivers.query(\"year<2020\")['driver_id'].count()"
   ]
  },
  {
   "cell_type": "code",
   "execution_count": 278,
   "metadata": {},
   "outputs": [],
   "source": [
    "df = month.merge(Drivers1[['month','active_drivers']], how='left',on='month').fillna(method='ffill')\n"
   ]
  },
  {
   "cell_type": "code",
   "execution_count": 283,
   "metadata": {},
   "outputs": [],
   "source": [
    "df2 = Rides.query(\"requested_at.dt.year==2020\").merge(AcceptedRides, how='inner',on='ride_id')\\\n",
    ".groupby(\"month\")['ride_id'].count().reset_index(name='accepted_rides')"
   ]
  },
  {
   "cell_type": "code",
   "execution_count": 284,
   "metadata": {},
   "outputs": [
    {
     "data": {
      "text/html": [
       "<div>\n",
       "<style scoped>\n",
       "    .dataframe tbody tr th:only-of-type {\n",
       "        vertical-align: middle;\n",
       "    }\n",
       "\n",
       "    .dataframe tbody tr th {\n",
       "        vertical-align: top;\n",
       "    }\n",
       "\n",
       "    .dataframe thead th {\n",
       "        text-align: right;\n",
       "    }\n",
       "</style>\n",
       "<table border=\"1\" class=\"dataframe\">\n",
       "  <thead>\n",
       "    <tr style=\"text-align: right;\">\n",
       "      <th></th>\n",
       "      <th>month</th>\n",
       "      <th>active_drivers</th>\n",
       "      <th>accepted_rides</th>\n",
       "    </tr>\n",
       "  </thead>\n",
       "  <tbody>\n",
       "    <tr>\n",
       "      <th>0</th>\n",
       "      <td>1</td>\n",
       "      <td>2.0</td>\n",
       "      <td>0.0</td>\n",
       "    </tr>\n",
       "    <tr>\n",
       "      <th>1</th>\n",
       "      <td>2</td>\n",
       "      <td>3.0</td>\n",
       "      <td>0.0</td>\n",
       "    </tr>\n",
       "    <tr>\n",
       "      <th>2</th>\n",
       "      <td>3</td>\n",
       "      <td>4.0</td>\n",
       "      <td>1.0</td>\n",
       "    </tr>\n",
       "    <tr>\n",
       "      <th>3</th>\n",
       "      <td>4</td>\n",
       "      <td>4.0</td>\n",
       "      <td>0.0</td>\n",
       "    </tr>\n",
       "    <tr>\n",
       "      <th>4</th>\n",
       "      <td>5</td>\n",
       "      <td>5.0</td>\n",
       "      <td>0.0</td>\n",
       "    </tr>\n",
       "    <tr>\n",
       "      <th>5</th>\n",
       "      <td>6</td>\n",
       "      <td>5.0</td>\n",
       "      <td>1.0</td>\n",
       "    </tr>\n",
       "    <tr>\n",
       "      <th>6</th>\n",
       "      <td>7</td>\n",
       "      <td>5.0</td>\n",
       "      <td>1.0</td>\n",
       "    </tr>\n",
       "    <tr>\n",
       "      <th>7</th>\n",
       "      <td>8</td>\n",
       "      <td>5.0</td>\n",
       "      <td>1.0</td>\n",
       "    </tr>\n",
       "    <tr>\n",
       "      <th>8</th>\n",
       "      <td>9</td>\n",
       "      <td>5.0</td>\n",
       "      <td>0.0</td>\n",
       "    </tr>\n",
       "    <tr>\n",
       "      <th>9</th>\n",
       "      <td>10</td>\n",
       "      <td>6.0</td>\n",
       "      <td>0.0</td>\n",
       "    </tr>\n",
       "    <tr>\n",
       "      <th>10</th>\n",
       "      <td>11</td>\n",
       "      <td>6.0</td>\n",
       "      <td>2.0</td>\n",
       "    </tr>\n",
       "    <tr>\n",
       "      <th>11</th>\n",
       "      <td>12</td>\n",
       "      <td>6.0</td>\n",
       "      <td>1.0</td>\n",
       "    </tr>\n",
       "  </tbody>\n",
       "</table>\n",
       "</div>"
      ],
      "text/plain": [
       "    month  active_drivers  accepted_rides\n",
       "0       1             2.0             0.0\n",
       "1       2             3.0             0.0\n",
       "2       3             4.0             1.0\n",
       "3       4             4.0             0.0\n",
       "4       5             5.0             0.0\n",
       "5       6             5.0             1.0\n",
       "6       7             5.0             1.0\n",
       "7       8             5.0             1.0\n",
       "8       9             5.0             0.0\n",
       "9      10             6.0             0.0\n",
       "10     11             6.0             2.0\n",
       "11     12             6.0             1.0"
      ]
     },
     "execution_count": 284,
     "metadata": {},
     "output_type": "execute_result"
    }
   ],
   "source": [
    "df.merge(df2, how='left',on='month').fillna(0)"
   ]
  },
  {
   "cell_type": "markdown",
   "metadata": {},
   "source": [
    "# 1645. Hopper Company Queries II   2021/8/4"
   ]
  },
  {
   "cell_type": "code",
   "execution_count": 326,
   "metadata": {},
   "outputs": [],
   "source": [
    "Drivers = pd.DataFrame([[10,\"2019-12-10\"],[8,\"2020-1-13\"],[5,\"2020-2-16\"],[7,\"2020-3-8\"],[4,\"2020-5-17\"],\\\n",
    "                    [1,\"2020-10-24\"],[6,\"2021-1-5\"]], columns = [\"driver_id\",\"join_date\"])\n",
    "Rides = pd.DataFrame([[6,75,\"2019-12-9\"],[1,54,\"2020-2-9\"],\\\n",
    "[10,63,\"2020-3-4\"],[19,39,\"2020-4-6\"],[3,41,\"2020-6-3\"],[13,52,\"2020-6-22\"],[7,69,\"2020-7-16\"],\\\n",
    "[17,70,\"2020-8-25\"],[20,81,\"2020-11-2\"],[5,57,\"2020-11-9\"],[2,42,\"2020-12-9\"],[11,68,\"2021-1-11\"]\\\n",
    ",[15,32,\"2021-1-17\"],[12,11,\"2021-1-19\"],[14,18,\"2021-1-27\"]],\\\n",
    "                    columns = [\"ride_id\",\"user_id\",\"requested_at\"])\n",
    "AcceptedRides = pd.DataFrame([[10,10,63,38],[13,10,73,96],[7,8,100,28],[17,7,119,68],[20,1,121,92],[5,7,42,101],\\\n",
    "                              [2,4,6,38],[11,8,37,43],[15,8,108,82],[12,8,38,34],[14,1,90,74]],\\\n",
    "                            columns = [\"ride_id\",\"driver_id\",\"ride_distance\",\"ride_duration\"])"
   ]
  },
  {
   "cell_type": "code",
   "execution_count": null,
   "metadata": {},
   "outputs": [],
   "source": []
  },
  {
   "cell_type": "code",
   "execution_count": 327,
   "metadata": {},
   "outputs": [],
   "source": [
    "# create month from 1 to 12\n",
    "month = pd.DataFrame(range(1,13),columns = ['month'])\n",
    "\n",
    "Drivers[\"join_date\"]=pd.to_datetime(Drivers[\"join_date\"])\n",
    "Rides[\"requested_at\"]=pd.to_datetime(Rides[\"requested_at\"])\n",
    "Drivers['month']=Drivers[\"join_date\"].dt.month\n",
    "Drivers['year']=Drivers[\"join_date\"].dt.year\n",
    "Rides['month']=Rides['requested_at'].dt.month"
   ]
  },
  {
   "cell_type": "code",
   "execution_count": 328,
   "metadata": {},
   "outputs": [],
   "source": [
    "Drivers = Drivers.groupby(['join_date', 'month'])['driver_id'].count().reset_index(name='driver_cnt').sort_values('join_date')\n",
    "Drivers['active_drivers']=Drivers['driver_cnt'].cumsum()\n",
    "Drivers = Drivers.query(\"join_date.dt.year==2020\")\n",
    "Drivers=month.merge(Drivers[['month','active_drivers']],on='month',how='left').fillna(method='ffill')"
   ]
  },
  {
   "cell_type": "code",
   "execution_count": 329,
   "metadata": {},
   "outputs": [],
   "source": [
    "work=Rides.query(\"requested_at.dt.year==2020\").merge(AcceptedRides, how='inner',on='ride_id').\\\n",
    "groupby('month')['driver_id'].nunique().reset_index(name='working')"
   ]
  },
  {
   "cell_type": "code",
   "execution_count": 330,
   "metadata": {},
   "outputs": [
    {
     "data": {
      "text/html": [
       "<div>\n",
       "<style scoped>\n",
       "    .dataframe tbody tr th:only-of-type {\n",
       "        vertical-align: middle;\n",
       "    }\n",
       "\n",
       "    .dataframe tbody tr th {\n",
       "        vertical-align: top;\n",
       "    }\n",
       "\n",
       "    .dataframe thead th {\n",
       "        text-align: right;\n",
       "    }\n",
       "</style>\n",
       "<table border=\"1\" class=\"dataframe\">\n",
       "  <thead>\n",
       "    <tr style=\"text-align: right;\">\n",
       "      <th></th>\n",
       "      <th>month</th>\n",
       "      <th>working</th>\n",
       "    </tr>\n",
       "  </thead>\n",
       "  <tbody>\n",
       "    <tr>\n",
       "      <th>0</th>\n",
       "      <td>3</td>\n",
       "      <td>1</td>\n",
       "    </tr>\n",
       "    <tr>\n",
       "      <th>1</th>\n",
       "      <td>6</td>\n",
       "      <td>1</td>\n",
       "    </tr>\n",
       "    <tr>\n",
       "      <th>2</th>\n",
       "      <td>7</td>\n",
       "      <td>1</td>\n",
       "    </tr>\n",
       "    <tr>\n",
       "      <th>3</th>\n",
       "      <td>8</td>\n",
       "      <td>1</td>\n",
       "    </tr>\n",
       "    <tr>\n",
       "      <th>4</th>\n",
       "      <td>11</td>\n",
       "      <td>2</td>\n",
       "    </tr>\n",
       "    <tr>\n",
       "      <th>5</th>\n",
       "      <td>12</td>\n",
       "      <td>1</td>\n",
       "    </tr>\n",
       "  </tbody>\n",
       "</table>\n",
       "</div>"
      ],
      "text/plain": [
       "   month  working\n",
       "0      3        1\n",
       "1      6        1\n",
       "2      7        1\n",
       "3      8        1\n",
       "4     11        2\n",
       "5     12        1"
      ]
     },
     "execution_count": 330,
     "metadata": {},
     "output_type": "execute_result"
    }
   ],
   "source": [
    "work"
   ]
  },
  {
   "cell_type": "code",
   "execution_count": 331,
   "metadata": {},
   "outputs": [
    {
     "data": {
      "text/html": [
       "<div>\n",
       "<style scoped>\n",
       "    .dataframe tbody tr th:only-of-type {\n",
       "        vertical-align: middle;\n",
       "    }\n",
       "\n",
       "    .dataframe tbody tr th {\n",
       "        vertical-align: top;\n",
       "    }\n",
       "\n",
       "    .dataframe thead th {\n",
       "        text-align: right;\n",
       "    }\n",
       "</style>\n",
       "<table border=\"1\" class=\"dataframe\">\n",
       "  <thead>\n",
       "    <tr style=\"text-align: right;\">\n",
       "      <th></th>\n",
       "      <th>month</th>\n",
       "      <th>working_percentage</th>\n",
       "    </tr>\n",
       "  </thead>\n",
       "  <tbody>\n",
       "    <tr>\n",
       "      <th>0</th>\n",
       "      <td>1</td>\n",
       "      <td>0.00</td>\n",
       "    </tr>\n",
       "    <tr>\n",
       "      <th>1</th>\n",
       "      <td>2</td>\n",
       "      <td>0.00</td>\n",
       "    </tr>\n",
       "    <tr>\n",
       "      <th>2</th>\n",
       "      <td>3</td>\n",
       "      <td>25.00</td>\n",
       "    </tr>\n",
       "    <tr>\n",
       "      <th>3</th>\n",
       "      <td>4</td>\n",
       "      <td>0.00</td>\n",
       "    </tr>\n",
       "    <tr>\n",
       "      <th>4</th>\n",
       "      <td>5</td>\n",
       "      <td>0.00</td>\n",
       "    </tr>\n",
       "    <tr>\n",
       "      <th>5</th>\n",
       "      <td>6</td>\n",
       "      <td>20.00</td>\n",
       "    </tr>\n",
       "    <tr>\n",
       "      <th>6</th>\n",
       "      <td>7</td>\n",
       "      <td>20.00</td>\n",
       "    </tr>\n",
       "    <tr>\n",
       "      <th>7</th>\n",
       "      <td>8</td>\n",
       "      <td>20.00</td>\n",
       "    </tr>\n",
       "    <tr>\n",
       "      <th>8</th>\n",
       "      <td>9</td>\n",
       "      <td>0.00</td>\n",
       "    </tr>\n",
       "    <tr>\n",
       "      <th>9</th>\n",
       "      <td>10</td>\n",
       "      <td>0.00</td>\n",
       "    </tr>\n",
       "    <tr>\n",
       "      <th>10</th>\n",
       "      <td>11</td>\n",
       "      <td>33.33</td>\n",
       "    </tr>\n",
       "    <tr>\n",
       "      <th>11</th>\n",
       "      <td>12</td>\n",
       "      <td>16.67</td>\n",
       "    </tr>\n",
       "  </tbody>\n",
       "</table>\n",
       "</div>"
      ],
      "text/plain": [
       "    month  working_percentage\n",
       "0       1                0.00\n",
       "1       2                0.00\n",
       "2       3               25.00\n",
       "3       4                0.00\n",
       "4       5                0.00\n",
       "5       6               20.00\n",
       "6       7               20.00\n",
       "7       8               20.00\n",
       "8       9                0.00\n",
       "9      10                0.00\n",
       "10     11               33.33\n",
       "11     12               16.67"
      ]
     },
     "execution_count": 331,
     "metadata": {},
     "output_type": "execute_result"
    }
   ],
   "source": [
    "df = month.merge(Drivers, on='month',how='left').merge(work,on='month',how='left')\n",
    "\n",
    "df['working_percentage']=round(df['working']*100/df['active_drivers'],2)\n",
    "df['working_percentage'].fillna(0, inplace=True)\n",
    "df[['month','working_percentage']]"
   ]
  },
  {
   "cell_type": "markdown",
   "metadata": {},
   "source": [
    "# 1651. Hopper Company Queries III"
   ]
  },
  {
   "cell_type": "code",
   "execution_count": 337,
   "metadata": {},
   "outputs": [],
   "source": [
    "rides = Rides.query(\"requested_at.dt.year==2020\").merge(AcceptedRides, how='inner',on='ride_id').\\\n",
    "groupby('month')[\"ride_distance\",\"ride_duration\"].sum().reset_index()"
   ]
  },
  {
   "cell_type": "code",
   "execution_count": 346,
   "metadata": {},
   "outputs": [
    {
     "data": {
      "text/html": [
       "<div>\n",
       "<style scoped>\n",
       "    .dataframe tbody tr th:only-of-type {\n",
       "        vertical-align: middle;\n",
       "    }\n",
       "\n",
       "    .dataframe tbody tr th {\n",
       "        vertical-align: top;\n",
       "    }\n",
       "\n",
       "    .dataframe thead th {\n",
       "        text-align: right;\n",
       "    }\n",
       "</style>\n",
       "<table border=\"1\" class=\"dataframe\">\n",
       "  <thead>\n",
       "    <tr style=\"text-align: right;\">\n",
       "      <th></th>\n",
       "      <th>month</th>\n",
       "      <th>average_ride_distance</th>\n",
       "      <th>average_ride_duration</th>\n",
       "    </tr>\n",
       "  </thead>\n",
       "  <tbody>\n",
       "    <tr>\n",
       "      <th>2</th>\n",
       "      <td>1</td>\n",
       "      <td>21.00</td>\n",
       "      <td>12.67</td>\n",
       "    </tr>\n",
       "    <tr>\n",
       "      <th>3</th>\n",
       "      <td>2</td>\n",
       "      <td>21.00</td>\n",
       "      <td>12.67</td>\n",
       "    </tr>\n",
       "    <tr>\n",
       "      <th>4</th>\n",
       "      <td>3</td>\n",
       "      <td>21.00</td>\n",
       "      <td>12.67</td>\n",
       "    </tr>\n",
       "    <tr>\n",
       "      <th>5</th>\n",
       "      <td>4</td>\n",
       "      <td>24.33</td>\n",
       "      <td>32.00</td>\n",
       "    </tr>\n",
       "    <tr>\n",
       "      <th>6</th>\n",
       "      <td>5</td>\n",
       "      <td>57.67</td>\n",
       "      <td>41.33</td>\n",
       "    </tr>\n",
       "    <tr>\n",
       "      <th>7</th>\n",
       "      <td>6</td>\n",
       "      <td>97.33</td>\n",
       "      <td>64.00</td>\n",
       "    </tr>\n",
       "    <tr>\n",
       "      <th>8</th>\n",
       "      <td>7</td>\n",
       "      <td>73.00</td>\n",
       "      <td>32.00</td>\n",
       "    </tr>\n",
       "    <tr>\n",
       "      <th>9</th>\n",
       "      <td>8</td>\n",
       "      <td>39.67</td>\n",
       "      <td>22.67</td>\n",
       "    </tr>\n",
       "    <tr>\n",
       "      <th>10</th>\n",
       "      <td>9</td>\n",
       "      <td>54.33</td>\n",
       "      <td>64.33</td>\n",
       "    </tr>\n",
       "    <tr>\n",
       "      <th>11</th>\n",
       "      <td>10</td>\n",
       "      <td>56.33</td>\n",
       "      <td>77.00</td>\n",
       "    </tr>\n",
       "  </tbody>\n",
       "</table>\n",
       "</div>"
      ],
      "text/plain": [
       "    month  average_ride_distance  average_ride_duration\n",
       "2       1                  21.00                  12.67\n",
       "3       2                  21.00                  12.67\n",
       "4       3                  21.00                  12.67\n",
       "5       4                  24.33                  32.00\n",
       "6       5                  57.67                  41.33\n",
       "7       6                  97.33                  64.00\n",
       "8       7                  73.00                  32.00\n",
       "9       8                  39.67                  22.67\n",
       "10      9                  54.33                  64.33\n",
       "11     10                  56.33                  77.00"
      ]
     },
     "execution_count": 346,
     "metadata": {},
     "output_type": "execute_result"
    }
   ],
   "source": [
    "df = month.merge(rides,how='left',on='month').fillna(0).sort_values('month')\n",
    "pd.concat([month-2, df.rolling(window=3,min_periods=1)[[\"ride_distance\",\"ride_duration\"]].mean()\\\n",
    ".rename(columns={'ride_distance':'average_ride_distance','ride_duration':'average_ride_duration'}).round(2)],axis=1)\\\n",
    ".query(\"month>0\")"
   ]
  },
  {
   "cell_type": "markdown",
   "metadata": {},
   "source": [
    "# 1683. Invalid Tweets"
   ]
  },
  {
   "cell_type": "code",
   "execution_count": null,
   "metadata": {},
   "outputs": [],
   "source": [
    "{\"headers\":{\"Tweets\":[\"tweet_id\",\"content\"]},\"rows\":{\"Tweets\":[[1,\"Vote for Biden\"],\n",
    "                                                               [2,\"Let us make America great again!\"]]}}"
   ]
  },
  {
   "cell_type": "code",
   "execution_count": 352,
   "metadata": {},
   "outputs": [
    {
     "data": {
      "text/plain": [
       "1    2\n",
       "Name: tweet_id, dtype: int64"
      ]
     },
     "execution_count": 352,
     "metadata": {},
     "output_type": "execute_result"
    }
   ],
   "source": [
    "Tweets=pd.DataFrame([[1,\"Vote for Biden\"],[2,\"Let us make America great again!\"]],\\\n",
    "                   columns = [\"tweet_id\",\"content\"])\n",
    "Tweets[Tweets['content'].str.len()>15]['tweet_id']"
   ]
  },
  {
   "cell_type": "code",
   "execution_count": 349,
   "metadata": {},
   "outputs": [
    {
     "data": {
      "text/plain": [
       "2"
      ]
     },
     "execution_count": 349,
     "metadata": {},
     "output_type": "execute_result"
    }
   ],
   "source": [
    "len(Tweets['content'])"
   ]
  },
  {
   "cell_type": "code",
   "execution_count": 351,
   "metadata": {},
   "outputs": [
    {
     "data": {
      "text/plain": [
       "0    False\n",
       "1     True\n",
       "Name: content, dtype: bool"
      ]
     },
     "execution_count": 351,
     "metadata": {},
     "output_type": "execute_result"
    }
   ],
   "source": [
    "Tweets['content'].str.len()>15"
   ]
  },
  {
   "cell_type": "markdown",
   "metadata": {},
   "source": [
    "# 603. Consecutive Available Seats"
   ]
  },
  {
   "cell_type": "code",
   "execution_count": 355,
   "metadata": {},
   "outputs": [
    {
     "data": {
      "text/plain": [
       "2    3\n",
       "3    4\n",
       "4    5\n",
       "Name: seat_id, dtype: int64"
      ]
     },
     "execution_count": 355,
     "metadata": {},
     "output_type": "execute_result"
    }
   ],
   "source": [
    "cinema=pd.DataFrame([[1,1],[2,0],[3,1],[4,1],[5,1]], columns = [\"seat_id\",\"free\"])\n",
    "cinema['prior_seat']= cinema['free'].shift()\n",
    "cinema['lag_seat']= cinema['free'].shift(-1)\n",
    "cinema.query(\"free==1 and (prior_seat==1 or lag_seat==1)\")['seat_id']"
   ]
  },
  {
   "cell_type": "markdown",
   "metadata": {},
   "source": [
    "# 1303. Find the Team Size"
   ]
  },
  {
   "cell_type": "code",
   "execution_count": 356,
   "metadata": {},
   "outputs": [],
   "source": [
    "Employee=pd.DataFrame([[1,8],[2,8],[3,8],[4,7],[5,9],[6,9]], columns = [\"employee_id\",\"team_id\"])"
   ]
  },
  {
   "cell_type": "code",
   "execution_count": 357,
   "metadata": {},
   "outputs": [
    {
     "data": {
      "text/html": [
       "<div>\n",
       "<style scoped>\n",
       "    .dataframe tbody tr th:only-of-type {\n",
       "        vertical-align: middle;\n",
       "    }\n",
       "\n",
       "    .dataframe tbody tr th {\n",
       "        vertical-align: top;\n",
       "    }\n",
       "\n",
       "    .dataframe thead th {\n",
       "        text-align: right;\n",
       "    }\n",
       "</style>\n",
       "<table border=\"1\" class=\"dataframe\">\n",
       "  <thead>\n",
       "    <tr style=\"text-align: right;\">\n",
       "      <th></th>\n",
       "      <th>employee_id</th>\n",
       "      <th>team_size</th>\n",
       "    </tr>\n",
       "  </thead>\n",
       "  <tbody>\n",
       "    <tr>\n",
       "      <th>0</th>\n",
       "      <td>1</td>\n",
       "      <td>3</td>\n",
       "    </tr>\n",
       "    <tr>\n",
       "      <th>1</th>\n",
       "      <td>2</td>\n",
       "      <td>3</td>\n",
       "    </tr>\n",
       "    <tr>\n",
       "      <th>2</th>\n",
       "      <td>3</td>\n",
       "      <td>3</td>\n",
       "    </tr>\n",
       "    <tr>\n",
       "      <th>3</th>\n",
       "      <td>4</td>\n",
       "      <td>1</td>\n",
       "    </tr>\n",
       "    <tr>\n",
       "      <th>4</th>\n",
       "      <td>5</td>\n",
       "      <td>2</td>\n",
       "    </tr>\n",
       "    <tr>\n",
       "      <th>5</th>\n",
       "      <td>6</td>\n",
       "      <td>2</td>\n",
       "    </tr>\n",
       "  </tbody>\n",
       "</table>\n",
       "</div>"
      ],
      "text/plain": [
       "   employee_id  team_size\n",
       "0            1          3\n",
       "1            2          3\n",
       "2            3          3\n",
       "3            4          1\n",
       "4            5          2\n",
       "5            6          2"
      ]
     },
     "execution_count": 357,
     "metadata": {},
     "output_type": "execute_result"
    }
   ],
   "source": [
    "Employee.merge(Employee.groupby('team_id')['employee_id'].count().reset_index(name='team_size'),\n",
    "               how='left', on='team_id')[[\"employee_id\",'team_size']]"
   ]
  },
  {
   "cell_type": "markdown",
   "metadata": {},
   "source": [
    "# 175. Combine Two Tables 2021/8/7"
   ]
  },
  {
   "cell_type": "code",
   "execution_count": 1,
   "metadata": {},
   "outputs": [],
   "source": [
    "import pandas as pd\n",
    "import numpy as np\n",
    "import datetime"
   ]
  },
  {
   "cell_type": "code",
   "execution_count": 2,
   "metadata": {},
   "outputs": [],
   "source": [
    "Person = pd.DataFrame([[1, \"Wang\", \"Allen\"]], columns =[\"PersonId\", \"LastName\", \"FirstName\"] )\n",
    "Address = pd.DataFrame([[1, 2, \"New York City\", \"New York\"]],\\\n",
    "                       columns = [\"AddressId\", \"PersonId\", \"City\", \"State\"])"
   ]
  },
  {
   "cell_type": "code",
   "execution_count": 3,
   "metadata": {},
   "outputs": [
    {
     "data": {
      "text/html": [
       "<div>\n",
       "<style scoped>\n",
       "    .dataframe tbody tr th:only-of-type {\n",
       "        vertical-align: middle;\n",
       "    }\n",
       "\n",
       "    .dataframe tbody tr th {\n",
       "        vertical-align: top;\n",
       "    }\n",
       "\n",
       "    .dataframe thead th {\n",
       "        text-align: right;\n",
       "    }\n",
       "</style>\n",
       "<table border=\"1\" class=\"dataframe\">\n",
       "  <thead>\n",
       "    <tr style=\"text-align: right;\">\n",
       "      <th></th>\n",
       "      <th>LastName</th>\n",
       "      <th>FirstName</th>\n",
       "      <th>City</th>\n",
       "      <th>State</th>\n",
       "    </tr>\n",
       "  </thead>\n",
       "  <tbody>\n",
       "    <tr>\n",
       "      <th>0</th>\n",
       "      <td>Wang</td>\n",
       "      <td>Allen</td>\n",
       "      <td>NaN</td>\n",
       "      <td>NaN</td>\n",
       "    </tr>\n",
       "  </tbody>\n",
       "</table>\n",
       "</div>"
      ],
      "text/plain": [
       "  LastName FirstName City State\n",
       "0     Wang     Allen  NaN   NaN"
      ]
     },
     "execution_count": 3,
     "metadata": {},
     "output_type": "execute_result"
    }
   ],
   "source": [
    "Person.merge(Address, how='left', on='PersonId')[[\"LastName\", \"FirstName\",\"City\", \"State\"]]"
   ]
  },
  {
   "cell_type": "markdown",
   "metadata": {},
   "source": [
    "# 1892. Page Recommendations II"
   ]
  },
  {
   "cell_type": "code",
   "execution_count": null,
   "metadata": {},
   "outputs": [],
   "source": [
    "{\"headers\":{\"Friendship\":[\"user1_id\",\"user2_id\"],\"Likes\":[\"user_id\",\"page_id\"]},\n",
    " \"rows\":{\"Friendship\":[[1,2],[1,3],[1,4],[2,3],[2,4],[2,5],[6,1]],\n",
    "         \"Likes\":[[1,88],[2,23],[3,24],[4,56],[5,11],[6,33],[2,77],[3,77],[6,88]]}}"
   ]
  },
  {
   "cell_type": "code",
   "execution_count": 12,
   "metadata": {},
   "outputs": [],
   "source": [
    "Friendship = pd.DataFrame([[1,2],[1,3],[1,4],[2,3],[2,4],[2,5],[6,1]], columns = [\"user1_id\",\"user2_id\"])\n",
    "Likes = pd.DataFrame([[1,88],[2,23],[3,24],[4,56],[5,11],[6,33],[2,77],[3,77],[6,88]], columns = [\"user_id\",\"page_id\"])"
   ]
  },
  {
   "cell_type": "code",
   "execution_count": 13,
   "metadata": {},
   "outputs": [],
   "source": [
    "Friendship2 = Friendship[[\"user2_id\",\"user1_id\"]]\n",
    "Friendship2.columns =[\"user1_id\",\"user2_id\"]\n",
    "Friends = pd.concat([Friendship,Friendship2]).drop_duplicates()\n",
    "Likes1=Likes.copy()\n",
    "Likes1.columns = [\"user_id\",\"page2_id\"]\n"
   ]
  },
  {
   "cell_type": "code",
   "execution_count": 25,
   "metadata": {},
   "outputs": [
    {
     "data": {
      "text/html": [
       "<div>\n",
       "<style scoped>\n",
       "    .dataframe tbody tr th:only-of-type {\n",
       "        vertical-align: middle;\n",
       "    }\n",
       "\n",
       "    .dataframe tbody tr th {\n",
       "        vertical-align: top;\n",
       "    }\n",
       "\n",
       "    .dataframe thead th {\n",
       "        text-align: right;\n",
       "    }\n",
       "</style>\n",
       "<table border=\"1\" class=\"dataframe\">\n",
       "  <thead>\n",
       "    <tr style=\"text-align: right;\">\n",
       "      <th></th>\n",
       "      <th></th>\n",
       "      <th>user2_id</th>\n",
       "      <th>user_id_x</th>\n",
       "      <th>user_id_y</th>\n",
       "      <th>page2_id</th>\n",
       "    </tr>\n",
       "    <tr>\n",
       "      <th>user1_id</th>\n",
       "      <th>page_id</th>\n",
       "      <th></th>\n",
       "      <th></th>\n",
       "      <th></th>\n",
       "      <th></th>\n",
       "    </tr>\n",
       "  </thead>\n",
       "  <tbody>\n",
       "    <tr>\n",
       "      <th>1</th>\n",
       "      <th>88</th>\n",
       "      <td>1</td>\n",
       "      <td>1</td>\n",
       "      <td>1</td>\n",
       "      <td>1</td>\n",
       "    </tr>\n",
       "    <tr>\n",
       "      <th>2</th>\n",
       "      <th>77</th>\n",
       "      <td>1</td>\n",
       "      <td>1</td>\n",
       "      <td>1</td>\n",
       "      <td>1</td>\n",
       "    </tr>\n",
       "    <tr>\n",
       "      <th>3</th>\n",
       "      <th>77</th>\n",
       "      <td>1</td>\n",
       "      <td>1</td>\n",
       "      <td>1</td>\n",
       "      <td>1</td>\n",
       "    </tr>\n",
       "    <tr>\n",
       "      <th>6</th>\n",
       "      <th>88</th>\n",
       "      <td>1</td>\n",
       "      <td>1</td>\n",
       "      <td>1</td>\n",
       "      <td>1</td>\n",
       "    </tr>\n",
       "  </tbody>\n",
       "</table>\n",
       "</div>"
      ],
      "text/plain": [
       "                  user2_id  user_id_x  user_id_y  page2_id\n",
       "user1_id page_id                                          \n",
       "1        88              1          1          1         1\n",
       "2        77              1          1          1         1\n",
       "3        77              1          1          1         1\n",
       "6        88              1          1          1         1"
      ]
     },
     "execution_count": 25,
     "metadata": {},
     "output_type": "execute_result"
    }
   ],
   "source": [
    "Friends.merge(Likes, how='left', left_on='user2_id',right_on='user_id')\\\n",
    ".merge(Likes1, how='left', left_on=['user1_id','page_id'],right_on=['user_id', 'page2_id']).dropna().\\\n",
    "groupby(['user1_id','page_id'])"
   ]
  },
  {
   "cell_type": "code",
   "execution_count": 35,
   "metadata": {},
   "outputs": [
    {
     "data": {
      "text/html": [
       "<div>\n",
       "<style scoped>\n",
       "    .dataframe tbody tr th:only-of-type {\n",
       "        vertical-align: middle;\n",
       "    }\n",
       "\n",
       "    .dataframe tbody tr th {\n",
       "        vertical-align: top;\n",
       "    }\n",
       "\n",
       "    .dataframe thead th {\n",
       "        text-align: right;\n",
       "    }\n",
       "</style>\n",
       "<table border=\"1\" class=\"dataframe\">\n",
       "  <thead>\n",
       "    <tr style=\"text-align: right;\">\n",
       "      <th></th>\n",
       "      <th>user_id</th>\n",
       "      <th>page_id</th>\n",
       "      <th>friends_likes</th>\n",
       "    </tr>\n",
       "  </thead>\n",
       "  <tbody>\n",
       "    <tr>\n",
       "      <th>4</th>\n",
       "      <td>1</td>\n",
       "      <td>77</td>\n",
       "      <td>2</td>\n",
       "    </tr>\n",
       "    <tr>\n",
       "      <th>0</th>\n",
       "      <td>1</td>\n",
       "      <td>23</td>\n",
       "      <td>1</td>\n",
       "    </tr>\n",
       "    <tr>\n",
       "      <th>1</th>\n",
       "      <td>1</td>\n",
       "      <td>24</td>\n",
       "      <td>1</td>\n",
       "    </tr>\n",
       "    <tr>\n",
       "      <th>2</th>\n",
       "      <td>1</td>\n",
       "      <td>33</td>\n",
       "      <td>1</td>\n",
       "    </tr>\n",
       "    <tr>\n",
       "      <th>3</th>\n",
       "      <td>1</td>\n",
       "      <td>56</td>\n",
       "      <td>1</td>\n",
       "    </tr>\n",
       "    <tr>\n",
       "      <th>5</th>\n",
       "      <td>2</td>\n",
       "      <td>11</td>\n",
       "      <td>1</td>\n",
       "    </tr>\n",
       "    <tr>\n",
       "      <th>6</th>\n",
       "      <td>2</td>\n",
       "      <td>24</td>\n",
       "      <td>1</td>\n",
       "    </tr>\n",
       "    <tr>\n",
       "      <th>7</th>\n",
       "      <td>2</td>\n",
       "      <td>56</td>\n",
       "      <td>1</td>\n",
       "    </tr>\n",
       "    <tr>\n",
       "      <th>8</th>\n",
       "      <td>2</td>\n",
       "      <td>88</td>\n",
       "      <td>1</td>\n",
       "    </tr>\n",
       "    <tr>\n",
       "      <th>9</th>\n",
       "      <td>3</td>\n",
       "      <td>23</td>\n",
       "      <td>1</td>\n",
       "    </tr>\n",
       "    <tr>\n",
       "      <th>10</th>\n",
       "      <td>3</td>\n",
       "      <td>88</td>\n",
       "      <td>1</td>\n",
       "    </tr>\n",
       "    <tr>\n",
       "      <th>11</th>\n",
       "      <td>4</td>\n",
       "      <td>23</td>\n",
       "      <td>1</td>\n",
       "    </tr>\n",
       "    <tr>\n",
       "      <th>12</th>\n",
       "      <td>4</td>\n",
       "      <td>77</td>\n",
       "      <td>1</td>\n",
       "    </tr>\n",
       "    <tr>\n",
       "      <th>13</th>\n",
       "      <td>4</td>\n",
       "      <td>88</td>\n",
       "      <td>1</td>\n",
       "    </tr>\n",
       "    <tr>\n",
       "      <th>14</th>\n",
       "      <td>5</td>\n",
       "      <td>23</td>\n",
       "      <td>1</td>\n",
       "    </tr>\n",
       "    <tr>\n",
       "      <th>15</th>\n",
       "      <td>5</td>\n",
       "      <td>77</td>\n",
       "      <td>1</td>\n",
       "    </tr>\n",
       "  </tbody>\n",
       "</table>\n",
       "</div>"
      ],
      "text/plain": [
       "    user_id  page_id  friends_likes\n",
       "4         1       77              2\n",
       "0         1       23              1\n",
       "1         1       24              1\n",
       "2         1       33              1\n",
       "3         1       56              1\n",
       "5         2       11              1\n",
       "6         2       24              1\n",
       "7         2       56              1\n",
       "8         2       88              1\n",
       "9         3       23              1\n",
       "10        3       88              1\n",
       "11        4       23              1\n",
       "12        4       77              1\n",
       "13        4       88              1\n",
       "14        5       23              1\n",
       "15        5       77              1"
      ]
     },
     "execution_count": 35,
     "metadata": {},
     "output_type": "execute_result"
    }
   ],
   "source": [
    "df = Friends.merge(Likes, how='left', left_on='user2_id',right_on='user_id')\\\n",
    ".merge(Likes1, how='left', left_on=['user1_id','page_id'],right_on=['user_id', 'page2_id']).\\\n",
    "groupby(['user1_id','page_id']).\\\n",
    "filter(lambda x: x['page2_id'].isnull().any())\n",
    "\n",
    "df.groupby(['user1_id','page_id'])['user2_id'].count().reset_index()\\\n",
    ".rename(columns={'user1_id':'user_id','page_id':\"page_id\",'user2_id':'friends_likes'}).\\\n",
    "sort_values(['user_id','friends_likes','page_id'], ascending=[True, False, True])"
   ]
  },
  {
   "cell_type": "markdown",
   "metadata": {},
   "source": [
    "# 1407. Top Travellers 2021/9/20"
   ]
  },
  {
   "cell_type": "code",
   "execution_count": 2,
   "metadata": {},
   "outputs": [],
   "source": [
    "import pandas as pd\n",
    "import numpy as np\n",
    "Users=pd.DataFrame([[1,\"Alice\"],[2,\"Bob\"],[3,\"Alex\"],[4,\"Donald\"],[7,\"Lee\"],[13,\"Jonathan\"],[19,\"Elvis\"]],\\\n",
    "                  columns=[\"id\",\"name\"])\n",
    "\n",
    "Rides = pd.DataFrame([[1,1,120],[2,2,317],[3,3,222],[4,7,100],[5,13,312],[6,19,50],[7,7,120],[8,19,400],[9,7,230]],\\\n",
    "                    columns = [\"id\",\"user_id\",\"distance\"])"
   ]
  },
  {
   "cell_type": "code",
   "execution_count": 6,
   "metadata": {},
   "outputs": [
    {
     "data": {
      "text/html": [
       "<div>\n",
       "<style scoped>\n",
       "    .dataframe tbody tr th:only-of-type {\n",
       "        vertical-align: middle;\n",
       "    }\n",
       "\n",
       "    .dataframe tbody tr th {\n",
       "        vertical-align: top;\n",
       "    }\n",
       "\n",
       "    .dataframe thead th {\n",
       "        text-align: right;\n",
       "    }\n",
       "</style>\n",
       "<table border=\"1\" class=\"dataframe\">\n",
       "  <thead>\n",
       "    <tr style=\"text-align: right;\">\n",
       "      <th></th>\n",
       "      <th>name</th>\n",
       "      <th>travelled_distance</th>\n",
       "    </tr>\n",
       "  </thead>\n",
       "  <tbody>\n",
       "    <tr>\n",
       "      <th>4</th>\n",
       "      <td>Elvis</td>\n",
       "      <td>450.0</td>\n",
       "    </tr>\n",
       "    <tr>\n",
       "      <th>6</th>\n",
       "      <td>Lee</td>\n",
       "      <td>450.0</td>\n",
       "    </tr>\n",
       "    <tr>\n",
       "      <th>2</th>\n",
       "      <td>Bob</td>\n",
       "      <td>317.0</td>\n",
       "    </tr>\n",
       "    <tr>\n",
       "      <th>5</th>\n",
       "      <td>Jonathan</td>\n",
       "      <td>312.0</td>\n",
       "    </tr>\n",
       "    <tr>\n",
       "      <th>0</th>\n",
       "      <td>Alex</td>\n",
       "      <td>222.0</td>\n",
       "    </tr>\n",
       "    <tr>\n",
       "      <th>1</th>\n",
       "      <td>Alice</td>\n",
       "      <td>120.0</td>\n",
       "    </tr>\n",
       "    <tr>\n",
       "      <th>3</th>\n",
       "      <td>Donald</td>\n",
       "      <td>0.0</td>\n",
       "    </tr>\n",
       "  </tbody>\n",
       "</table>\n",
       "</div>"
      ],
      "text/plain": [
       "       name  travelled_distance\n",
       "4     Elvis               450.0\n",
       "6       Lee               450.0\n",
       "2       Bob               317.0\n",
       "5  Jonathan               312.0\n",
       "0      Alex               222.0\n",
       "1     Alice               120.0\n",
       "3    Donald                 0.0"
      ]
     },
     "execution_count": 6,
     "metadata": {},
     "output_type": "execute_result"
    }
   ],
   "source": [
    "Users.merge(Rides, how='left',left_on='id',right_on='user_id').groupby(['name'])['distance'].sum().\\\n",
    "reset_index(name='travelled_distance').fillna(0).sort_values(['travelled_distance','name'],ascending=[False,True])"
   ]
  },
  {
   "cell_type": "markdown",
   "metadata": {},
   "source": [
    "# 1364. Number of Trusted Contacts of a Customer"
   ]
  },
  {
   "cell_type": "code",
   "execution_count": 7,
   "metadata": {},
   "outputs": [],
   "source": [
    "Customers = pd.DataFrame([[1,\"Alice\",\"alice@leetcode.com\"],[2,\"Bob\",\"bob@leetcode.com\"],\\\n",
    "                          [13,\"John\",\"john@leetcode.com\"],[6,\"Alex\",\"alex@leetcode.com\"]],\\\n",
    "                        columns = [\"customer_id\",\"customer_name\",\"email\"])\n",
    "Contacts = pd.DataFrame([[1,\"Bob\",\"bob@leetcode.com\"],[1,\"John\",\"john@leetcode.com\"],\\\n",
    "                     [1,\"Jal\",\"jal@leetcode.com\"],[2,\"Omar\",\"omar@leetcode.com\"],\\\n",
    "                     [2,\"Meir\",\"meir@leetcode.com\"],[6,\"Alice\",\"alice@leetcode.com\"]],\\\n",
    "                       columns = [\"user_id\",\"contact_name\",\"contact_email\"])\n",
    "Invoices = pd.DataFrame([[77,100,1],[88,200,1],[99,300,2],[66,400,2],[55,500,13],[44,60,6]],\\\n",
    "                       columns = [\"invoice_id\",\"price\",\"user_id\"])"
   ]
  },
  {
   "cell_type": "code",
   "execution_count": 21,
   "metadata": {},
   "outputs": [
    {
     "data": {
      "text/html": [
       "<div>\n",
       "<style scoped>\n",
       "    .dataframe tbody tr th:only-of-type {\n",
       "        vertical-align: middle;\n",
       "    }\n",
       "\n",
       "    .dataframe tbody tr th {\n",
       "        vertical-align: top;\n",
       "    }\n",
       "\n",
       "    .dataframe thead th {\n",
       "        text-align: right;\n",
       "    }\n",
       "</style>\n",
       "<table border=\"1\" class=\"dataframe\">\n",
       "  <thead>\n",
       "    <tr style=\"text-align: right;\">\n",
       "      <th></th>\n",
       "      <th>customer_name</th>\n",
       "      <th>invoice_id</th>\n",
       "      <th>price</th>\n",
       "      <th>contacts_cnt</th>\n",
       "      <th>trusted_contacts_cnt</th>\n",
       "    </tr>\n",
       "  </thead>\n",
       "  <tbody>\n",
       "    <tr>\n",
       "      <th>0</th>\n",
       "      <td>Alex</td>\n",
       "      <td>44</td>\n",
       "      <td>60</td>\n",
       "      <td>1</td>\n",
       "      <td>1</td>\n",
       "    </tr>\n",
       "    <tr>\n",
       "      <th>5</th>\n",
       "      <td>John</td>\n",
       "      <td>55</td>\n",
       "      <td>500</td>\n",
       "      <td>0</td>\n",
       "      <td>0</td>\n",
       "    </tr>\n",
       "    <tr>\n",
       "      <th>3</th>\n",
       "      <td>Bob</td>\n",
       "      <td>66</td>\n",
       "      <td>400</td>\n",
       "      <td>2</td>\n",
       "      <td>0</td>\n",
       "    </tr>\n",
       "    <tr>\n",
       "      <th>1</th>\n",
       "      <td>Alice</td>\n",
       "      <td>77</td>\n",
       "      <td>100</td>\n",
       "      <td>3</td>\n",
       "      <td>2</td>\n",
       "    </tr>\n",
       "    <tr>\n",
       "      <th>2</th>\n",
       "      <td>Alice</td>\n",
       "      <td>88</td>\n",
       "      <td>200</td>\n",
       "      <td>3</td>\n",
       "      <td>2</td>\n",
       "    </tr>\n",
       "    <tr>\n",
       "      <th>4</th>\n",
       "      <td>Bob</td>\n",
       "      <td>99</td>\n",
       "      <td>300</td>\n",
       "      <td>2</td>\n",
       "      <td>0</td>\n",
       "    </tr>\n",
       "  </tbody>\n",
       "</table>\n",
       "</div>"
      ],
      "text/plain": [
       "  customer_name  invoice_id  price  contacts_cnt  trusted_contacts_cnt\n",
       "0          Alex          44     60             1                     1\n",
       "5          John          55    500             0                     0\n",
       "3           Bob          66    400             2                     0\n",
       "1         Alice          77    100             3                     2\n",
       "2         Alice          88    200             3                     2\n",
       "4           Bob          99    300             2                     0"
      ]
     },
     "execution_count": 21,
     "metadata": {},
     "output_type": "execute_result"
    }
   ],
   "source": [
    "Invoices.merge(Customers, how='left', left_on='user_id',right_on='customer_id').\\\n",
    "merge(Contacts, how='left',on='user_id').\\\n",
    "merge(Contacts[Contacts['contact_email'].isin(list(Customers['email']))], how='left',on=['user_id','contact_email']).\\\n",
    "groupby([\"customer_name\",\"invoice_id\",\"price\"])['contact_name_x','contact_name_y'].count().\\\n",
    "reset_index().fillna(0).rename(columns={'customer_name':'customer_name','invoice_id':\"invoice_id\",'price':'price',\\\n",
    "'contact_name_x':'contacts_cnt','contact_name_y':'trusted_contacts_cnt'}).\\\n",
    "sort_values('invoice_id')"
   ]
  },
  {
   "cell_type": "markdown",
   "metadata": {},
   "source": [
    "# 1907. Count Salary Categories"
   ]
  },
  {
   "cell_type": "code",
   "execution_count": 28,
   "metadata": {},
   "outputs": [],
   "source": [
    "Accounts = pd.DataFrame([[3,108939],[2,12747],[8,87709],[6,91796]],columns = [\"account_id\",\"income\"])"
   ]
  },
  {
   "cell_type": "code",
   "execution_count": 29,
   "metadata": {},
   "outputs": [],
   "source": [
    "cat = pd.DataFrame(['Low Salary','Average Salary','High Salary'], columns = ['category'])\n",
    "Accounts['category'] = np.where(Accounts['income']<20000,'Low Salary',\\\n",
    "                                np.where(Accounts['income']>50000,'High Salary','Average Salary'))"
   ]
  },
  {
   "cell_type": "code",
   "execution_count": 30,
   "metadata": {},
   "outputs": [
    {
     "data": {
      "text/html": [
       "<div>\n",
       "<style scoped>\n",
       "    .dataframe tbody tr th:only-of-type {\n",
       "        vertical-align: middle;\n",
       "    }\n",
       "\n",
       "    .dataframe tbody tr th {\n",
       "        vertical-align: top;\n",
       "    }\n",
       "\n",
       "    .dataframe thead th {\n",
       "        text-align: right;\n",
       "    }\n",
       "</style>\n",
       "<table border=\"1\" class=\"dataframe\">\n",
       "  <thead>\n",
       "    <tr style=\"text-align: right;\">\n",
       "      <th></th>\n",
       "      <th>category</th>\n",
       "      <th>accounts_count</th>\n",
       "    </tr>\n",
       "  </thead>\n",
       "  <tbody>\n",
       "    <tr>\n",
       "      <th>0</th>\n",
       "      <td>Average Salary</td>\n",
       "      <td>0</td>\n",
       "    </tr>\n",
       "    <tr>\n",
       "      <th>1</th>\n",
       "      <td>High Salary</td>\n",
       "      <td>3</td>\n",
       "    </tr>\n",
       "    <tr>\n",
       "      <th>2</th>\n",
       "      <td>Low Salary</td>\n",
       "      <td>1</td>\n",
       "    </tr>\n",
       "  </tbody>\n",
       "</table>\n",
       "</div>"
      ],
      "text/plain": [
       "         category  accounts_count\n",
       "0  Average Salary               0\n",
       "1     High Salary               3\n",
       "2      Low Salary               1"
      ]
     },
     "execution_count": 30,
     "metadata": {},
     "output_type": "execute_result"
    }
   ],
   "source": [
    "cat.merge(Accounts, how='left', on= ['category']).groupby(['category'])['account_id'].count()\\\n",
    ".reset_index(name='accounts_count').fillna(0)"
   ]
  },
  {
   "cell_type": "markdown",
   "metadata": {},
   "source": [
    "# 1435. Create a Session Bar Chart"
   ]
  },
  {
   "cell_type": "code",
   "execution_count": 42,
   "metadata": {},
   "outputs": [],
   "source": [
    "Sessions = pd.DataFrame([[1, 30], [2, 199], [3, 299], [4, 580], [5, 1000]], columns = [\"session_id\", \"duration\"])"
   ]
  },
  {
   "cell_type": "code",
   "execution_count": 35,
   "metadata": {},
   "outputs": [],
   "source": [
    "bins=pd.DataFrame([\"[0-5>\", \"[5-10>\", \"[10-15>\",\"15 minutes or more\"], columns =[\"bin\"])\n",
    "\n",
    "### method 1\n",
    "Sessions['bin']=np.where(Sessions['duration']/60<5,\"[0-5>\",\\\n",
    "np.where(Sessions['duration']/60>15,\"15 minutes or more\",\\\n",
    "         np.where(Sessions['duration']/60<10,\"[5-10>\", \"[10-15>\")))"
   ]
  },
  {
   "cell_type": "code",
   "execution_count": 43,
   "metadata": {},
   "outputs": [
    {
     "data": {
      "text/html": [
       "<div>\n",
       "<style scoped>\n",
       "    .dataframe tbody tr th:only-of-type {\n",
       "        vertical-align: middle;\n",
       "    }\n",
       "\n",
       "    .dataframe tbody tr th {\n",
       "        vertical-align: top;\n",
       "    }\n",
       "\n",
       "    .dataframe thead th {\n",
       "        text-align: right;\n",
       "    }\n",
       "</style>\n",
       "<table border=\"1\" class=\"dataframe\">\n",
       "  <thead>\n",
       "    <tr style=\"text-align: right;\">\n",
       "      <th></th>\n",
       "      <th>session_id</th>\n",
       "      <th>duration</th>\n",
       "      <th>bin</th>\n",
       "    </tr>\n",
       "  </thead>\n",
       "  <tbody>\n",
       "    <tr>\n",
       "      <th>0</th>\n",
       "      <td>1</td>\n",
       "      <td>30</td>\n",
       "      <td>[0-5&gt;</td>\n",
       "    </tr>\n",
       "    <tr>\n",
       "      <th>1</th>\n",
       "      <td>2</td>\n",
       "      <td>199</td>\n",
       "      <td>[0-5&gt;</td>\n",
       "    </tr>\n",
       "    <tr>\n",
       "      <th>2</th>\n",
       "      <td>3</td>\n",
       "      <td>299</td>\n",
       "      <td>[0-5&gt;</td>\n",
       "    </tr>\n",
       "    <tr>\n",
       "      <th>3</th>\n",
       "      <td>4</td>\n",
       "      <td>580</td>\n",
       "      <td>[5-10&gt;</td>\n",
       "    </tr>\n",
       "    <tr>\n",
       "      <th>4</th>\n",
       "      <td>5</td>\n",
       "      <td>1000</td>\n",
       "      <td>15 minutes or more</td>\n",
       "    </tr>\n",
       "  </tbody>\n",
       "</table>\n",
       "</div>"
      ],
      "text/plain": [
       "   session_id  duration                 bin\n",
       "0           1        30               [0-5>\n",
       "1           2       199               [0-5>\n",
       "2           3       299               [0-5>\n",
       "3           4       580              [5-10>\n",
       "4           5      1000  15 minutes or more"
      ]
     },
     "execution_count": 43,
     "metadata": {},
     "output_type": "execute_result"
    }
   ],
   "source": [
    "## method 2\n",
    "conditions = {\n",
    "    '[0-5>': Sessions['duration']/60<5,\\\n",
    "    '[5-10>': (Sessions['duration']/60>=5) & (Sessions['duration']/60<10),\\\n",
    "    '[10-15>': (Sessions['duration']/60>=10) & (Sessions['duration']/60<15),\\\n",
    "    '15 minutes or more': (Sessions['duration']/60>15)\\\n",
    "}\n",
    "Sessions['bin'] = np.select(conditions.values(), conditions.keys(), default='Partial')\n",
    "Sessions"
   ]
  },
  {
   "cell_type": "code",
   "execution_count": 44,
   "metadata": {},
   "outputs": [
    {
     "data": {
      "text/html": [
       "<div>\n",
       "<style scoped>\n",
       "    .dataframe tbody tr th:only-of-type {\n",
       "        vertical-align: middle;\n",
       "    }\n",
       "\n",
       "    .dataframe tbody tr th {\n",
       "        vertical-align: top;\n",
       "    }\n",
       "\n",
       "    .dataframe thead th {\n",
       "        text-align: right;\n",
       "    }\n",
       "</style>\n",
       "<table border=\"1\" class=\"dataframe\">\n",
       "  <thead>\n",
       "    <tr style=\"text-align: right;\">\n",
       "      <th></th>\n",
       "      <th>bin</th>\n",
       "      <th>total</th>\n",
       "    </tr>\n",
       "  </thead>\n",
       "  <tbody>\n",
       "    <tr>\n",
       "      <th>0</th>\n",
       "      <td>15 minutes or more</td>\n",
       "      <td>1</td>\n",
       "    </tr>\n",
       "    <tr>\n",
       "      <th>1</th>\n",
       "      <td>[0-5&gt;</td>\n",
       "      <td>3</td>\n",
       "    </tr>\n",
       "    <tr>\n",
       "      <th>2</th>\n",
       "      <td>[10-15&gt;</td>\n",
       "      <td>0</td>\n",
       "    </tr>\n",
       "    <tr>\n",
       "      <th>3</th>\n",
       "      <td>[5-10&gt;</td>\n",
       "      <td>1</td>\n",
       "    </tr>\n",
       "  </tbody>\n",
       "</table>\n",
       "</div>"
      ],
      "text/plain": [
       "                  bin  total\n",
       "0  15 minutes or more      1\n",
       "1               [0-5>      3\n",
       "2             [10-15>      0\n",
       "3              [5-10>      1"
      ]
     },
     "execution_count": 44,
     "metadata": {},
     "output_type": "execute_result"
    }
   ],
   "source": [
    "bins.merge(Sessions,how='left',on='bin').groupby(['bin'])['session_id'].count().reset_index(name='total')"
   ]
  },
  {
   "cell_type": "markdown",
   "metadata": {},
   "source": [
    "# 574. Winning Candidate"
   ]
  },
  {
   "cell_type": "code",
   "execution_count": 47,
   "metadata": {},
   "outputs": [],
   "source": [
    "Candidate=pd.DataFrame([[1,\"A\"],[2,\"B\"],[3,\"C\"],[4,\"D\"],[5,\"E\"]], columns = [\"id\",\"Name\"])\n",
    "Vote = pd.DataFrame([[1,2],[2,4],[3,3],[4,2],[5,5]], columns = [\"id\",\"CandidateId\"])"
   ]
  },
  {
   "cell_type": "code",
   "execution_count": 53,
   "metadata": {},
   "outputs": [
    {
     "data": {
      "text/plain": [
       "1    B\n",
       "Name: Name, dtype: object"
      ]
     },
     "execution_count": 53,
     "metadata": {},
     "output_type": "execute_result"
    }
   ],
   "source": [
    "ids = list(Vote.groupby(['CandidateId'])['id'].count().reset_index(name='cnt').nlargest(1,'cnt')[\"CandidateId\"])\n",
    "Candidate[Candidate['id'].isin(ids)]['Name']"
   ]
  },
  {
   "cell_type": "markdown",
   "metadata": {},
   "source": [
    "# 180. Consecutive Numbers 2021/9/21"
   ]
  },
  {
   "cell_type": "code",
   "execution_count": 54,
   "metadata": {},
   "outputs": [],
   "source": [
    "Logs = pd.DataFrame([[1, 1], [2, 1], [3, 1], [4, 2], [5, 1], [6, 2], [7, 2]], columns = [\"Id\", \"Num\"])"
   ]
  },
  {
   "cell_type": "code",
   "execution_count": 57,
   "metadata": {},
   "outputs": [
    {
     "data": {
      "text/plain": [
       "array([1])"
      ]
     },
     "execution_count": 57,
     "metadata": {},
     "output_type": "execute_result"
    }
   ],
   "source": [
    "Logs['lag_1']=Logs['Num'].shift(1)\n",
    "Logs['lag_2']=Logs['Num'].shift(2)\n",
    "Logs[(Logs['Num'] ==Logs['lag_1']) &(Logs['Num'] ==Logs['lag_2'])]['Num'].unique()"
   ]
  },
  {
   "cell_type": "markdown",
   "metadata": {},
   "source": [
    "# 1841. League Statistics"
   ]
  },
  {
   "cell_type": "code",
   "execution_count": 58,
   "metadata": {},
   "outputs": [],
   "source": [
    "Teams = pd.DataFrame([[1,\"Ajax\"],[4,\"Dortmund\"],[6,\"Arsenal\"]], columns = [\"team_id\",\"team_name\"])\n",
    "Matches = pd.DataFrame([[1,4,0,1],[1,6,3,3],[4,1,5,2],[6,1,0,0]], columns = [\"home_team_id\",\"away_team_id\",\\\n",
    "                                                                             \"home_team_goals\",\"away_team_goals\"])"
   ]
  },
  {
   "cell_type": "code",
   "execution_count": 60,
   "metadata": {},
   "outputs": [],
   "source": [
    "Conditions = [Matches['home_team_goals']>Matches['away_team_goals'],\\\n",
    "                   Matches['home_team_goals']==Matches['away_team_goals'],\n",
    "                  Matches['home_team_goals']<Matches['away_team_goals']]\n",
    "\n",
    "results_home=[3,1,0]\n",
    "results_away=[0,1,3]\n",
    "\n",
    "\n",
    "Matches['points_home'] = np.select(Conditions, results_home)\n",
    "Matches['points_away'] = np.select(Conditions, results_away)"
   ]
  },
  {
   "cell_type": "code",
   "execution_count": 62,
   "metadata": {},
   "outputs": [
    {
     "data": {
      "text/plain": [
       "Index(['home_team_id', 'away_team_id', 'home_team_goals', 'away_team_goals',\n",
       "       'points_home', 'points_away'],\n",
       "      dtype='object')"
      ]
     },
     "execution_count": 62,
     "metadata": {},
     "output_type": "execute_result"
    }
   ],
   "source": [
    "Matches.columns"
   ]
  },
  {
   "cell_type": "code",
   "execution_count": 64,
   "metadata": {},
   "outputs": [],
   "source": [
    "Matches_home = Matches[['home_team_id','home_team_goals','away_team_goals','points_home']]\n",
    "Matches_away = Matches[['away_team_id','away_team_goals','home_team_goals','points_away']]"
   ]
  },
  {
   "cell_type": "code",
   "execution_count": 65,
   "metadata": {},
   "outputs": [],
   "source": [
    "Matches_home.columns=['team_id','goals_for','goals_against','points']\n",
    "Matches_away.columns=['team_id','goals_for','goals_against','points']"
   ]
  },
  {
   "cell_type": "code",
   "execution_count": 77,
   "metadata": {},
   "outputs": [],
   "source": [
    "Matches1=pd.concat([Matches_home, Matches_away])\n",
    "Matches2 = Matches1.merge(Teams, how='inner', on='team_id').groupby(['team_name']).\\\n",
    "agg({'goals_for':['count','sum'],'goals_against':'sum','points':'sum'})\\\n",
    ".reset_index()"
   ]
  },
  {
   "cell_type": "code",
   "execution_count": 79,
   "metadata": {},
   "outputs": [],
   "source": [
    "Matches2.columns=['team_name','matches_played', 'goals_for','goals_against','points']"
   ]
  },
  {
   "cell_type": "code",
   "execution_count": 81,
   "metadata": {},
   "outputs": [
    {
     "data": {
      "text/html": [
       "<div>\n",
       "<style scoped>\n",
       "    .dataframe tbody tr th:only-of-type {\n",
       "        vertical-align: middle;\n",
       "    }\n",
       "\n",
       "    .dataframe tbody tr th {\n",
       "        vertical-align: top;\n",
       "    }\n",
       "\n",
       "    .dataframe thead th {\n",
       "        text-align: right;\n",
       "    }\n",
       "</style>\n",
       "<table border=\"1\" class=\"dataframe\">\n",
       "  <thead>\n",
       "    <tr style=\"text-align: right;\">\n",
       "      <th></th>\n",
       "      <th>team_id</th>\n",
       "      <th>goals_for</th>\n",
       "      <th>goals_against</th>\n",
       "      <th>points</th>\n",
       "    </tr>\n",
       "  </thead>\n",
       "  <tbody>\n",
       "    <tr>\n",
       "      <th>0</th>\n",
       "      <td>1</td>\n",
       "      <td>0</td>\n",
       "      <td>1</td>\n",
       "      <td>0</td>\n",
       "    </tr>\n",
       "    <tr>\n",
       "      <th>1</th>\n",
       "      <td>1</td>\n",
       "      <td>3</td>\n",
       "      <td>3</td>\n",
       "      <td>1</td>\n",
       "    </tr>\n",
       "    <tr>\n",
       "      <th>2</th>\n",
       "      <td>4</td>\n",
       "      <td>5</td>\n",
       "      <td>2</td>\n",
       "      <td>3</td>\n",
       "    </tr>\n",
       "    <tr>\n",
       "      <th>3</th>\n",
       "      <td>6</td>\n",
       "      <td>0</td>\n",
       "      <td>0</td>\n",
       "      <td>1</td>\n",
       "    </tr>\n",
       "    <tr>\n",
       "      <th>0</th>\n",
       "      <td>4</td>\n",
       "      <td>1</td>\n",
       "      <td>0</td>\n",
       "      <td>3</td>\n",
       "    </tr>\n",
       "    <tr>\n",
       "      <th>1</th>\n",
       "      <td>6</td>\n",
       "      <td>3</td>\n",
       "      <td>3</td>\n",
       "      <td>1</td>\n",
       "    </tr>\n",
       "    <tr>\n",
       "      <th>2</th>\n",
       "      <td>1</td>\n",
       "      <td>2</td>\n",
       "      <td>5</td>\n",
       "      <td>0</td>\n",
       "    </tr>\n",
       "    <tr>\n",
       "      <th>3</th>\n",
       "      <td>1</td>\n",
       "      <td>0</td>\n",
       "      <td>0</td>\n",
       "      <td>1</td>\n",
       "    </tr>\n",
       "  </tbody>\n",
       "</table>\n",
       "</div>"
      ],
      "text/plain": [
       "   team_id  goals_for  goals_against  points\n",
       "0        1          0              1       0\n",
       "1        1          3              3       1\n",
       "2        4          5              2       3\n",
       "3        6          0              0       1\n",
       "0        4          1              0       3\n",
       "1        6          3              3       1\n",
       "2        1          2              5       0\n",
       "3        1          0              0       1"
      ]
     },
     "execution_count": 81,
     "metadata": {},
     "output_type": "execute_result"
    }
   ],
   "source": [
    "Matches1"
   ]
  },
  {
   "cell_type": "code",
   "execution_count": 80,
   "metadata": {},
   "outputs": [
    {
     "data": {
      "text/html": [
       "<div>\n",
       "<style scoped>\n",
       "    .dataframe tbody tr th:only-of-type {\n",
       "        vertical-align: middle;\n",
       "    }\n",
       "\n",
       "    .dataframe tbody tr th {\n",
       "        vertical-align: top;\n",
       "    }\n",
       "\n",
       "    .dataframe thead th {\n",
       "        text-align: right;\n",
       "    }\n",
       "</style>\n",
       "<table border=\"1\" class=\"dataframe\">\n",
       "  <thead>\n",
       "    <tr style=\"text-align: right;\">\n",
       "      <th></th>\n",
       "      <th>team_name</th>\n",
       "      <th>matches_played</th>\n",
       "      <th>goals_for</th>\n",
       "      <th>goals_against</th>\n",
       "      <th>points</th>\n",
       "      <th>goal_diff</th>\n",
       "    </tr>\n",
       "  </thead>\n",
       "  <tbody>\n",
       "    <tr>\n",
       "      <th>2</th>\n",
       "      <td>Dortmund</td>\n",
       "      <td>2</td>\n",
       "      <td>6</td>\n",
       "      <td>2</td>\n",
       "      <td>6</td>\n",
       "      <td>4</td>\n",
       "    </tr>\n",
       "    <tr>\n",
       "      <th>1</th>\n",
       "      <td>Arsenal</td>\n",
       "      <td>2</td>\n",
       "      <td>3</td>\n",
       "      <td>3</td>\n",
       "      <td>2</td>\n",
       "      <td>0</td>\n",
       "    </tr>\n",
       "    <tr>\n",
       "      <th>0</th>\n",
       "      <td>Ajax</td>\n",
       "      <td>4</td>\n",
       "      <td>5</td>\n",
       "      <td>9</td>\n",
       "      <td>2</td>\n",
       "      <td>-4</td>\n",
       "    </tr>\n",
       "  </tbody>\n",
       "</table>\n",
       "</div>"
      ],
      "text/plain": [
       "  team_name  matches_played  goals_for  goals_against  points  goal_diff\n",
       "2  Dortmund               2          6              2       6          4\n",
       "1   Arsenal               2          3              3       2          0\n",
       "0      Ajax               4          5              9       2         -4"
      ]
     },
     "execution_count": 80,
     "metadata": {},
     "output_type": "execute_result"
    }
   ],
   "source": [
    "Matches2['goal_diff']=Matches2['goals_for']-Matches2['goals_against']\n",
    "Matches2.sort_values(['points','goal_diff','team_name'], ascending=[False, False, True])"
   ]
  },
  {
   "cell_type": "markdown",
   "metadata": {},
   "source": [
    "# 614. Second Degree Follower"
   ]
  },
  {
   "cell_type": "code",
   "execution_count": 82,
   "metadata": {},
   "outputs": [],
   "source": [
    "follow = pd.DataFrame([[\"A\", \"B\"], [\"B\", \"C\"], [\"B\", \"D\"], [\"D\", \"E\"]], columns = [\"followee\",\"follower\"])"
   ]
  },
  {
   "cell_type": "code",
   "execution_count": 93,
   "metadata": {},
   "outputs": [
    {
     "data": {
      "text/html": [
       "<div>\n",
       "<style scoped>\n",
       "    .dataframe tbody tr th:only-of-type {\n",
       "        vertical-align: middle;\n",
       "    }\n",
       "\n",
       "    .dataframe tbody tr th {\n",
       "        vertical-align: top;\n",
       "    }\n",
       "\n",
       "    .dataframe thead th {\n",
       "        text-align: right;\n",
       "    }\n",
       "</style>\n",
       "<table border=\"1\" class=\"dataframe\">\n",
       "  <thead>\n",
       "    <tr style=\"text-align: right;\">\n",
       "      <th></th>\n",
       "      <th>follower</th>\n",
       "      <th>num</th>\n",
       "    </tr>\n",
       "  </thead>\n",
       "  <tbody>\n",
       "    <tr>\n",
       "      <th>0</th>\n",
       "      <td>B</td>\n",
       "      <td>2</td>\n",
       "    </tr>\n",
       "    <tr>\n",
       "      <th>1</th>\n",
       "      <td>D</td>\n",
       "      <td>1</td>\n",
       "    </tr>\n",
       "  </tbody>\n",
       "</table>\n",
       "</div>"
      ],
      "text/plain": [
       "  follower  num\n",
       "0        B    2\n",
       "1        D    1"
      ]
     },
     "execution_count": 93,
     "metadata": {},
     "output_type": "execute_result"
    }
   ],
   "source": [
    "follow.merge(follow,how='left', left_on='follower', right_on='followee').\\\n",
    "groupby('follower_x').filter(lambda x: x['follower_y'].nunique()>=1).groupby('follower_x')\\\n",
    "['follower_y'].nunique().reset_index().rename(columns={'follower_x':'follower','follower_y':'num'})"
   ]
  },
  {
   "cell_type": "markdown",
   "metadata": {},
   "source": [
    "# 1174. Immediate Food Delivery II"
   ]
  },
  {
   "cell_type": "code",
   "execution_count": 104,
   "metadata": {},
   "outputs": [],
   "source": [
    "Delivery = pd.DataFrame([[1,1,\"2019-08-01\",\"2019-08-02\"],[2,2,\"2019-08-02\",\"2019-08-02\"],\\\n",
    "                     [3,1,\"2019-08-11\",\"2019-08-12\"],[4,3,\"2019-08-24\",\"2019-08-24\"],\\\n",
    "                     [5,3,\"2019-08-21\",\"2019-08-22\"],[6,2,\"2019-08-11\",\"2019-08-13\"],\\\n",
    "                     [7,4,\"2019-08-09\",\"2019-08-09\"]],\\\n",
    "                    columns = [\"delivery_id\",\"customer_id\",\"order_date\",\"customer_pref_delivery_date\"])\n",
    "Delivery['order_date']=pd.to_datetime(Delivery['order_date'])\n",
    "\n",
    "Delivery['customer_pref_delivery_date']=pd.to_datetime(Delivery['customer_pref_delivery_date'])\n"
   ]
  },
  {
   "cell_type": "code",
   "execution_count": 105,
   "metadata": {},
   "outputs": [
    {
     "data": {
      "text/html": [
       "<div>\n",
       "<style scoped>\n",
       "    .dataframe tbody tr th:only-of-type {\n",
       "        vertical-align: middle;\n",
       "    }\n",
       "\n",
       "    .dataframe tbody tr th {\n",
       "        vertical-align: top;\n",
       "    }\n",
       "\n",
       "    .dataframe thead th {\n",
       "        text-align: right;\n",
       "    }\n",
       "</style>\n",
       "<table border=\"1\" class=\"dataframe\">\n",
       "  <thead>\n",
       "    <tr style=\"text-align: right;\">\n",
       "      <th></th>\n",
       "      <th>delivery_id</th>\n",
       "      <th>customer_id</th>\n",
       "      <th>order_date</th>\n",
       "      <th>customer_pref_delivery_date</th>\n",
       "    </tr>\n",
       "  </thead>\n",
       "  <tbody>\n",
       "    <tr>\n",
       "      <th>0</th>\n",
       "      <td>1</td>\n",
       "      <td>1</td>\n",
       "      <td>2019-08-01</td>\n",
       "      <td>2019-08-02</td>\n",
       "    </tr>\n",
       "    <tr>\n",
       "      <th>1</th>\n",
       "      <td>2</td>\n",
       "      <td>2</td>\n",
       "      <td>2019-08-02</td>\n",
       "      <td>2019-08-02</td>\n",
       "    </tr>\n",
       "    <tr>\n",
       "      <th>2</th>\n",
       "      <td>3</td>\n",
       "      <td>1</td>\n",
       "      <td>2019-08-11</td>\n",
       "      <td>2019-08-12</td>\n",
       "    </tr>\n",
       "    <tr>\n",
       "      <th>3</th>\n",
       "      <td>4</td>\n",
       "      <td>3</td>\n",
       "      <td>2019-08-24</td>\n",
       "      <td>2019-08-24</td>\n",
       "    </tr>\n",
       "    <tr>\n",
       "      <th>4</th>\n",
       "      <td>5</td>\n",
       "      <td>3</td>\n",
       "      <td>2019-08-21</td>\n",
       "      <td>2019-08-22</td>\n",
       "    </tr>\n",
       "    <tr>\n",
       "      <th>5</th>\n",
       "      <td>6</td>\n",
       "      <td>2</td>\n",
       "      <td>2019-08-11</td>\n",
       "      <td>2019-08-13</td>\n",
       "    </tr>\n",
       "    <tr>\n",
       "      <th>6</th>\n",
       "      <td>7</td>\n",
       "      <td>4</td>\n",
       "      <td>2019-08-09</td>\n",
       "      <td>2019-08-09</td>\n",
       "    </tr>\n",
       "  </tbody>\n",
       "</table>\n",
       "</div>"
      ],
      "text/plain": [
       "   delivery_id  customer_id order_date customer_pref_delivery_date\n",
       "0            1            1 2019-08-01                  2019-08-02\n",
       "1            2            2 2019-08-02                  2019-08-02\n",
       "2            3            1 2019-08-11                  2019-08-12\n",
       "3            4            3 2019-08-24                  2019-08-24\n",
       "4            5            3 2019-08-21                  2019-08-22\n",
       "5            6            2 2019-08-11                  2019-08-13\n",
       "6            7            4 2019-08-09                  2019-08-09"
      ]
     },
     "execution_count": 105,
     "metadata": {},
     "output_type": "execute_result"
    }
   ],
   "source": [
    "Delivery"
   ]
  },
  {
   "cell_type": "code",
   "execution_count": 106,
   "metadata": {},
   "outputs": [
    {
     "name": "stdout",
     "output_type": "stream",
     "text": [
      "<class 'pandas.core.frame.DataFrame'>\n",
      "RangeIndex: 7 entries, 0 to 6\n",
      "Data columns (total 4 columns):\n",
      "delivery_id                    7 non-null int64\n",
      "customer_id                    7 non-null int64\n",
      "order_date                     7 non-null datetime64[ns]\n",
      "customer_pref_delivery_date    7 non-null datetime64[ns]\n",
      "dtypes: datetime64[ns](2), int64(2)\n",
      "memory usage: 352.0 bytes\n"
     ]
    }
   ],
   "source": [
    "Delivery.info()"
   ]
  },
  {
   "cell_type": "code",
   "execution_count": 117,
   "metadata": {},
   "outputs": [
    {
     "data": {
      "text/plain": [
       "50.0"
      ]
     },
     "execution_count": 117,
     "metadata": {},
     "output_type": "execute_result"
    }
   ],
   "source": [
    "Delivery['rank'] = Delivery.groupby('customer_id')['order_date'].rank(method ='dense', ascending=True)\n",
    "(np.where(Delivery.query('rank==1')['order_date']==Delivery.query('rank==1')['customer_pref_delivery_date'],1,0)\\\n",
    ".sum()*100/Delivery.query('rank==1')['order_date'].count()).round(2)\n",
    "\n"
   ]
  },
  {
   "cell_type": "code",
   "execution_count": 114,
   "metadata": {},
   "outputs": [
    {
     "data": {
      "text/plain": [
       "delivery_id                    4\n",
       "customer_id                    4\n",
       "order_date                     4\n",
       "customer_pref_delivery_date    4\n",
       "rank                           4\n",
       "dtype: int64"
      ]
     },
     "execution_count": 114,
     "metadata": {},
     "output_type": "execute_result"
    }
   ],
   "source": [
    "Delivery.query('rank==1').count()"
   ]
  },
  {
   "cell_type": "markdown",
   "metadata": {},
   "source": [
    "# 1204. Last Person to Fit in the Bus"
   ]
  },
  {
   "cell_type": "code",
   "execution_count": 118,
   "metadata": {},
   "outputs": [],
   "source": [
    "Queue = pd.DataFrame([[5,\"Alice\",250,1],[4,\"Bob\",175,5],[3,\"Alex\",350,2],[6,\"John Cena\",400,3],\\\n",
    "                      [1,\"Winston\",500,6],[2,\"Marie\",200,4]], columns = [\"person_id\",\"person_name\",\"weight\",\"turn\"])"
   ]
  },
  {
   "cell_type": "code",
   "execution_count": 124,
   "metadata": {},
   "outputs": [
    {
     "data": {
      "text/plain": [
       "3    John Cena\n",
       "Name: person_name, dtype: object"
      ]
     },
     "execution_count": 124,
     "metadata": {},
     "output_type": "execute_result"
    }
   ],
   "source": [
    "Queue['cum_sum'] = Queue.sort_values('turn', ascending=True)['weight'].cumsum()\n",
    "Queue.query('cum_sum<=1000').nlargest(1,'cum_sum')['person_name']"
   ]
  },
  {
   "cell_type": "markdown",
   "metadata": {},
   "source": [
    "# 1308. Running Total for Different Genders  2021/9/22"
   ]
  },
  {
   "cell_type": "code",
   "execution_count": 131,
   "metadata": {},
   "outputs": [],
   "source": [
    "Scores = pd.DataFrame([[\"Aron\",\"F\",\"2020-01-01\",17],[\"Alice\",\"F\",\"2020-01-07\",23],[\"Bajrang\",\"M\",\"2020-01-07\",7],\\\n",
    "[\"Khali\",\"M\",\"2019-12-25\",11],[\"Slaman\",\"M\",\"2019-12-30\",13],[\"Joe\",\"M\",\"2019-12-31\",3],[\"Jose\",\"M\",\"2019-12-18\",2],\\\n",
    "    [\"Priya\",\"F\",\"2019-12-31\",23],[\"Priyanka\",\"F\",\"2019-12-30\",17]],\\\n",
    "                      columns=[\"player_name\",\"gender\",\"day\",\"score_points\"])"
   ]
  },
  {
   "cell_type": "code",
   "execution_count": 132,
   "metadata": {},
   "outputs": [
    {
     "data": {
      "text/html": [
       "<div>\n",
       "<style scoped>\n",
       "    .dataframe tbody tr th:only-of-type {\n",
       "        vertical-align: middle;\n",
       "    }\n",
       "\n",
       "    .dataframe tbody tr th {\n",
       "        vertical-align: top;\n",
       "    }\n",
       "\n",
       "    .dataframe thead th {\n",
       "        text-align: right;\n",
       "    }\n",
       "</style>\n",
       "<table border=\"1\" class=\"dataframe\">\n",
       "  <thead>\n",
       "    <tr style=\"text-align: right;\">\n",
       "      <th></th>\n",
       "      <th>gender</th>\n",
       "      <th>day</th>\n",
       "      <th>total</th>\n",
       "    </tr>\n",
       "  </thead>\n",
       "  <tbody>\n",
       "    <tr>\n",
       "      <th>8</th>\n",
       "      <td>F</td>\n",
       "      <td>2019-12-30</td>\n",
       "      <td>17</td>\n",
       "    </tr>\n",
       "    <tr>\n",
       "      <th>7</th>\n",
       "      <td>F</td>\n",
       "      <td>2019-12-31</td>\n",
       "      <td>40</td>\n",
       "    </tr>\n",
       "    <tr>\n",
       "      <th>0</th>\n",
       "      <td>F</td>\n",
       "      <td>2020-01-01</td>\n",
       "      <td>57</td>\n",
       "    </tr>\n",
       "    <tr>\n",
       "      <th>1</th>\n",
       "      <td>F</td>\n",
       "      <td>2020-01-07</td>\n",
       "      <td>80</td>\n",
       "    </tr>\n",
       "    <tr>\n",
       "      <th>6</th>\n",
       "      <td>M</td>\n",
       "      <td>2019-12-18</td>\n",
       "      <td>2</td>\n",
       "    </tr>\n",
       "    <tr>\n",
       "      <th>3</th>\n",
       "      <td>M</td>\n",
       "      <td>2019-12-25</td>\n",
       "      <td>13</td>\n",
       "    </tr>\n",
       "    <tr>\n",
       "      <th>4</th>\n",
       "      <td>M</td>\n",
       "      <td>2019-12-30</td>\n",
       "      <td>26</td>\n",
       "    </tr>\n",
       "    <tr>\n",
       "      <th>5</th>\n",
       "      <td>M</td>\n",
       "      <td>2019-12-31</td>\n",
       "      <td>29</td>\n",
       "    </tr>\n",
       "    <tr>\n",
       "      <th>2</th>\n",
       "      <td>M</td>\n",
       "      <td>2020-01-07</td>\n",
       "      <td>36</td>\n",
       "    </tr>\n",
       "  </tbody>\n",
       "</table>\n",
       "</div>"
      ],
      "text/plain": [
       "  gender         day  total\n",
       "8      F  2019-12-30     17\n",
       "7      F  2019-12-31     40\n",
       "0      F  2020-01-01     57\n",
       "1      F  2020-01-07     80\n",
       "6      M  2019-12-18      2\n",
       "3      M  2019-12-25     13\n",
       "4      M  2019-12-30     26\n",
       "5      M  2019-12-31     29\n",
       "2      M  2020-01-07     36"
      ]
     },
     "execution_count": 132,
     "metadata": {},
     "output_type": "execute_result"
    }
   ],
   "source": [
    "Scores.sort_values(['gender','day'], inplace=True)\n",
    "Scores['total'] = Scores.groupby('gender')['score_points'].cumsum()\n",
    "Scores[[\"gender\",\"day\",\"total\"]]"
   ]
  },
  {
   "cell_type": "markdown",
   "metadata": {},
   "source": [
    "# 1336. Number of Transactions per Visit"
   ]
  },
  {
   "cell_type": "code",
   "execution_count": 133,
   "metadata": {},
   "outputs": [],
   "source": [
    "Visits = pd.DataFrame([[1,\"2020-01-01\"],[2,\"2020-01-02\"],[12,\"2020-01-01\"],[19,\"2020-01-03\"],[1,\"2020-01-02\"],\\\n",
    "                   [2,\"2020-01-03\"],[1,\"2020-01-04\"],[7,\"2020-01-11\"],[9,\"2020-01-25\"],[8,\"2020-01-28\"]],\n",
    "                     columns = [\"user_id\",\"visit_date\"])\n",
    "\n",
    "Transactions = pd.DataFrame([[1,\"2020-01-02\",120],[2,\"2020-01-03\",22],[7,\"2020-01-11\",232],[1,\"2020-01-04\",7],\\\n",
    "                         [9,\"2020-01-25\",33],[9,\"2020-01-25\",66],[8,\"2020-01-28\",1],[9,\"2020-01-25\",99]],\\\n",
    "                        columns = [\"user_id\",\"transaction_date\",\"amount\"])"
   ]
  },
  {
   "cell_type": "code",
   "execution_count": 134,
   "metadata": {},
   "outputs": [
    {
     "data": {
      "text/html": [
       "<div>\n",
       "<style scoped>\n",
       "    .dataframe tbody tr th:only-of-type {\n",
       "        vertical-align: middle;\n",
       "    }\n",
       "\n",
       "    .dataframe tbody tr th {\n",
       "        vertical-align: top;\n",
       "    }\n",
       "\n",
       "    .dataframe thead th {\n",
       "        text-align: right;\n",
       "    }\n",
       "</style>\n",
       "<table border=\"1\" class=\"dataframe\">\n",
       "  <thead>\n",
       "    <tr style=\"text-align: right;\">\n",
       "      <th></th>\n",
       "      <th>user_id</th>\n",
       "      <th>transaction_date</th>\n",
       "      <th>transactions_count</th>\n",
       "    </tr>\n",
       "  </thead>\n",
       "  <tbody>\n",
       "    <tr>\n",
       "      <th>0</th>\n",
       "      <td>1</td>\n",
       "      <td>2020-01-02</td>\n",
       "      <td>1</td>\n",
       "    </tr>\n",
       "    <tr>\n",
       "      <th>1</th>\n",
       "      <td>1</td>\n",
       "      <td>2020-01-04</td>\n",
       "      <td>1</td>\n",
       "    </tr>\n",
       "    <tr>\n",
       "      <th>2</th>\n",
       "      <td>2</td>\n",
       "      <td>2020-01-03</td>\n",
       "      <td>1</td>\n",
       "    </tr>\n",
       "    <tr>\n",
       "      <th>3</th>\n",
       "      <td>7</td>\n",
       "      <td>2020-01-11</td>\n",
       "      <td>1</td>\n",
       "    </tr>\n",
       "    <tr>\n",
       "      <th>4</th>\n",
       "      <td>8</td>\n",
       "      <td>2020-01-28</td>\n",
       "      <td>1</td>\n",
       "    </tr>\n",
       "    <tr>\n",
       "      <th>5</th>\n",
       "      <td>9</td>\n",
       "      <td>2020-01-25</td>\n",
       "      <td>3</td>\n",
       "    </tr>\n",
       "  </tbody>\n",
       "</table>\n",
       "</div>"
      ],
      "text/plain": [
       "   user_id transaction_date  transactions_count\n",
       "0        1       2020-01-02                   1\n",
       "1        1       2020-01-04                   1\n",
       "2        2       2020-01-03                   1\n",
       "3        7       2020-01-11                   1\n",
       "4        8       2020-01-28                   1\n",
       "5        9       2020-01-25                   3"
      ]
     },
     "execution_count": 134,
     "metadata": {},
     "output_type": "execute_result"
    }
   ],
   "source": [
    "df1 = Transactions.groupby([\"user_id\",\"transaction_date\"])[\"amount\"].count().reset_index(name='transactions_count')\n",
    "df1"
   ]
  },
  {
   "cell_type": "code",
   "execution_count": 140,
   "metadata": {},
   "outputs": [],
   "source": [
    "df2 = pd.DataFrame(range(0, max(df1['transactions_count'])+1))\n",
    "df2.columns = ['transactions_count']"
   ]
  },
  {
   "cell_type": "code",
   "execution_count": 141,
   "metadata": {},
   "outputs": [],
   "source": [
    "df3 = Visits.merge(df1, how='left',left_on=['user_id','visit_date'], right_on=['user_id','transaction_date']).fillna(0)"
   ]
  },
  {
   "cell_type": "code",
   "execution_count": 143,
   "metadata": {},
   "outputs": [
    {
     "data": {
      "text/html": [
       "<div>\n",
       "<style scoped>\n",
       "    .dataframe tbody tr th:only-of-type {\n",
       "        vertical-align: middle;\n",
       "    }\n",
       "\n",
       "    .dataframe tbody tr th {\n",
       "        vertical-align: top;\n",
       "    }\n",
       "\n",
       "    .dataframe thead th {\n",
       "        text-align: right;\n",
       "    }\n",
       "</style>\n",
       "<table border=\"1\" class=\"dataframe\">\n",
       "  <thead>\n",
       "    <tr style=\"text-align: right;\">\n",
       "      <th></th>\n",
       "      <th>transactions_count</th>\n",
       "      <th>visits_count</th>\n",
       "    </tr>\n",
       "  </thead>\n",
       "  <tbody>\n",
       "    <tr>\n",
       "      <th>0</th>\n",
       "      <td>0</td>\n",
       "      <td>4</td>\n",
       "    </tr>\n",
       "    <tr>\n",
       "      <th>1</th>\n",
       "      <td>1</td>\n",
       "      <td>5</td>\n",
       "    </tr>\n",
       "    <tr>\n",
       "      <th>2</th>\n",
       "      <td>2</td>\n",
       "      <td>0</td>\n",
       "    </tr>\n",
       "    <tr>\n",
       "      <th>3</th>\n",
       "      <td>3</td>\n",
       "      <td>1</td>\n",
       "    </tr>\n",
       "  </tbody>\n",
       "</table>\n",
       "</div>"
      ],
      "text/plain": [
       "   transactions_count  visits_count\n",
       "0                   0             4\n",
       "1                   1             5\n",
       "2                   2             0\n",
       "3                   3             1"
      ]
     },
     "execution_count": 143,
     "metadata": {},
     "output_type": "execute_result"
    }
   ],
   "source": [
    "df2.merge(df3, how='left', on='transactions_count').groupby(['transactions_count'])['user_id'].count().\\\n",
    "reset_index(name='visits_count')"
   ]
  },
  {
   "cell_type": "markdown",
   "metadata": {},
   "source": [
    "# 1613. Find the Missing IDs"
   ]
  },
  {
   "cell_type": "code",
   "execution_count": 144,
   "metadata": {},
   "outputs": [],
   "source": [
    "Customers = pd.DataFrame([[1, \"Alice\"], [4, \"Bob\"], [5, \"Charlie\"]], columns = [\"customer_id\", \"customer_name\"])"
   ]
  },
  {
   "cell_type": "code",
   "execution_count": 146,
   "metadata": {},
   "outputs": [
    {
     "data": {
      "text/html": [
       "<div>\n",
       "<style scoped>\n",
       "    .dataframe tbody tr th:only-of-type {\n",
       "        vertical-align: middle;\n",
       "    }\n",
       "\n",
       "    .dataframe tbody tr th {\n",
       "        vertical-align: top;\n",
       "    }\n",
       "\n",
       "    .dataframe thead th {\n",
       "        text-align: right;\n",
       "    }\n",
       "</style>\n",
       "<table border=\"1\" class=\"dataframe\">\n",
       "  <thead>\n",
       "    <tr style=\"text-align: right;\">\n",
       "      <th></th>\n",
       "      <th>ids</th>\n",
       "    </tr>\n",
       "  </thead>\n",
       "  <tbody>\n",
       "    <tr>\n",
       "      <th>0</th>\n",
       "      <td>1</td>\n",
       "    </tr>\n",
       "    <tr>\n",
       "      <th>1</th>\n",
       "      <td>2</td>\n",
       "    </tr>\n",
       "    <tr>\n",
       "      <th>2</th>\n",
       "      <td>3</td>\n",
       "    </tr>\n",
       "    <tr>\n",
       "      <th>3</th>\n",
       "      <td>4</td>\n",
       "    </tr>\n",
       "  </tbody>\n",
       "</table>\n",
       "</div>"
      ],
      "text/plain": [
       "   ids\n",
       "0    1\n",
       "1    2\n",
       "2    3\n",
       "3    4"
      ]
     },
     "execution_count": 146,
     "metadata": {},
     "output_type": "execute_result"
    }
   ],
   "source": [
    "df1= pd.DataFrame(range(1, max(Customers['customer_id'])))\n",
    "df1.columns = ['ids']\n",
    "df1"
   ]
  },
  {
   "cell_type": "code",
   "execution_count": 151,
   "metadata": {},
   "outputs": [
    {
     "data": {
      "text/plain": [
       "1    2\n",
       "2    3\n",
       "Name: ids, dtype: int64"
      ]
     },
     "execution_count": 151,
     "metadata": {},
     "output_type": "execute_result"
    }
   ],
   "source": [
    "df1.merge(Customers, how='left',left_on='ids', right_on='customer_id').query(\"customer_id.isnull()\")['ids']"
   ]
  },
  {
   "cell_type": "markdown",
   "metadata": {},
   "source": [
    "# 1285. Find the Start and End Number of Continuous Ranges"
   ]
  },
  {
   "cell_type": "code",
   "execution_count": null,
   "metadata": {},
   "outputs": [],
   "source": [
    "{\"headers\":{\"Logs\":[\"log_id\"]},\"rows\":{\"Logs\":[[1],[2],[3],[7],[8],[10]]}}"
   ]
  },
  {
   "cell_type": "code",
   "execution_count": 155,
   "metadata": {},
   "outputs": [],
   "source": [
    "Logs = pd.DataFrame([[1],[2],[3],[7],[8],[10]], columns = [\"log_id\"])"
   ]
  },
  {
   "cell_type": "code",
   "execution_count": 156,
   "metadata": {},
   "outputs": [
    {
     "data": {
      "text/html": [
       "<div>\n",
       "<style scoped>\n",
       "    .dataframe tbody tr th:only-of-type {\n",
       "        vertical-align: middle;\n",
       "    }\n",
       "\n",
       "    .dataframe tbody tr th {\n",
       "        vertical-align: top;\n",
       "    }\n",
       "\n",
       "    .dataframe thead th {\n",
       "        text-align: right;\n",
       "    }\n",
       "</style>\n",
       "<table border=\"1\" class=\"dataframe\">\n",
       "  <thead>\n",
       "    <tr style=\"text-align: right;\">\n",
       "      <th></th>\n",
       "      <th>start_id</th>\n",
       "      <th>end_id</th>\n",
       "    </tr>\n",
       "  </thead>\n",
       "  <tbody>\n",
       "    <tr>\n",
       "      <th>0</th>\n",
       "      <td>1</td>\n",
       "      <td>3</td>\n",
       "    </tr>\n",
       "    <tr>\n",
       "      <th>1</th>\n",
       "      <td>7</td>\n",
       "      <td>8</td>\n",
       "    </tr>\n",
       "    <tr>\n",
       "      <th>2</th>\n",
       "      <td>10</td>\n",
       "      <td>10</td>\n",
       "    </tr>\n",
       "  </tbody>\n",
       "</table>\n",
       "</div>"
      ],
      "text/plain": [
       "   start_id  end_id\n",
       "0         1       3\n",
       "1         7       8\n",
       "2        10      10"
      ]
     },
     "execution_count": 156,
     "metadata": {},
     "output_type": "execute_result"
    }
   ],
   "source": [
    "Logs['rnk'] = Logs['log_id'].rank(method ='dense', ascending = True)\n",
    "Logs['dif']=Logs['log_id'] - Logs['rnk']\n",
    "df1 = Logs.groupby(['dif']).agg({'log_id':['min','max']}).reset_index()\n",
    "\n",
    "df1.columns = ['dif','start_id','end_id']\n",
    "df1[['start_id','end_id']]"
   ]
  },
  {
   "cell_type": "markdown",
   "metadata": {},
   "source": [
    "# 197. Rising Temperature"
   ]
  },
  {
   "cell_type": "code",
   "execution_count": 157,
   "metadata": {},
   "outputs": [],
   "source": [
    "Weather = pd.DataFrame([[1, \"2015-01-01\", 10], [2, \"2015-01-02\", 25], [3, \"2015-01-03\", 20], [4, \"2015-01-04\", 30]],\\\n",
    "                      columns = [\"Id\", \"RecordDate\", \"Temperature\"])"
   ]
  },
  {
   "cell_type": "code",
   "execution_count": 158,
   "metadata": {},
   "outputs": [
    {
     "name": "stdout",
     "output_type": "stream",
     "text": [
      "<class 'pandas.core.frame.DataFrame'>\n",
      "RangeIndex: 4 entries, 0 to 3\n",
      "Data columns (total 3 columns):\n",
      "Id             4 non-null int64\n",
      "RecordDate     4 non-null object\n",
      "Temperature    4 non-null int64\n",
      "dtypes: int64(2), object(1)\n",
      "memory usage: 224.0+ bytes\n"
     ]
    }
   ],
   "source": [
    "Weather.info()"
   ]
  },
  {
   "cell_type": "code",
   "execution_count": null,
   "metadata": {},
   "outputs": [],
   "source": []
  },
  {
   "cell_type": "code",
   "execution_count": 165,
   "metadata": {},
   "outputs": [
    {
     "data": {
      "text/html": [
       "<div>\n",
       "<style scoped>\n",
       "    .dataframe tbody tr th:only-of-type {\n",
       "        vertical-align: middle;\n",
       "    }\n",
       "\n",
       "    .dataframe tbody tr th {\n",
       "        vertical-align: top;\n",
       "    }\n",
       "\n",
       "    .dataframe thead th {\n",
       "        text-align: right;\n",
       "    }\n",
       "</style>\n",
       "<table border=\"1\" class=\"dataframe\">\n",
       "  <thead>\n",
       "    <tr style=\"text-align: right;\">\n",
       "      <th></th>\n",
       "      <th>Id</th>\n",
       "      <th>RecordDate</th>\n",
       "      <th>Temperature</th>\n",
       "      <th>prev</th>\n",
       "    </tr>\n",
       "  </thead>\n",
       "  <tbody>\n",
       "    <tr>\n",
       "      <th>0</th>\n",
       "      <td>1</td>\n",
       "      <td>2015-01-01</td>\n",
       "      <td>10</td>\n",
       "      <td>2015-01-02</td>\n",
       "    </tr>\n",
       "    <tr>\n",
       "      <th>1</th>\n",
       "      <td>2</td>\n",
       "      <td>2015-01-02</td>\n",
       "      <td>25</td>\n",
       "      <td>2015-01-03</td>\n",
       "    </tr>\n",
       "    <tr>\n",
       "      <th>2</th>\n",
       "      <td>3</td>\n",
       "      <td>2015-01-03</td>\n",
       "      <td>20</td>\n",
       "      <td>2015-01-04</td>\n",
       "    </tr>\n",
       "    <tr>\n",
       "      <th>3</th>\n",
       "      <td>4</td>\n",
       "      <td>2015-01-04</td>\n",
       "      <td>30</td>\n",
       "      <td>2015-01-05</td>\n",
       "    </tr>\n",
       "  </tbody>\n",
       "</table>\n",
       "</div>"
      ],
      "text/plain": [
       "   Id RecordDate  Temperature       prev\n",
       "0   1 2015-01-01           10 2015-01-02\n",
       "1   2 2015-01-02           25 2015-01-03\n",
       "2   3 2015-01-03           20 2015-01-04\n",
       "3   4 2015-01-04           30 2015-01-05"
      ]
     },
     "execution_count": 165,
     "metadata": {},
     "output_type": "execute_result"
    }
   ],
   "source": [
    "from datetime import datetime, timedelta\n",
    "Weather[\"RecordDate\"] = pd.to_datetime(Weather[\"RecordDate\"])\n",
    "Weather['prev'] = Weather[\"RecordDate\"]+timedelta(days=1)\n",
    "Weather.sort_values\n",
    "Weather"
   ]
  },
  {
   "cell_type": "code",
   "execution_count": 166,
   "metadata": {},
   "outputs": [
    {
     "data": {
      "text/plain": [
       "1    2\n",
       "3    4\n",
       "Name: Id_x, dtype: int64"
      ]
     },
     "execution_count": 166,
     "metadata": {},
     "output_type": "execute_result"
    }
   ],
   "source": [
    "Weather.merge(Weather, how='left', left_on='RecordDate', right_on='prev').query(\"Temperature_x>Temperature_y\")['Id_x']"
   ]
  },
  {
   "cell_type": "markdown",
   "metadata": {},
   "source": [
    "# 1783. Grand Slam Titles 2021/9/24"
   ]
  },
  {
   "cell_type": "code",
   "execution_count": 167,
   "metadata": {},
   "outputs": [],
   "source": [
    "Players = pd.DataFrame([[1, \"Nadal\"], [2, \"Federer\"], [3, \"Novak\"]], columns = [\"player_id\", \"player_name\"])\n",
    "Championships = pd.DataFrame([[2018, 1, 1, 1, 1], [2019, 1, 1, 2, 2], [2020, 2, 1, 2, 2]],\\\n",
    "                             columns = [\"year\", \"Wimbledon\", \"Fr_open\", \"US_open\", \"Au_open\"])"
   ]
  },
  {
   "cell_type": "code",
   "execution_count": 170,
   "metadata": {},
   "outputs": [
    {
     "data": {
      "text/html": [
       "<div>\n",
       "<style scoped>\n",
       "    .dataframe tbody tr th:only-of-type {\n",
       "        vertical-align: middle;\n",
       "    }\n",
       "\n",
       "    .dataframe tbody tr th {\n",
       "        vertical-align: top;\n",
       "    }\n",
       "\n",
       "    .dataframe thead th {\n",
       "        text-align: right;\n",
       "    }\n",
       "</style>\n",
       "<table border=\"1\" class=\"dataframe\">\n",
       "  <thead>\n",
       "    <tr style=\"text-align: right;\">\n",
       "      <th></th>\n",
       "      <th>player_id</th>\n",
       "      <th>player_name</th>\n",
       "      <th>grand_slams_count</th>\n",
       "    </tr>\n",
       "  </thead>\n",
       "  <tbody>\n",
       "    <tr>\n",
       "      <th>0</th>\n",
       "      <td>1</td>\n",
       "      <td>Nadal</td>\n",
       "      <td>7</td>\n",
       "    </tr>\n",
       "    <tr>\n",
       "      <th>1</th>\n",
       "      <td>2</td>\n",
       "      <td>Federer</td>\n",
       "      <td>5</td>\n",
       "    </tr>\n",
       "  </tbody>\n",
       "</table>\n",
       "</div>"
      ],
      "text/plain": [
       "   player_id player_name  grand_slams_count\n",
       "0          1       Nadal                  7\n",
       "1          2     Federer                  5"
      ]
     },
     "execution_count": 170,
     "metadata": {},
     "output_type": "execute_result"
    }
   ],
   "source": [
    "# wide to long\n",
    "df1 = Championships.melt(id_vars='year').\\\n",
    "rename(columns={'year':'year', 'variable': 'game' , 'value':'player_id'})\n",
    "\n",
    "df1.merge(Players, how='inner', on='player_id').groupby(['player_id','player_name'])['game'].\\\n",
    "count().reset_index(name='grand_slams_count')"
   ]
  },
  {
   "cell_type": "markdown",
   "metadata": {},
   "source": [
    "# 1350. Students With Invalid Departments"
   ]
  },
  {
   "cell_type": "code",
   "execution_count": 172,
   "metadata": {},
   "outputs": [],
   "source": [
    "Departments = pd.DataFrame([[1,\"Electrical Engineering\"],[7,\"Computer Engineering\"],[13,\"Bussiness Administration\"]],\\\n",
    "                          columns = [\"id\",\"name\"])\n",
    "\n",
    "Students = pd.DataFrame([[23,\"Alice\",1],[1,\"Bob\",7],[5,\"Jennifer\",13],[2,\"John\",14],\\\n",
    "[4,\"Jasmine\",77],[3,\"Steve\",74],[6,\"Luis\",1],[8,\"Jonathan\",7],[7,\"Daiana\",33],[11,\"Madelynn\",1]],\\\n",
    "                       columns = [\"id\",\"name\",\"department_id\"])"
   ]
  },
  {
   "cell_type": "code",
   "execution_count": 174,
   "metadata": {},
   "outputs": [
    {
     "data": {
      "text/html": [
       "<div>\n",
       "<style scoped>\n",
       "    .dataframe tbody tr th:only-of-type {\n",
       "        vertical-align: middle;\n",
       "    }\n",
       "\n",
       "    .dataframe tbody tr th {\n",
       "        vertical-align: top;\n",
       "    }\n",
       "\n",
       "    .dataframe thead th {\n",
       "        text-align: right;\n",
       "    }\n",
       "</style>\n",
       "<table border=\"1\" class=\"dataframe\">\n",
       "  <thead>\n",
       "    <tr style=\"text-align: right;\">\n",
       "      <th></th>\n",
       "      <th>id</th>\n",
       "      <th>name</th>\n",
       "    </tr>\n",
       "  </thead>\n",
       "  <tbody>\n",
       "    <tr>\n",
       "      <th>3</th>\n",
       "      <td>2</td>\n",
       "      <td>John</td>\n",
       "    </tr>\n",
       "    <tr>\n",
       "      <th>4</th>\n",
       "      <td>4</td>\n",
       "      <td>Jasmine</td>\n",
       "    </tr>\n",
       "    <tr>\n",
       "      <th>5</th>\n",
       "      <td>3</td>\n",
       "      <td>Steve</td>\n",
       "    </tr>\n",
       "    <tr>\n",
       "      <th>8</th>\n",
       "      <td>7</td>\n",
       "      <td>Daiana</td>\n",
       "    </tr>\n",
       "  </tbody>\n",
       "</table>\n",
       "</div>"
      ],
      "text/plain": [
       "   id     name\n",
       "3   2     John\n",
       "4   4  Jasmine\n",
       "5   3    Steve\n",
       "8   7   Daiana"
      ]
     },
     "execution_count": 174,
     "metadata": {},
     "output_type": "execute_result"
    }
   ],
   "source": [
    "Students.merge(Departments, how='left', left_on='department_id', right_on='id').query('id_y.isnull()')\\\n",
    "[['id_x','name_x']].rename(columns={'id_x':'id','name_x':'name'})"
   ]
  },
  {
   "cell_type": "markdown",
   "metadata": {},
   "source": [
    "# 595. Big Countries"
   ]
  },
  {
   "cell_type": "code",
   "execution_count": 175,
   "metadata": {},
   "outputs": [],
   "source": [
    "World = pd.DataFrame([[\"Afghanistan\", \"Asia\", 652230, 25500100, 20343000000],\\\n",
    "                    [\"Albania\", \"Europe\", 28748, 2831741, 12960000000],\\\n",
    "                    [\"Algeria\", \"Africa\", 2381741, 37100000, 188681000000],\\\n",
    "                    [\"Andorra\", \"Europe\", 468, 78115, 3712000000],\\\n",
    "                    [\"Angola\", \"Africa\", 1246700, 20609294, 100990000000]],\\\n",
    "                    columns = [\"name\", \"continent\",\t\"area\",\t\"population\", \"gdp\"])"
   ]
  },
  {
   "cell_type": "code",
   "execution_count": 177,
   "metadata": {},
   "outputs": [
    {
     "data": {
      "text/html": [
       "<div>\n",
       "<style scoped>\n",
       "    .dataframe tbody tr th:only-of-type {\n",
       "        vertical-align: middle;\n",
       "    }\n",
       "\n",
       "    .dataframe tbody tr th {\n",
       "        vertical-align: top;\n",
       "    }\n",
       "\n",
       "    .dataframe thead th {\n",
       "        text-align: right;\n",
       "    }\n",
       "</style>\n",
       "<table border=\"1\" class=\"dataframe\">\n",
       "  <thead>\n",
       "    <tr style=\"text-align: right;\">\n",
       "      <th></th>\n",
       "      <th>name</th>\n",
       "      <th>population</th>\n",
       "      <th>area</th>\n",
       "    </tr>\n",
       "  </thead>\n",
       "  <tbody>\n",
       "    <tr>\n",
       "      <th>0</th>\n",
       "      <td>Afghanistan</td>\n",
       "      <td>25500100</td>\n",
       "      <td>652230</td>\n",
       "    </tr>\n",
       "    <tr>\n",
       "      <th>2</th>\n",
       "      <td>Algeria</td>\n",
       "      <td>37100000</td>\n",
       "      <td>2381741</td>\n",
       "    </tr>\n",
       "  </tbody>\n",
       "</table>\n",
       "</div>"
      ],
      "text/plain": [
       "          name  population     area\n",
       "0  Afghanistan    25500100   652230\n",
       "2      Algeria    37100000  2381741"
      ]
     },
     "execution_count": 177,
     "metadata": {},
     "output_type": "execute_result"
    }
   ],
   "source": [
    "World.query(\"population > 25000000 | area >3000000\")[['name','population','area']]"
   ]
  },
  {
   "cell_type": "markdown",
   "metadata": {},
   "source": [
    "# 1070. Product Sales Analysis III"
   ]
  },
  {
   "cell_type": "code",
   "execution_count": 181,
   "metadata": {},
   "outputs": [],
   "source": [
    "Product = pd.DataFrame([[100,\"Nokia\"],[200,\"Apple\"],[300,\"Samsung\"]], columns =[\"product_id\",\"product_name\"] )\n",
    "Sales = pd.DataFrame([[1,100,2008,10,5000],[2,100,2009,12,5000],[7,200,2011,15,9000]],\\\n",
    "                    columns = [\"sale_id\",\"product_id\",\"year\",\"quantity\",\"price\"])"
   ]
  },
  {
   "cell_type": "code",
   "execution_count": 182,
   "metadata": {},
   "outputs": [
    {
     "data": {
      "text/html": [
       "<div>\n",
       "<style scoped>\n",
       "    .dataframe tbody tr th:only-of-type {\n",
       "        vertical-align: middle;\n",
       "    }\n",
       "\n",
       "    .dataframe tbody tr th {\n",
       "        vertical-align: top;\n",
       "    }\n",
       "\n",
       "    .dataframe thead th {\n",
       "        text-align: right;\n",
       "    }\n",
       "</style>\n",
       "<table border=\"1\" class=\"dataframe\">\n",
       "  <thead>\n",
       "    <tr style=\"text-align: right;\">\n",
       "      <th></th>\n",
       "      <th>product_id</th>\n",
       "      <th>first_year</th>\n",
       "      <th>quantity</th>\n",
       "      <th>price</th>\n",
       "    </tr>\n",
       "  </thead>\n",
       "  <tbody>\n",
       "    <tr>\n",
       "      <th>0</th>\n",
       "      <td>100</td>\n",
       "      <td>2008</td>\n",
       "      <td>10</td>\n",
       "      <td>5000</td>\n",
       "    </tr>\n",
       "    <tr>\n",
       "      <th>1</th>\n",
       "      <td>200</td>\n",
       "      <td>2011</td>\n",
       "      <td>15</td>\n",
       "      <td>9000</td>\n",
       "    </tr>\n",
       "  </tbody>\n",
       "</table>\n",
       "</div>"
      ],
      "text/plain": [
       "   product_id  first_year  quantity  price\n",
       "0         100        2008        10   5000\n",
       "1         200        2011        15   9000"
      ]
     },
     "execution_count": 182,
     "metadata": {},
     "output_type": "execute_result"
    }
   ],
   "source": [
    "Sales['rnk'] = Sales.groupby('product_id')['year'].rank(method='dense', ascending =True)\n",
    "Sales.query('rnk==1').merge(Product, how='inner', on='product_id')[['product_id','year','quantity','price']].\\\n",
    "rename(columns = {'product_id':'product_id','year':'first_year','quantity':'quantity','price':'price'})"
   ]
  },
  {
   "cell_type": "markdown",
   "metadata": {},
   "source": [
    "# 1949. Strong Friendship DIfficult"
   ]
  },
  {
   "cell_type": "code",
   "execution_count": 188,
   "metadata": {},
   "outputs": [
    {
     "data": {
      "text/html": [
       "<div>\n",
       "<style scoped>\n",
       "    .dataframe tbody tr th:only-of-type {\n",
       "        vertical-align: middle;\n",
       "    }\n",
       "\n",
       "    .dataframe tbody tr th {\n",
       "        vertical-align: top;\n",
       "    }\n",
       "\n",
       "    .dataframe thead th {\n",
       "        text-align: right;\n",
       "    }\n",
       "</style>\n",
       "<table border=\"1\" class=\"dataframe\">\n",
       "  <thead>\n",
       "    <tr style=\"text-align: right;\">\n",
       "      <th></th>\n",
       "      <th>user1_id</th>\n",
       "      <th>user2_id</th>\n",
       "    </tr>\n",
       "  </thead>\n",
       "  <tbody>\n",
       "    <tr>\n",
       "      <th>0</th>\n",
       "      <td>1</td>\n",
       "      <td>2</td>\n",
       "    </tr>\n",
       "    <tr>\n",
       "      <th>1</th>\n",
       "      <td>1</td>\n",
       "      <td>3</td>\n",
       "    </tr>\n",
       "    <tr>\n",
       "      <th>2</th>\n",
       "      <td>2</td>\n",
       "      <td>3</td>\n",
       "    </tr>\n",
       "    <tr>\n",
       "      <th>3</th>\n",
       "      <td>1</td>\n",
       "      <td>4</td>\n",
       "    </tr>\n",
       "    <tr>\n",
       "      <th>4</th>\n",
       "      <td>2</td>\n",
       "      <td>4</td>\n",
       "    </tr>\n",
       "    <tr>\n",
       "      <th>5</th>\n",
       "      <td>1</td>\n",
       "      <td>5</td>\n",
       "    </tr>\n",
       "    <tr>\n",
       "      <th>6</th>\n",
       "      <td>2</td>\n",
       "      <td>5</td>\n",
       "    </tr>\n",
       "    <tr>\n",
       "      <th>7</th>\n",
       "      <td>1</td>\n",
       "      <td>7</td>\n",
       "    </tr>\n",
       "    <tr>\n",
       "      <th>8</th>\n",
       "      <td>3</td>\n",
       "      <td>7</td>\n",
       "    </tr>\n",
       "    <tr>\n",
       "      <th>9</th>\n",
       "      <td>1</td>\n",
       "      <td>6</td>\n",
       "    </tr>\n",
       "    <tr>\n",
       "      <th>10</th>\n",
       "      <td>3</td>\n",
       "      <td>6</td>\n",
       "    </tr>\n",
       "    <tr>\n",
       "      <th>11</th>\n",
       "      <td>2</td>\n",
       "      <td>6</td>\n",
       "    </tr>\n",
       "  </tbody>\n",
       "</table>\n",
       "</div>"
      ],
      "text/plain": [
       "    user1_id  user2_id\n",
       "0          1         2\n",
       "1          1         3\n",
       "2          2         3\n",
       "3          1         4\n",
       "4          2         4\n",
       "5          1         5\n",
       "6          2         5\n",
       "7          1         7\n",
       "8          3         7\n",
       "9          1         6\n",
       "10         3         6\n",
       "11         2         6"
      ]
     },
     "execution_count": 188,
     "metadata": {},
     "output_type": "execute_result"
    }
   ],
   "source": [
    "Friendship= pd.DataFrame([[1,2],[1,3],[2,3],[1,4],[2,4],[1,5],[2,5],[1,7],[3,7],[1,6],[3,6],[2,6]],\\\n",
    "                        columns = [\"user1_id\",\"user2_id\"])\n",
    "Friendship"
   ]
  },
  {
   "cell_type": "code",
   "execution_count": 186,
   "metadata": {},
   "outputs": [],
   "source": [
    "Friendship2= Friendship[[\"user2_id\",\"user1_id\"]].rename(columns = {\"user2_id\":\"user1_id\",\"user1_id\":\"user2_id\"})\n",
    "#Friendship2"
   ]
  },
  {
   "cell_type": "code",
   "execution_count": 197,
   "metadata": {},
   "outputs": [
    {
     "data": {
      "text/html": [
       "<div>\n",
       "<style scoped>\n",
       "    .dataframe tbody tr th:only-of-type {\n",
       "        vertical-align: middle;\n",
       "    }\n",
       "\n",
       "    .dataframe tbody tr th {\n",
       "        vertical-align: top;\n",
       "    }\n",
       "\n",
       "    .dataframe thead th {\n",
       "        text-align: right;\n",
       "    }\n",
       "</style>\n",
       "<table border=\"1\" class=\"dataframe\">\n",
       "  <thead>\n",
       "    <tr style=\"text-align: right;\">\n",
       "      <th></th>\n",
       "      <th>user1_id</th>\n",
       "      <th>user2_id</th>\n",
       "      <th>common_friend</th>\n",
       "    </tr>\n",
       "  </thead>\n",
       "  <tbody>\n",
       "    <tr>\n",
       "      <th>0</th>\n",
       "      <td>1</td>\n",
       "      <td>2</td>\n",
       "      <td>4</td>\n",
       "    </tr>\n",
       "    <tr>\n",
       "      <th>1</th>\n",
       "      <td>1</td>\n",
       "      <td>3</td>\n",
       "      <td>3</td>\n",
       "    </tr>\n",
       "  </tbody>\n",
       "</table>\n",
       "</div>"
      ],
      "text/plain": [
       "   user1_id  user2_id  common_friend\n",
       "0         1         2              4\n",
       "1         1         3              3"
      ]
     },
     "execution_count": 197,
     "metadata": {},
     "output_type": "execute_result"
    }
   ],
   "source": [
    "df = pd.concat([Friendship,Friendship2])\n",
    "\n",
    "df.merge(df, how='left', left_on='user2_id',right_on='user1_id').query('user1_id_x<user2_id_y').\\\n",
    "merge(Friendship, how='inner',left_on='user1_id_x',right_on='user1_id').query('user2_id_y==user2_id').\\\n",
    "groupby(['user1_id_x','user2_id_y']).filter(lambda x: x['user1_id'].count()>=3).\\\n",
    "groupby(['user1_id_x','user2_id_y'])['user1_id'].count().reset_index()\\\n",
    ".rename(columns = {'user1_id_x':'user1_id','user2_id_y':'user2_id','user1_id':'common_friend'})"
   ]
  },
  {
   "cell_type": "markdown",
   "metadata": {},
   "source": [
    "# 1264. Page Recommendations"
   ]
  },
  {
   "cell_type": "code",
   "execution_count": 198,
   "metadata": {},
   "outputs": [],
   "source": [
    "Friendship=pd.DataFrame([[1,2],[1,3],[1,4],[2,3],[2,4],[2,5],[6,1]], columns = [\"user1_id\",\"user2_id\"])\n",
    "Likes = pd.DataFrame([[1,88],[2,23],[3,24],[4,56],[5,11],[6,33],[2,77],[3,77],[6,88]],\\\n",
    "                    columns = [\"user_id\",\"page_id\"])"
   ]
  },
  {
   "cell_type": "code",
   "execution_count": 214,
   "metadata": {},
   "outputs": [
    {
     "data": {
      "text/plain": [
       "array([23, 77, 33, 24, 56])"
      ]
     },
     "execution_count": 214,
     "metadata": {},
     "output_type": "execute_result"
    }
   ],
   "source": [
    "Friendship2 = Friendship[[\"user2_id\",\"user1_id\"]].rename(columns = {\"user2_id\":\"user1_id\",\"user1_id\":\"user2_id\"})\n",
    "Friendship3 = pd.concat([Friendship,Friendship2])\n",
    "\n",
    "\n",
    "df = Friendship3.merge(Likes, how='inner', left_on='user1_id',right_on='user_id').query(\"user2_id==1\")\n",
    "\n",
    "likes_by1 = list(Likes.query(\"user_id == 1\")['page_id'])\n",
    "df[~df['page_id'].isin(likes_by1)]['page_id'].unique()"
   ]
  },
  {
   "cell_type": "markdown",
   "metadata": {},
   "source": [
    "# 1843. Suspicious Bank Accounts"
   ]
  },
  {
   "cell_type": "code",
   "execution_count": 216,
   "metadata": {},
   "outputs": [
    {
     "data": {
      "text/html": [
       "<div>\n",
       "<style scoped>\n",
       "    .dataframe tbody tr th:only-of-type {\n",
       "        vertical-align: middle;\n",
       "    }\n",
       "\n",
       "    .dataframe tbody tr th {\n",
       "        vertical-align: top;\n",
       "    }\n",
       "\n",
       "    .dataframe thead th {\n",
       "        text-align: right;\n",
       "    }\n",
       "</style>\n",
       "<table border=\"1\" class=\"dataframe\">\n",
       "  <thead>\n",
       "    <tr style=\"text-align: right;\">\n",
       "      <th></th>\n",
       "      <th>transaction_id</th>\n",
       "      <th>account_id</th>\n",
       "      <th>type</th>\n",
       "      <th>amount</th>\n",
       "      <th>day</th>\n",
       "    </tr>\n",
       "  </thead>\n",
       "  <tbody>\n",
       "    <tr>\n",
       "      <th>0</th>\n",
       "      <td>2</td>\n",
       "      <td>3</td>\n",
       "      <td>Creditor</td>\n",
       "      <td>107100</td>\n",
       "      <td>2021-06-02 11:38:14</td>\n",
       "    </tr>\n",
       "    <tr>\n",
       "      <th>1</th>\n",
       "      <td>4</td>\n",
       "      <td>4</td>\n",
       "      <td>Creditor</td>\n",
       "      <td>10400</td>\n",
       "      <td>2021-06-20 12:39:18</td>\n",
       "    </tr>\n",
       "    <tr>\n",
       "      <th>2</th>\n",
       "      <td>11</td>\n",
       "      <td>4</td>\n",
       "      <td>Debtor</td>\n",
       "      <td>58800</td>\n",
       "      <td>2021-07-23 12:41:55</td>\n",
       "    </tr>\n",
       "    <tr>\n",
       "      <th>3</th>\n",
       "      <td>1</td>\n",
       "      <td>4</td>\n",
       "      <td>Creditor</td>\n",
       "      <td>49300</td>\n",
       "      <td>2021-05-03 16:11:04</td>\n",
       "    </tr>\n",
       "    <tr>\n",
       "      <th>4</th>\n",
       "      <td>15</td>\n",
       "      <td>3</td>\n",
       "      <td>Debtor</td>\n",
       "      <td>75500</td>\n",
       "      <td>2021-05-23 14:40:20</td>\n",
       "    </tr>\n",
       "  </tbody>\n",
       "</table>\n",
       "</div>"
      ],
      "text/plain": [
       "   transaction_id  account_id      type  amount                 day\n",
       "0               2           3  Creditor  107100 2021-06-02 11:38:14\n",
       "1               4           4  Creditor   10400 2021-06-20 12:39:18\n",
       "2              11           4    Debtor   58800 2021-07-23 12:41:55\n",
       "3               1           4  Creditor   49300 2021-05-03 16:11:04\n",
       "4              15           3    Debtor   75500 2021-05-23 14:40:20"
      ]
     },
     "execution_count": 216,
     "metadata": {},
     "output_type": "execute_result"
    }
   ],
   "source": [
    "Transactions['day']=pd.to_datetime(Transactions['day'])\n",
    "Transactions.head()"
   ]
  },
  {
   "cell_type": "code",
   "execution_count": 219,
   "metadata": {},
   "outputs": [],
   "source": [
    "Transactions['month'] = Transactions['day'].dt.to_period('M')"
   ]
  },
  {
   "cell_type": "code",
   "execution_count": 236,
   "metadata": {},
   "outputs": [
    {
     "data": {
      "text/plain": [
       "array([3])"
      ]
     },
     "execution_count": 236,
     "metadata": {},
     "output_type": "execute_result"
    }
   ],
   "source": [
    "df = Transactions.query('type==\"Creditor\"').groupby(['account_id','month'])['amount'].sum().reset_index().\\\n",
    "merge(Accounts,how='inner', on='account_id').query(\"amount>max_income\")\n",
    "\n",
    "df.merge(df, how='inner', on='account_id').query(\"(month_x.dt.month-month_y.dt.month)==1\")['account_id'].unique()"
   ]
  },
  {
   "cell_type": "code",
   "execution_count": 232,
   "metadata": {
    "scrolled": true
   },
   "outputs": [
    {
     "data": {
      "text/plain": [
       "0    6\n",
       "1    6\n",
       "2    7\n",
       "3    7\n",
       "4    5\n",
       "5    5\n",
       "6    7\n",
       "7    7\n",
       "Name: month_x, dtype: int64"
      ]
     },
     "execution_count": 232,
     "metadata": {},
     "output_type": "execute_result"
    }
   ],
   "source": [
    "df.merge(df, how='inner', on='account_id')['month_x'].dt.month"
   ]
  },
  {
   "cell_type": "code",
   "execution_count": 231,
   "metadata": {},
   "outputs": [
    {
     "data": {
      "text/plain": [
       "numpy.timedelta64(3,'M')"
      ]
     },
     "execution_count": 231,
     "metadata": {},
     "output_type": "execute_result"
    }
   ],
   "source": [
    "np.timedelta64(3, 'M')"
   ]
  },
  {
   "cell_type": "markdown",
   "metadata": {},
   "source": [
    "# 1757. Recyclable and Low Fat Products"
   ]
  },
  {
   "cell_type": "code",
   "execution_count": 239,
   "metadata": {},
   "outputs": [],
   "source": [
    "Products = pd.DataFrame([[\"0\",\"Y\",\"N\"],[\"1\",\"Y\",\"Y\"],[\"2\",\"N\",\"Y\"],[\"3\",\"Y\",\"Y\"],[\"4\",\"N\",\"N\"]],\\\n",
    "                       columns = [\"product_id\",\"low_fats\",\"recyclable\"])"
   ]
  },
  {
   "cell_type": "code",
   "execution_count": 240,
   "metadata": {},
   "outputs": [
    {
     "data": {
      "text/plain": [
       "1    1\n",
       "3    3\n",
       "Name: product_id, dtype: object"
      ]
     },
     "execution_count": 240,
     "metadata": {},
     "output_type": "execute_result"
    }
   ],
   "source": [
    "Products.query(\"low_fats=='Y' & recyclable=='Y'\")['product_id']"
   ]
  },
  {
   "cell_type": "markdown",
   "metadata": {},
   "source": [
    "# 1633. Percentage of Users Attended a Contest"
   ]
  },
  {
   "cell_type": "code",
   "execution_count": 241,
   "metadata": {},
   "outputs": [],
   "source": [
    "Users = pd.DataFrame([[6,\"Alice\"],[2,\"Bob\"],[7,\"Alex\"]], columns = [\"user_id\",\"user_name\"])\n",
    "Register = pd.DataFrame([[215,6],[209,2],[208,2],[210,6],[208,6],[209,7],[209,6],[215,7],[208,7],[210,2],\\\n",
    "   [207,2],[210,7]], columns = [\"contest_id\",\"user_id\"])"
   ]
  },
  {
   "cell_type": "code",
   "execution_count": 244,
   "metadata": {},
   "outputs": [
    {
     "data": {
      "text/html": [
       "<div>\n",
       "<style scoped>\n",
       "    .dataframe tbody tr th:only-of-type {\n",
       "        vertical-align: middle;\n",
       "    }\n",
       "\n",
       "    .dataframe tbody tr th {\n",
       "        vertical-align: top;\n",
       "    }\n",
       "\n",
       "    .dataframe thead th {\n",
       "        text-align: right;\n",
       "    }\n",
       "</style>\n",
       "<table border=\"1\" class=\"dataframe\">\n",
       "  <thead>\n",
       "    <tr style=\"text-align: right;\">\n",
       "      <th></th>\n",
       "      <th>contest_id</th>\n",
       "      <th>percentage</th>\n",
       "    </tr>\n",
       "  </thead>\n",
       "  <tbody>\n",
       "    <tr>\n",
       "      <th>1</th>\n",
       "      <td>208</td>\n",
       "      <td>100.000000</td>\n",
       "    </tr>\n",
       "    <tr>\n",
       "      <th>2</th>\n",
       "      <td>209</td>\n",
       "      <td>100.000000</td>\n",
       "    </tr>\n",
       "    <tr>\n",
       "      <th>3</th>\n",
       "      <td>210</td>\n",
       "      <td>100.000000</td>\n",
       "    </tr>\n",
       "    <tr>\n",
       "      <th>4</th>\n",
       "      <td>215</td>\n",
       "      <td>66.666667</td>\n",
       "    </tr>\n",
       "    <tr>\n",
       "      <th>0</th>\n",
       "      <td>207</td>\n",
       "      <td>33.333333</td>\n",
       "    </tr>\n",
       "  </tbody>\n",
       "</table>\n",
       "</div>"
      ],
      "text/plain": [
       "   contest_id  percentage\n",
       "1         208  100.000000\n",
       "2         209  100.000000\n",
       "3         210  100.000000\n",
       "4         215   66.666667\n",
       "0         207   33.333333"
      ]
     },
     "execution_count": 244,
     "metadata": {},
     "output_type": "execute_result"
    }
   ],
   "source": [
    "df = Register.groupby('contest_id')['user_id'].count().reset_index(name='cnt')\n",
    "df['percentage']= df['cnt']*100/Users['user_id'].count().round(2)\n",
    "df[['contest_id','percentage']].sort_values(['percentage','contest_id'], ascending=[False, True])"
   ]
  },
  {
   "cell_type": "markdown",
   "metadata": {},
   "source": [
    "# 1211. Queries Quality and Percentage"
   ]
  },
  {
   "cell_type": "code",
   "execution_count": null,
   "metadata": {},
   "outputs": [],
   "source": [
    "{\"headers\":{\"Queries\":[\"query_name\",\"result\",\"position\",\"rating\"]},\n",
    " \"rows\":{\"Queries\":[[\"Dog\",\"Golden Retriever\",1,5],[\"Dog\",\"German Shepherd\",2,5],[\"Dog\",\"Mule\",200,1],\n",
    "                    [\"Cat\",\"Shirazi\",5,2],[\"Cat\",\"Siamese\",3,3],[\"Cat\",\"Sphynx\",7,4]]}}"
   ]
  },
  {
   "cell_type": "code",
   "execution_count": 258,
   "metadata": {},
   "outputs": [],
   "source": [
    "Queries = pd.DataFrame([[\"Dog\",\"Golden Retriever\",1,5],[\"Dog\",\"German Shepherd\",2,5],[\"Dog\",\"Mule\",200,1],\\\n",
    "                    [\"Cat\",\"Shirazi\",5,2],[\"Cat\",\"Siamese\",3,3],[\"Cat\",\"Sphynx\",7,4]],\\\n",
    "                       columns = [\"query_name\",\"result\",\"position\",\"rating\"])"
   ]
  },
  {
   "cell_type": "code",
   "execution_count": 259,
   "metadata": {},
   "outputs": [
    {
     "data": {
      "text/html": [
       "<div>\n",
       "<style scoped>\n",
       "    .dataframe tbody tr th:only-of-type {\n",
       "        vertical-align: middle;\n",
       "    }\n",
       "\n",
       "    .dataframe tbody tr th {\n",
       "        vertical-align: top;\n",
       "    }\n",
       "\n",
       "    .dataframe thead th {\n",
       "        text-align: right;\n",
       "    }\n",
       "</style>\n",
       "<table border=\"1\" class=\"dataframe\">\n",
       "  <thead>\n",
       "    <tr style=\"text-align: right;\">\n",
       "      <th></th>\n",
       "      <th>query_name</th>\n",
       "      <th>quality</th>\n",
       "      <th>total</th>\n",
       "    </tr>\n",
       "  </thead>\n",
       "  <tbody>\n",
       "    <tr>\n",
       "      <th>0</th>\n",
       "      <td>Cat</td>\n",
       "      <td>0.66</td>\n",
       "      <td>3</td>\n",
       "    </tr>\n",
       "    <tr>\n",
       "      <th>1</th>\n",
       "      <td>Dog</td>\n",
       "      <td>2.50</td>\n",
       "      <td>3</td>\n",
       "    </tr>\n",
       "  </tbody>\n",
       "</table>\n",
       "</div>"
      ],
      "text/plain": [
       "  query_name  quality  total\n",
       "0        Cat     0.66      3\n",
       "1        Dog     2.50      3"
      ]
     },
     "execution_count": 259,
     "metadata": {},
     "output_type": "execute_result"
    }
   ],
   "source": [
    "Queries['quality']=Queries['rating']/Queries['position']\n",
    "\n",
    "\n",
    "df1 = Queries.groupby('query_name').agg({'quality':['mean','count']}).reset_index().round(2)\n",
    "df1.columns =['query_name','quality','total']\n",
    "df1"
   ]
  },
  {
   "cell_type": "code",
   "execution_count": 260,
   "metadata": {},
   "outputs": [],
   "source": [
    "df2 = Queries.query('rating<3').groupby('query_name')['quality'].count().reset_index(name='cnt')"
   ]
  },
  {
   "cell_type": "code",
   "execution_count": 262,
   "metadata": {},
   "outputs": [
    {
     "data": {
      "text/html": [
       "<div>\n",
       "<style scoped>\n",
       "    .dataframe tbody tr th:only-of-type {\n",
       "        vertical-align: middle;\n",
       "    }\n",
       "\n",
       "    .dataframe tbody tr th {\n",
       "        vertical-align: top;\n",
       "    }\n",
       "\n",
       "    .dataframe thead th {\n",
       "        text-align: right;\n",
       "    }\n",
       "</style>\n",
       "<table border=\"1\" class=\"dataframe\">\n",
       "  <thead>\n",
       "    <tr style=\"text-align: right;\">\n",
       "      <th></th>\n",
       "      <th>query_name</th>\n",
       "      <th>quality</th>\n",
       "      <th>poor_query_percentage</th>\n",
       "    </tr>\n",
       "  </thead>\n",
       "  <tbody>\n",
       "    <tr>\n",
       "      <th>0</th>\n",
       "      <td>Cat</td>\n",
       "      <td>0.66</td>\n",
       "      <td>33.33</td>\n",
       "    </tr>\n",
       "    <tr>\n",
       "      <th>1</th>\n",
       "      <td>Dog</td>\n",
       "      <td>2.50</td>\n",
       "      <td>33.33</td>\n",
       "    </tr>\n",
       "  </tbody>\n",
       "</table>\n",
       "</div>"
      ],
      "text/plain": [
       "  query_name  quality  poor_query_percentage\n",
       "0        Cat     0.66                  33.33\n",
       "1        Dog     2.50                  33.33"
      ]
     },
     "execution_count": 262,
     "metadata": {},
     "output_type": "execute_result"
    }
   ],
   "source": [
    "df3 = df1.merge(df2, how='left',on='query_name')\n",
    "df3['poor_query_percentage']=(df3['cnt']/df3['total']*100).round(2)\n",
    "df3[['query_name','quality','poor_query_percentage']]"
   ]
  },
  {
   "cell_type": "markdown",
   "metadata": {},
   "source": [
    "# 1511. Customer Order Frequency 2021/9/27"
   ]
  },
  {
   "cell_type": "code",
   "execution_count": 1,
   "metadata": {},
   "outputs": [],
   "source": [
    "import pandas as pd\n",
    "import numpy as np"
   ]
  },
  {
   "cell_type": "code",
   "execution_count": 2,
   "metadata": {},
   "outputs": [],
   "source": [
    "Customers = pd.DataFrame( [[1, \"Winston\", \"USA\"], [2, \"Jonathan\", \"Peru\"],[3, \"Moustafa\", \"Egypt\"]],\\\n",
    "                        columns = [\"customer_id\", \"name\", \"country\"])\n",
    "Product = pd.DataFrame([[10, \"LC Phone\", 300], [20, \"LC T-Shirt\", 10], [30, \"LC Book\", 45], [40, \"LC Keychain\", 2]],\\\n",
    "                      columns = [\"product_id\", \"description\", \"price\"])\n",
    "Orders = pd.DataFrame([[1, 1, 10, \"2020-06-10\", 1], [2, 1, 20, \"2020-07-01\", 1],[3, 1, 30, \"2020-07-08\", 2],\\\n",
    "[4, 2, 10, \"2020-06-15\", 2], [5, 2, 40, \"2020-07-01\", 10], [6, 3, 20, \"2020-06-24\", 2],\\\n",
    "                       [7, 3, 30, \"2020-06-25\", 2], [9, 3, 30, \"2020-05-08\", 3]],\\\n",
    "                     columns = [\"order_id\", \"customer_id\", \"product_id\", \"order_date\",\"quantity\"])"
   ]
  },
  {
   "cell_type": "code",
   "execution_count": 35,
   "metadata": {},
   "outputs": [
    {
     "data": {
      "text/html": [
       "<div>\n",
       "<style scoped>\n",
       "    .dataframe tbody tr th:only-of-type {\n",
       "        vertical-align: middle;\n",
       "    }\n",
       "\n",
       "    .dataframe tbody tr th {\n",
       "        vertical-align: top;\n",
       "    }\n",
       "\n",
       "    .dataframe thead th {\n",
       "        text-align: right;\n",
       "    }\n",
       "</style>\n",
       "<table border=\"1\" class=\"dataframe\">\n",
       "  <thead>\n",
       "    <tr style=\"text-align: right;\">\n",
       "      <th></th>\n",
       "      <th>customer_id</th>\n",
       "      <th>name</th>\n",
       "    </tr>\n",
       "  </thead>\n",
       "  <tbody>\n",
       "    <tr>\n",
       "      <th>0</th>\n",
       "      <td>1</td>\n",
       "      <td>Winston</td>\n",
       "    </tr>\n",
       "  </tbody>\n",
       "</table>\n",
       "</div>"
      ],
      "text/plain": [
       "   customer_id     name\n",
       "0            1  Winston"
      ]
     },
     "execution_count": 35,
     "metadata": {},
     "output_type": "execute_result"
    }
   ],
   "source": [
    "Orders['order_date']=pd.to_datetime(Orders['order_date'])\n",
    "df1 = Orders.query(\"order_date.dt.year==2020 & order_date.dt.month.isin([6,7])\")\\\n",
    ".merge(Product, how='inner',on='product_id')\n",
    "df1['sales']= df1['price']*df1['quantity']\n",
    "df1['month']=df1['order_date'].dt.month\n",
    "\n",
    "\n",
    "df1.groupby(['month','customer_id']).filter(lambda x: (x['sales'].sum()>=100) ).\\\n",
    "merge(Customers, how='inner', on='customer_id').groupby('customer_id').filter(lambda x: (x['month'].nunique()==2))\\\n",
    "[['customer_id','name']].drop_duplicates()\n",
    "\n"
   ]
  },
  {
   "cell_type": "markdown",
   "metadata": {},
   "source": [
    "# 1495. Friendly Movies Streamed Last Month"
   ]
  },
  {
   "cell_type": "code",
   "execution_count": 36,
   "metadata": {},
   "outputs": [],
   "source": [
    "TVProgram = pd.DataFrame([[\"2020-06-10 08:00\", 1, \"LC-Channel\"], [\"2020-05-11 12:00\", 2, \"LC-Channel\"],\\\n",
    "                        [\"2020-05-12 12:00\", 3, \"LC-Channel\"], [\"2020-05-13 14:00\", 4, \"Disney Ch\"],\\\n",
    "                    [\"2020-06-18 14:00\", 4, \"Disney Ch\"], [\"2020-07-15 16:00\", 5, \"Disney Ch\"]],\\\n",
    "                        columns = [\"program_date\", \"content_id\", \"channel\"])\n",
    "Content = pd.DataFrame([[1, \"Leetcode Movie\", \"N\", \"Movies\"], [2, \"Alg. for Kids\", \"Y\", \"Series\"],\\\n",
    "            [3, \"Database Sols\", \"N\", \"Series\"], [4, \"Aladdin\", \"Y\", \"Movies\"], [5, \"Cinderella\", \"Y\", \"Movies\"]],\\\n",
    "                      columns = [\"content_id\", \"title\", \"Kids_content\", \"content_type\"])"
   ]
  },
  {
   "cell_type": "code",
   "execution_count": 37,
   "metadata": {},
   "outputs": [
    {
     "data": {
      "text/plain": [
       "4    Aladdin\n",
       "Name: title, dtype: object"
      ]
     },
     "execution_count": 37,
     "metadata": {},
     "output_type": "execute_result"
    }
   ],
   "source": [
    "TVProgram[\"program_date\"]=pd.to_datetime(TVProgram[\"program_date\"])\n",
    "\n",
    "TVProgram.merge(Content,how='inner', on='content_id').query(\"(Kids_content=='Y')&(content_type=='Movies')\\\n",
    "& (program_date.dt.year==2020)& (program_date.dt.month==6)\")['title'].drop_duplicates()"
   ]
  },
  {
   "cell_type": "markdown",
   "metadata": {},
   "source": [
    "# 1677. Product's Worth Over Invoices"
   ]
  },
  {
   "cell_type": "code",
   "execution_count": null,
   "metadata": {},
   "outputs": [],
   "source": [
    "{\"headers\":{\"Product\":[\"product_id\",\"name\"],\"Invoice\":[\"invoice_id\",\"product_id\",\"rest\",\"paid\",\"canceled\",\"refunded\"]}\n",
    " ,\"rows\":{\"Product\":[[0,\"ham\"],[1,\"bacon\"]],\n",
    "          \"Invoice\":[[23,0,2,0,5,0],[12,0,0,4,0,3],[1,1,1,1,0,1],[2,1,1,0,1,1],[3,1,0,1,1,1],[4,1,1,1,1,0]]}}"
   ]
  },
  {
   "cell_type": "code",
   "execution_count": 39,
   "metadata": {},
   "outputs": [],
   "source": [
    "Product = pd.DataFrame([[0,\"ham\"],[1,\"bacon\"]],columns = [\"product_id\",\"name\"])\n",
    "Invoice = pd.DataFrame([[23,0,2,0,5,0],[12,0,0,4,0,3],[1,1,1,1,0,1],[2,1,1,0,1,1],[3,1,0,1,1,1],[4,1,1,1,1,0]],\\\n",
    "                      columns = [\"invoice_id\",\"product_id\",\"rest\",\"paid\",\"canceled\",\"refunded\"])"
   ]
  },
  {
   "cell_type": "code",
   "execution_count": 44,
   "metadata": {},
   "outputs": [
    {
     "data": {
      "text/html": [
       "<div>\n",
       "<style scoped>\n",
       "    .dataframe tbody tr th:only-of-type {\n",
       "        vertical-align: middle;\n",
       "    }\n",
       "\n",
       "    .dataframe tbody tr th {\n",
       "        vertical-align: top;\n",
       "    }\n",
       "\n",
       "    .dataframe thead th {\n",
       "        text-align: right;\n",
       "    }\n",
       "</style>\n",
       "<table border=\"1\" class=\"dataframe\">\n",
       "  <thead>\n",
       "    <tr style=\"text-align: right;\">\n",
       "      <th></th>\n",
       "      <th>name</th>\n",
       "      <th>rest</th>\n",
       "      <th>paid</th>\n",
       "      <th>canceled</th>\n",
       "      <th>refunded</th>\n",
       "    </tr>\n",
       "  </thead>\n",
       "  <tbody>\n",
       "    <tr>\n",
       "      <th>1</th>\n",
       "      <td>bacon</td>\n",
       "      <td>3</td>\n",
       "      <td>3</td>\n",
       "      <td>3</td>\n",
       "      <td>3</td>\n",
       "    </tr>\n",
       "    <tr>\n",
       "      <th>0</th>\n",
       "      <td>ham</td>\n",
       "      <td>2</td>\n",
       "      <td>4</td>\n",
       "      <td>5</td>\n",
       "      <td>3</td>\n",
       "    </tr>\n",
       "  </tbody>\n",
       "</table>\n",
       "</div>"
      ],
      "text/plain": [
       "    name  rest  paid  canceled  refunded\n",
       "1  bacon     3     3         3         3\n",
       "0    ham     2     4         5         3"
      ]
     },
     "execution_count": 44,
     "metadata": {},
     "output_type": "execute_result"
    }
   ],
   "source": [
    "Product.merge(Invoice.groupby('product_id')[\"rest\",\"paid\",\"canceled\",\"refunded\"].sum().reset_index(),\\\n",
    "              how='left',on='product_id').fillna(0).drop('product_id',axis=1).sort_values('name', ascending=True)"
   ]
  },
  {
   "cell_type": "markdown",
   "metadata": {},
   "source": [
    "# 1821. Find Customers With Positive Revenue this Year"
   ]
  },
  {
   "cell_type": "code",
   "execution_count": 55,
   "metadata": {},
   "outputs": [],
   "source": [
    "Customers = pd.DataFrame([[\"1\",\"2018\",\"50\"],[\"1\",\"2021\",\"30\"],[\"1\",\"2020\",\"70\"],\\\n",
    "                      [\"2\",\"2021\",\"-50\"],[\"3\",\"2018\",\"10\"],[\"3\",\"2016\",\"50\"],[\"4\",\"2021\",\"20\"]],\\\n",
    "                        columns = [\"customer_id\",\"year\",\"revenue\"])"
   ]
  },
  {
   "cell_type": "code",
   "execution_count": 56,
   "metadata": {},
   "outputs": [
    {
     "data": {
      "text/plain": [
       "1    1\n",
       "6    4\n",
       "Name: customer_id, dtype: object"
      ]
     },
     "execution_count": 56,
     "metadata": {},
     "output_type": "execute_result"
    }
   ],
   "source": [
    "Customers['year']=Customers['year'].astype(\"int64\")\n",
    "Customers['revenue']=Customers['revenue'].astype(\"int64\")\n",
    "Customers.query('year==2021').groupby('customer_id').filter(lambda x: x['revenue'].sum()>0)['customer_id'].drop_duplicates()"
   ]
  },
  {
   "cell_type": "markdown",
   "metadata": {},
   "source": [
    "# 1731. The Number of Employees Which Report to Each Employee"
   ]
  },
  {
   "cell_type": "code",
   "execution_count": 62,
   "metadata": {},
   "outputs": [],
   "source": [
    "Employees=pd.DataFrame([[9,\"Hercy\",np.nan,43],[6,\"Alice\",9,41],[4,\"Bob\",9,36],[2,\"Winston\",np.nan,37]],\\\n",
    "                      columns=[\"employee_id\",\"name\",\"reports_to\",\"age\"])"
   ]
  },
  {
   "cell_type": "code",
   "execution_count": 74,
   "metadata": {},
   "outputs": [
    {
     "data": {
      "text/html": [
       "<div>\n",
       "<style scoped>\n",
       "    .dataframe tbody tr th:only-of-type {\n",
       "        vertical-align: middle;\n",
       "    }\n",
       "\n",
       "    .dataframe tbody tr th {\n",
       "        vertical-align: top;\n",
       "    }\n",
       "\n",
       "    .dataframe thead th {\n",
       "        text-align: right;\n",
       "    }\n",
       "</style>\n",
       "<table border=\"1\" class=\"dataframe\">\n",
       "  <thead>\n",
       "    <tr style=\"text-align: right;\">\n",
       "      <th></th>\n",
       "      <th>employee_id</th>\n",
       "      <th>name</th>\n",
       "      <th>reports_count</th>\n",
       "      <th>average_age</th>\n",
       "    </tr>\n",
       "  </thead>\n",
       "  <tbody>\n",
       "    <tr>\n",
       "      <th>0</th>\n",
       "      <td>9.0</td>\n",
       "      <td>Hercy</td>\n",
       "      <td>2</td>\n",
       "      <td>38.0</td>\n",
       "    </tr>\n",
       "  </tbody>\n",
       "</table>\n",
       "</div>"
      ],
      "text/plain": [
       "   employee_id   name  reports_count  average_age\n",
       "0          9.0  Hercy              2         38.0"
      ]
     },
     "execution_count": 74,
     "metadata": {},
     "output_type": "execute_result"
    }
   ],
   "source": [
    "df = Employees.merge(Employees, how='inner',left_on='reports_to',right_on='employee_id')\\\n",
    ".groupby(['reports_to_x','name_y']).agg({'employee_id_x':'nunique','age_x':'mean'}).round().reset_index()\n",
    "df.columns = [\"employee_id\",\"name\",\"reports_count\",\"average_age\"]\n",
    "df"
   ]
  },
  {
   "cell_type": "markdown",
   "metadata": {},
   "source": [
    "# 196. Delete Duplicate Emails"
   ]
  },
  {
   "cell_type": "code",
   "execution_count": 77,
   "metadata": {},
   "outputs": [],
   "source": [
    "Person = pd.DataFrame([[1, \"john@example.com\"], [2, \"bob@example.com\"], [3, \"john@example.com\"]],\\\n",
    "                     columns = [\"Id\", \"Email\"])"
   ]
  },
  {
   "cell_type": "code",
   "execution_count": 82,
   "metadata": {},
   "outputs": [
    {
     "data": {
      "text/html": [
       "<div>\n",
       "<style scoped>\n",
       "    .dataframe tbody tr th:only-of-type {\n",
       "        vertical-align: middle;\n",
       "    }\n",
       "\n",
       "    .dataframe tbody tr th {\n",
       "        vertical-align: top;\n",
       "    }\n",
       "\n",
       "    .dataframe thead th {\n",
       "        text-align: right;\n",
       "    }\n",
       "</style>\n",
       "<table border=\"1\" class=\"dataframe\">\n",
       "  <thead>\n",
       "    <tr style=\"text-align: right;\">\n",
       "      <th></th>\n",
       "      <th>Id</th>\n",
       "      <th>Email</th>\n",
       "    </tr>\n",
       "  </thead>\n",
       "  <tbody>\n",
       "    <tr>\n",
       "      <th>0</th>\n",
       "      <td>1</td>\n",
       "      <td>john@example.com</td>\n",
       "    </tr>\n",
       "    <tr>\n",
       "      <th>1</th>\n",
       "      <td>2</td>\n",
       "      <td>bob@example.com</td>\n",
       "    </tr>\n",
       "  </tbody>\n",
       "</table>\n",
       "</div>"
      ],
      "text/plain": [
       "   Id             Email\n",
       "0   1  john@example.com\n",
       "1   2   bob@example.com"
      ]
     },
     "execution_count": 82,
     "metadata": {},
     "output_type": "execute_result"
    }
   ],
   "source": [
    "Person['rnk'] = Person.groupby(['Email']).rank(method='dense',ascending=True)\n",
    "Person.query('rnk==1')[['Id','Email']]"
   ]
  },
  {
   "cell_type": "markdown",
   "metadata": {},
   "source": [
    "# 1241. Number of Comments per Post"
   ]
  },
  {
   "cell_type": "code",
   "execution_count": 83,
   "metadata": {},
   "outputs": [],
   "source": [
    "Submissions = pd.DataFrame([[1,'null'],[2,'null'],[1,'null'],[12,'null'],[3,1],[5,2],[3,1],[4,1],[9,1],[10,2],[6,7]],\n",
    "                          columns =[\"sub_id\",\"parent_id\"] )"
   ]
  },
  {
   "cell_type": "code",
   "execution_count": 85,
   "metadata": {},
   "outputs": [
    {
     "data": {
      "text/html": [
       "<div>\n",
       "<style scoped>\n",
       "    .dataframe tbody tr th:only-of-type {\n",
       "        vertical-align: middle;\n",
       "    }\n",
       "\n",
       "    .dataframe tbody tr th {\n",
       "        vertical-align: top;\n",
       "    }\n",
       "\n",
       "    .dataframe thead th {\n",
       "        text-align: right;\n",
       "    }\n",
       "</style>\n",
       "<table border=\"1\" class=\"dataframe\">\n",
       "  <thead>\n",
       "    <tr style=\"text-align: right;\">\n",
       "      <th></th>\n",
       "      <th>post_id</th>\n",
       "      <th>number_of_comments</th>\n",
       "    </tr>\n",
       "  </thead>\n",
       "  <tbody>\n",
       "    <tr>\n",
       "      <th>0</th>\n",
       "      <td>1</td>\n",
       "      <td>3</td>\n",
       "    </tr>\n",
       "    <tr>\n",
       "      <th>1</th>\n",
       "      <td>2</td>\n",
       "      <td>2</td>\n",
       "    </tr>\n",
       "    <tr>\n",
       "      <th>2</th>\n",
       "      <td>12</td>\n",
       "      <td>0</td>\n",
       "    </tr>\n",
       "  </tbody>\n",
       "</table>\n",
       "</div>"
      ],
      "text/plain": [
       "   post_id  number_of_comments\n",
       "0        1                   3\n",
       "1        2                   2\n",
       "2       12                   0"
      ]
     },
     "execution_count": 85,
     "metadata": {},
     "output_type": "execute_result"
    }
   ],
   "source": [
    "df = Submissions.query('parent_id ==\"null\"').merge(Submissions, how='left',left_on='sub_id', right_on='parent_id')\\\n",
    ".groupby('sub_id_x')['sub_id_y'].nunique().reset_index().sort_values('sub_id_x',ascending=True)\n",
    "\n",
    "df.columns = ['post_id', 'number_of_comments']\n",
    "df"
   ]
  },
  {
   "cell_type": "markdown",
   "metadata": {},
   "source": [
    "# 1587. Bank Account Summary II 2021/9/28"
   ]
  },
  {
   "cell_type": "code",
   "execution_count": 88,
   "metadata": {},
   "outputs": [],
   "source": [
    "Users=pd.DataFrame([[900001, \"Alice\"], [900002, \"Bob\"], [900003, \"Charlie\"]], columns = [\"account\", \"name\"])\n",
    "Transactions = pd.DataFrame([[1, 900001, 7000, \"2020-08-01\"], [2, 900001, 7000, \"2020-09-01\"],\\\n",
    "                             [3, 900001, -3000, \"2020-09-02\"],[4, 900002, 1000, \"2020-09-12\"],\\\n",
    "                             [5, 900003, 6000, \"2020-08-07\"], [6, 900003, 6000, \"2020-09-07\"],\\\n",
    "          [7, 900003, -4000, \"2020-09-11\"]], columns = [\"trans_id\", \"account\", \"amount\", \"transacted_on\"])"
   ]
  },
  {
   "cell_type": "code",
   "execution_count": 90,
   "metadata": {},
   "outputs": [
    {
     "data": {
      "text/html": [
       "<div>\n",
       "<style scoped>\n",
       "    .dataframe tbody tr th:only-of-type {\n",
       "        vertical-align: middle;\n",
       "    }\n",
       "\n",
       "    .dataframe tbody tr th {\n",
       "        vertical-align: top;\n",
       "    }\n",
       "\n",
       "    .dataframe thead th {\n",
       "        text-align: right;\n",
       "    }\n",
       "</style>\n",
       "<table border=\"1\" class=\"dataframe\">\n",
       "  <thead>\n",
       "    <tr style=\"text-align: right;\">\n",
       "      <th></th>\n",
       "      <th>name</th>\n",
       "      <th>balance</th>\n",
       "    </tr>\n",
       "  </thead>\n",
       "  <tbody>\n",
       "    <tr>\n",
       "      <th>0</th>\n",
       "      <td>Alice</td>\n",
       "      <td>11000</td>\n",
       "    </tr>\n",
       "  </tbody>\n",
       "</table>\n",
       "</div>"
      ],
      "text/plain": [
       "    name  balance\n",
       "0  Alice    11000"
      ]
     },
     "execution_count": 90,
     "metadata": {},
     "output_type": "execute_result"
    }
   ],
   "source": [
    "Transactions.groupby('account')['amount'].sum().reset_index(name='balance').merge(Users, how='inner', on='account')\\\n",
    ".query('balance>10000')[['name','balance']]"
   ]
  },
  {
   "cell_type": "markdown",
   "metadata": {},
   "source": [
    "# 1378. Replace Employee ID With The Unique Identifier"
   ]
  },
  {
   "cell_type": "code",
   "execution_count": 91,
   "metadata": {},
   "outputs": [],
   "source": [
    "Employees = pd.DataFrame([[1,\"Alice\"],[7,\"Bob\"],[11,\"Meir\"],[90,\"Winston\"],[3,\"Jonathan\"]],\\\n",
    "                         columns = [\"id\",\"name\"])\n",
    "EmployeeUNI = pd.DataFrame([[3,1],[11,2],[90,3]], columns = [\"id\",\"unique_id\"])"
   ]
  },
  {
   "cell_type": "code",
   "execution_count": 92,
   "metadata": {},
   "outputs": [
    {
     "data": {
      "text/html": [
       "<div>\n",
       "<style scoped>\n",
       "    .dataframe tbody tr th:only-of-type {\n",
       "        vertical-align: middle;\n",
       "    }\n",
       "\n",
       "    .dataframe tbody tr th {\n",
       "        vertical-align: top;\n",
       "    }\n",
       "\n",
       "    .dataframe thead th {\n",
       "        text-align: right;\n",
       "    }\n",
       "</style>\n",
       "<table border=\"1\" class=\"dataframe\">\n",
       "  <thead>\n",
       "    <tr style=\"text-align: right;\">\n",
       "      <th></th>\n",
       "      <th>unique_id</th>\n",
       "      <th>name</th>\n",
       "    </tr>\n",
       "  </thead>\n",
       "  <tbody>\n",
       "    <tr>\n",
       "      <th>0</th>\n",
       "      <td>NaN</td>\n",
       "      <td>Alice</td>\n",
       "    </tr>\n",
       "    <tr>\n",
       "      <th>1</th>\n",
       "      <td>NaN</td>\n",
       "      <td>Bob</td>\n",
       "    </tr>\n",
       "    <tr>\n",
       "      <th>2</th>\n",
       "      <td>2.0</td>\n",
       "      <td>Meir</td>\n",
       "    </tr>\n",
       "    <tr>\n",
       "      <th>3</th>\n",
       "      <td>3.0</td>\n",
       "      <td>Winston</td>\n",
       "    </tr>\n",
       "    <tr>\n",
       "      <th>4</th>\n",
       "      <td>1.0</td>\n",
       "      <td>Jonathan</td>\n",
       "    </tr>\n",
       "  </tbody>\n",
       "</table>\n",
       "</div>"
      ],
      "text/plain": [
       "   unique_id      name\n",
       "0        NaN     Alice\n",
       "1        NaN       Bob\n",
       "2        2.0      Meir\n",
       "3        3.0   Winston\n",
       "4        1.0  Jonathan"
      ]
     },
     "execution_count": 92,
     "metadata": {},
     "output_type": "execute_result"
    }
   ],
   "source": [
    "Employees.merge(EmployeeUNI, how='left', on='id')[['unique_id','name']]"
   ]
  },
  {
   "cell_type": "markdown",
   "metadata": {},
   "source": [
    "# 1280. Students and Examinations"
   ]
  },
  {
   "cell_type": "code",
   "execution_count": 93,
   "metadata": {},
   "outputs": [],
   "source": [
    "Students = pd.DataFrame([[1,\"Alice\"],[2,\"Bob\"],[13,\"John\"],[6,\"Alex\"]],columns = [\"student_id\",\"student_name\"])\n",
    "Subjects = pd.DataFrame([[\"Math\"],[\"Physics\"],[\"Programming\"]], columns = [\"subject_name\"])\n",
    "Examinations = pd.DataFrame([[1,\"Math\"],[1,\"Physics\"],[1,\"Programming\"],[2,\"Programming\"],[1,\"Physics\"],[1,\"Math\"],\\\n",
    "        [13,\"Math\"],[13,\"Programming\"],[13,\"Physics\"],[2,\"Math\"],[1,\"Math\"]],\\\n",
    "                           columns = [\"student_id\",\"subject_name\"])"
   ]
  },
  {
   "cell_type": "code",
   "execution_count": 97,
   "metadata": {},
   "outputs": [],
   "source": [
    "Examinations.columns =[\"student_id_x\",\"subject_name_x\"]"
   ]
  },
  {
   "cell_type": "code",
   "execution_count": 99,
   "metadata": {},
   "outputs": [
    {
     "data": {
      "text/html": [
       "<div>\n",
       "<style scoped>\n",
       "    .dataframe tbody tr th:only-of-type {\n",
       "        vertical-align: middle;\n",
       "    }\n",
       "\n",
       "    .dataframe tbody tr th {\n",
       "        vertical-align: top;\n",
       "    }\n",
       "\n",
       "    .dataframe thead th {\n",
       "        text-align: right;\n",
       "    }\n",
       "</style>\n",
       "<table border=\"1\" class=\"dataframe\">\n",
       "  <thead>\n",
       "    <tr style=\"text-align: right;\">\n",
       "      <th></th>\n",
       "      <th>student_id</th>\n",
       "      <th>student_name</th>\n",
       "      <th>subject_name</th>\n",
       "      <th>attended_exams</th>\n",
       "    </tr>\n",
       "  </thead>\n",
       "  <tbody>\n",
       "    <tr>\n",
       "      <th>0</th>\n",
       "      <td>1</td>\n",
       "      <td>Alice</td>\n",
       "      <td>Math</td>\n",
       "      <td>3</td>\n",
       "    </tr>\n",
       "    <tr>\n",
       "      <th>1</th>\n",
       "      <td>1</td>\n",
       "      <td>Alice</td>\n",
       "      <td>Physics</td>\n",
       "      <td>2</td>\n",
       "    </tr>\n",
       "    <tr>\n",
       "      <th>2</th>\n",
       "      <td>1</td>\n",
       "      <td>Alice</td>\n",
       "      <td>Programming</td>\n",
       "      <td>1</td>\n",
       "    </tr>\n",
       "    <tr>\n",
       "      <th>3</th>\n",
       "      <td>2</td>\n",
       "      <td>Bob</td>\n",
       "      <td>Math</td>\n",
       "      <td>1</td>\n",
       "    </tr>\n",
       "    <tr>\n",
       "      <th>4</th>\n",
       "      <td>2</td>\n",
       "      <td>Bob</td>\n",
       "      <td>Physics</td>\n",
       "      <td>0</td>\n",
       "    </tr>\n",
       "    <tr>\n",
       "      <th>5</th>\n",
       "      <td>2</td>\n",
       "      <td>Bob</td>\n",
       "      <td>Programming</td>\n",
       "      <td>1</td>\n",
       "    </tr>\n",
       "    <tr>\n",
       "      <th>6</th>\n",
       "      <td>6</td>\n",
       "      <td>Alex</td>\n",
       "      <td>Math</td>\n",
       "      <td>0</td>\n",
       "    </tr>\n",
       "    <tr>\n",
       "      <th>7</th>\n",
       "      <td>6</td>\n",
       "      <td>Alex</td>\n",
       "      <td>Physics</td>\n",
       "      <td>0</td>\n",
       "    </tr>\n",
       "    <tr>\n",
       "      <th>8</th>\n",
       "      <td>6</td>\n",
       "      <td>Alex</td>\n",
       "      <td>Programming</td>\n",
       "      <td>0</td>\n",
       "    </tr>\n",
       "    <tr>\n",
       "      <th>9</th>\n",
       "      <td>13</td>\n",
       "      <td>John</td>\n",
       "      <td>Math</td>\n",
       "      <td>1</td>\n",
       "    </tr>\n",
       "    <tr>\n",
       "      <th>10</th>\n",
       "      <td>13</td>\n",
       "      <td>John</td>\n",
       "      <td>Physics</td>\n",
       "      <td>1</td>\n",
       "    </tr>\n",
       "    <tr>\n",
       "      <th>11</th>\n",
       "      <td>13</td>\n",
       "      <td>John</td>\n",
       "      <td>Programming</td>\n",
       "      <td>1</td>\n",
       "    </tr>\n",
       "  </tbody>\n",
       "</table>\n",
       "</div>"
      ],
      "text/plain": [
       "    student_id student_name subject_name  attended_exams\n",
       "0            1        Alice         Math               3\n",
       "1            1        Alice      Physics               2\n",
       "2            1        Alice  Programming               1\n",
       "3            2          Bob         Math               1\n",
       "4            2          Bob      Physics               0\n",
       "5            2          Bob  Programming               1\n",
       "6            6         Alex         Math               0\n",
       "7            6         Alex      Physics               0\n",
       "8            6         Alex  Programming               0\n",
       "9           13         John         Math               1\n",
       "10          13         John      Physics               1\n",
       "11          13         John  Programming               1"
      ]
     },
     "execution_count": 99,
     "metadata": {},
     "output_type": "execute_result"
    }
   ],
   "source": [
    "Students['tmp']=1\n",
    "Subjects['tmp']=1\n",
    "Students.merge(Subjects, how='outer', on='tmp').merge(Examinations, how='left',\\\n",
    "left_on=[\"student_id\",\"subject_name\"], right_on=[\"student_id_x\",\"subject_name_x\"])\\\n",
    ".groupby([\"student_id\",\"student_name\",\"subject_name\"])['subject_name_x'].count().reset_index(name='attended_exams').\\\n",
    "fillna(0).sort_values([\"student_id\",\"subject_name\"],ascending=[True, True])"
   ]
  },
  {
   "cell_type": "markdown",
   "metadata": {},
   "source": [
    "# 596. Classes More Than 5 Students"
   ]
  },
  {
   "cell_type": "code",
   "execution_count": 100,
   "metadata": {},
   "outputs": [],
   "source": [
    "courses = pd.DataFrame([[\"A\", \"Math\"], [\"B\", \"English\"], [\"C\", \"Math\"],[\"D\", \"Biology\"], [\"E\", \"Math\"],\\\n",
    "[\"F\", \"Computer\"], [\"G\", \"Math\"], [\"H\", \"Math\"], [\"I\", \"Math\"]], columns = [\"student\", \"class\"])"
   ]
  },
  {
   "cell_type": "code",
   "execution_count": 102,
   "metadata": {},
   "outputs": [
    {
     "data": {
      "text/plain": [
       "0    Math\n",
       "Name: class, dtype: object"
      ]
     },
     "execution_count": 102,
     "metadata": {},
     "output_type": "execute_result"
    }
   ],
   "source": [
    "courses.groupby('class').filter(lambda x: x['student'].count()>=5)['class'].drop_duplicates()"
   ]
  },
  {
   "cell_type": "markdown",
   "metadata": {},
   "source": [
    "# 577. Employee Bonus"
   ]
  },
  {
   "cell_type": "code",
   "execution_count": 106,
   "metadata": {},
   "outputs": [],
   "source": [
    "Employee = pd.DataFrame([[3, \"Brad\", np.nan, 4000], [1, \"John\", 3, 1000],[2, \"Dan\", 3, 2000], [4, \"Thomas\", 3, 4000]],\\\n",
    "                       columns = [\"EmpId\", \"Name\", \"Supervisor\", \"Salary\"])\n",
    "Bonus = pd.DataFrame([[2, 500], [4, 2000]], columns = [\"EmpId\", \"Bonus\"])"
   ]
  },
  {
   "cell_type": "code",
   "execution_count": 109,
   "metadata": {},
   "outputs": [
    {
     "data": {
      "text/html": [
       "<div>\n",
       "<style scoped>\n",
       "    .dataframe tbody tr th:only-of-type {\n",
       "        vertical-align: middle;\n",
       "    }\n",
       "\n",
       "    .dataframe tbody tr th {\n",
       "        vertical-align: top;\n",
       "    }\n",
       "\n",
       "    .dataframe thead th {\n",
       "        text-align: right;\n",
       "    }\n",
       "</style>\n",
       "<table border=\"1\" class=\"dataframe\">\n",
       "  <thead>\n",
       "    <tr style=\"text-align: right;\">\n",
       "      <th></th>\n",
       "      <th>EmpId</th>\n",
       "      <th>Bonus</th>\n",
       "    </tr>\n",
       "  </thead>\n",
       "  <tbody>\n",
       "    <tr>\n",
       "      <th>0</th>\n",
       "      <td>3</td>\n",
       "      <td>NaN</td>\n",
       "    </tr>\n",
       "    <tr>\n",
       "      <th>1</th>\n",
       "      <td>1</td>\n",
       "      <td>NaN</td>\n",
       "    </tr>\n",
       "    <tr>\n",
       "      <th>2</th>\n",
       "      <td>2</td>\n",
       "      <td>500.0</td>\n",
       "    </tr>\n",
       "  </tbody>\n",
       "</table>\n",
       "</div>"
      ],
      "text/plain": [
       "   EmpId  Bonus\n",
       "0      3    NaN\n",
       "1      1    NaN\n",
       "2      2  500.0"
      ]
     },
     "execution_count": 109,
     "metadata": {},
     "output_type": "execute_result"
    }
   ],
   "source": [
    "Employee.merge(Bonus, how='left',on='EmpId').fillna(0).query(\"Bonus<1000\")[['EmpId','Bonus']].replace(0, np.nan)"
   ]
  },
  {
   "cell_type": "markdown",
   "metadata": {},
   "source": [
    "# 1543. Fix Product Name Format"
   ]
  },
  {
   "cell_type": "code",
   "execution_count": 123,
   "metadata": {},
   "outputs": [],
   "source": [
    "Sales = pd.DataFrame([[1, \"LCPHONE\", \"2000-01-16\"],[2, \"LCPhone\", \"2000-01-17\"], [3, \"LcPhOnE\", \"2000-02-18\"],\\\n",
    "[4, \"LCKeyCHAiN\", \"2000-02-19\"],[5, \" LCKeyChain\", \"2000-02-28\"], [6, \" Matryoshka \", \"2000-03-31\"]],\\\n",
    "                    columns = [\"sale_id\", \"product_name\", \"sale_date\"])\n",
    "Sales['sale_date'] = pd.to_datetime(Sales['sale_date'])"
   ]
  },
  {
   "cell_type": "code",
   "execution_count": 124,
   "metadata": {},
   "outputs": [
    {
     "data": {
      "text/html": [
       "<div>\n",
       "<style scoped>\n",
       "    .dataframe tbody tr th:only-of-type {\n",
       "        vertical-align: middle;\n",
       "    }\n",
       "\n",
       "    .dataframe tbody tr th {\n",
       "        vertical-align: top;\n",
       "    }\n",
       "\n",
       "    .dataframe thead th {\n",
       "        text-align: right;\n",
       "    }\n",
       "</style>\n",
       "<table border=\"1\" class=\"dataframe\">\n",
       "  <thead>\n",
       "    <tr style=\"text-align: right;\">\n",
       "      <th></th>\n",
       "      <th>product_name</th>\n",
       "      <th>sale_date</th>\n",
       "      <th>total</th>\n",
       "    </tr>\n",
       "  </thead>\n",
       "  <tbody>\n",
       "    <tr>\n",
       "      <th>0</th>\n",
       "      <td>lckeychain</td>\n",
       "      <td>2000-02</td>\n",
       "      <td>2</td>\n",
       "    </tr>\n",
       "    <tr>\n",
       "      <th>1</th>\n",
       "      <td>lcphone</td>\n",
       "      <td>2000-01</td>\n",
       "      <td>2</td>\n",
       "    </tr>\n",
       "    <tr>\n",
       "      <th>2</th>\n",
       "      <td>lcphone</td>\n",
       "      <td>2000-02</td>\n",
       "      <td>1</td>\n",
       "    </tr>\n",
       "    <tr>\n",
       "      <th>3</th>\n",
       "      <td>matryoshka</td>\n",
       "      <td>2000-03</td>\n",
       "      <td>1</td>\n",
       "    </tr>\n",
       "  </tbody>\n",
       "</table>\n",
       "</div>"
      ],
      "text/plain": [
       "  product_name sale_date  total\n",
       "0   lckeychain   2000-02      2\n",
       "1      lcphone   2000-01      2\n",
       "2      lcphone   2000-02      1\n",
       "3   matryoshka   2000-03      1"
      ]
     },
     "execution_count": 124,
     "metadata": {},
     "output_type": "execute_result"
    }
   ],
   "source": [
    "Sales['sale_date'] = Sales['sale_date'].dt.to_period('M')\n",
    "Sales['product_name'] = Sales['product_name'].str.lower().str.strip()\n",
    "Sales.groupby(['product_name','sale_date'])['sale_id'].count().reset_index(name='total')\\\n",
    ".sort_values(['product_name','sale_date'], ascending=[True, True])"
   ]
  },
  {
   "cell_type": "markdown",
   "metadata": {},
   "source": [
    "# 1890. The Latest Login in 2020"
   ]
  },
  {
   "cell_type": "code",
   "execution_count": 127,
   "metadata": {},
   "outputs": [],
   "source": [
    "Logins = pd.DataFrame([[6, \"2020-06-30 15:06:07\"], [6, \"2021-04-21 14:06:06\"],\\\n",
    "                     [6, \"2019-03-07 00:18:15\"], [8, \"2020-02-01 05:10:53\"],\\\n",
    "                     [8, \"2020-12-30 00:46:50\"], [2, \"2020-01-16 02:49:50\"],\\\n",
    "                     [2, \"2019-08-25 07:59:08\"], [14, \"2019-07-14 09:00:00\"],\\\n",
    "                     [14, \"2021-01-06 11:59:59\"]], columns = [\"user_id\", \"time_stamp\"])\n",
    "Logins['time_stamp']= pd.to_datetime(Logins['time_stamp'])"
   ]
  },
  {
   "cell_type": "code",
   "execution_count": 128,
   "metadata": {},
   "outputs": [
    {
     "name": "stderr",
     "output_type": "stream",
     "text": [
      "/Users/wentinggao/anaconda3/lib/python3.7/site-packages/ipykernel_launcher.py:2: SettingWithCopyWarning: \n",
      "A value is trying to be set on a copy of a slice from a DataFrame.\n",
      "Try using .loc[row_indexer,col_indexer] = value instead\n",
      "\n",
      "See the caveats in the documentation: http://pandas.pydata.org/pandas-docs/stable/user_guide/indexing.html#returning-a-view-versus-a-copy\n",
      "  \n"
     ]
    },
    {
     "data": {
      "text/html": [
       "<div>\n",
       "<style scoped>\n",
       "    .dataframe tbody tr th:only-of-type {\n",
       "        vertical-align: middle;\n",
       "    }\n",
       "\n",
       "    .dataframe tbody tr th {\n",
       "        vertical-align: top;\n",
       "    }\n",
       "\n",
       "    .dataframe thead th {\n",
       "        text-align: right;\n",
       "    }\n",
       "</style>\n",
       "<table border=\"1\" class=\"dataframe\">\n",
       "  <thead>\n",
       "    <tr style=\"text-align: right;\">\n",
       "      <th></th>\n",
       "      <th>user_id</th>\n",
       "      <th>last_stamp</th>\n",
       "    </tr>\n",
       "  </thead>\n",
       "  <tbody>\n",
       "    <tr>\n",
       "      <th>0</th>\n",
       "      <td>6</td>\n",
       "      <td>2020-06-30 15:06:07</td>\n",
       "    </tr>\n",
       "    <tr>\n",
       "      <th>4</th>\n",
       "      <td>8</td>\n",
       "      <td>2020-12-30 00:46:50</td>\n",
       "    </tr>\n",
       "    <tr>\n",
       "      <th>5</th>\n",
       "      <td>2</td>\n",
       "      <td>2020-01-16 02:49:50</td>\n",
       "    </tr>\n",
       "  </tbody>\n",
       "</table>\n",
       "</div>"
      ],
      "text/plain": [
       "   user_id          last_stamp\n",
       "0        6 2020-06-30 15:06:07\n",
       "4        8 2020-12-30 00:46:50\n",
       "5        2 2020-01-16 02:49:50"
      ]
     },
     "execution_count": 128,
     "metadata": {},
     "output_type": "execute_result"
    }
   ],
   "source": [
    "df = Logins.query(\"time_stamp.dt.year==2020\")\n",
    "df['rnk']= df.groupby('user_id')[\"time_stamp\"].rank(method='dense', ascending=False)\n",
    "df.query(\"rnk==1\")[[\"user_id\", \"time_stamp\"]].rename(columns = {\"user_id\":\"user_id\", \"time_stamp\":\"last_stamp\"})"
   ]
  },
  {
   "cell_type": "markdown",
   "metadata": {},
   "source": [
    "# 1873. Calculate Special Bonus"
   ]
  },
  {
   "cell_type": "code",
   "execution_count": 129,
   "metadata": {},
   "outputs": [],
   "source": [
    "Employees = pd.DataFrame([[2,\"Meir\",3000],[3,\"Michael\",3800],[7,\"Addilyn\",7400],[8,\"Juan\",6100],[9,\"Kannon\",7700]],\\\n",
    "                        columns = [\"employee_id\",\"name\",\"salary\"])"
   ]
  },
  {
   "cell_type": "code",
   "execution_count": 135,
   "metadata": {},
   "outputs": [],
   "source": [
    "df = Employees.query('(employee_id%2==1) & (name.str[0]!=\"M\")')[[\"employee_id\",\"salary\"]]\n",
    "df.columns = ['employee_id','bonus']"
   ]
  },
  {
   "cell_type": "code",
   "execution_count": 136,
   "metadata": {},
   "outputs": [
    {
     "data": {
      "text/html": [
       "<div>\n",
       "<style scoped>\n",
       "    .dataframe tbody tr th:only-of-type {\n",
       "        vertical-align: middle;\n",
       "    }\n",
       "\n",
       "    .dataframe tbody tr th {\n",
       "        vertical-align: top;\n",
       "    }\n",
       "\n",
       "    .dataframe thead th {\n",
       "        text-align: right;\n",
       "    }\n",
       "</style>\n",
       "<table border=\"1\" class=\"dataframe\">\n",
       "  <thead>\n",
       "    <tr style=\"text-align: right;\">\n",
       "      <th></th>\n",
       "      <th>employee_id</th>\n",
       "      <th>bonus</th>\n",
       "    </tr>\n",
       "  </thead>\n",
       "  <tbody>\n",
       "    <tr>\n",
       "      <th>0</th>\n",
       "      <td>2</td>\n",
       "      <td>0.0</td>\n",
       "    </tr>\n",
       "    <tr>\n",
       "      <th>1</th>\n",
       "      <td>3</td>\n",
       "      <td>0.0</td>\n",
       "    </tr>\n",
       "    <tr>\n",
       "      <th>2</th>\n",
       "      <td>7</td>\n",
       "      <td>7400.0</td>\n",
       "    </tr>\n",
       "    <tr>\n",
       "      <th>3</th>\n",
       "      <td>8</td>\n",
       "      <td>0.0</td>\n",
       "    </tr>\n",
       "    <tr>\n",
       "      <th>4</th>\n",
       "      <td>9</td>\n",
       "      <td>7700.0</td>\n",
       "    </tr>\n",
       "  </tbody>\n",
       "</table>\n",
       "</div>"
      ],
      "text/plain": [
       "   employee_id   bonus\n",
       "0            2     0.0\n",
       "1            3     0.0\n",
       "2            7  7400.0\n",
       "3            8     0.0\n",
       "4            9  7700.0"
      ]
     },
     "execution_count": 136,
     "metadata": {},
     "output_type": "execute_result"
    }
   ],
   "source": [
    "Employees.merge(df, how='left', on='employee_id')[['employee_id','bonus']].fillna(0)\\\n",
    ".sort_values('employee_id', ascending=True)"
   ]
  },
  {
   "cell_type": "markdown",
   "metadata": {},
   "source": [
    "# 1113. Reported Posts"
   ]
  },
  {
   "cell_type": "code",
   "execution_count": 140,
   "metadata": {},
   "outputs": [],
   "source": [
    "Actions = pd.DataFrame([[1,1,\"2019-07-01\",\"view\",np.nan],[1,1,\"2019-07-01\",\"like\",np.nan],\\\n",
    "[1,1,\"2019-07-01\",\"share\",np.nan],[2,4,\"2019-07-04\",\"view\",np.nan],[2,4,\"2019-07-04\",\"report\",\"spam\"],\\\n",
    "[3,4,\"2019-07-04\",\"view\",np.nan],[3,4,\"2019-07-04\",\"report\",\"spam\"],[4,3,\"2019-07-02\",\"view\",np.nan],\\\n",
    "[4,3,\"2019-07-02\",\"report\",\"spam\"],[5,2,\"2019-07-04\",\"view\",np.nan],[5,2,\"2019-07-04\",\"report\",\"racism\"],\\\n",
    "[5,5,\"2019-07-04\",\"view\",np.nan],[5,5,\"2019-07-04\",\"report\",\"racism\"]],\\\n",
    "                      columns = [\"user_id\",\"post_id\",\"action_date\",\"action\",\"extra\"])"
   ]
  },
  {
   "cell_type": "code",
   "execution_count": 142,
   "metadata": {},
   "outputs": [
    {
     "data": {
      "text/html": [
       "<div>\n",
       "<style scoped>\n",
       "    .dataframe tbody tr th:only-of-type {\n",
       "        vertical-align: middle;\n",
       "    }\n",
       "\n",
       "    .dataframe tbody tr th {\n",
       "        vertical-align: top;\n",
       "    }\n",
       "\n",
       "    .dataframe thead th {\n",
       "        text-align: right;\n",
       "    }\n",
       "</style>\n",
       "<table border=\"1\" class=\"dataframe\">\n",
       "  <thead>\n",
       "    <tr style=\"text-align: right;\">\n",
       "      <th></th>\n",
       "      <th>report_reason</th>\n",
       "      <th>report_count</th>\n",
       "    </tr>\n",
       "  </thead>\n",
       "  <tbody>\n",
       "    <tr>\n",
       "      <th>0</th>\n",
       "      <td>racism</td>\n",
       "      <td>2</td>\n",
       "    </tr>\n",
       "    <tr>\n",
       "      <th>1</th>\n",
       "      <td>spam</td>\n",
       "      <td>1</td>\n",
       "    </tr>\n",
       "  </tbody>\n",
       "</table>\n",
       "</div>"
      ],
      "text/plain": [
       "  report_reason  report_count\n",
       "0        racism             2\n",
       "1          spam             1"
      ]
     },
     "execution_count": 142,
     "metadata": {},
     "output_type": "execute_result"
    }
   ],
   "source": [
    "Actions['action_date'] = pd.to_datetime(Actions['action_date'])\n",
    "\n",
    "Actions.query(\"(action=='report') & (action_date=='2019-07-04')\").groupby('extra')['post_id'].nunique().reset_index()\\\n",
    ".rename(columns = {'extra':'report_reason','post_id':'report_count'})"
   ]
  },
  {
   "cell_type": "markdown",
   "metadata": {},
   "source": [
    "# 1667. Fix Names in a Table"
   ]
  },
  {
   "cell_type": "code",
   "execution_count": 143,
   "metadata": {},
   "outputs": [],
   "source": [
    "Users = pd.DataFrame([[1,\"aLice\"],[2,\"bOB\"]], columns = [\"user_id\",\"name\"])"
   ]
  },
  {
   "cell_type": "code",
   "execution_count": 151,
   "metadata": {},
   "outputs": [
    {
     "data": {
      "text/html": [
       "<div>\n",
       "<style scoped>\n",
       "    .dataframe tbody tr th:only-of-type {\n",
       "        vertical-align: middle;\n",
       "    }\n",
       "\n",
       "    .dataframe tbody tr th {\n",
       "        vertical-align: top;\n",
       "    }\n",
       "\n",
       "    .dataframe thead th {\n",
       "        text-align: right;\n",
       "    }\n",
       "</style>\n",
       "<table border=\"1\" class=\"dataframe\">\n",
       "  <thead>\n",
       "    <tr style=\"text-align: right;\">\n",
       "      <th></th>\n",
       "      <th>user_id</th>\n",
       "      <th>name</th>\n",
       "    </tr>\n",
       "  </thead>\n",
       "  <tbody>\n",
       "    <tr>\n",
       "      <th>0</th>\n",
       "      <td>1</td>\n",
       "      <td>Alice</td>\n",
       "    </tr>\n",
       "    <tr>\n",
       "      <th>1</th>\n",
       "      <td>2</td>\n",
       "      <td>Bob</td>\n",
       "    </tr>\n",
       "  </tbody>\n",
       "</table>\n",
       "</div>"
      ],
      "text/plain": [
       "   user_id   name\n",
       "0        1  Alice\n",
       "1        2    Bob"
      ]
     },
     "execution_count": 151,
     "metadata": {},
     "output_type": "execute_result"
    }
   ],
   "source": [
    "Users['name'] = Users['name'].str.capitalize()\n",
    "Users"
   ]
  },
  {
   "cell_type": "markdown",
   "metadata": {},
   "source": [
    "# 182. Duplicate Emails  2021/9/30"
   ]
  },
  {
   "cell_type": "code",
   "execution_count": 152,
   "metadata": {},
   "outputs": [],
   "source": [
    "Person = pd.DataFrame([[1, \"a@b.com\"], [2, \"c@d.com\"], [3, \"a@b.com\"]], columns = [\"Id\", \"Email\"])"
   ]
  },
  {
   "cell_type": "code",
   "execution_count": 153,
   "metadata": {},
   "outputs": [
    {
     "data": {
      "text/plain": [
       "0    a@b.com\n",
       "Name: Email, dtype: object"
      ]
     },
     "execution_count": 153,
     "metadata": {},
     "output_type": "execute_result"
    }
   ],
   "source": [
    "Person.groupby('Email').filter(lambda x: x['Id'].count()>1)['Email'].drop_duplicates()"
   ]
  },
  {
   "cell_type": "markdown",
   "metadata": {},
   "source": [
    "# 1978. Employees Whose Manager Left the Company"
   ]
  },
  {
   "cell_type": "code",
   "execution_count": 154,
   "metadata": {},
   "outputs": [],
   "source": [
    "Employees = pd.DataFrame([[3, \"Mila\", 9, 60301], [12, \"Antonella\", np.nan, 31000], [13, \"Emery\", np.nan, 67084],\\\n",
    "                        [1, \"Kalel\", 11, 21241], [9, \"Mikaela\", np.nan, 50937], [11, \"Joziah\", 6, 28485]],\\\n",
    "                        columns = [\"employee_id\", \"name\", \"manager_id\", \"salary\"])"
   ]
  },
  {
   "cell_type": "code",
   "execution_count": 158,
   "metadata": {},
   "outputs": [
    {
     "data": {
      "text/plain": [
       "1    11\n",
       "dtype: int64"
      ]
     },
     "execution_count": 158,
     "metadata": {},
     "output_type": "execute_result"
    }
   ],
   "source": [
    "Employees.query(\"(salary<30000) & (manager_id.notna())\").merge(Employees, how='left', left_on='manager_id',\\\n",
    "right_on = 'employee_id').query('employee_id_y.isnull()')['employee_id_x'].rename(columns={'employee_id_x':'employee_id'})"
   ]
  },
  {
   "cell_type": "markdown",
   "metadata": {},
   "source": [
    "# 1965. Employees With Missing Information"
   ]
  },
  {
   "cell_type": "code",
   "execution_count": 159,
   "metadata": {},
   "outputs": [],
   "source": [
    "Employees = pd.DataFrame([[2,\"Crew\"],[4,\"Haven\"],[5,\"Kristian\"]], columns = [\"employee_id\",\"name\"])\n",
    "Salaries = pd.DataFrame([[5,76071],[1,22517],[4,63539]],columns = [\"employee_id\",\"salary\"])"
   ]
  },
  {
   "cell_type": "code",
   "execution_count": 169,
   "metadata": {},
   "outputs": [
    {
     "data": {
      "text/html": [
       "<div>\n",
       "<style scoped>\n",
       "    .dataframe tbody tr th:only-of-type {\n",
       "        vertical-align: middle;\n",
       "    }\n",
       "\n",
       "    .dataframe tbody tr th {\n",
       "        vertical-align: top;\n",
       "    }\n",
       "\n",
       "    .dataframe thead th {\n",
       "        text-align: right;\n",
       "    }\n",
       "</style>\n",
       "<table border=\"1\" class=\"dataframe\">\n",
       "  <thead>\n",
       "    <tr style=\"text-align: right;\">\n",
       "      <th></th>\n",
       "      <th>employee_id</th>\n",
       "    </tr>\n",
       "  </thead>\n",
       "  <tbody>\n",
       "    <tr>\n",
       "      <th>3</th>\n",
       "      <td>1</td>\n",
       "    </tr>\n",
       "    <tr>\n",
       "      <th>0</th>\n",
       "      <td>2</td>\n",
       "    </tr>\n",
       "  </tbody>\n",
       "</table>\n",
       "</div>"
      ],
      "text/plain": [
       "   employee_id\n",
       "3            1\n",
       "0            2"
      ]
     },
     "execution_count": 169,
     "metadata": {},
     "output_type": "execute_result"
    }
   ],
   "source": [
    "pd.DataFrame(pd.concat([Employees['employee_id'],Salaries['employee_id']]).drop_duplicates()).\\\n",
    "merge(Employees, how='left', on='employee_id').merge(Salaries, how='left', on='employee_id')\\\n",
    ".query(\"(name.isnull()) |(salary.isnull())\")[['employee_id']].sort_values('employee_id', ascending=True)"
   ]
  },
  {
   "cell_type": "code",
   "execution_count": 163,
   "metadata": {},
   "outputs": [
    {
     "data": {
      "text/html": [
       "<div>\n",
       "<style scoped>\n",
       "    .dataframe tbody tr th:only-of-type {\n",
       "        vertical-align: middle;\n",
       "    }\n",
       "\n",
       "    .dataframe tbody tr th {\n",
       "        vertical-align: top;\n",
       "    }\n",
       "\n",
       "    .dataframe thead th {\n",
       "        text-align: right;\n",
       "    }\n",
       "</style>\n",
       "<table border=\"1\" class=\"dataframe\">\n",
       "  <thead>\n",
       "    <tr style=\"text-align: right;\">\n",
       "      <th></th>\n",
       "      <th>employee_id</th>\n",
       "    </tr>\n",
       "  </thead>\n",
       "  <tbody>\n",
       "    <tr>\n",
       "      <th>0</th>\n",
       "      <td>2</td>\n",
       "    </tr>\n",
       "    <tr>\n",
       "      <th>1</th>\n",
       "      <td>4</td>\n",
       "    </tr>\n",
       "    <tr>\n",
       "      <th>2</th>\n",
       "      <td>5</td>\n",
       "    </tr>\n",
       "    <tr>\n",
       "      <th>1</th>\n",
       "      <td>1</td>\n",
       "    </tr>\n",
       "  </tbody>\n",
       "</table>\n",
       "</div>"
      ],
      "text/plain": [
       "   employee_id\n",
       "0            2\n",
       "1            4\n",
       "2            5\n",
       "1            1"
      ]
     },
     "execution_count": 163,
     "metadata": {},
     "output_type": "execute_result"
    }
   ],
   "source": [
    "pd.DataFrame(pd.concat([Employees['employee_id'],Salaries['employee_id']]).drop_duplicates())"
   ]
  },
  {
   "cell_type": "markdown",
   "metadata": {},
   "source": [
    "# 1693. Daily Leads and Partners"
   ]
  },
  {
   "cell_type": "code",
   "execution_count": 170,
   "metadata": {},
   "outputs": [],
   "source": [
    "DailySales = pd.DataFrame([[\"2020-12-8\",\"toyota\",0,1],[\"2020-12-8\",\"toyota\",1,0],[\"2020-12-8\",\"toyota\",1,2],\\\n",
    "                           [\"2020-12-7\",\"toyota\",0,2],[\"2020-12-7\",\"toyota\",0,1],[\"2020-12-8\",\"honda\",1,2],\\\n",
    "                           [\"2020-12-8\",\"honda\",2,1],[\"2020-12-7\",\"honda\",0,1],[\"2020-12-7\",\"honda\",1,2],\\\n",
    "                           [\"2020-12-7\",\"honda\",2,1]],\\\n",
    "                         columns = [\"date_id\",\"make_name\",\"lead_id\",\"partner_id\"])"
   ]
  },
  {
   "cell_type": "code",
   "execution_count": 172,
   "metadata": {},
   "outputs": [
    {
     "data": {
      "text/html": [
       "<div>\n",
       "<style scoped>\n",
       "    .dataframe tbody tr th:only-of-type {\n",
       "        vertical-align: middle;\n",
       "    }\n",
       "\n",
       "    .dataframe tbody tr th {\n",
       "        vertical-align: top;\n",
       "    }\n",
       "\n",
       "    .dataframe thead th {\n",
       "        text-align: right;\n",
       "    }\n",
       "</style>\n",
       "<table border=\"1\" class=\"dataframe\">\n",
       "  <thead>\n",
       "    <tr style=\"text-align: right;\">\n",
       "      <th></th>\n",
       "      <th>date_id</th>\n",
       "      <th>make_name</th>\n",
       "      <th>unique_leads</th>\n",
       "      <th>unique_partners</th>\n",
       "    </tr>\n",
       "  </thead>\n",
       "  <tbody>\n",
       "    <tr>\n",
       "      <th>0</th>\n",
       "      <td>2020-12-7</td>\n",
       "      <td>honda</td>\n",
       "      <td>3</td>\n",
       "      <td>2</td>\n",
       "    </tr>\n",
       "    <tr>\n",
       "      <th>1</th>\n",
       "      <td>2020-12-7</td>\n",
       "      <td>toyota</td>\n",
       "      <td>1</td>\n",
       "      <td>2</td>\n",
       "    </tr>\n",
       "    <tr>\n",
       "      <th>2</th>\n",
       "      <td>2020-12-8</td>\n",
       "      <td>honda</td>\n",
       "      <td>2</td>\n",
       "      <td>2</td>\n",
       "    </tr>\n",
       "    <tr>\n",
       "      <th>3</th>\n",
       "      <td>2020-12-8</td>\n",
       "      <td>toyota</td>\n",
       "      <td>2</td>\n",
       "      <td>3</td>\n",
       "    </tr>\n",
       "  </tbody>\n",
       "</table>\n",
       "</div>"
      ],
      "text/plain": [
       "     date_id make_name  unique_leads  unique_partners\n",
       "0  2020-12-7     honda             3                2\n",
       "1  2020-12-7    toyota             1                2\n",
       "2  2020-12-8     honda             2                2\n",
       "3  2020-12-8    toyota             2                3"
      ]
     },
     "execution_count": 172,
     "metadata": {},
     "output_type": "execute_result"
    }
   ],
   "source": [
    "DailySales.groupby([\"date_id\",\"make_name\"])[\"lead_id\",\"partner_id\"].nunique().reset_index().\\\n",
    "rename(columns = {'date_id':'date_id','make_name':'make_name','lead_id':'unique_leads',\\\n",
    "                 'partner_id':'unique_partners'})"
   ]
  },
  {
   "cell_type": "markdown",
   "metadata": {},
   "source": [
    "# 1939. Users That Actively Request Confirmation Messages"
   ]
  },
  {
   "cell_type": "code",
   "execution_count": 175,
   "metadata": {},
   "outputs": [],
   "source": [
    "Confirmations = pd.DataFrame([[3, \"2021-01-06 03:30:46\", \"timeout\"], [3, \"2021-01-06 03:37:45\", \"timeout\"],\\\n",
    "        [7, \"2021-06-12 11:57:29\", \"confirmed\"], [7, \"2021-06-13 11:57:30\", \"confirmed\"],\\\n",
    "                      [2, \"2021-01-22 00:00:00\", \"confirmed\"], [2, \"2021-01-23 00:00:00\", \"timeout\"],\\\n",
    "[6, \"2021-10-23 14:14:14\", \"confirmed\"], [6, \"2021-10-24 14:14:13\", \"timeout\"]],\\\n",
    "                            columns = [\"user_id\", \"time_stamp\", \"action\"])"
   ]
  },
  {
   "cell_type": "code",
   "execution_count": 176,
   "metadata": {},
   "outputs": [],
   "source": [
    "Confirmations['time_stamp']=pd.to_datetime(Confirmations['time_stamp'])\n",
    "Confirmations['prev_time']=Confirmations.groupby('user_id')['time_stamp'].shift()\n"
   ]
  },
  {
   "cell_type": "code",
   "execution_count": 193,
   "metadata": {},
   "outputs": [],
   "source": [
    "diff = Confirmations['time_stamp']-Confirmations['prev_time']\n",
    "days, seconds = diff.dt.days, diff.dt.seconds\n",
    "Confirmations ['seconds'] = days * 24*60*60 + seconds "
   ]
  },
  {
   "cell_type": "code",
   "execution_count": 195,
   "metadata": {},
   "outputs": [
    {
     "data": {
      "text/plain": [
       "1    3\n",
       "5    2\n",
       "7    6\n",
       "Name: user_id, dtype: int64"
      ]
     },
     "execution_count": 195,
     "metadata": {},
     "output_type": "execute_result"
    }
   ],
   "source": [
    "Confirmations.query('seconds<=86400')['user_id']"
   ]
  },
  {
   "cell_type": "markdown",
   "metadata": {},
   "source": [
    "# 619. Biggest Single Number 2021/10/1"
   ]
  },
  {
   "cell_type": "code",
   "execution_count": 196,
   "metadata": {},
   "outputs": [],
   "source": [
    "my_numbers= pd.DataFrame([[8],[8],[3],[3],[1],[4],[5],[6]], columns=[\"num\"] )"
   ]
  },
  {
   "cell_type": "code",
   "execution_count": 198,
   "metadata": {},
   "outputs": [
    {
     "data": {
      "text/plain": [
       "6"
      ]
     },
     "execution_count": 198,
     "metadata": {},
     "output_type": "execute_result"
    }
   ],
   "source": [
    "my_numbers.groupby('num').filter(lambda x:x['num'].count()==1)['num'].max()"
   ]
  },
  {
   "cell_type": "markdown",
   "metadata": {},
   "source": [
    "# 610. Triangle Judgement"
   ]
  },
  {
   "cell_type": "code",
   "execution_count": 199,
   "metadata": {},
   "outputs": [],
   "source": [
    "triangle = pd.DataFrame([[13,15,30],[10,20,15]], columns = [\"x\",\"y\",\"z\"])"
   ]
  },
  {
   "cell_type": "code",
   "execution_count": 200,
   "metadata": {},
   "outputs": [
    {
     "data": {
      "text/html": [
       "<div>\n",
       "<style scoped>\n",
       "    .dataframe tbody tr th:only-of-type {\n",
       "        vertical-align: middle;\n",
       "    }\n",
       "\n",
       "    .dataframe tbody tr th {\n",
       "        vertical-align: top;\n",
       "    }\n",
       "\n",
       "    .dataframe thead th {\n",
       "        text-align: right;\n",
       "    }\n",
       "</style>\n",
       "<table border=\"1\" class=\"dataframe\">\n",
       "  <thead>\n",
       "    <tr style=\"text-align: right;\">\n",
       "      <th></th>\n",
       "      <th>x</th>\n",
       "      <th>y</th>\n",
       "      <th>z</th>\n",
       "      <th>triangle</th>\n",
       "    </tr>\n",
       "  </thead>\n",
       "  <tbody>\n",
       "    <tr>\n",
       "      <th>0</th>\n",
       "      <td>13</td>\n",
       "      <td>15</td>\n",
       "      <td>30</td>\n",
       "      <td>No</td>\n",
       "    </tr>\n",
       "    <tr>\n",
       "      <th>1</th>\n",
       "      <td>10</td>\n",
       "      <td>20</td>\n",
       "      <td>15</td>\n",
       "      <td>Yes</td>\n",
       "    </tr>\n",
       "  </tbody>\n",
       "</table>\n",
       "</div>"
      ],
      "text/plain": [
       "    x   y   z triangle\n",
       "0  13  15  30       No\n",
       "1  10  20  15      Yes"
      ]
     },
     "execution_count": 200,
     "metadata": {},
     "output_type": "execute_result"
    }
   ],
   "source": [
    "triangle['triangle']=np.where(((triangle['x']+triangle['y'])> triangle['z']) &\\\n",
    "                              ((triangle['z']+triangle['y'])> triangle['x'])&\\\n",
    "    ((triangle['x']+triangle['z'])> triangle['y']), 'Yes','No')\n",
    "\n",
    "triangle"
   ]
  },
  {
   "cell_type": "markdown",
   "metadata": {},
   "source": [
    "# 1623. All Valid Triplets That Can Represent a Country"
   ]
  },
  {
   "cell_type": "code",
   "execution_count": 201,
   "metadata": {},
   "outputs": [],
   "source": [
    "SchoolA = pd.DataFrame([[1,\"Alice\"],[2,\"Bob\"]], columns = [\"student_id\",\"student_name\"])\n",
    "SchoolB = pd.DataFrame([[3,\"Tom\"]], columns = [\"student_id\",\"student_name\"])\n",
    "SchoolC = pd.DataFrame([[3,\"Tom\"],[2,\"Jerry\"],[10,\"Alice\"]], columns = [\"student_id\",\"student_name\"])"
   ]
  },
  {
   "cell_type": "code",
   "execution_count": 202,
   "metadata": {},
   "outputs": [],
   "source": [
    "SchoolA['tmp']=1\n",
    "SchoolB['tmp']=1\n",
    "SchoolC['tmp']=1"
   ]
  },
  {
   "cell_type": "code",
   "execution_count": 210,
   "metadata": {},
   "outputs": [
    {
     "data": {
      "text/html": [
       "<div>\n",
       "<style scoped>\n",
       "    .dataframe tbody tr th:only-of-type {\n",
       "        vertical-align: middle;\n",
       "    }\n",
       "\n",
       "    .dataframe tbody tr th {\n",
       "        vertical-align: top;\n",
       "    }\n",
       "\n",
       "    .dataframe thead th {\n",
       "        text-align: right;\n",
       "    }\n",
       "</style>\n",
       "<table border=\"1\" class=\"dataframe\">\n",
       "  <thead>\n",
       "    <tr style=\"text-align: right;\">\n",
       "      <th></th>\n",
       "      <th>member_A</th>\n",
       "      <th>member_B</th>\n",
       "      <th>member_C</th>\n",
       "    </tr>\n",
       "  </thead>\n",
       "  <tbody>\n",
       "    <tr>\n",
       "      <th>1</th>\n",
       "      <td>Alice</td>\n",
       "      <td>Tom</td>\n",
       "      <td>Jerry</td>\n",
       "    </tr>\n",
       "    <tr>\n",
       "      <th>5</th>\n",
       "      <td>Bob</td>\n",
       "      <td>Tom</td>\n",
       "      <td>Alice</td>\n",
       "    </tr>\n",
       "  </tbody>\n",
       "</table>\n",
       "</div>"
      ],
      "text/plain": [
       "  member_A member_B member_C\n",
       "1    Alice      Tom    Jerry\n",
       "5      Bob      Tom    Alice"
      ]
     },
     "execution_count": 210,
     "metadata": {},
     "output_type": "execute_result"
    }
   ],
   "source": [
    "SchoolA.merge(SchoolB, how='outer', on='tmp').merge(SchoolC, how='outer', on='tmp')\\\n",
    ".query(\"(student_id_x != student_id_y)& (student_id != student_id_y)& (student_id_x != student_id)&\\\n",
    "(student_name_x != student_name_y)& (student_name_x != student_name)& (student_name != student_name_y)\")\\\n",
    "[['student_name_x','student_name_y','student_name']]\\\n",
    ".rename(columns = {'student_name_x':'member_A', 'student_name_y':'member_B', 'student_name':'member_C'})"
   ]
  },
  {
   "cell_type": "markdown",
   "metadata": {},
   "source": [
    "# 627. Swap Salary"
   ]
  },
  {
   "cell_type": "code",
   "execution_count": 211,
   "metadata": {},
   "outputs": [],
   "source": [
    "salary = pd.DataFrame([[1,\"A\",\"m\",2500],[2,\"B\",\"f\",1500],[3,\"C\",\"m\",5500],[4,\"D\",\"f\",500]],\\\n",
    "                     columns = [\"id\",\"name\",\"sex\",\"salary\"])"
   ]
  },
  {
   "cell_type": "code",
   "execution_count": 212,
   "metadata": {},
   "outputs": [
    {
     "data": {
      "text/html": [
       "<div>\n",
       "<style scoped>\n",
       "    .dataframe tbody tr th:only-of-type {\n",
       "        vertical-align: middle;\n",
       "    }\n",
       "\n",
       "    .dataframe tbody tr th {\n",
       "        vertical-align: top;\n",
       "    }\n",
       "\n",
       "    .dataframe thead th {\n",
       "        text-align: right;\n",
       "    }\n",
       "</style>\n",
       "<table border=\"1\" class=\"dataframe\">\n",
       "  <thead>\n",
       "    <tr style=\"text-align: right;\">\n",
       "      <th></th>\n",
       "      <th>id</th>\n",
       "      <th>name</th>\n",
       "      <th>sex</th>\n",
       "      <th>salary</th>\n",
       "    </tr>\n",
       "  </thead>\n",
       "  <tbody>\n",
       "    <tr>\n",
       "      <th>0</th>\n",
       "      <td>1</td>\n",
       "      <td>A</td>\n",
       "      <td>f</td>\n",
       "      <td>2500</td>\n",
       "    </tr>\n",
       "    <tr>\n",
       "      <th>1</th>\n",
       "      <td>2</td>\n",
       "      <td>B</td>\n",
       "      <td>m</td>\n",
       "      <td>1500</td>\n",
       "    </tr>\n",
       "    <tr>\n",
       "      <th>2</th>\n",
       "      <td>3</td>\n",
       "      <td>C</td>\n",
       "      <td>f</td>\n",
       "      <td>5500</td>\n",
       "    </tr>\n",
       "    <tr>\n",
       "      <th>3</th>\n",
       "      <td>4</td>\n",
       "      <td>D</td>\n",
       "      <td>m</td>\n",
       "      <td>500</td>\n",
       "    </tr>\n",
       "  </tbody>\n",
       "</table>\n",
       "</div>"
      ],
      "text/plain": [
       "   id name sex  salary\n",
       "0   1    A   f    2500\n",
       "1   2    B   m    1500\n",
       "2   3    C   f    5500\n",
       "3   4    D   m     500"
      ]
     },
     "execution_count": 212,
     "metadata": {},
     "output_type": "execute_result"
    }
   ],
   "source": [
    "salary['sex'] = np.where(salary['sex']=='f','m','f')\n",
    "salary"
   ]
  },
  {
   "cell_type": "markdown",
   "metadata": {},
   "source": [
    "# 1327. List the Products Ordered in a Period"
   ]
  },
  {
   "cell_type": "code",
   "execution_count": 215,
   "metadata": {},
   "outputs": [],
   "source": [
    "Products = pd.DataFrame([[1, \"Leetcode Solutions\", \"Book\"], [2, \"Jewels of Stringology\", \"Book\"],\\\n",
    "                       [3, \"HP\", \"Laptop\"], [4, \"Lenovo\", \"Laptop\"], [5, \"Leetcode Kit\", \"T-shirt\"]],\\\n",
    "                       columns = [\"product_id\", \"product_name\", \"product_category\"])\n",
    "\n",
    "\n",
    "Orders = pd.DataFrame([[1, \"2020-02-05\", 60], [1, \"2020-02-10\", 70], [2, \"2020-01-18\", 30], [2, \"2020-02-11\", 80], \n",
    "                     [3, \"2020-02-17\", 2], [3, \"2020-02-24\", 3], [4, \"2020-03-01\", 20], [4, \"2020-03-04\", 30],\n",
    "                     [4, \"2020-03-04\", 60], [5, \"2020-02-25\", 50], [5, \"2020-02-27\", 50], [5, \"2020-03-01\", 50]],\\\n",
    "                     columns = [\"product_id\", \"order_date\", \"unit\"])"
   ]
  },
  {
   "cell_type": "code",
   "execution_count": 216,
   "metadata": {},
   "outputs": [
    {
     "data": {
      "text/html": [
       "<div>\n",
       "<style scoped>\n",
       "    .dataframe tbody tr th:only-of-type {\n",
       "        vertical-align: middle;\n",
       "    }\n",
       "\n",
       "    .dataframe tbody tr th {\n",
       "        vertical-align: top;\n",
       "    }\n",
       "\n",
       "    .dataframe thead th {\n",
       "        text-align: right;\n",
       "    }\n",
       "</style>\n",
       "<table border=\"1\" class=\"dataframe\">\n",
       "  <thead>\n",
       "    <tr style=\"text-align: right;\">\n",
       "      <th></th>\n",
       "      <th>product_name</th>\n",
       "      <th>unit</th>\n",
       "    </tr>\n",
       "  </thead>\n",
       "  <tbody>\n",
       "    <tr>\n",
       "      <th>0</th>\n",
       "      <td>Leetcode Solutions</td>\n",
       "      <td>130</td>\n",
       "    </tr>\n",
       "    <tr>\n",
       "      <th>1</th>\n",
       "      <td>Leetcode Kit</td>\n",
       "      <td>100</td>\n",
       "    </tr>\n",
       "  </tbody>\n",
       "</table>\n",
       "</div>"
      ],
      "text/plain": [
       "         product_name  unit\n",
       "0  Leetcode Solutions   130\n",
       "1        Leetcode Kit   100"
      ]
     },
     "execution_count": 216,
     "metadata": {},
     "output_type": "execute_result"
    }
   ],
   "source": [
    "Orders['order_date']=pd.to_datetime(Orders['order_date'])\n",
    "Orders.query('(order_date.dt.month==2) & (order_date.dt.year==2020)').groupby('product_id').filter(lambda x: x['unit'].sum()>=100).\\\n",
    "groupby('product_id')['unit'].sum()\\\n",
    ".reset_index().merge(Products, how='inner', on='product_id')[['product_name','unit']]"
   ]
  },
  {
   "cell_type": "markdown",
   "metadata": {},
   "source": [
    "# 597. Friend Requests I: Overall Acceptance Rate 2021/10/1"
   ]
  },
  {
   "cell_type": "code",
   "execution_count": 217,
   "metadata": {},
   "outputs": [],
   "source": [
    "FriendRequest=pd.DataFrame([[1,2,\"2016/06/01\"],[1,3,\"2016/06/01\"],[1,4,\"2016/06/01\"],[2,3,\"2016/06/02\"],\\\n",
    "[3,4,\"2016/06/09\"]], columns =[\"sender_id\",\"send_to_id\",\"request_date\"])\n",
    "RequestAccepted = pd.DataFrame([[1,2,\"2016/06/03\"],[1,3,\"2016/06/08\"],[2,3,\"2016/06/08\"],[3,4,\"2016/06/09\"],\\\n",
    "    [3,4,\"2016/06/10\"]], columns = [\"requester_id\",\"accepter_id\",\"accept_date\"])"
   ]
  },
  {
   "cell_type": "code",
   "execution_count": 218,
   "metadata": {},
   "outputs": [],
   "source": [
    "FriendRequest[\"request_date\"]=pd.to_datetime(FriendRequest[\"request_date\"])\n",
    "RequestAccepted[\"accept_date\"]=pd.to_datetime(RequestAccepted[\"accept_date\"])"
   ]
  },
  {
   "cell_type": "code",
   "execution_count": 224,
   "metadata": {},
   "outputs": [],
   "source": [
    "\n",
    "FriendRequest[\"id\"] = FriendRequest[\"sender_id\"].astype(str)+FriendRequest[\"send_to_id\"].astype(str)\n",
    "\n",
    "RequestAccepted[\"id\"] = RequestAccepted[\"requester_id\"].astype(str)+RequestAccepted[\"accepter_id\"].astype(str)\n"
   ]
  },
  {
   "cell_type": "code",
   "execution_count": 230,
   "metadata": {},
   "outputs": [
    {
     "data": {
      "text/plain": [
       "array(0.8)"
      ]
     },
     "execution_count": 230,
     "metadata": {},
     "output_type": "execute_result"
    }
   ],
   "source": [
    "accept_rate = round(RequestAccepted[\"id\"].nunique()/FriendRequest[\"id\"].nunique(),2)\n",
    "np.where(np.isnan(accept_rate), 0, accept_rate)"
   ]
  },
  {
   "cell_type": "markdown",
   "metadata": {},
   "source": [
    "# 1484. Group Sold Products By The Date"
   ]
  },
  {
   "cell_type": "code",
   "execution_count": null,
   "metadata": {},
   "outputs": [],
   "source": [
    "{\"headers\":{\"Activities\":[\"sell_date\",\"product\"]},\n",
    " \"rows\":{\"Activities\":[[\"2020-05-30\",\"Headphone\"],[\"2020-06-01\",\"Pencil\"],[\"2020-06-02\",\"Mask\"],\n",
    "    [\"2020-05-30\",\"Basketball\"],[\"2020-06-01\",\"Bible\"],[\"2020-06-02\",\"Mask\"],[\"2020-05-30\",\"T-Shirt\"]]}}"
   ]
  },
  {
   "cell_type": "code",
   "execution_count": 232,
   "metadata": {},
   "outputs": [],
   "source": [
    "Activities = pd.DataFrame([[\"2020-05-30\",\"Headphone\"],[\"2020-06-01\",\"Pencil\"],[\"2020-06-02\",\"Mask\"],\\\n",
    "    [\"2020-05-30\",\"Basketball\"],[\"2020-06-01\",\"Bible\"],[\"2020-06-02\",\"Mask\"],[\"2020-05-30\",\"T-Shirt\"]],\n",
    "                         columns = [\"sell_date\",\"product\"])\n",
    "\n"
   ]
  },
  {
   "cell_type": "code",
   "execution_count": 249,
   "metadata": {},
   "outputs": [
    {
     "data": {
      "text/html": [
       "<div>\n",
       "<style scoped>\n",
       "    .dataframe tbody tr th:only-of-type {\n",
       "        vertical-align: middle;\n",
       "    }\n",
       "\n",
       "    .dataframe tbody tr th {\n",
       "        vertical-align: top;\n",
       "    }\n",
       "\n",
       "    .dataframe thead th {\n",
       "        text-align: right;\n",
       "    }\n",
       "</style>\n",
       "<table border=\"1\" class=\"dataframe\">\n",
       "  <thead>\n",
       "    <tr style=\"text-align: right;\">\n",
       "      <th></th>\n",
       "      <th>sell_date</th>\n",
       "      <th>num_sold</th>\n",
       "      <th>products</th>\n",
       "    </tr>\n",
       "  </thead>\n",
       "  <tbody>\n",
       "    <tr>\n",
       "      <th>0</th>\n",
       "      <td>2020-05-30</td>\n",
       "      <td>3</td>\n",
       "      <td>Basketball,Headphone,T-Shirt</td>\n",
       "    </tr>\n",
       "    <tr>\n",
       "      <th>1</th>\n",
       "      <td>2020-06-01</td>\n",
       "      <td>2</td>\n",
       "      <td>Bible,Pencil</td>\n",
       "    </tr>\n",
       "    <tr>\n",
       "      <th>2</th>\n",
       "      <td>2020-06-02</td>\n",
       "      <td>1</td>\n",
       "      <td>Mask,Mask</td>\n",
       "    </tr>\n",
       "  </tbody>\n",
       "</table>\n",
       "</div>"
      ],
      "text/plain": [
       "    sell_date  num_sold                      products\n",
       "0  2020-05-30         3  Basketball,Headphone,T-Shirt\n",
       "1  2020-06-01         2                  Bible,Pencil\n",
       "2  2020-06-02         1                     Mask,Mask"
      ]
     },
     "execution_count": 249,
     "metadata": {},
     "output_type": "execute_result"
    }
   ],
   "source": [
    "Activities.sort_values([\"sell_date\",\"product\"], ascending=[True, True], inplace=True)\n",
    "df = Activities.groupby(['sell_date']).agg({'product': ['nunique',','.join]}).reset_index()\n",
    "df.columns =['sell_date','num_sold','products']\n",
    "df"
   ]
  },
  {
   "cell_type": "markdown",
   "metadata": {},
   "source": [
    "# 181. Employees Earning More Than Their Managers"
   ]
  },
  {
   "cell_type": "code",
   "execution_count": 1,
   "metadata": {},
   "outputs": [],
   "source": [
    "import pandas as pd\n",
    "import numpy as np\n",
    "Employee = pd.DataFrame([[1, \"Joe\", 70000, 3], [2, \"Henry\", 80000, 4], [3, \"Sam\", 60000, np.nan],\\\n",
    "                       [4, \"Max\", 90000, np.nan]],columns = [\"Id\", \"Name\", \"Salary\", \"ManagerId\"])"
   ]
  },
  {
   "cell_type": "code",
   "execution_count": 3,
   "metadata": {},
   "outputs": [
    {
     "data": {
      "text/plain": [
       "0    Joe\n",
       "dtype: object"
      ]
     },
     "execution_count": 3,
     "metadata": {},
     "output_type": "execute_result"
    }
   ],
   "source": [
    "Employee.merge(Employee, how='left',left_on='ManagerId',right_on='Id').query(\"Salary_x>Salary_y\")['Name_x'].\\\n",
    "rename(columns={'Name_x':'Employee'})"
   ]
  },
  {
   "cell_type": "markdown",
   "metadata": {},
   "source": [
    "# 1831. Maximum Transaction Each Day 2021/10/7"
   ]
  },
  {
   "cell_type": "code",
   "execution_count": 4,
   "metadata": {},
   "outputs": [],
   "source": [
    "Transactions = pd.DataFrame([[8, \"2021-4-3 15:57:28\", 57], [9, \"2021-4-28 08:47:25\", 21],\\\n",
    "                             [1, \"2021-4-29 13:28:30\", 58],\\\n",
    "                           [5, \"2021-4-28 16:39:59\", 40], [6, \"2021-4-29 23:39:28\", 58]],\\\n",
    "                           columns = [\"transaction_id\", \"day\", \"amount\"])"
   ]
  },
  {
   "cell_type": "code",
   "execution_count": 9,
   "metadata": {},
   "outputs": [],
   "source": [
    "Transactions['day'] = pd.to_datetime(Transactions['day'])\n",
    "Transactions['dates'] = Transactions['day'].dt.date"
   ]
  },
  {
   "cell_type": "code",
   "execution_count": 12,
   "metadata": {},
   "outputs": [
    {
     "data": {
      "text/html": [
       "<div>\n",
       "<style scoped>\n",
       "    .dataframe tbody tr th:only-of-type {\n",
       "        vertical-align: middle;\n",
       "    }\n",
       "\n",
       "    .dataframe tbody tr th {\n",
       "        vertical-align: top;\n",
       "    }\n",
       "\n",
       "    .dataframe thead th {\n",
       "        text-align: right;\n",
       "    }\n",
       "</style>\n",
       "<table border=\"1\" class=\"dataframe\">\n",
       "  <thead>\n",
       "    <tr style=\"text-align: right;\">\n",
       "      <th></th>\n",
       "      <th>transaction_id</th>\n",
       "    </tr>\n",
       "  </thead>\n",
       "  <tbody>\n",
       "    <tr>\n",
       "      <th>2</th>\n",
       "      <td>1</td>\n",
       "    </tr>\n",
       "    <tr>\n",
       "      <th>3</th>\n",
       "      <td>5</td>\n",
       "    </tr>\n",
       "    <tr>\n",
       "      <th>4</th>\n",
       "      <td>6</td>\n",
       "    </tr>\n",
       "    <tr>\n",
       "      <th>0</th>\n",
       "      <td>8</td>\n",
       "    </tr>\n",
       "  </tbody>\n",
       "</table>\n",
       "</div>"
      ],
      "text/plain": [
       "   transaction_id\n",
       "2               1\n",
       "3               5\n",
       "4               6\n",
       "0               8"
      ]
     },
     "execution_count": 12,
     "metadata": {},
     "output_type": "execute_result"
    }
   ],
   "source": [
    "Transactions['rnk']=Transactions.groupby(['dates'])['amount'].rank(method='dense',ascending=False)\n",
    "Transactions.query(\"rnk==1\")[['transaction_id']].sort_values('transaction_id',ascending=True)"
   ]
  },
  {
   "cell_type": "markdown",
   "metadata": {},
   "source": [
    "# 1867. Orders With Maximum Quantity Above Average"
   ]
  },
  {
   "cell_type": "code",
   "execution_count": 14,
   "metadata": {},
   "outputs": [],
   "source": [
    "OrdersDetails = pd.DataFrame([[1 ,1, 12], [1 ,2, 10], [1 ,3, 15], [2 ,1, 8], [2 ,4, 4], [2 ,5, 6],\\\n",
    "        [3 , 3, 5], [3 ,4, 18], [4 ,5, 2], [4 ,6, 8], [5 ,7, 9], [5 ,8, 9], [3 ,9, 20], [2 ,9, 4]],\\\n",
    "                            columns = [\"order_id\", \"product_id\", \"quantity\"])"
   ]
  },
  {
   "cell_type": "code",
   "execution_count": 20,
   "metadata": {},
   "outputs": [],
   "source": [
    "df = OrdersDetails.groupby('order_id').agg({\"product_id\":'nunique',\"quantity\":'sum'}).reset_index()\n",
    "df['avg_q']=df['quantity']/df['product_id']\n",
    "\n",
    "df2 = OrdersDetails.groupby('order_id')['quantity'].max().reset_index()\n",
    "df2['max']=df['avg_q'].max()"
   ]
  },
  {
   "cell_type": "code",
   "execution_count": 23,
   "metadata": {},
   "outputs": [
    {
     "data": {
      "text/html": [
       "<div>\n",
       "<style scoped>\n",
       "    .dataframe tbody tr th:only-of-type {\n",
       "        vertical-align: middle;\n",
       "    }\n",
       "\n",
       "    .dataframe tbody tr th {\n",
       "        vertical-align: top;\n",
       "    }\n",
       "\n",
       "    .dataframe thead th {\n",
       "        text-align: right;\n",
       "    }\n",
       "</style>\n",
       "<table border=\"1\" class=\"dataframe\">\n",
       "  <thead>\n",
       "    <tr style=\"text-align: right;\">\n",
       "      <th></th>\n",
       "      <th>order_id</th>\n",
       "    </tr>\n",
       "  </thead>\n",
       "  <tbody>\n",
       "    <tr>\n",
       "      <th>0</th>\n",
       "      <td>1</td>\n",
       "    </tr>\n",
       "    <tr>\n",
       "      <th>2</th>\n",
       "      <td>3</td>\n",
       "    </tr>\n",
       "  </tbody>\n",
       "</table>\n",
       "</div>"
      ],
      "text/plain": [
       "   order_id\n",
       "0         1\n",
       "2         3"
      ]
     },
     "execution_count": 23,
     "metadata": {},
     "output_type": "execute_result"
    }
   ],
   "source": [
    "df2.query('quantity>max')[['order_id']]"
   ]
  },
  {
   "cell_type": "markdown",
   "metadata": {},
   "source": [
    "# 176. Second Highest Salary 2021/11/7"
   ]
  },
  {
   "cell_type": "code",
   "execution_count": 2,
   "metadata": {},
   "outputs": [],
   "source": [
    "import pandas as pd\n",
    "import numpy as np\n",
    "Employee = pd.DataFrame([[1,100],[2,200],[3,300]], columns = [\"id\",\"salary\"])"
   ]
  },
  {
   "cell_type": "code",
   "execution_count": 5,
   "metadata": {},
   "outputs": [
    {
     "data": {
      "text/html": [
       "<div>\n",
       "<style scoped>\n",
       "    .dataframe tbody tr th:only-of-type {\n",
       "        vertical-align: middle;\n",
       "    }\n",
       "\n",
       "    .dataframe tbody tr th {\n",
       "        vertical-align: top;\n",
       "    }\n",
       "\n",
       "    .dataframe thead th {\n",
       "        text-align: right;\n",
       "    }\n",
       "</style>\n",
       "<table border=\"1\" class=\"dataframe\">\n",
       "  <thead>\n",
       "    <tr style=\"text-align: right;\">\n",
       "      <th></th>\n",
       "      <th>SecondHighestSalary</th>\n",
       "    </tr>\n",
       "  </thead>\n",
       "  <tbody>\n",
       "    <tr>\n",
       "      <th>1</th>\n",
       "      <td>200</td>\n",
       "    </tr>\n",
       "  </tbody>\n",
       "</table>\n",
       "</div>"
      ],
      "text/plain": [
       "   SecondHighestSalary\n",
       "1                  200"
      ]
     },
     "execution_count": 5,
     "metadata": {},
     "output_type": "execute_result"
    }
   ],
   "source": [
    "Employee['rnk']=Employee['salary'].rank(method='dense',ascending=False)\n",
    "Employee.query('rnk==2')[['salary']].rename(columns={'salary':'SecondHighestSalary'})"
   ]
  },
  {
   "cell_type": "markdown",
   "metadata": {},
   "source": [
    "# 601. Human Traffic of Stadium"
   ]
  },
  {
   "cell_type": "code",
   "execution_count": 31,
   "metadata": {},
   "outputs": [],
   "source": [
    "Stadium=pd.DataFrame([[1, \"2017-01-01\", 10], [2, \"2017-01-02\", 109],[3, \"2017-01-03\", 150],\\\n",
    "                      [4, \"2017-01-04\", 99], [5, \"2017-01-05\", 145], [6, \"2017-01-06\", 1455],\\\n",
    "                      [7, \"2017-01-07\", 199], [8, \"2017-01-09\", 188]],\\\n",
    "                    columns = [\"id\", \"visit_date\", \"people\"])"
   ]
  },
  {
   "cell_type": "code",
   "execution_count": 32,
   "metadata": {},
   "outputs": [
    {
     "name": "stdout",
     "output_type": "stream",
     "text": [
      "<class 'pandas.core.frame.DataFrame'>\n",
      "RangeIndex: 8 entries, 0 to 7\n",
      "Data columns (total 3 columns):\n",
      "id            8 non-null int64\n",
      "visit_date    8 non-null object\n",
      "people        8 non-null int64\n",
      "dtypes: int64(2), object(1)\n",
      "memory usage: 320.0+ bytes\n"
     ]
    }
   ],
   "source": [
    "Stadium.info()"
   ]
  },
  {
   "cell_type": "code",
   "execution_count": 33,
   "metadata": {},
   "outputs": [],
   "source": [
    "import datetime\n",
    "Stadium['visit_date']=pd.to_datetime(Stadium['visit_date'])"
   ]
  },
  {
   "cell_type": "code",
   "execution_count": 34,
   "metadata": {},
   "outputs": [
    {
     "name": "stderr",
     "output_type": "stream",
     "text": [
      "/Users/wentinggao/anaconda3/lib/python3.7/site-packages/ipykernel_launcher.py:2: SettingWithCopyWarning: \n",
      "A value is trying to be set on a copy of a slice from a DataFrame.\n",
      "Try using .loc[row_indexer,col_indexer] = value instead\n",
      "\n",
      "See the caveats in the documentation: http://pandas.pydata.org/pandas-docs/stable/user_guide/indexing.html#returning-a-view-versus-a-copy\n",
      "  \n"
     ]
    },
    {
     "data": {
      "text/html": [
       "<div>\n",
       "<style scoped>\n",
       "    .dataframe tbody tr th:only-of-type {\n",
       "        vertical-align: middle;\n",
       "    }\n",
       "\n",
       "    .dataframe tbody tr th {\n",
       "        vertical-align: top;\n",
       "    }\n",
       "\n",
       "    .dataframe thead th {\n",
       "        text-align: right;\n",
       "    }\n",
       "</style>\n",
       "<table border=\"1\" class=\"dataframe\">\n",
       "  <thead>\n",
       "    <tr style=\"text-align: right;\">\n",
       "      <th></th>\n",
       "      <th>id</th>\n",
       "      <th>visit_date</th>\n",
       "      <th>people</th>\n",
       "      <th>cum_cnt</th>\n",
       "    </tr>\n",
       "  </thead>\n",
       "  <tbody>\n",
       "    <tr>\n",
       "      <th>1</th>\n",
       "      <td>2</td>\n",
       "      <td>2017-01-02</td>\n",
       "      <td>109</td>\n",
       "      <td>0</td>\n",
       "    </tr>\n",
       "    <tr>\n",
       "      <th>2</th>\n",
       "      <td>3</td>\n",
       "      <td>2017-01-03</td>\n",
       "      <td>150</td>\n",
       "      <td>0</td>\n",
       "    </tr>\n",
       "    <tr>\n",
       "      <th>4</th>\n",
       "      <td>5</td>\n",
       "      <td>2017-01-05</td>\n",
       "      <td>145</td>\n",
       "      <td>1</td>\n",
       "    </tr>\n",
       "    <tr>\n",
       "      <th>5</th>\n",
       "      <td>6</td>\n",
       "      <td>2017-01-06</td>\n",
       "      <td>1455</td>\n",
       "      <td>1</td>\n",
       "    </tr>\n",
       "    <tr>\n",
       "      <th>6</th>\n",
       "      <td>7</td>\n",
       "      <td>2017-01-07</td>\n",
       "      <td>199</td>\n",
       "      <td>1</td>\n",
       "    </tr>\n",
       "    <tr>\n",
       "      <th>7</th>\n",
       "      <td>8</td>\n",
       "      <td>2017-01-09</td>\n",
       "      <td>188</td>\n",
       "      <td>1</td>\n",
       "    </tr>\n",
       "  </tbody>\n",
       "</table>\n",
       "</div>"
      ],
      "text/plain": [
       "   id visit_date  people  cum_cnt\n",
       "1   2 2017-01-02     109        0\n",
       "2   3 2017-01-03     150        0\n",
       "4   5 2017-01-05     145        1\n",
       "5   6 2017-01-06    1455        1\n",
       "6   7 2017-01-07     199        1\n",
       "7   8 2017-01-09     188        1"
      ]
     },
     "execution_count": 34,
     "metadata": {},
     "output_type": "execute_result"
    }
   ],
   "source": [
    "df = Stadium.query('people>=100')\n",
    "df['cum_cnt'] = df.id.diff().gt(1).cumsum()\n",
    "df"
   ]
  },
  {
   "cell_type": "code",
   "execution_count": 35,
   "metadata": {},
   "outputs": [
    {
     "data": {
      "text/html": [
       "<div>\n",
       "<style scoped>\n",
       "    .dataframe tbody tr th:only-of-type {\n",
       "        vertical-align: middle;\n",
       "    }\n",
       "\n",
       "    .dataframe tbody tr th {\n",
       "        vertical-align: top;\n",
       "    }\n",
       "\n",
       "    .dataframe thead th {\n",
       "        text-align: right;\n",
       "    }\n",
       "</style>\n",
       "<table border=\"1\" class=\"dataframe\">\n",
       "  <thead>\n",
       "    <tr style=\"text-align: right;\">\n",
       "      <th></th>\n",
       "      <th>id</th>\n",
       "      <th>visit_date</th>\n",
       "      <th>people</th>\n",
       "    </tr>\n",
       "  </thead>\n",
       "  <tbody>\n",
       "    <tr>\n",
       "      <th>4</th>\n",
       "      <td>5</td>\n",
       "      <td>2017-01-05</td>\n",
       "      <td>145</td>\n",
       "    </tr>\n",
       "    <tr>\n",
       "      <th>5</th>\n",
       "      <td>6</td>\n",
       "      <td>2017-01-06</td>\n",
       "      <td>1455</td>\n",
       "    </tr>\n",
       "    <tr>\n",
       "      <th>6</th>\n",
       "      <td>7</td>\n",
       "      <td>2017-01-07</td>\n",
       "      <td>199</td>\n",
       "    </tr>\n",
       "    <tr>\n",
       "      <th>7</th>\n",
       "      <td>8</td>\n",
       "      <td>2017-01-09</td>\n",
       "      <td>188</td>\n",
       "    </tr>\n",
       "  </tbody>\n",
       "</table>\n",
       "</div>"
      ],
      "text/plain": [
       "   id visit_date  people\n",
       "4   5 2017-01-05     145\n",
       "5   6 2017-01-06    1455\n",
       "6   7 2017-01-07     199\n",
       "7   8 2017-01-09     188"
      ]
     },
     "execution_count": 35,
     "metadata": {},
     "output_type": "execute_result"
    }
   ],
   "source": [
    "df.groupby(['cum_cnt']).filter(lambda x: x['cum_cnt'].count()>=3).drop('cum_cnt',axis=1).sort_values(by='visit_date')"
   ]
  },
  {
   "cell_type": "markdown",
   "metadata": {},
   "source": [
    "# 1468. Calculate Salaries 2021/11/08"
   ]
  },
  {
   "cell_type": "code",
   "execution_count": 60,
   "metadata": {},
   "outputs": [],
   "source": [
    "Salaries = pd.DataFrame([[1,1,\"Tony\",2000],[1,2,\"Pronub\",21300],[1,3,\"Tyrrox\",10800],[2,1,\"Pam\",300],\\\n",
    "[2,7,\"Bassem\",450], [2,9,\"Hermione\",700],[3,7,\"Bocaben\",100],[3,2,\"Ognjen\",2200],\\\n",
    "                     [3,13,\"Nyancat\",3300],[3,15,\"Morninngcat\",7777]],\\\n",
    "                      columns=[\"company_id\",\"employee_id\",\"employee_name\",\"salary\"] )"
   ]
  },
  {
   "cell_type": "code",
   "execution_count": 61,
   "metadata": {},
   "outputs": [],
   "source": [
    "df = Salaries.merge(Salaries.groupby(['company_id'])['salary'].max().reset_index(name='max_salary'),how='left',on='company_id')"
   ]
  },
  {
   "cell_type": "code",
   "execution_count": 62,
   "metadata": {},
   "outputs": [],
   "source": [
    "conditions={\n",
    "0: df['max_salary']<1000,\\\n",
    "0.24: (df['max_salary']>=1000) & (df['max_salary']<=10000),\\\n",
    "0.49:(df['max_salary']>10000)\n",
    "}\n",
    "df['tax']=np.select(conditions.values(), conditions.keys(), default='Partial').astype('float64')"
   ]
  },
  {
   "cell_type": "code",
   "execution_count": 63,
   "metadata": {
    "scrolled": false
   },
   "outputs": [],
   "source": [
    "df['salary']=(df['salary']*(1-df['tax'])).round(0)\n"
   ]
  },
  {
   "cell_type": "code",
   "execution_count": 64,
   "metadata": {},
   "outputs": [
    {
     "data": {
      "text/html": [
       "<div>\n",
       "<style scoped>\n",
       "    .dataframe tbody tr th:only-of-type {\n",
       "        vertical-align: middle;\n",
       "    }\n",
       "\n",
       "    .dataframe tbody tr th {\n",
       "        vertical-align: top;\n",
       "    }\n",
       "\n",
       "    .dataframe thead th {\n",
       "        text-align: right;\n",
       "    }\n",
       "</style>\n",
       "<table border=\"1\" class=\"dataframe\">\n",
       "  <thead>\n",
       "    <tr style=\"text-align: right;\">\n",
       "      <th></th>\n",
       "      <th>company_id</th>\n",
       "      <th>employee_id</th>\n",
       "      <th>employee_name</th>\n",
       "      <th>salary</th>\n",
       "    </tr>\n",
       "  </thead>\n",
       "  <tbody>\n",
       "    <tr>\n",
       "      <th>0</th>\n",
       "      <td>1</td>\n",
       "      <td>1</td>\n",
       "      <td>Tony</td>\n",
       "      <td>1020.0</td>\n",
       "    </tr>\n",
       "    <tr>\n",
       "      <th>1</th>\n",
       "      <td>1</td>\n",
       "      <td>2</td>\n",
       "      <td>Pronub</td>\n",
       "      <td>10863.0</td>\n",
       "    </tr>\n",
       "    <tr>\n",
       "      <th>2</th>\n",
       "      <td>1</td>\n",
       "      <td>3</td>\n",
       "      <td>Tyrrox</td>\n",
       "      <td>5508.0</td>\n",
       "    </tr>\n",
       "    <tr>\n",
       "      <th>3</th>\n",
       "      <td>2</td>\n",
       "      <td>1</td>\n",
       "      <td>Pam</td>\n",
       "      <td>300.0</td>\n",
       "    </tr>\n",
       "    <tr>\n",
       "      <th>4</th>\n",
       "      <td>2</td>\n",
       "      <td>7</td>\n",
       "      <td>Bassem</td>\n",
       "      <td>450.0</td>\n",
       "    </tr>\n",
       "    <tr>\n",
       "      <th>5</th>\n",
       "      <td>2</td>\n",
       "      <td>9</td>\n",
       "      <td>Hermione</td>\n",
       "      <td>700.0</td>\n",
       "    </tr>\n",
       "    <tr>\n",
       "      <th>6</th>\n",
       "      <td>3</td>\n",
       "      <td>7</td>\n",
       "      <td>Bocaben</td>\n",
       "      <td>76.0</td>\n",
       "    </tr>\n",
       "    <tr>\n",
       "      <th>7</th>\n",
       "      <td>3</td>\n",
       "      <td>2</td>\n",
       "      <td>Ognjen</td>\n",
       "      <td>1672.0</td>\n",
       "    </tr>\n",
       "    <tr>\n",
       "      <th>8</th>\n",
       "      <td>3</td>\n",
       "      <td>13</td>\n",
       "      <td>Nyancat</td>\n",
       "      <td>2508.0</td>\n",
       "    </tr>\n",
       "    <tr>\n",
       "      <th>9</th>\n",
       "      <td>3</td>\n",
       "      <td>15</td>\n",
       "      <td>Morninngcat</td>\n",
       "      <td>5911.0</td>\n",
       "    </tr>\n",
       "  </tbody>\n",
       "</table>\n",
       "</div>"
      ],
      "text/plain": [
       "   company_id  employee_id employee_name   salary\n",
       "0           1            1          Tony   1020.0\n",
       "1           1            2        Pronub  10863.0\n",
       "2           1            3        Tyrrox   5508.0\n",
       "3           2            1           Pam    300.0\n",
       "4           2            7        Bassem    450.0\n",
       "5           2            9      Hermione    700.0\n",
       "6           3            7       Bocaben     76.0\n",
       "7           3            2        Ognjen   1672.0\n",
       "8           3           13       Nyancat   2508.0\n",
       "9           3           15   Morninngcat   5911.0"
      ]
     },
     "execution_count": 64,
     "metadata": {},
     "output_type": "execute_result"
    }
   ],
   "source": [
    "df.iloc[:,:4]"
   ]
  },
  {
   "cell_type": "code",
   "execution_count": null,
   "metadata": {},
   "outputs": [],
   "source": []
  }
 ],
 "metadata": {
  "kernelspec": {
   "display_name": "Python 3",
   "language": "python",
   "name": "python3"
  },
  "language_info": {
   "codemirror_mode": {
    "name": "ipython",
    "version": 3
   },
   "file_extension": ".py",
   "mimetype": "text/x-python",
   "name": "python",
   "nbconvert_exporter": "python",
   "pygments_lexer": "ipython3",
   "version": "3.7.7"
  },
  "toc": {
   "base_numbering": 1,
   "nav_menu": {},
   "number_sections": true,
   "sideBar": true,
   "skip_h1_title": false,
   "title_cell": "Table of Contents",
   "title_sidebar": "Contents",
   "toc_cell": false,
   "toc_position": {},
   "toc_section_display": true,
   "toc_window_display": false
  }
 },
 "nbformat": 4,
 "nbformat_minor": 4
}
